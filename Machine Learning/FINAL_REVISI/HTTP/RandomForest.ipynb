{
 "cells": [
  {
   "cell_type": "code",
   "execution_count": 1,
   "id": "7a819f92",
   "metadata": {},
   "outputs": [],
   "source": [
    "from sklearn.ensemble import RandomForestClassifier\n",
    "from sklearn.model_selection import train_test_split\n",
    "from sklearn.metrics import classification_report, confusion_matrix\n",
    "from sklearn.metrics import roc_auc_score\n",
    "from sklearn.preprocessing import StandardScaler\n",
    "import joblib\n",
    "import seaborn as sns\n",
    "import numpy as np\n",
    "import matplotlib.pyplot as plt\n",
    "from matplotlib.colors import ListedColormap\n",
    "import pandas as pd\n",
    "import time\n",
    "from collections import Counter\n",
    "from imblearn.over_sampling import SMOTE\n",
    "from imblearn.under_sampling import RandomUnderSampler\n",
    "from imblearn.pipeline import Pipeline"
   ]
  },
  {
   "cell_type": "code",
   "execution_count": 2,
   "id": "3a2ad599",
   "metadata": {},
   "outputs": [],
   "source": [
    "def train_rf():\n",
    "    global rf_inst\n",
    "    global training_files\n",
    "    global training_files_old\n",
    "    global features\n",
    "    global labels\n",
    "    global features_train\n",
    "    global features_test\n",
    "    global labels_train\n",
    "    global labels_test\n",
    "    global X_train\n",
    "    global X_test\n",
    "    global sc\n",
    "\n",
    "    for fname in training_files:\n",
    "        meal = open(fname, \"rt\")\n",
    "        for line in meal:\n",
    "            data_list = line.rsplit(\",\")\n",
    "            if(len(data_list) != 11):\n",
    "                print(\"error data\")\n",
    "            else:\n",
    "                data_list[(len(data_list)-1)]=data_list[(len(data_list)-1)].replace('\\n', '')\n",
    "                features.append(data_list[:(len(data_list)-1)])\n",
    "                labels.append(data_list[(len(data_list)-1)])\n",
    "        meal.close()\n",
    "    for fname in training_files_old:\n",
    "        meal = open(fname, \"rt\")\n",
    "        for line in meal:\n",
    "            data_list = line.rsplit(\",\")\n",
    "            if(len(data_list) != 12):\n",
    "                print(\"error data\")\n",
    "            else:\n",
    "                data_list.pop(6)\n",
    "                data_list[(len(data_list)-1)]=data_list[(len(data_list)-1)].replace('\\n', '')\n",
    "                features.append(data_list[:(len(data_list)-1)])\n",
    "                labels.append(data_list[(len(data_list)-1)])\n",
    "        meal.close()\n",
    "    print(f\"Size of feature dataset : {len(features)}\")\n",
    "    print(\"Features first and last entries:\\n\\t\", end = \"\")\n",
    "    print(features[:1] + features[(len(features)-1):])\n",
    "    print(\"Labels first and last entries:\\n\\t\", end = \"\")\n",
    "    print(labels[:1] + labels[(len(features)-1):])\n",
    "    \n",
    "    features_train, features_test, labels_train, labels_test = train_test_split(features, labels, test_size = 0.20, stratify=labels, random_state = 0)\n",
    "    \n",
    "    # Feature scaling (or standardization)\n",
    "    sc = StandardScaler()\n",
    "    X_train = sc.fit_transform(features_train)\n",
    "    X_test = sc.transform(features_test)\n",
    "    \n",
    "    rf_inst.fit(X_train, labels_train)\n",
    "    \n",
    "    labels_pred = rf_inst.predict(X_test)\n",
    "    \n",
    "    cm = confusion_matrix(labels_test,labels_pred)\n",
    "    sns.heatmap(cm, annot=True, fmt='d').set_title('Confusion matrix of Random Forest') # fmt='d' formats the numbers as digits, which means integers\n",
    "    \n",
    "    print(classification_report(labels_test,labels_pred))\n",
    "    \n",
    "    lr_auc = roc_auc_score(labels_test, labels_pred)\n",
    "    print('Random Forest: ROC AUC=%.3f' % (lr_auc))"
   ]
  },
  {
   "cell_type": "code",
   "execution_count": 3,
   "id": "e95c8612",
   "metadata": {},
   "outputs": [
    {
     "name": "stdout",
     "output_type": "stream",
     "text": [
      "Size of feature dataset : 915\n",
      "Features first and last entries:\n",
      "\t[['0.7261086193007366', '430665064.39644605', '210.99431580955545', '0.0', '6000', '98.65693082596883', '0.0', '0.0', '0.0', '40'], ['0.0', '0.0', '0.0', '0.0', '171', '0.0', '0.0', '0.0', '0.0', '1']]\n",
      "Labels first and last entries:\n",
      "\t['1', '0']\n",
      "              precision    recall  f1-score   support\n",
      "\n",
      "           0       0.98      1.00      0.99       113\n",
      "           1       1.00      0.97      0.99        70\n",
      "\n",
      "    accuracy                           0.99       183\n",
      "   macro avg       0.99      0.99      0.99       183\n",
      "weighted avg       0.99      0.99      0.99       183\n",
      "\n",
      "Random Forest: ROC AUC=0.986\n"
     ]
    },
    {
     "name": "stderr",
     "output_type": "stream",
     "text": [
      "C:\\Users\\H P VICTUS\\anaconda3\\lib\\site-packages\\sklearn\\metrics\\_ranking.py:546: FutureWarning: Arrays of bytes/strings is being converted to decimal numbers if dtype='numeric'. This behavior is deprecated in 0.24 and will be removed in 1.1 (renaming of 0.26). Please convert your data to numeric values explicitly instead.\n",
      "  y_score = check_array(y_score, ensure_2d=False)\n"
     ]
    },
    {
     "data": {
      "image/png": "[encoded data removed]",
      "text/plain": [
       "<Figure size 640x480 with 2 Axes>"
      ]
     },
     "metadata": {},
     "output_type": "display_data"
    }
   ],
   "source": [
    "features, labels = [], []\n",
    "rf_inst = RandomForestClassifier(n_estimators = 10, criterion = 'entropy', random_state = 0)\n",
    "training_files = [\"dataset/individual/dataset_http_individual_attack_1.csv\",\n",
    "                  \"dataset/individual/dataset_http_individual_normal_1.csv\"]\n",
    "training_files_old = [\"dataset/individual/old/dataset_http_attack.csv\",\n",
    "                  \"dataset/individual/old/dataset_http_normal_1.csv\",\n",
    "                  \"dataset/individual/old/dataset_http_normal_2.csv\"]\n",
    "train_rf()"
   ]
  },
  {
   "cell_type": "code",
   "execution_count": 4,
   "id": "bb700bda",
   "metadata": {},
   "outputs": [
    {
     "name": "stdout",
     "output_type": "stream",
     "text": [
      "Time elapse for prediction : 0.0012908000000000364\n",
      "Correct result : 1\n",
      "Predicted result : 1\n"
     ]
    }
   ],
   "source": [
    "time_start = time.perf_counter()\n",
    "result = rf_inst.predict([X_test[0]])[0]\n",
    "print(f\"Time elapse for prediction : {time.perf_counter() - time_start}\")\n",
    "print(f\"Correct result : {labels_test[0]}\")\n",
    "print(f\"Predicted result : {result}\")"
   ]
  },
  {
   "cell_type": "code",
   "execution_count": 5,
   "id": "ab38a7bf",
   "metadata": {},
   "outputs": [
    {
     "name": "stdout",
     "output_type": "stream",
     "text": [
      "Time elapse for prediction : 0.0012729000000000212\n",
      "Correct result : 0\n",
      "Predicted result : 0\n"
     ]
    }
   ],
   "source": [
    "time_start = time.perf_counter()\n",
    "data = sc.transform([features_test[2]])\n",
    "result = rf_inst.predict([data[0]])[0]\n",
    "print(f\"Time elapse for prediction : {time.perf_counter() - time_start}\")\n",
    "print(f\"Correct result : {labels_test[2]}\")\n",
    "print(f\"Predicted result : {result}\")"
   ]
  },
  {
   "cell_type": "code",
   "execution_count": 6,
   "id": "eff2733b",
   "metadata": {},
   "outputs": [],
   "source": [
    "# joblib.dump(svm_inst, 'model_svm_tcp_5detik.sav')\n",
    "# joblib.dump(sc, 'scaler_svm_tcp_5detik.save') "
   ]
  }
 ],
 "metadata": {
  "kernelspec": {
   "display_name": "Python 3 (ipykernel)",
   "language": "python",
   "name": "python3"
  },
  "language_info": {
   "codemirror_mode": {
    "name": "ipython",
    "version": 3
   },
   "file_extension": ".py",
   "mimetype": "text/x-python",
   "name": "python",
   "nbconvert_exporter": "python",
   "pygments_lexer": "ipython3",
   "version": "3.9.13"
  }
 },
 "nbformat": 4,
 "nbformat_minor": 5
}
