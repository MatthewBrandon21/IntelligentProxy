{
 "cells": [
  {
   "cell_type": "code",
   "execution_count": 1,
   "id": "76fa329c",
   "metadata": {},
   "outputs": [],
   "source": [
    "import numpy as np\n",
    "import pandas as pd\n",
    "import matplotlib.pyplot as plt\n",
    "import seaborn as sns; sns.set()\n",
    "from keras.models import Sequential, load_model\n",
    "from keras.layers import Dense, LSTM, Bidirectional\n",
    "from keras.utils.np_utils import to_categorical\n",
    "from keras.utils import np_utils\n",
    "from keras.callbacks import ModelCheckpoint, EarlyStopping\n",
    "from sklearn.model_selection import train_test_split\n",
    "from sklearn.preprocessing import LabelEncoder, StandardScaler\n",
    "from sklearn.metrics import classification_report, confusion_matrix\n",
    "from sklearn.metrics import roc_auc_score\n",
    "import joblib\n",
    "\n",
    "import time\n",
    "from collections import Counter\n",
    "from imblearn.over_sampling import SMOTE\n",
    "from imblearn.under_sampling import RandomUnderSampler\n",
    "from imblearn.pipeline import Pipeline"
   ]
  },
  {
   "cell_type": "code",
   "execution_count": 2,
   "id": "d041644e",
   "metadata": {},
   "outputs": [],
   "source": [
    "data_normal_1 = pd.read_csv('dataset/timeseries/dataset_http_timeseries_normal_1.csv')\n",
    "data_normal_2 = pd.read_csv('dataset/timeseries/dataset_http_timeseries_normal_2.csv')\n",
    "\n",
    "data_attack_1 = pd.read_csv('dataset/timeseries/dataset_http_timeseries_attack_1.csv')\n",
    "data_attack_2 = pd.read_csv('dataset/timeseries/dataset_http_timeseries_attack_2.csv')"
   ]
  },
  {
   "cell_type": "code",
   "execution_count": 3,
   "id": "b0e9c85b",
   "metadata": {},
   "outputs": [],
   "source": [
    "data_normal_1.columns = ['no_thread', 'connection_time', 'r_bytes', 'port_src', 'status', 'url',\n",
    "       'timeout', 'label']\n",
    "data_normal_2.columns = ['no_thread', 'connection_time', 'r_bytes', 'port_src', 'status', 'url',\n",
    "       'timeout', 'label']\n",
    "\n",
    "data_attack_1.columns = ['no_thread', 'connection_time', 'r_bytes', 'port_src', 'status', 'url',\n",
    "       'timeout', 'label']\n",
    "data_attack_2.columns = ['no_thread', 'connection_time', 'r_bytes', 'port_src', 'status', 'url',\n",
    "       'timeout', 'label']"
   ]
  },
  {
   "cell_type": "code",
   "execution_count": 4,
   "id": "12aa93dc",
   "metadata": {},
   "outputs": [],
   "source": [
    "features = ['no_thread', 'connection_time', 'r_bytes', 'port_src', 'status', 'url', 'timeout']"
   ]
  },
  {
   "cell_type": "code",
   "execution_count": 5,
   "id": "c3caaf52",
   "metadata": {},
   "outputs": [],
   "source": [
    "X_normal_1 = data_normal_1[features].values\n",
    "X_normal_2 = data_normal_2[features].values\n",
    "\n",
    "X_attack_1 = data_attack_1[features].values\n",
    "X_attack_2 = data_attack_2[features].values\n",
    "\n",
    "Y_normal_1 = data_normal_1['label']\n",
    "Y_normal_2 = data_normal_2['label']\n",
    "\n",
    "Y_attack_1 = data_attack_1['label']\n",
    "Y_attack_2 = data_attack_2['label']\n",
    "\n",
    "X=np.concatenate((X_normal_1,X_normal_2,X_attack_1,X_attack_2))\n",
    "Y=np.concatenate((Y_normal_1,Y_normal_2,Y_attack_1,Y_attack_2))"
   ]
  },
  {
   "cell_type": "code",
   "execution_count": 6,
   "id": "a21297c9",
   "metadata": {},
   "outputs": [
    {
     "name": "stdout",
     "output_type": "stream",
     "text": [
      "Counter({1: 9370, 0: 1094})\n"
     ]
    }
   ],
   "source": [
    "data_counter = Counter(Y)\n",
    "print(data_counter)"
   ]
  },
  {
   "cell_type": "code",
   "execution_count": 7,
   "id": "741cc249",
   "metadata": {},
   "outputs": [],
   "source": [
    "over = SMOTE()\n",
    "under = RandomUnderSampler()\n",
    "steps = [('o', over), ('u', under)]\n",
    "pipeline = Pipeline(steps=steps)\n",
    "X, Y = pipeline.fit_resample(X, Y)"
   ]
  },
  {
   "cell_type": "code",
   "execution_count": 8,
   "id": "409135a7",
   "metadata": {},
   "outputs": [
    {
     "name": "stdout",
     "output_type": "stream",
     "text": [
      "Counter({0: 9370, 1: 9370})\n"
     ]
    }
   ],
   "source": [
    "data_counter = Counter(Y)\n",
    "print(data_counter)"
   ]
  },
  {
   "cell_type": "code",
   "execution_count": 9,
   "id": "08f5daf5",
   "metadata": {},
   "outputs": [],
   "source": [
    "scalar = StandardScaler(copy=True, with_mean=True, with_std=True)\n",
    "scalar.fit(X)\n",
    "X = scalar.transform(X)"
   ]
  },
  {
   "cell_type": "code",
   "execution_count": 10,
   "id": "03fb017a",
   "metadata": {},
   "outputs": [
    {
     "name": "stdout",
     "output_type": "stream",
     "text": [
      "(18740, 7)\n",
      "(18740,)\n"
     ]
    }
   ],
   "source": [
    "print(np.shape(X))\n",
    "print(np.shape(Y))"
   ]
  },
  {
   "cell_type": "code",
   "execution_count": 11,
   "id": "9b543209",
   "metadata": {},
   "outputs": [],
   "source": [
    "features = len(X[0])\n",
    "samples = X.shape[0]\n",
    "train_len = 50\n",
    "input_len = samples - train_len\n",
    "I = np.zeros((samples - train_len, train_len, features))"
   ]
  },
  {
   "cell_type": "code",
   "execution_count": 12,
   "id": "4a802d89",
   "metadata": {},
   "outputs": [],
   "source": [
    "for i in range(input_len):\n",
    "    temp = np.zeros((train_len, features))\n",
    "    for j in range(i, i + train_len - 1):\n",
    "        temp[j-i] = X[j]\n",
    "    I[i] = temp"
   ]
  },
  {
   "cell_type": "code",
   "execution_count": 13,
   "id": "7668c3b1",
   "metadata": {},
   "outputs": [
    {
     "name": "stdout",
     "output_type": "stream",
     "text": [
      "(18690, 50, 7)\n"
     ]
    }
   ],
   "source": [
    "print(I.shape)"
   ]
  },
  {
   "cell_type": "code",
   "execution_count": 14,
   "id": "fde8f9e5",
   "metadata": {},
   "outputs": [],
   "source": [
    "X_train, X_test, Y_train, Y_test = train_test_split(I, Y[50:], test_size = 0.2, stratify=Y[50:], random_state = 0)"
   ]
  },
  {
   "cell_type": "code",
   "execution_count": 15,
   "id": "a5c0d100",
   "metadata": {},
   "outputs": [],
   "source": [
    "def create_baseline():\n",
    "    model = Sequential()\n",
    "    model.add(Bidirectional(LSTM(64, activation='tanh', kernel_regularizer='l2')))\n",
    "    model.add(Dense(128, activation = 'relu', kernel_regularizer='l2'))\n",
    "    model.add(Dense(1, activation = 'sigmoid', kernel_regularizer='l2'))\n",
    "    model.compile(loss = 'binary_crossentropy', optimizer = 'adam', metrics = ['accuracy'])\n",
    "    return model"
   ]
  },
  {
   "cell_type": "code",
   "execution_count": 16,
   "id": "6c6a82e8",
   "metadata": {},
   "outputs": [],
   "source": [
    "model = create_baseline()"
   ]
  },
  {
   "cell_type": "code",
   "execution_count": 17,
   "id": "8b882f4d",
   "metadata": {},
   "outputs": [
    {
     "name": "stdout",
     "output_type": "stream",
     "text": [
      "WARNING:tensorflow:`period` argument is deprecated. Please use `save_freq` to specify the frequency in number of batches seen.\n"
     ]
    }
   ],
   "source": [
    "checkpoint = ModelCheckpoint(\"LSTMmodel.h5\", monitor='val_loss', verbose=1, save_best_only=True, save_weights_only=False, mode='auto', period=1)\n",
    "early = EarlyStopping(monitor='val_loss', min_delta=0, patience=5, verbose=1, mode='auto')"
   ]
  },
  {
   "cell_type": "code",
   "execution_count": 18,
   "id": "6397598b",
   "metadata": {},
   "outputs": [
    {
     "name": "stdout",
     "output_type": "stream",
     "text": [
      "Epoch 1/30\n",
      "369/374 [============================>.] - ETA: 0s - loss: 0.3053 - accuracy: 0.9902\n",
      "Epoch 00001: val_loss improved from inf to 0.07809, saving model to LSTMmodel.h5\n",
      "374/374 [==============================] - 7s 12ms/step - loss: 0.3034 - accuracy: 0.9899 - val_loss: 0.0781 - val_accuracy: 0.9926\n",
      "Epoch 2/30\n",
      "370/374 [============================>.] - ETA: 0s - loss: 0.0526 - accuracy: 0.9960\n",
      "Epoch 00002: val_loss improved from 0.07809 to 0.06702, saving model to LSTMmodel.h5\n",
      "374/374 [==============================] - 4s 11ms/step - loss: 0.0531 - accuracy: 0.9959 - val_loss: 0.0670 - val_accuracy: 0.9923\n",
      "Epoch 3/30\n",
      "374/374 [==============================] - ETA: 0s - loss: 0.0492 - accuracy: 0.9962\n",
      "Epoch 00003: val_loss improved from 0.06702 to 0.04608, saving model to LSTMmodel.h5\n",
      "374/374 [==============================] - 4s 11ms/step - loss: 0.0492 - accuracy: 0.9962 - val_loss: 0.0461 - val_accuracy: 0.9967\n",
      "Epoch 4/30\n",
      "372/374 [============================>.] - ETA: 0s - loss: 0.0410 - accuracy: 0.9975\n",
      "Epoch 00004: val_loss improved from 0.04608 to 0.04256, saving model to LSTMmodel.h5\n",
      "374/374 [==============================] - 4s 11ms/step - loss: 0.0409 - accuracy: 0.9975 - val_loss: 0.0426 - val_accuracy: 0.9970\n",
      "Epoch 5/30\n",
      "371/374 [============================>.] - ETA: 0s - loss: 0.0433 - accuracy: 0.9969\n",
      "Epoch 00005: val_loss did not improve from 0.04256\n",
      "374/374 [==============================] - 4s 11ms/step - loss: 0.0436 - accuracy: 0.9968 - val_loss: 0.1759 - val_accuracy: 0.9973\n",
      "Epoch 6/30\n",
      "371/374 [============================>.] - ETA: 0s - loss: 0.0472 - accuracy: 0.9979\n",
      "Epoch 00006: val_loss did not improve from 0.04256\n",
      "374/374 [==============================] - 4s 11ms/step - loss: 0.0476 - accuracy: 0.9978 - val_loss: 0.0472 - val_accuracy: 0.9973\n",
      "Epoch 7/30\n",
      "374/374 [==============================] - ETA: 0s - loss: 0.0391 - accuracy: 0.9984\n",
      "Epoch 00007: val_loss improved from 0.04256 to 0.04037, saving model to LSTMmodel.h5\n",
      "374/374 [==============================] - 4s 11ms/step - loss: 0.0391 - accuracy: 0.9984 - val_loss: 0.0404 - val_accuracy: 0.9977\n",
      "Epoch 8/30\n",
      "369/374 [============================>.] - ETA: 0s - loss: 0.0382 - accuracy: 0.9983\n",
      "Epoch 00008: val_loss improved from 0.04037 to 0.03844, saving model to LSTMmodel.h5\n",
      "374/374 [==============================] - 4s 11ms/step - loss: 0.0385 - accuracy: 0.9982 - val_loss: 0.0384 - val_accuracy: 0.9977\n",
      "Epoch 9/30\n",
      "371/374 [============================>.] - ETA: 0s - loss: 0.0355 - accuracy: 0.9984\n",
      "Epoch 00009: val_loss did not improve from 0.03844\n",
      "374/374 [==============================] - 4s 11ms/step - loss: 0.0356 - accuracy: 0.9984 - val_loss: 0.0445 - val_accuracy: 0.9980\n",
      "Epoch 10/30\n",
      "370/374 [============================>.] - ETA: 0s - loss: 0.0339 - accuracy: 0.9985\n",
      "Epoch 00010: val_loss improved from 0.03844 to 0.03750, saving model to LSTMmodel.h5\n",
      "374/374 [==============================] - 4s 11ms/step - loss: 0.0339 - accuracy: 0.9985 - val_loss: 0.0375 - val_accuracy: 0.9977\n",
      "Epoch 11/30\n",
      "370/374 [============================>.] - ETA: 0s - loss: 0.0335 - accuracy: 0.9985\n",
      "Epoch 00011: val_loss improved from 0.03750 to 0.03665, saving model to LSTMmodel.h5\n",
      "374/374 [==============================] - 4s 11ms/step - loss: 0.0334 - accuracy: 0.9985 - val_loss: 0.0366 - val_accuracy: 0.9977\n",
      "Epoch 12/30\n",
      "372/374 [============================>.] - ETA: 0s - loss: 0.0340 - accuracy: 0.9985\n",
      "Epoch 00012: val_loss did not improve from 0.03665\n",
      "374/374 [==============================] - 4s 11ms/step - loss: 0.0339 - accuracy: 0.9985 - val_loss: 0.0375 - val_accuracy: 0.9977\n",
      "Epoch 13/30\n",
      "373/374 [============================>.] - ETA: 0s - loss: 0.0352 - accuracy: 0.9982\n",
      "Epoch 00013: val_loss improved from 0.03665 to 0.03574, saving model to LSTMmodel.h5\n",
      "374/374 [==============================] - 4s 11ms/step - loss: 0.0352 - accuracy: 0.9982 - val_loss: 0.0357 - val_accuracy: 0.9980\n",
      "Epoch 14/30\n",
      "373/374 [============================>.] - ETA: 0s - loss: 0.0324 - accuracy: 0.9985\n",
      "Epoch 00014: val_loss did not improve from 0.03574\n",
      "374/374 [==============================] - 4s 11ms/step - loss: 0.0328 - accuracy: 0.9984 - val_loss: 0.0376 - val_accuracy: 0.9980\n",
      "Epoch 15/30\n",
      "369/374 [============================>.] - ETA: 0s - loss: 0.0320 - accuracy: 0.9985\n",
      "Epoch 00015: val_loss improved from 0.03574 to 0.03428, saving model to LSTMmodel.h5\n",
      "374/374 [==============================] - 4s 11ms/step - loss: 0.0319 - accuracy: 0.9985 - val_loss: 0.0343 - val_accuracy: 0.9973\n",
      "Epoch 16/30\n",
      "374/374 [==============================] - ETA: 0s - loss: 0.0375 - accuracy: 0.9982\n",
      "Epoch 00016: val_loss did not improve from 0.03428\n",
      "374/374 [==============================] - 4s 11ms/step - loss: 0.0375 - accuracy: 0.9982 - val_loss: 0.0382 - val_accuracy: 0.9977\n",
      "Epoch 17/30\n",
      "370/374 [============================>.] - ETA: 0s - loss: 0.0386 - accuracy: 0.9983\n",
      "Epoch 00017: val_loss did not improve from 0.03428\n",
      "374/374 [==============================] - 4s 11ms/step - loss: 0.0385 - accuracy: 0.9983 - val_loss: 0.0419 - val_accuracy: 0.9973\n",
      "Epoch 18/30\n",
      "369/374 [============================>.] - ETA: 0s - loss: 0.0341 - accuracy: 0.9987\n",
      "Epoch 00018: val_loss did not improve from 0.03428\n",
      "374/374 [==============================] - 4s 11ms/step - loss: 0.0344 - accuracy: 0.9987 - val_loss: 0.0415 - val_accuracy: 0.9973\n",
      "Epoch 19/30\n",
      "370/374 [============================>.] - ETA: 0s - loss: 0.0346 - accuracy: 0.9986\n",
      "Epoch 00019: val_loss improved from 0.03428 to 0.03398, saving model to LSTMmodel.h5\n",
      "374/374 [==============================] - 4s 11ms/step - loss: 0.0345 - accuracy: 0.9987 - val_loss: 0.0340 - val_accuracy: 0.9977\n",
      "Epoch 20/30\n",
      "371/374 [============================>.] - ETA: 0s - loss: 0.0298 - accuracy: 0.9988\n",
      "Epoch 00020: val_loss did not improve from 0.03398\n",
      "374/374 [==============================] - 4s 11ms/step - loss: 0.0297 - accuracy: 0.9988 - val_loss: 0.0341 - val_accuracy: 0.9980\n",
      "Epoch 21/30\n",
      "369/374 [============================>.] - ETA: 0s - loss: 0.0281 - accuracy: 0.9989\n",
      "Epoch 00021: val_loss improved from 0.03398 to 0.02923, saving model to LSTMmodel.h5\n",
      "374/374 [==============================] - 4s 11ms/step - loss: 0.0280 - accuracy: 0.9989 - val_loss: 0.0292 - val_accuracy: 0.9983\n",
      "Epoch 22/30\n",
      "374/374 [==============================] - ETA: 0s - loss: 0.0273 - accuracy: 0.9991\n",
      "Epoch 00022: val_loss did not improve from 0.02923\n",
      "374/374 [==============================] - 4s 11ms/step - loss: 0.0273 - accuracy: 0.9991 - val_loss: 0.0626 - val_accuracy: 0.9953\n",
      "Epoch 23/30\n",
      "369/374 [============================>.] - ETA: 0s - loss: 0.0292 - accuracy: 0.9988\n",
      "Epoch 00023: val_loss improved from 0.02923 to 0.02877, saving model to LSTMmodel.h5\n",
      "374/374 [==============================] - 4s 11ms/step - loss: 0.0291 - accuracy: 0.9988 - val_loss: 0.0288 - val_accuracy: 0.9983\n",
      "Epoch 24/30\n",
      "373/374 [============================>.] - ETA: 0s - loss: 0.0268 - accuracy: 0.9992\n",
      "Epoch 00024: val_loss improved from 0.02877 to 0.02855, saving model to LSTMmodel.h5\n",
      "374/374 [==============================] - 4s 11ms/step - loss: 0.0268 - accuracy: 0.9992 - val_loss: 0.0285 - val_accuracy: 0.9983\n",
      "Epoch 25/30\n",
      "371/374 [============================>.] - ETA: 0s - loss: 0.0330 - accuracy: 0.9980\n",
      "Epoch 00025: val_loss did not improve from 0.02855\n",
      "374/374 [==============================] - 4s 11ms/step - loss: 0.0334 - accuracy: 0.9979 - val_loss: 0.0360 - val_accuracy: 0.9973\n",
      "Epoch 26/30\n",
      "373/374 [============================>.] - ETA: 0s - loss: 0.0454 - accuracy: 0.9982\n",
      "Epoch 00026: val_loss did not improve from 0.02855\n",
      "374/374 [==============================] - 4s 11ms/step - loss: 0.0454 - accuracy: 0.9982 - val_loss: 0.0481 - val_accuracy: 0.9983\n",
      "Epoch 27/30\n",
      "369/374 [============================>.] - ETA: 0s - loss: 0.0428 - accuracy: 0.9992\n",
      "Epoch 00027: val_loss did not improve from 0.02855\n",
      "374/374 [==============================] - 4s 11ms/step - loss: 0.0427 - accuracy: 0.9992 - val_loss: 0.0427 - val_accuracy: 0.9990\n",
      "Epoch 28/30\n",
      "373/374 [============================>.] - ETA: 0s - loss: 0.0403 - accuracy: 0.9992\n",
      "Epoch 00028: val_loss did not improve from 0.02855\n",
      "374/374 [==============================] - 4s 11ms/step - loss: 0.0403 - accuracy: 0.9992 - val_loss: 0.0412 - val_accuracy: 0.9990\n"
     ]
    },
    {
     "name": "stdout",
     "output_type": "stream",
     "text": [
      "Epoch 29/30\n",
      "374/374 [==============================] - ETA: 0s - loss: 0.0380 - accuracy: 0.9992\n",
      "Epoch 00029: val_loss did not improve from 0.02855\n",
      "374/374 [==============================] - 4s 10ms/step - loss: 0.0380 - accuracy: 0.9992 - val_loss: 0.0339 - val_accuracy: 0.9990\n",
      "Epoch 00029: early stopping\n"
     ]
    }
   ],
   "source": [
    "history = model.fit(X_train, Y_train, epochs = 30,validation_split=0.2, verbose = 1, callbacks=[checkpoint,early])"
   ]
  },
  {
   "cell_type": "code",
   "execution_count": 19,
   "id": "c295f029",
   "metadata": {},
   "outputs": [
    {
     "data": {
      "image/png": "[encoded data removed]",
      "text/plain": [
       "<Figure size 640x480 with 1 Axes>"
      ]
     },
     "metadata": {},
     "output_type": "display_data"
    }
   ],
   "source": [
    "# Plot training & validation accuracy values\n",
    "plt.plot(history.history['accuracy'])\n",
    "plt.plot(history.history['val_accuracy'])\n",
    "plt.title('BRNN Model Accuracy')\n",
    "plt.ylabel('Accuracy')\n",
    "plt.xlabel('Epoch')\n",
    "plt.legend(['Train', 'Test'], loc='lower right')\n",
    "plt.savefig('BRNN 500 Model Accuracy.png')\n",
    "plt.show()"
   ]
  },
  {
   "cell_type": "code",
   "execution_count": 20,
   "id": "efdefc2c",
   "metadata": {},
   "outputs": [
    {
     "data": {
      "image/png": "[encoded data removed]",
      "text/plain": [
       "<Figure size 640x480 with 1 Axes>"
      ]
     },
     "metadata": {},
     "output_type": "display_data"
    }
   ],
   "source": [
    "# Plot training & validation loss values\n",
    "plt.plot(history.history['loss'])\n",
    "plt.plot(history.history['val_loss'])\n",
    "plt.title('BRNN Model  Loss')\n",
    "plt.ylabel('Loss')\n",
    "plt.xlabel('Epoch')\n",
    "plt.legend(['Train', 'Test'], loc='upper left')\n",
    "plt.savefig('BRNN 50 Model Loss.png')\n",
    "plt.show()"
   ]
  },
  {
   "cell_type": "code",
   "execution_count": 21,
   "id": "a36fcb82",
   "metadata": {},
   "outputs": [
    {
     "name": "stdout",
     "output_type": "stream",
     "text": [
      "117/117 [==============================] - 1s 4ms/step\n"
     ]
    }
   ],
   "source": [
    "predict = model.predict(X_test, verbose=1)"
   ]
  },
  {
   "cell_type": "code",
   "execution_count": 22,
   "id": "51cbd9f6",
   "metadata": {},
   "outputs": [
    {
     "data": {
      "image/png": "[encoded data removed]",
      "text/plain": [
       "<Figure size 640x480 with 2 Axes>"
      ]
     },
     "metadata": {},
     "output_type": "display_data"
    }
   ],
   "source": [
    "tp = 0\n",
    "tn = 0\n",
    "fp = 0\n",
    "fn = 0\n",
    "predictn = predict.flatten().round()\n",
    "predictn = predictn.tolist()\n",
    "Y_testn = Y_test.tolist()\n",
    "for i in range(len(Y_testn)):\n",
    "  if predictn[i]==1 and Y_testn[i]==1:\n",
    "    tp+=1\n",
    "  elif predictn[i]==0 and Y_testn[i]==0:\n",
    "    tn+=1\n",
    "  elif predictn[i]==0 and Y_testn[i]==1:\n",
    "    fp+=1\n",
    "  elif predictn[i]==1 and Y_testn[i]==0:\n",
    "    fn+=1\n",
    "to_heat_map =[[tn,fp],[fn,tp]]\n",
    "to_heat_map = pd.DataFrame(to_heat_map, index = [\"Attack\",\"Normal\"],columns = [\"Attack\",\"Normal\"])\n",
    "ax = sns.heatmap(to_heat_map,annot=True, fmt=\"d\")"
   ]
  },
  {
   "cell_type": "code",
   "execution_count": 23,
   "id": "5477b51f",
   "metadata": {},
   "outputs": [],
   "source": [
    "figure = ax.get_figure()\n",
    "figure.savefig('confusion_matrix_BRNN_50.png', dpi=400)"
   ]
  },
  {
   "cell_type": "code",
   "execution_count": 24,
   "id": "42ecc926",
   "metadata": {},
   "outputs": [
    {
     "data": {
      "text/plain": [
       "['scaler_50.save']"
      ]
     },
     "execution_count": 24,
     "metadata": {},
     "output_type": "execute_result"
    }
   ],
   "source": [
    "model.save('brnn_model_50_step.h5')\n",
    "joblib.dump(scalar, 'scaler_50.save')"
   ]
  },
  {
   "cell_type": "code",
   "execution_count": 25,
   "id": "2a938888",
   "metadata": {},
   "outputs": [
    {
     "name": "stdout",
     "output_type": "stream",
     "text": [
      "accuracy: 99.92%\n"
     ]
    }
   ],
   "source": [
    "scores = model.evaluate(X_test, Y_test, verbose=0)\n",
    "print(\"%s: %.2f%%\" % (model.metrics_names[1], scores[1]*100))"
   ]
  },
  {
   "cell_type": "code",
   "execution_count": 26,
   "id": "c172e338",
   "metadata": {},
   "outputs": [
    {
     "name": "stdout",
     "output_type": "stream",
     "text": [
      "              precision    recall  f1-score   support\n",
      "\n",
      "           0       1.00      1.00      1.00      1864\n",
      "           1       1.00      1.00      1.00      1874\n",
      "\n",
      "    accuracy                           1.00      3738\n",
      "   macro avg       1.00      1.00      1.00      3738\n",
      "weighted avg       1.00      1.00      1.00      3738\n",
      "\n"
     ]
    }
   ],
   "source": [
    "print(classification_report(Y_testn,predictn))"
   ]
  },
  {
   "cell_type": "code",
   "execution_count": 27,
   "id": "d9db1966",
   "metadata": {},
   "outputs": [
    {
     "name": "stdout",
     "output_type": "stream",
     "text": [
      "SVM: ROC AUC=0.999\n"
     ]
    }
   ],
   "source": [
    "lr_auc = roc_auc_score(Y_testn, predictn)\n",
    "print('SVM: ROC AUC=%.3f' % (lr_auc))"
   ]
  },
  {
   "cell_type": "code",
   "execution_count": 28,
   "id": "9b4c4183",
   "metadata": {},
   "outputs": [
    {
     "name": "stdout",
     "output_type": "stream",
     "text": [
      "2/2 [==============================] - 0s 5ms/step\n",
      "Time elapse for prediction : 0.03610419999999692\n",
      "[[0.00133863]\n",
      " [0.00142864]\n",
      " [0.00147626]\n",
      " [0.00139455]\n",
      " [0.0015957 ]\n",
      " [0.00171368]\n",
      " [0.00178484]\n",
      " [0.00174566]\n",
      " [0.00137282]\n",
      " [0.00126453]\n",
      " [0.00127704]\n",
      " [0.00104258]\n",
      " [0.00101889]\n",
      " [0.00100166]\n",
      " [0.00106642]\n",
      " [0.00136023]\n",
      " [0.00168927]\n",
      " [0.0021472 ]\n",
      " [0.00219196]\n",
      " [0.00222508]\n",
      " [0.00216559]\n",
      " [0.0017228 ]\n",
      " [0.00163832]\n",
      " [0.00157106]\n",
      " [0.00159194]\n",
      " [0.00142666]\n",
      " [0.00119423]\n",
      " [0.00093442]\n",
      " [0.00089827]\n",
      " [0.00092394]\n",
      " [0.00100886]\n",
      " [0.00110681]\n",
      " [0.00102527]\n",
      " [0.00119092]\n",
      " [0.00141005]\n",
      " [0.00170392]\n",
      " [0.00162214]\n",
      " [0.00165265]\n",
      " [0.00155933]\n",
      " [0.00150661]\n",
      " [0.00136055]\n",
      " [0.00130812]\n",
      " [0.0012906 ]\n",
      " [0.00115828]\n",
      " [0.00113621]\n",
      " [0.00124623]\n",
      " [0.00128263]\n",
      " [0.00154193]\n",
      " [0.00156311]\n",
      " [0.00161242]]\n"
     ]
    }
   ],
   "source": [
    "time_start = time.perf_counter()\n",
    "predict = model.predict(I[:50], verbose=1)\n",
    "print(f\"Time elapse for prediction : {time.perf_counter() - time_start}\")\n",
    "print(predict)"
   ]
  },
  {
   "cell_type": "code",
   "execution_count": 29,
   "id": "8a3995ec",
   "metadata": {},
   "outputs": [
    {
     "name": "stdout",
     "output_type": "stream",
     "text": [
      "Model: \"sequential\"\n",
      "_________________________________________________________________\n",
      " Layer (type)                Output Shape              Param #   \n",
      "=================================================================\n",
      " bidirectional (Bidirectiona  (None, 128)              36864     \n",
      " l)                                                              \n",
      "                                                                 \n",
      " dense (Dense)               (None, 128)               16512     \n",
      "                                                                 \n",
      " dense_1 (Dense)             (None, 1)                 129       \n",
      "                                                                 \n",
      "=================================================================\n",
      "Total params: 53,505\n",
      "Trainable params: 53,505\n",
      "Non-trainable params: 0\n",
      "_________________________________________________________________\n"
     ]
    }
   ],
   "source": [
    "model.summary()"
   ]
  }
 ],
 "metadata": {
  "kernelspec": {
   "display_name": "Python 3 (ipykernel)",
   "language": "python",
   "name": "python3"
  },
  "language_info": {
   "codemirror_mode": {
    "name": "ipython",
    "version": 3
   },
   "file_extension": ".py",
   "mimetype": "text/x-python",
   "name": "python",
   "nbconvert_exporter": "python",
   "pygments_lexer": "ipython3",
   "version": "3.9.13"
  }
 },
 "nbformat": 4,
 "nbformat_minor": 5
}
