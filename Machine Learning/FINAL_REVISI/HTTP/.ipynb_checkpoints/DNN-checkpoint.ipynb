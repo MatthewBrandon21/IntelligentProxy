{
 "cells": [
  {
   "cell_type": "code",
   "execution_count": 1,
   "id": "9f780517",
   "metadata": {},
   "outputs": [],
   "source": [
    "import numpy as np\n",
    "import pandas as pd\n",
    "from matplotlib import pyplot as plt\n",
    "import seaborn as sns; sns.set()\n",
    "from keras.layers import Dense, Dropout\n",
    "from keras.models import Sequential\n",
    "from keras.models import load_model\n",
    "from keras.callbacks import ModelCheckpoint, EarlyStopping\n",
    "from tensorflow.keras.utils import to_categorical\n",
    "from sklearn.model_selection import train_test_split\n",
    "from sklearn.preprocessing import LabelEncoder, StandardScaler\n",
    "from sklearn.metrics import classification_report, confusion_matrix\n",
    "from sklearn.metrics import roc_auc_score\n",
    "import joblib\n",
    "import time\n",
    "from collections import Counter\n",
    "from imblearn.over_sampling import SMOTE\n",
    "from imblearn.under_sampling import RandomUnderSampler\n",
    "from imblearn.pipeline import Pipeline"
   ]
  },
  {
   "cell_type": "code",
   "execution_count": 2,
   "id": "5c265d83",
   "metadata": {},
   "outputs": [],
   "source": [
    "features, labels = [], []\n",
    "training_files = [\"dataset/individual/dataset_http_individual_attack_1.csv\",\n",
    "                  \"dataset/individual/dataset_http_individual_normal_1.csv\"]\n",
    "training_files_old = [\"dataset/individual/old/dataset_http_attack.csv\",\n",
    "                  \"dataset/individual/old/dataset_http_normal_1.csv\",\n",
    "                  \"dataset/individual/old/dataset_http_normal_2.csv\"]"
   ]
  },
  {
   "cell_type": "code",
   "execution_count": 3,
   "id": "33a79058",
   "metadata": {},
   "outputs": [],
   "source": [
    "def scrape_data():\n",
    "    global training_files\n",
    "    global features\n",
    "    global labels\n",
    "    \n",
    "    for fname in training_files:\n",
    "        meal = open(fname, \"rt\")\n",
    "        for line in meal:\n",
    "            data_list = line.rsplit(\",\")\n",
    "            if(len(data_list) != 11):\n",
    "                print(\"error data\")\n",
    "            else:\n",
    "                data_list[(len(data_list)-1)]=int(data_list[(len(data_list)-1)].replace('\\n', ''))\n",
    "                features.append(data_list[:(len(data_list)-1)])\n",
    "                labels.append(data_list[(len(data_list)-1)])\n",
    "        meal.close()\n",
    "    \n",
    "    for fname in training_files_old:\n",
    "        meal = open(fname, \"rt\")\n",
    "        for line in meal:\n",
    "            data_list = line.rsplit(\",\")\n",
    "            if(len(data_list) != 12):\n",
    "                print(\"error data\")\n",
    "            else:\n",
    "                data_list.pop(6)\n",
    "                data_list[(len(data_list)-1)]=int(data_list[(len(data_list)-1)].replace('\\n', ''))\n",
    "                features.append(data_list[:(len(data_list)-1)])\n",
    "                labels.append(data_list[(len(data_list)-1)])\n",
    "        meal.close()\n",
    "    \n",
    "    data_counter = Counter(labels)\n",
    "    print(data_counter)\n",
    "    \n",
    "    over = SMOTE()\n",
    "    under = RandomUnderSampler()\n",
    "    steps = [('o', over), ('u', under)]\n",
    "    pipeline = Pipeline(steps=steps)\n",
    "    features, labels = pipeline.fit_resample(features, labels)\n",
    "    \n",
    "    data_counter = Counter(labels)\n",
    "    print(data_counter)\n",
    "    \n",
    "    scalar = StandardScaler(copy=True, with_mean=True, with_std=True)\n",
    "    scalar.fit(features)\n",
    "    features = scalar.transform(features)\n",
    "    \n",
    "    features = np.array(features).astype(np.float64)\n",
    "    features = features.tolist()\n",
    "    \n",
    "    print(f\"Size of feature dataset : {len(features)}\")\n",
    "    print(f\"Size of feature dataset : {len(labels)}\")\n",
    "    print(\"Features first and last entries:\\n\\t\", end = \"\")\n",
    "    print(features[:1] + features[(len(features)-1):])\n",
    "    print(\"Labels first and last entries:\\n\\t\", end = \"\")\n",
    "    print(labels[:1] + labels[(len(features)-1):])\n",
    "    \n",
    "    features_train, features_test, labels_train, labels_test = train_test_split(features, labels, test_size = 0.20, stratify=labels, random_state = 0)\n",
    "    \n",
    "    return np.asarray(features_train), np.asarray(labels_train), np.asarray(features_test), np.asarray(labels_test)"
   ]
  },
  {
   "cell_type": "code",
   "execution_count": 4,
   "id": "9b84bae1",
   "metadata": {},
   "outputs": [],
   "source": [
    "def generate_model(shape):\n",
    "    model = Sequential()\n",
    "\n",
    "    model.add(Dense(256, input_dim=shape, kernel_initializer='uniform', activation='relu'))\n",
    "    model.add(Dropout(0.4))\n",
    "    model.add(Dense(128, activation='relu'))\n",
    "    model.add(Dropout(0.4))\n",
    "    model.add(Dense(64, activation='relu'))\n",
    "    model.add(Dropout(0.4))\n",
    "    model.add(Dense(32, activation='relu'))\n",
    "    model.add(Dropout(0.4))\n",
    "    model.add(Dense(1, activation='sigmoid'))\n",
    "    print(model.summary())\n",
    "\n",
    "    return model"
   ]
  },
  {
   "cell_type": "code",
   "execution_count": 5,
   "id": "d6ef0b01",
   "metadata": {},
   "outputs": [
    {
     "name": "stdout",
     "output_type": "stream",
     "text": [
      "Counter({0: 567, 1: 348})\n",
      "Counter({0: 567, 1: 567})\n",
      "Size of feature dataset : 1134\n",
      "Size of feature dataset : 1134\n",
      "Features first and last entries:\n",
      "\t[[-1.1698026217101665, -0.7452600338612494, -0.2834537657339824, 0.07937951865366005, -0.6004524801192396, -0.5811619590844036, -0.08442169082782337, 1.3726947086645072, 0.0, -0.6115474797133269], [0.7474491791900025, -0.7681697807776513, -0.2847257576572625, -0.47945012756829486, -0.7120860297954389, -0.559572583610319, -0.08442169082782337, -0.4606003749643637, 0.0, -0.30051893282250325]]\n",
      "Labels first and last entries:\n",
      "\t[0, 1]\n"
     ]
    },
    {
     "name": "stderr",
     "output_type": "stream",
     "text": [
      "C:\\Users\\H P VICTUS\\anaconda3\\lib\\site-packages\\sklearn\\utils\\validation.py:964: FutureWarning: Arrays of bytes/strings is being converted to decimal numbers if dtype='numeric'. This behavior is deprecated in 0.24 and will be removed in 1.1 (renaming of 0.26). Please convert your data to numeric values explicitly instead.\n",
      "  X = check_array(\n"
     ]
    }
   ],
   "source": [
    "data_train, label_train, data_eval, label_eval = scrape_data()"
   ]
  },
  {
   "cell_type": "code",
   "execution_count": 6,
   "id": "89771801",
   "metadata": {},
   "outputs": [
    {
     "name": "stdout",
     "output_type": "stream",
     "text": [
      "Model: \"sequential\"\n",
      "_________________________________________________________________\n",
      " Layer (type)                Output Shape              Param #   \n",
      "=================================================================\n",
      " dense (Dense)               (None, 256)               2816      \n",
      "                                                                 \n",
      " dropout (Dropout)           (None, 256)               0         \n",
      "                                                                 \n",
      " dense_1 (Dense)             (None, 128)               32896     \n",
      "                                                                 \n",
      " dropout_1 (Dropout)         (None, 128)               0         \n",
      "                                                                 \n",
      " dense_2 (Dense)             (None, 64)                8256      \n",
      "                                                                 \n",
      " dropout_2 (Dropout)         (None, 64)                0         \n",
      "                                                                 \n",
      " dense_3 (Dense)             (None, 32)                2080      \n",
      "                                                                 \n",
      " dropout_3 (Dropout)         (None, 32)                0         \n",
      "                                                                 \n",
      " dense_4 (Dense)             (None, 1)                 33        \n",
      "                                                                 \n",
      "=================================================================\n",
      "Total params: 46,081\n",
      "Trainable params: 46,081\n",
      "Non-trainable params: 0\n",
      "_________________________________________________________________\n",
      "None\n"
     ]
    }
   ],
   "source": [
    "model = generate_model(len(data_train[0]))"
   ]
  },
  {
   "cell_type": "code",
   "execution_count": 7,
   "id": "071ae79f",
   "metadata": {},
   "outputs": [
    {
     "name": "stdout",
     "output_type": "stream",
     "text": [
      "Model: \"sequential\"\n",
      "_________________________________________________________________\n",
      " Layer (type)                Output Shape              Param #   \n",
      "=================================================================\n",
      " dense (Dense)               (None, 256)               2816      \n",
      "                                                                 \n",
      " dropout (Dropout)           (None, 256)               0         \n",
      "                                                                 \n",
      " dense_1 (Dense)             (None, 128)               32896     \n",
      "                                                                 \n",
      " dropout_1 (Dropout)         (None, 128)               0         \n",
      "                                                                 \n",
      " dense_2 (Dense)             (None, 64)                8256      \n",
      "                                                                 \n",
      " dropout_2 (Dropout)         (None, 64)                0         \n",
      "                                                                 \n",
      " dense_3 (Dense)             (None, 32)                2080      \n",
      "                                                                 \n",
      " dropout_3 (Dropout)         (None, 32)                0         \n",
      "                                                                 \n",
      " dense_4 (Dense)             (None, 1)                 33        \n",
      "                                                                 \n",
      "=================================================================\n",
      "Total params: 46,081\n",
      "Trainable params: 46,081\n",
      "Non-trainable params: 0\n",
      "_________________________________________________________________\n"
     ]
    }
   ],
   "source": [
    "model.summary()"
   ]
  },
  {
   "cell_type": "code",
   "execution_count": 8,
   "id": "5e5b8b02",
   "metadata": {},
   "outputs": [],
   "source": [
    "model.compile(loss='binary_crossentropy', optimizer='adam', metrics=['accuracy'])"
   ]
  },
  {
   "cell_type": "code",
   "execution_count": 9,
   "id": "6c798507",
   "metadata": {},
   "outputs": [
    {
     "name": "stdout",
     "output_type": "stream",
     "text": [
      "WARNING:tensorflow:`period` argument is deprecated. Please use `save_freq` to specify the frequency in number of batches seen.\n"
     ]
    }
   ],
   "source": [
    "checkpoint = ModelCheckpoint(\"dnnModel.h5\", monitor='val_loss', verbose=1, save_best_only=True, save_weights_only=False, mode='auto', period=1)\n",
    "early = EarlyStopping(monitor='val_loss', min_delta=0, patience=30, verbose=1, mode='auto')"
   ]
  },
  {
   "cell_type": "code",
   "execution_count": 10,
   "id": "a7def03b",
   "metadata": {},
   "outputs": [
    {
     "name": "stdout",
     "output_type": "stream",
     "text": [
      "Epoch 1/100\n",
      "15/23 [==================>...........] - ETA: 0s - loss: 0.6549 - accuracy: 0.6792 \n",
      "Epoch 00001: val_loss improved from inf to 0.36471, saving model to dnnModel.h5\n",
      "23/23 [==============================] - 2s 10ms/step - loss: 0.6066 - accuracy: 0.7545 - val_loss: 0.3647 - val_accuracy: 0.9341\n",
      "Epoch 2/100\n",
      "18/23 [======================>.......] - ETA: 0s - loss: 0.2785 - accuracy: 0.9236\n",
      "Epoch 00002: val_loss improved from 0.36471 to 0.06236, saving model to dnnModel.h5\n",
      "23/23 [==============================] - 0s 6ms/step - loss: 0.2513 - accuracy: 0.9269 - val_loss: 0.0624 - val_accuracy: 0.9835\n",
      "Epoch 3/100\n",
      "16/23 [===================>..........] - ETA: 0s - loss: 0.1395 - accuracy: 0.9648\n",
      "Epoch 00003: val_loss improved from 0.06236 to 0.03482, saving model to dnnModel.h5\n",
      "23/23 [==============================] - 0s 6ms/step - loss: 0.1209 - accuracy: 0.9710 - val_loss: 0.0348 - val_accuracy: 0.9890\n",
      "Epoch 4/100\n",
      "17/23 [=====================>........] - ETA: 0s - loss: 0.0765 - accuracy: 0.9835\n",
      "Epoch 00004: val_loss improved from 0.03482 to 0.01824, saving model to dnnModel.h5\n",
      "23/23 [==============================] - 0s 6ms/step - loss: 0.0847 - accuracy: 0.9793 - val_loss: 0.0182 - val_accuracy: 0.9945\n",
      "Epoch 5/100\n",
      "14/23 [=================>............] - ETA: 0s - loss: 0.0460 - accuracy: 0.9933\n",
      "Epoch 00005: val_loss improved from 0.01824 to 0.01261, saving model to dnnModel.h5\n",
      "23/23 [==============================] - 0s 6ms/step - loss: 0.0774 - accuracy: 0.9807 - val_loss: 0.0126 - val_accuracy: 1.0000\n",
      "Epoch 6/100\n",
      "16/23 [===================>..........] - ETA: 0s - loss: 0.0651 - accuracy: 0.9863\n",
      "Epoch 00006: val_loss improved from 0.01261 to 0.00802, saving model to dnnModel.h5\n",
      "23/23 [==============================] - 0s 6ms/step - loss: 0.0613 - accuracy: 0.9876 - val_loss: 0.0080 - val_accuracy: 1.0000\n",
      "Epoch 7/100\n",
      "16/23 [===================>..........] - ETA: 0s - loss: 0.0637 - accuracy: 0.9863\n",
      "Epoch 00007: val_loss improved from 0.00802 to 0.00536, saving model to dnnModel.h5\n",
      "23/23 [==============================] - 0s 6ms/step - loss: 0.0567 - accuracy: 0.9862 - val_loss: 0.0054 - val_accuracy: 1.0000\n",
      "Epoch 8/100\n",
      "16/23 [===================>..........] - ETA: 0s - loss: 0.0308 - accuracy: 0.9941\n",
      "Epoch 00008: val_loss improved from 0.00536 to 0.00339, saving model to dnnModel.h5\n",
      "23/23 [==============================] - 0s 6ms/step - loss: 0.0384 - accuracy: 0.9931 - val_loss: 0.0034 - val_accuracy: 1.0000\n",
      "Epoch 9/100\n",
      "16/23 [===================>..........] - ETA: 0s - loss: 0.0303 - accuracy: 0.9922\n",
      "Epoch 00009: val_loss improved from 0.00339 to 0.00297, saving model to dnnModel.h5\n",
      "23/23 [==============================] - 0s 6ms/step - loss: 0.0307 - accuracy: 0.9931 - val_loss: 0.0030 - val_accuracy: 1.0000\n",
      "Epoch 10/100\n",
      "17/23 [=====================>........] - ETA: 0s - loss: 0.0330 - accuracy: 0.9926\n",
      "Epoch 00010: val_loss improved from 0.00297 to 0.00224, saving model to dnnModel.h5\n",
      "23/23 [==============================] - 0s 6ms/step - loss: 0.0287 - accuracy: 0.9945 - val_loss: 0.0022 - val_accuracy: 1.0000\n",
      "Epoch 11/100\n",
      "15/23 [==================>...........] - ETA: 0s - loss: 0.0364 - accuracy: 0.9958\n",
      "Epoch 00011: val_loss improved from 0.00224 to 0.00154, saving model to dnnModel.h5\n",
      "23/23 [==============================] - 0s 6ms/step - loss: 0.0265 - accuracy: 0.9972 - val_loss: 0.0015 - val_accuracy: 1.0000\n",
      "Epoch 12/100\n",
      "16/23 [===================>..........] - ETA: 0s - loss: 0.0263 - accuracy: 0.9980\n",
      "Epoch 00012: val_loss improved from 0.00154 to 0.00132, saving model to dnnModel.h5\n",
      "23/23 [==============================] - 0s 6ms/step - loss: 0.0262 - accuracy: 0.9959 - val_loss: 0.0013 - val_accuracy: 1.0000\n",
      "Epoch 13/100\n",
      "16/23 [===================>..........] - ETA: 0s - loss: 0.0318 - accuracy: 0.9980\n",
      "Epoch 00013: val_loss did not improve from 0.00132\n",
      "23/23 [==============================] - 0s 5ms/step - loss: 0.0401 - accuracy: 0.9945 - val_loss: 0.0024 - val_accuracy: 1.0000\n",
      "Epoch 14/100\n",
      "16/23 [===================>..........] - ETA: 0s - loss: 0.0220 - accuracy: 0.9961\n",
      "Epoch 00014: val_loss did not improve from 0.00132\n",
      "23/23 [==============================] - 0s 5ms/step - loss: 0.0242 - accuracy: 0.9945 - val_loss: 0.0019 - val_accuracy: 1.0000\n",
      "Epoch 15/100\n",
      "18/23 [======================>.......] - ETA: 0s - loss: 0.0257 - accuracy: 0.9948\n",
      "Epoch 00015: val_loss did not improve from 0.00132\n",
      "23/23 [==============================] - 0s 4ms/step - loss: 0.0230 - accuracy: 0.9959 - val_loss: 0.0022 - val_accuracy: 1.0000\n",
      "Epoch 16/100\n",
      "16/23 [===================>..........] - ETA: 0s - loss: 0.0208 - accuracy: 0.9980\n",
      "Epoch 00016: val_loss improved from 0.00132 to 0.00090, saving model to dnnModel.h5\n",
      "23/23 [==============================] - 0s 6ms/step - loss: 0.0308 - accuracy: 0.9959 - val_loss: 8.9912e-04 - val_accuracy: 1.0000\n",
      "Epoch 17/100\n",
      "14/23 [=================>............] - ETA: 0s - loss: 0.0135 - accuracy: 0.9978\n",
      "Epoch 00017: val_loss improved from 0.00090 to 0.00075, saving model to dnnModel.h5\n",
      "23/23 [==============================] - 0s 6ms/step - loss: 0.0145 - accuracy: 0.9972 - val_loss: 7.4724e-04 - val_accuracy: 1.0000\n",
      "Epoch 18/100\n",
      "16/23 [===================>..........] - ETA: 0s - loss: 0.0250 - accuracy: 0.9961\n",
      "Epoch 00018: val_loss did not improve from 0.00075\n",
      "23/23 [==============================] - 0s 5ms/step - loss: 0.0195 - accuracy: 0.9972 - val_loss: 8.2292e-04 - val_accuracy: 1.0000\n",
      "Epoch 19/100\n",
      "16/23 [===================>..........] - ETA: 0s - loss: 0.0369 - accuracy: 0.9961\n",
      "Epoch 00019: val_loss did not improve from 0.00075\n",
      "23/23 [==============================] - 0s 5ms/step - loss: 0.0278 - accuracy: 0.9972 - val_loss: 0.0015 - val_accuracy: 1.0000\n",
      "Epoch 20/100\n",
      "18/23 [======================>.......] - ETA: 0s - loss: 0.0425 - accuracy: 0.9931\n",
      "Epoch 00020: val_loss did not improve from 0.00075\n",
      "23/23 [==============================] - 0s 4ms/step - loss: 0.0358 - accuracy: 0.9945 - val_loss: 0.0028 - val_accuracy: 1.0000\n",
      "Epoch 21/100\n",
      "16/23 [===================>..........] - ETA: 0s - loss: 0.0185 - accuracy: 0.9980\n",
      "Epoch 00021: val_loss did not improve from 0.00075\n",
      "23/23 [==============================] - 0s 4ms/step - loss: 0.0198 - accuracy: 0.9972 - val_loss: 9.0302e-04 - val_accuracy: 1.0000\n",
      "Epoch 22/100\n",
      "14/23 [=================>............] - ETA: 0s - loss: 0.0290 - accuracy: 0.9955    \n",
      "Epoch 00022: val_loss did not improve from 0.00075\n",
      "23/23 [==============================] - 0s 5ms/step - loss: 0.0199 - accuracy: 0.9972 - val_loss: 0.0015 - val_accuracy: 1.0000\n",
      "Epoch 23/100\n",
      "17/23 [=====================>........] - ETA: 0s - loss: 0.0138 - accuracy: 0.9982\n",
      "Epoch 00023: val_loss did not improve from 0.00075\n",
      "23/23 [==============================] - 0s 5ms/step - loss: 0.0200 - accuracy: 0.9972 - val_loss: 8.0335e-04 - val_accuracy: 1.0000\n",
      "Epoch 24/100\n",
      "15/23 [==================>...........] - ETA: 0s - loss: 0.0244 - accuracy: 0.9958\n",
      "Epoch 00024: val_loss did not improve from 0.00075\n",
      "23/23 [==============================] - 0s 5ms/step - loss: 0.0180 - accuracy: 0.9972 - val_loss: 0.0013 - val_accuracy: 1.0000\n",
      "Epoch 25/100\n",
      "16/23 [===================>..........] - ETA: 0s - loss: 0.0183 - accuracy: 0.9980\n",
      "Epoch 00025: val_loss did not improve from 0.00075\n",
      "23/23 [==============================] - 0s 5ms/step - loss: 0.0237 - accuracy: 0.9972 - val_loss: 0.0013 - val_accuracy: 1.0000\n",
      "Epoch 26/100\n",
      "17/23 [=====================>........] - ETA: 0s - loss: 0.0157 - accuracy: 0.9963\n",
      "Epoch 00026: val_loss did not improve from 0.00075\n",
      "23/23 [==============================] - 0s 5ms/step - loss: 0.0129 - accuracy: 0.9972 - val_loss: 0.0010 - val_accuracy: 1.0000\n",
      "Epoch 27/100\n",
      "18/23 [======================>.......] - ETA: 0s - loss: 0.0172 - accuracy: 0.9965\n",
      "Epoch 00027: val_loss improved from 0.00075 to 0.00068, saving model to dnnModel.h5\n",
      "23/23 [==============================] - 0s 6ms/step - loss: 0.0143 - accuracy: 0.9972 - val_loss: 6.7714e-04 - val_accuracy: 1.0000\n",
      "Epoch 28/100\n",
      "12/23 [==============>...............] - ETA: 0s - loss: 0.0036 - accuracy: 1.0000\n",
      "Epoch 00028: val_loss did not improve from 0.00068\n",
      "23/23 [==============================] - 0s 6ms/step - loss: 0.0213 - accuracy: 0.9972 - val_loss: 0.0016 - val_accuracy: 1.0000\n"
     ]
    },
    {
     "name": "stdout",
     "output_type": "stream",
     "text": [
      "Epoch 29/100\n",
      "13/23 [===============>..............] - ETA: 0s - loss: 0.0178 - accuracy: 0.9976\n",
      "Epoch 00029: val_loss did not improve from 0.00068\n",
      "23/23 [==============================] - 0s 5ms/step - loss: 0.0215 - accuracy: 0.9972 - val_loss: 9.7667e-04 - val_accuracy: 1.0000\n",
      "Epoch 30/100\n",
      "16/23 [===================>..........] - ETA: 0s - loss: 0.0170 - accuracy: 0.9980\n",
      "Epoch 00030: val_loss did not improve from 0.00068\n",
      "23/23 [==============================] - 0s 5ms/step - loss: 0.0199 - accuracy: 0.9972 - val_loss: 0.0014 - val_accuracy: 1.0000\n",
      "Epoch 31/100\n",
      "13/23 [===============>..............] - ETA: 0s - loss: 0.0271 - accuracy: 0.9976\n",
      "Epoch 00031: val_loss did not improve from 0.00068\n",
      "23/23 [==============================] - 0s 5ms/step - loss: 0.0224 - accuracy: 0.9972 - val_loss: 0.0023 - val_accuracy: 1.0000\n",
      "Epoch 32/100\n",
      "14/23 [=================>............] - ETA: 0s - loss: 0.0059 - accuracy: 1.0000\n",
      "Epoch 00032: val_loss did not improve from 0.00068\n",
      "23/23 [==============================] - 0s 5ms/step - loss: 0.0186 - accuracy: 0.9972 - val_loss: 0.0010 - val_accuracy: 1.0000\n",
      "Epoch 33/100\n",
      "14/23 [=================>............] - ETA: 0s - loss: 0.0027 - accuracy: 1.0000\n",
      "Epoch 00033: val_loss improved from 0.00068 to 0.00053, saving model to dnnModel.h5\n",
      "23/23 [==============================] - 0s 7ms/step - loss: 0.0144 - accuracy: 0.9972 - val_loss: 5.2989e-04 - val_accuracy: 1.0000\n",
      "Epoch 34/100\n",
      "13/23 [===============>..............] - ETA: 0s - loss: 0.0169 - accuracy: 0.9976\n",
      "Epoch 00034: val_loss did not improve from 0.00053\n",
      "23/23 [==============================] - 0s 5ms/step - loss: 0.0244 - accuracy: 0.9972 - val_loss: 0.0026 - val_accuracy: 1.0000\n",
      "Epoch 35/100\n",
      "13/23 [===============>..............] - ETA: 0s - loss: 0.0181 - accuracy: 0.9976\n",
      "Epoch 00035: val_loss did not improve from 0.00053\n",
      "23/23 [==============================] - 0s 6ms/step - loss: 0.0181 - accuracy: 0.9972 - val_loss: 0.0021 - val_accuracy: 1.0000\n",
      "Epoch 36/100\n",
      "14/23 [=================>............] - ETA: 0s - loss: 0.0196 - accuracy: 0.9955    \n",
      "Epoch 00036: val_loss did not improve from 0.00053\n",
      "23/23 [==============================] - 0s 5ms/step - loss: 0.0140 - accuracy: 0.9972 - val_loss: 7.3453e-04 - val_accuracy: 1.0000\n",
      "Epoch 37/100\n",
      "13/23 [===============>..............] - ETA: 0s - loss: 0.0025 - accuracy: 1.0000\n",
      "Epoch 00037: val_loss improved from 0.00053 to 0.00028, saving model to dnnModel.h5\n",
      "23/23 [==============================] - 0s 7ms/step - loss: 0.0316 - accuracy: 0.9972 - val_loss: 2.7571e-04 - val_accuracy: 1.0000\n",
      "Epoch 38/100\n",
      "14/23 [=================>............] - ETA: 0s - loss: 0.0162 - accuracy: 0.9978\n",
      "Epoch 00038: val_loss did not improve from 0.00028\n",
      "23/23 [==============================] - 0s 5ms/step - loss: 0.0215 - accuracy: 0.9972 - val_loss: 0.0029 - val_accuracy: 1.0000\n",
      "Epoch 39/100\n",
      "14/23 [=================>............] - ETA: 0s - loss: 0.0190 - accuracy: 0.9978\n",
      "Epoch 00039: val_loss did not improve from 0.00028\n",
      "23/23 [==============================] - 0s 6ms/step - loss: 0.0191 - accuracy: 0.9972 - val_loss: 0.0011 - val_accuracy: 1.0000\n",
      "Epoch 40/100\n",
      "14/23 [=================>............] - ETA: 0s - loss: 0.0216 - accuracy: 0.9978\n",
      "Epoch 00040: val_loss did not improve from 0.00028\n",
      "23/23 [==============================] - 0s 5ms/step - loss: 0.0241 - accuracy: 0.9972 - val_loss: 0.0016 - val_accuracy: 1.0000\n",
      "Epoch 41/100\n",
      "13/23 [===============>..............] - ETA: 0s - loss: 0.0064 - accuracy: 1.0000\n",
      "Epoch 00041: val_loss did not improve from 0.00028\n",
      "23/23 [==============================] - 0s 5ms/step - loss: 0.0168 - accuracy: 0.9972 - val_loss: 7.8503e-04 - val_accuracy: 1.0000\n",
      "Epoch 42/100\n",
      "13/23 [===============>..............] - ETA: 0s - loss: 0.0106 - accuracy: 0.9976\n",
      "Epoch 00042: val_loss did not improve from 0.00028\n",
      "23/23 [==============================] - 0s 6ms/step - loss: 0.0184 - accuracy: 0.9972 - val_loss: 6.8932e-04 - val_accuracy: 1.0000\n",
      "Epoch 43/100\n",
      "14/23 [=================>............] - ETA: 0s - loss: 0.0226 - accuracy: 0.9955\n",
      "Epoch 00043: val_loss did not improve from 0.00028\n",
      "23/23 [==============================] - 0s 5ms/step - loss: 0.0171 - accuracy: 0.9972 - val_loss: 0.0027 - val_accuracy: 1.0000\n",
      "Epoch 44/100\n",
      "14/23 [=================>............] - ETA: 0s - loss: 0.0275 - accuracy: 0.9955\n",
      "Epoch 00044: val_loss did not improve from 0.00028\n",
      "23/23 [==============================] - 0s 5ms/step - loss: 0.0190 - accuracy: 0.9972 - val_loss: 0.0013 - val_accuracy: 1.0000\n",
      "Epoch 45/100\n",
      "14/23 [=================>............] - ETA: 0s - loss: 0.0214 - accuracy: 0.9978\n",
      "Epoch 00045: val_loss did not improve from 0.00028\n",
      "23/23 [==============================] - 0s 5ms/step - loss: 0.0187 - accuracy: 0.9972 - val_loss: 0.0010 - val_accuracy: 1.0000\n",
      "Epoch 46/100\n",
      "14/23 [=================>............] - ETA: 0s - loss: 0.0273 - accuracy: 0.9955\n",
      "Epoch 00046: val_loss did not improve from 0.00028\n",
      "23/23 [==============================] - 0s 5ms/step - loss: 0.0187 - accuracy: 0.9972 - val_loss: 0.0014 - val_accuracy: 1.0000\n",
      "Epoch 47/100\n",
      "17/23 [=====================>........] - ETA: 0s - loss: 0.0289 - accuracy: 0.9963\n",
      "Epoch 00047: val_loss did not improve from 0.00028\n",
      "23/23 [==============================] - 0s 4ms/step - loss: 0.0235 - accuracy: 0.9972 - val_loss: 0.0013 - val_accuracy: 1.0000\n",
      "Epoch 48/100\n",
      "17/23 [=====================>........] - ETA: 0s - loss: 0.0302 - accuracy: 0.9963\n",
      "Epoch 00048: val_loss did not improve from 0.00028\n",
      "23/23 [==============================] - 0s 4ms/step - loss: 0.0240 - accuracy: 0.9972 - val_loss: 0.0014 - val_accuracy: 1.0000\n",
      "Epoch 49/100\n",
      "16/23 [===================>..........] - ETA: 0s - loss: 0.0537 - accuracy: 0.9922\n",
      "Epoch 00049: val_loss did not improve from 0.00028\n",
      "23/23 [==============================] - 0s 5ms/step - loss: 0.0452 - accuracy: 0.9917 - val_loss: 0.0148 - val_accuracy: 0.9945\n",
      "Epoch 50/100\n",
      "17/23 [=====================>........] - ETA: 0s - loss: 0.0109 - accuracy: 0.9945\n",
      "Epoch 00050: val_loss did not improve from 0.00028\n",
      "23/23 [==============================] - 0s 4ms/step - loss: 0.0253 - accuracy: 0.9931 - val_loss: 6.9194e-04 - val_accuracy: 1.0000\n",
      "Epoch 51/100\n",
      "18/23 [======================>.......] - ETA: 0s - loss: 0.0285 - accuracy: 0.9965    \n",
      "Epoch 00051: val_loss did not improve from 0.00028\n",
      "23/23 [==============================] - 0s 4ms/step - loss: 0.0242 - accuracy: 0.9972 - val_loss: 0.0036 - val_accuracy: 1.0000\n",
      "Epoch 52/100\n",
      "16/23 [===================>..........] - ETA: 0s - loss: 0.0407 - accuracy: 0.9941\n",
      "Epoch 00052: val_loss did not improve from 0.00028\n",
      "23/23 [==============================] - 0s 4ms/step - loss: 0.0396 - accuracy: 0.9945 - val_loss: 0.0028 - val_accuracy: 1.0000\n",
      "Epoch 53/100\n",
      "18/23 [======================>.......] - ETA: 0s - loss: 0.0253 - accuracy: 0.9965\n",
      "Epoch 00053: val_loss did not improve from 0.00028\n",
      "23/23 [==============================] - 0s 4ms/step - loss: 0.0223 - accuracy: 0.9972 - val_loss: 0.0024 - val_accuracy: 1.0000\n",
      "Epoch 54/100\n",
      "17/23 [=====================>........] - ETA: 0s - loss: 0.0314 - accuracy: 0.9926\n",
      "Epoch 00054: val_loss did not improve from 0.00028\n",
      "23/23 [==============================] - 0s 4ms/step - loss: 0.0246 - accuracy: 0.9945 - val_loss: 0.0012 - val_accuracy: 1.0000\n",
      "Epoch 55/100\n",
      "19/23 [=======================>......] - ETA: 0s - loss: 0.0248 - accuracy: 0.9967\n",
      "Epoch 00055: val_loss did not improve from 0.00028\n",
      "23/23 [==============================] - 0s 4ms/step - loss: 0.0213 - accuracy: 0.9972 - val_loss: 8.7734e-04 - val_accuracy: 1.0000\n",
      "Epoch 56/100\n",
      "17/23 [=====================>........] - ETA: 0s - loss: 0.0229 - accuracy: 0.9963\n",
      "Epoch 00056: val_loss did not improve from 0.00028\n",
      "23/23 [==============================] - 0s 4ms/step - loss: 0.0183 - accuracy: 0.9972 - val_loss: 0.0014 - val_accuracy: 1.0000\n",
      "Epoch 57/100\n",
      "17/23 [=====================>........] - ETA: 0s - loss: 0.0175 - accuracy: 0.9982\n",
      "Epoch 00057: val_loss did not improve from 0.00028\n",
      "23/23 [==============================] - 0s 4ms/step - loss: 0.0238 - accuracy: 0.9972 - val_loss: 0.0025 - val_accuracy: 1.0000\n",
      "Epoch 58/100\n"
     ]
    },
    {
     "name": "stdout",
     "output_type": "stream",
     "text": [
      "17/23 [=====================>........] - ETA: 0s - loss: 0.0141 - accuracy: 0.9982\n",
      "Epoch 00058: val_loss did not improve from 0.00028\n",
      "23/23 [==============================] - 0s 4ms/step - loss: 0.0234 - accuracy: 0.9972 - val_loss: 0.0013 - val_accuracy: 1.0000\n",
      "Epoch 59/100\n",
      "16/23 [===================>..........] - ETA: 0s - loss: 0.0162 - accuracy: 0.9961\n",
      "Epoch 00059: val_loss did not improve from 0.00028\n",
      "23/23 [==============================] - 0s 4ms/step - loss: 0.0129 - accuracy: 0.9972 - val_loss: 0.0012 - val_accuracy: 1.0000\n",
      "Epoch 60/100\n",
      "17/23 [=====================>........] - ETA: 0s - loss: 0.0179 - accuracy: 0.9963\n",
      "Epoch 00060: val_loss did not improve from 0.00028\n",
      "23/23 [==============================] - 0s 4ms/step - loss: 0.0141 - accuracy: 0.9972 - val_loss: 7.3741e-04 - val_accuracy: 1.0000\n",
      "Epoch 61/100\n",
      "15/23 [==================>...........] - ETA: 0s - loss: 0.0243 - accuracy: 0.9958\n",
      "Epoch 00061: val_loss did not improve from 0.00028\n",
      "23/23 [==============================] - 0s 5ms/step - loss: 0.0172 - accuracy: 0.9972 - val_loss: 8.6236e-04 - val_accuracy: 1.0000\n",
      "Epoch 62/100\n",
      "17/23 [=====================>........] - ETA: 0s - loss: 0.0087 - accuracy: 0.9982\n",
      "Epoch 00062: val_loss did not improve from 0.00028\n",
      "23/23 [==============================] - 0s 5ms/step - loss: 0.0145 - accuracy: 0.9972 - val_loss: 4.6888e-04 - val_accuracy: 1.0000\n",
      "Epoch 63/100\n",
      "16/23 [===================>..........] - ETA: 0s - loss: 0.0024 - accuracy: 1.0000\n",
      "Epoch 00063: val_loss did not improve from 0.00028\n",
      "23/23 [==============================] - 0s 4ms/step - loss: 0.0210 - accuracy: 0.9972 - val_loss: 0.0014 - val_accuracy: 1.0000\n",
      "Epoch 64/100\n",
      "17/23 [=====================>........] - ETA: 0s - loss: 0.0194 - accuracy: 0.9982\n",
      "Epoch 00064: val_loss did not improve from 0.00028\n",
      "23/23 [==============================] - 0s 5ms/step - loss: 0.0233 - accuracy: 0.9972 - val_loss: 0.0030 - val_accuracy: 1.0000\n",
      "Epoch 65/100\n",
      "13/23 [===============>..............] - ETA: 0s - loss: 0.0289 - accuracy: 0.9952    \n",
      "Epoch 00065: val_loss did not improve from 0.00028\n",
      "23/23 [==============================] - 0s 6ms/step - loss: 0.0209 - accuracy: 0.9959 - val_loss: 0.0012 - val_accuracy: 1.0000\n",
      "Epoch 66/100\n",
      "13/23 [===============>..............] - ETA: 0s - loss: 0.0087 - accuracy: 0.9976\n",
      "Epoch 00066: val_loss did not improve from 0.00028\n",
      "23/23 [==============================] - 0s 5ms/step - loss: 0.0246 - accuracy: 0.9959 - val_loss: 0.0027 - val_accuracy: 1.0000\n",
      "Epoch 67/100\n",
      "13/23 [===============>..............] - ETA: 0s - loss: 0.0228 - accuracy: 0.9952\n",
      "Epoch 00067: val_loss did not improve from 0.00028\n",
      "23/23 [==============================] - 0s 5ms/step - loss: 0.0269 - accuracy: 0.9945 - val_loss: 0.0065 - val_accuracy: 1.0000\n",
      "Epoch 00067: early stopping\n"
     ]
    }
   ],
   "source": [
    "history = model.fit(data_train, label_train, validation_split=0.2, epochs=100, verbose = 1, callbacks=[checkpoint,early])"
   ]
  },
  {
   "cell_type": "code",
   "execution_count": 11,
   "id": "ab63c0a3",
   "metadata": {},
   "outputs": [
    {
     "data": {
      "image/png": "[encoded data removed]",
      "text/plain": [
       "<Figure size 640x480 with 1 Axes>"
      ]
     },
     "metadata": {},
     "output_type": "display_data"
    }
   ],
   "source": [
    "# Plot training & validation accuracy values\n",
    "plt.plot(history.history['accuracy'])\n",
    "plt.plot(history.history['val_accuracy'])\n",
    "plt.title('BRNN Model Accuracy')\n",
    "plt.ylabel('Accuracy')\n",
    "plt.xlabel('Epoch')\n",
    "plt.legend(['Train', 'Test'], loc='lower right')\n",
    "# plt.savefig('BRNN 200 Model Accuracy.png')\n",
    "plt.show()"
   ]
  },
  {
   "cell_type": "code",
   "execution_count": 12,
   "id": "04277965",
   "metadata": {},
   "outputs": [
    {
     "data": {
      "image/png": "[encoded data removed]",
      "text/plain": [
       "<Figure size 640x480 with 1 Axes>"
      ]
     },
     "metadata": {},
     "output_type": "display_data"
    }
   ],
   "source": [
    "# Plot training & validation loss values\n",
    "plt.plot(history.history['loss'])\n",
    "plt.plot(history.history['val_loss'])\n",
    "plt.title('BRNN Model  Loss')\n",
    "plt.ylabel('Loss')\n",
    "plt.xlabel('Epoch')\n",
    "plt.legend(['Train', 'Test'], loc='upper left')\n",
    "# plt.savefig('BRNN 200 Model Loss.png')\n",
    "plt.show()"
   ]
  },
  {
   "cell_type": "code",
   "execution_count": 13,
   "id": "cfcc8675",
   "metadata": {},
   "outputs": [
    {
     "name": "stdout",
     "output_type": "stream",
     "text": [
      "8/8 [==============================] - 0s 2ms/step\n"
     ]
    }
   ],
   "source": [
    "predict = model.predict(data_eval, verbose=1)"
   ]
  },
  {
   "cell_type": "code",
   "execution_count": 14,
   "id": "3b485068",
   "metadata": {},
   "outputs": [
    {
     "data": {
      "image/png": "[encoded data removed]",
      "text/plain": [
       "<Figure size 640x480 with 2 Axes>"
      ]
     },
     "metadata": {},
     "output_type": "display_data"
    }
   ],
   "source": [
    "tp = 0\n",
    "tn = 0\n",
    "fp = 0\n",
    "fn = 0\n",
    "predictn = predict.flatten().round()\n",
    "predictn = predictn.tolist()\n",
    "Y_testn = label_eval.tolist()\n",
    "for i in range(len(Y_testn)):\n",
    "  if predictn[i]==1 and Y_testn[i]==1:\n",
    "    tp+=1\n",
    "  elif predictn[i]==0 and Y_testn[i]==0:\n",
    "    tn+=1\n",
    "  elif predictn[i]==0 and Y_testn[i]==1:\n",
    "    fp+=1\n",
    "  elif predictn[i]==1 and Y_testn[i]==0:\n",
    "    fn+=1\n",
    "to_heat_map =[[tn,fp],[fn,tp]]\n",
    "to_heat_map = pd.DataFrame(to_heat_map, index = [\"Attack\",\"Normal\"],columns = [\"Attack\",\"Normal\"])\n",
    "ax = sns.heatmap(to_heat_map,annot=True, fmt=\"d\")"
   ]
  },
  {
   "cell_type": "code",
   "execution_count": 15,
   "id": "0f64d323",
   "metadata": {},
   "outputs": [
    {
     "name": "stdout",
     "output_type": "stream",
     "text": [
      "8/8 [==============================] - 0s 3ms/step - loss: 0.0417 - accuracy: 0.9868\n",
      "accuracy: 98.68%\n"
     ]
    }
   ],
   "source": [
    "scores = model.evaluate(data_eval, label_eval)\n",
    "print(\"%s: %.2f%%\" % (model.metrics_names[1], scores[1]*100))"
   ]
  },
  {
   "cell_type": "code",
   "execution_count": 16,
   "id": "8355540c",
   "metadata": {},
   "outputs": [
    {
     "name": "stdout",
     "output_type": "stream",
     "text": [
      "              precision    recall  f1-score   support\n",
      "\n",
      "           0       0.99      0.98      0.99       114\n",
      "           1       0.98      0.99      0.99       113\n",
      "\n",
      "    accuracy                           0.99       227\n",
      "   macro avg       0.99      0.99      0.99       227\n",
      "weighted avg       0.99      0.99      0.99       227\n",
      "\n"
     ]
    }
   ],
   "source": [
    "print(classification_report(Y_testn,predictn))"
   ]
  },
  {
   "cell_type": "code",
   "execution_count": 17,
   "id": "6b1e5995",
   "metadata": {},
   "outputs": [
    {
     "name": "stdout",
     "output_type": "stream",
     "text": [
      "SVM: ROC AUC=0.987\n"
     ]
    }
   ],
   "source": [
    "lr_auc = roc_auc_score(Y_testn, predictn)\n",
    "print('SVM: ROC AUC=%.3f' % (lr_auc))"
   ]
  },
  {
   "cell_type": "code",
   "execution_count": 18,
   "id": "9e9ffd90",
   "metadata": {},
   "outputs": [
    {
     "name": "stdout",
     "output_type": "stream",
     "text": [
      "1/1 [==============================] - 0s 13ms/step\n",
      "Time elapse for prediction : 0.03354500000000016\n",
      "[[0.01447362]]\n"
     ]
    }
   ],
   "source": [
    "time_start = time.perf_counter()\n",
    "predict = model.predict(data_eval[:1], verbose=1)\n",
    "print(f\"Time elapse for prediction : {time.perf_counter() - time_start}\")\n",
    "print(predict)"
   ]
  },
  {
   "cell_type": "code",
   "execution_count": null,
   "id": "fe718f7a",
   "metadata": {},
   "outputs": [],
   "source": []
  }
 ],
 "metadata": {
  "kernelspec": {
   "display_name": "Python 3 (ipykernel)",
   "language": "python",
   "name": "python3"
  },
  "language_info": {
   "codemirror_mode": {
    "name": "ipython",
    "version": 3
   },
   "file_extension": ".py",
   "mimetype": "text/x-python",
   "name": "python",
   "nbconvert_exporter": "python",
   "pygments_lexer": "ipython3",
   "version": "3.9.13"
  }
 },
 "nbformat": 4,
 "nbformat_minor": 5
}
