{
 "cells": [
  {
   "cell_type": "code",
   "execution_count": 1,
   "id": "76fa329c",
   "metadata": {},
   "outputs": [],
   "source": [
    "import numpy as np\n",
    "import pandas as pd\n",
    "import matplotlib.pyplot as plt\n",
    "import seaborn as sns; sns.set()\n",
    "from keras.models import Sequential, load_model\n",
    "from keras.layers import Dense, LSTM, Bidirectional\n",
    "from keras.utils.np_utils import to_categorical\n",
    "from keras.utils import np_utils\n",
    "from keras.callbacks import ModelCheckpoint, EarlyStopping\n",
    "from sklearn.model_selection import train_test_split\n",
    "from sklearn.preprocessing import LabelEncoder, StandardScaler\n",
    "from sklearn.metrics import classification_report, confusion_matrix\n",
    "from sklearn.metrics import roc_auc_score\n",
    "import joblib\n",
    "\n",
    "import time\n",
    "from collections import Counter\n",
    "from imblearn.over_sampling import SMOTE\n",
    "from imblearn.under_sampling import RandomUnderSampler\n",
    "from imblearn.pipeline import Pipeline"
   ]
  },
  {
   "cell_type": "code",
   "execution_count": 2,
   "id": "d041644e",
   "metadata": {},
   "outputs": [],
   "source": [
    "data_normal_1 = pd.read_csv('dataset/timeseries/dataset_http_timeseries_normal_1.csv')\n",
    "data_normal_2 = pd.read_csv('dataset/timeseries/dataset_http_timeseries_normal_2.csv')\n",
    "\n",
    "data_attack_1 = pd.read_csv('dataset/timeseries/dataset_http_timeseries_attack_1.csv')\n",
    "data_attack_2 = pd.read_csv('dataset/timeseries/dataset_http_timeseries_attack_2.csv')"
   ]
  },
  {
   "cell_type": "code",
   "execution_count": 3,
   "id": "b0e9c85b",
   "metadata": {},
   "outputs": [],
   "source": [
    "data_normal_1.columns = ['no_thread', 'connection_time', 'r_bytes', 'port_src', 'status', 'url',\n",
    "       'timeout', 'label']\n",
    "data_normal_2.columns = ['no_thread', 'connection_time', 'r_bytes', 'port_src', 'status', 'url',\n",
    "       'timeout', 'label']\n",
    "\n",
    "data_attack_1.columns = ['no_thread', 'connection_time', 'r_bytes', 'port_src', 'status', 'url',\n",
    "       'timeout', 'label']\n",
    "data_attack_2.columns = ['no_thread', 'connection_time', 'r_bytes', 'port_src', 'status', 'url',\n",
    "       'timeout', 'label']"
   ]
  },
  {
   "cell_type": "code",
   "execution_count": 4,
   "id": "12aa93dc",
   "metadata": {},
   "outputs": [],
   "source": [
    "features = ['no_thread', 'connection_time', 'r_bytes', 'port_src', 'status', 'url', 'timeout']"
   ]
  },
  {
   "cell_type": "code",
   "execution_count": 5,
   "id": "c3caaf52",
   "metadata": {},
   "outputs": [],
   "source": [
    "X_normal_1 = data_normal_1[features].values\n",
    "X_normal_2 = data_normal_2[features].values\n",
    "\n",
    "X_attack_1 = data_attack_1[features].values\n",
    "X_attack_2 = data_attack_2[features].values\n",
    "\n",
    "Y_normal_1 = data_normal_1['label']\n",
    "Y_normal_2 = data_normal_2['label']\n",
    "\n",
    "Y_attack_1 = data_attack_1['label']\n",
    "Y_attack_2 = data_attack_2['label']\n",
    "\n",
    "X=np.concatenate((X_normal_1,X_normal_2,X_attack_1,X_attack_2))\n",
    "Y=np.concatenate((Y_normal_1,Y_normal_2,Y_attack_1,Y_attack_2))"
   ]
  },
  {
   "cell_type": "code",
   "execution_count": 6,
   "id": "a21297c9",
   "metadata": {},
   "outputs": [
    {
     "name": "stdout",
     "output_type": "stream",
     "text": [
      "Counter({1: 9370, 0: 1094})\n"
     ]
    }
   ],
   "source": [
    "data_counter = Counter(Y)\n",
    "print(data_counter)"
   ]
  },
  {
   "cell_type": "code",
   "execution_count": 7,
   "id": "741cc249",
   "metadata": {},
   "outputs": [],
   "source": [
    "over = SMOTE()\n",
    "under = RandomUnderSampler()\n",
    "steps = [('o', over), ('u', under)]\n",
    "pipeline = Pipeline(steps=steps)\n",
    "X, Y = pipeline.fit_resample(X, Y)"
   ]
  },
  {
   "cell_type": "code",
   "execution_count": 8,
   "id": "409135a7",
   "metadata": {},
   "outputs": [
    {
     "name": "stdout",
     "output_type": "stream",
     "text": [
      "Counter({0: 9370, 1: 9370})\n"
     ]
    }
   ],
   "source": [
    "data_counter = Counter(Y)\n",
    "print(data_counter)"
   ]
  },
  {
   "cell_type": "code",
   "execution_count": 9,
   "id": "08f5daf5",
   "metadata": {},
   "outputs": [],
   "source": [
    "scalar = StandardScaler(copy=True, with_mean=True, with_std=True)\n",
    "scalar.fit(X)\n",
    "X = scalar.transform(X)"
   ]
  },
  {
   "cell_type": "code",
   "execution_count": 10,
   "id": "03fb017a",
   "metadata": {},
   "outputs": [
    {
     "name": "stdout",
     "output_type": "stream",
     "text": [
      "(18740, 7)\n",
      "(18740,)\n"
     ]
    }
   ],
   "source": [
    "print(np.shape(X))\n",
    "print(np.shape(Y))"
   ]
  },
  {
   "cell_type": "code",
   "execution_count": 11,
   "id": "9b543209",
   "metadata": {},
   "outputs": [],
   "source": [
    "features = len(X[0])\n",
    "samples = X.shape[0]\n",
    "train_len = 200\n",
    "input_len = samples - train_len\n",
    "I = np.zeros((samples - train_len, train_len, features))"
   ]
  },
  {
   "cell_type": "code",
   "execution_count": 12,
   "id": "4a802d89",
   "metadata": {},
   "outputs": [],
   "source": [
    "for i in range(input_len):\n",
    "    temp = np.zeros((train_len, features))\n",
    "    for j in range(i, i + train_len - 1):\n",
    "        temp[j-i] = X[j]\n",
    "    I[i] = temp"
   ]
  },
  {
   "cell_type": "code",
   "execution_count": 13,
   "id": "7668c3b1",
   "metadata": {},
   "outputs": [
    {
     "name": "stdout",
     "output_type": "stream",
     "text": [
      "(18540, 200, 7)\n"
     ]
    }
   ],
   "source": [
    "print(I.shape)"
   ]
  },
  {
   "cell_type": "code",
   "execution_count": 14,
   "id": "fde8f9e5",
   "metadata": {},
   "outputs": [],
   "source": [
    "X_train, X_test, Y_train, Y_test = train_test_split(I, Y[200:], test_size = 0.2, stratify=Y[200:], random_state = 0)"
   ]
  },
  {
   "cell_type": "code",
   "execution_count": 15,
   "id": "a5c0d100",
   "metadata": {},
   "outputs": [],
   "source": [
    "def create_baseline():\n",
    "    model = Sequential()\n",
    "    model.add(Bidirectional(LSTM(64, activation='tanh', kernel_regularizer='l2')))\n",
    "    model.add(Dense(128, activation = 'relu', kernel_regularizer='l2'))\n",
    "    model.add(Dense(1, activation = 'sigmoid', kernel_regularizer='l2'))\n",
    "    model.compile(loss = 'binary_crossentropy', optimizer = 'adam', metrics = ['accuracy'])\n",
    "    return model"
   ]
  },
  {
   "cell_type": "code",
   "execution_count": 16,
   "id": "6c6a82e8",
   "metadata": {},
   "outputs": [],
   "source": [
    "model = create_baseline()"
   ]
  },
  {
   "cell_type": "code",
   "execution_count": 17,
   "id": "6e010d07",
   "metadata": {},
   "outputs": [
    {
     "name": "stdout",
     "output_type": "stream",
     "text": [
      "WARNING:tensorflow:`period` argument is deprecated. Please use `save_freq` to specify the frequency in number of batches seen.\n"
     ]
    }
   ],
   "source": [
    "checkpoint = ModelCheckpoint(\"LSTMmodel.h5\", monitor='val_loss', verbose=1, save_best_only=True, save_weights_only=False, mode='auto', period=1)\n",
    "early = EarlyStopping(monitor='val_loss', min_delta=0, patience=10, verbose=1, mode='auto')"
   ]
  },
  {
   "cell_type": "code",
   "execution_count": 18,
   "id": "6397598b",
   "metadata": {},
   "outputs": [
    {
     "name": "stdout",
     "output_type": "stream",
     "text": [
      "Epoch 1/30\n",
      "370/371 [============================>.] - ETA: 0s - loss: 0.2823 - accuracy: 0.9940\n",
      "Epoch 00001: val_loss improved from inf to 0.06291, saving model to LSTMmodel.h5\n",
      "371/371 [==============================] - 12s 26ms/step - loss: 0.2819 - accuracy: 0.9939 - val_loss: 0.0629 - val_accuracy: 0.9879\n",
      "Epoch 2/30\n",
      "370/371 [============================>.] - ETA: 0s - loss: 0.1219 - accuracy: 0.9760\n",
      "Epoch 00002: val_loss did not improve from 0.06291\n",
      "371/371 [==============================] - 9s 25ms/step - loss: 0.1218 - accuracy: 0.9761 - val_loss: 0.0825 - val_accuracy: 0.9879\n",
      "Epoch 3/30\n",
      "369/371 [============================>.] - ETA: 0s - loss: 0.2546 - accuracy: 0.9184\n",
      "Epoch 00003: val_loss did not improve from 0.06291\n",
      "371/371 [==============================] - 9s 25ms/step - loss: 0.2543 - accuracy: 0.9186 - val_loss: 0.1733 - val_accuracy: 0.9656\n",
      "Epoch 4/30\n",
      "371/371 [==============================] - ETA: 0s - loss: 0.1706 - accuracy: 0.9611\n",
      "Epoch 00004: val_loss did not improve from 0.06291\n",
      "371/371 [==============================] - 9s 25ms/step - loss: 0.1706 - accuracy: 0.9611 - val_loss: 0.0687 - val_accuracy: 0.9963\n",
      "Epoch 5/30\n",
      "369/371 [============================>.] - ETA: 0s - loss: 0.0531 - accuracy: 0.9981\n",
      "Epoch 00005: val_loss improved from 0.06291 to 0.05928, saving model to LSTMmodel.h5\n",
      "371/371 [==============================] - 9s 25ms/step - loss: 0.0535 - accuracy: 0.9980 - val_loss: 0.0593 - val_accuracy: 0.9943\n",
      "Epoch 6/30\n",
      "371/371 [==============================] - ETA: 0s - loss: 0.0720 - accuracy: 0.9940\n",
      "Epoch 00006: val_loss improved from 0.05928 to 0.05845, saving model to LSTMmodel.h5\n",
      "371/371 [==============================] - 9s 24ms/step - loss: 0.0720 - accuracy: 0.9940 - val_loss: 0.0585 - val_accuracy: 0.9963\n",
      "Epoch 7/30\n",
      "370/371 [============================>.] - ETA: 0s - loss: 0.0553 - accuracy: 0.9966\n",
      "Epoch 00007: val_loss improved from 0.05845 to 0.05279, saving model to LSTMmodel.h5\n",
      "371/371 [==============================] - 9s 25ms/step - loss: 0.0553 - accuracy: 0.9966 - val_loss: 0.0528 - val_accuracy: 0.9963\n",
      "Epoch 8/30\n",
      "370/371 [============================>.] - ETA: 0s - loss: 0.0565 - accuracy: 0.9957\n",
      "Epoch 00008: val_loss did not improve from 0.05279\n",
      "371/371 [==============================] - 9s 25ms/step - loss: 0.0564 - accuracy: 0.9957 - val_loss: 0.0585 - val_accuracy: 0.9956\n",
      "Epoch 9/30\n",
      "370/371 [============================>.] - ETA: 0s - loss: 0.0583 - accuracy: 0.9956\n",
      "Epoch 00009: val_loss improved from 0.05279 to 0.05190, saving model to LSTMmodel.h5\n",
      "371/371 [==============================] - 9s 25ms/step - loss: 0.0583 - accuracy: 0.9956 - val_loss: 0.0519 - val_accuracy: 0.9973\n",
      "Epoch 10/30\n",
      "370/371 [============================>.] - ETA: 0s - loss: 0.0435 - accuracy: 0.9988\n",
      "Epoch 00010: val_loss improved from 0.05190 to 0.04989, saving model to LSTMmodel.h5\n",
      "371/371 [==============================] - 9s 25ms/step - loss: 0.0439 - accuracy: 0.9987 - val_loss: 0.0499 - val_accuracy: 0.9970\n",
      "Epoch 11/30\n",
      "369/371 [============================>.] - ETA: 0s - loss: 0.0440 - accuracy: 0.9984\n",
      "Epoch 00011: val_loss did not improve from 0.04989\n",
      "371/371 [==============================] - 9s 25ms/step - loss: 0.0439 - accuracy: 0.9984 - val_loss: 0.0508 - val_accuracy: 0.9970\n",
      "Epoch 12/30\n",
      "369/371 [============================>.] - ETA: 0s - loss: 0.0458 - accuracy: 0.9979\n",
      "Epoch 00012: val_loss did not improve from 0.04989\n",
      "371/371 [==============================] - 9s 25ms/step - loss: 0.0457 - accuracy: 0.9979 - val_loss: 0.0531 - val_accuracy: 0.9960\n",
      "Epoch 13/30\n",
      "371/371 [==============================] - ETA: 0s - loss: 0.0437 - accuracy: 0.9981\n",
      "Epoch 00013: val_loss improved from 0.04989 to 0.04268, saving model to LSTMmodel.h5\n",
      "371/371 [==============================] - 9s 25ms/step - loss: 0.0437 - accuracy: 0.9981 - val_loss: 0.0427 - val_accuracy: 0.9980\n",
      "Epoch 14/30\n",
      "369/371 [============================>.] - ETA: 0s - loss: 0.0343 - accuracy: 0.9996\n",
      "Epoch 00014: val_loss improved from 0.04268 to 0.04125, saving model to LSTMmodel.h5\n",
      "371/371 [==============================] - 9s 25ms/step - loss: 0.0347 - accuracy: 0.9995 - val_loss: 0.0412 - val_accuracy: 0.9980\n",
      "Epoch 15/30\n",
      "369/371 [============================>.] - ETA: 0s - loss: 0.0353 - accuracy: 0.9992\n",
      "Epoch 00015: val_loss improved from 0.04125 to 0.04038, saving model to LSTMmodel.h5\n",
      "371/371 [==============================] - 9s 25ms/step - loss: 0.0352 - accuracy: 0.9992 - val_loss: 0.0404 - val_accuracy: 0.9980\n",
      "Epoch 16/30\n",
      "370/371 [============================>.] - ETA: 0s - loss: 0.1456 - accuracy: 0.9625\n",
      "Epoch 00016: val_loss did not improve from 0.04038\n",
      "371/371 [==============================] - 9s 25ms/step - loss: 0.1455 - accuracy: 0.9626 - val_loss: 0.1488 - val_accuracy: 0.9896\n",
      "Epoch 17/30\n",
      "371/371 [==============================] - ETA: 0s - loss: 0.1036 - accuracy: 0.9888\n",
      "Epoch 00017: val_loss did not improve from 0.04038\n",
      "371/371 [==============================] - 9s 25ms/step - loss: 0.1036 - accuracy: 0.9888 - val_loss: 0.0719 - val_accuracy: 0.9946\n",
      "Epoch 18/30\n",
      "369/371 [============================>.] - ETA: 0s - loss: 0.0634 - accuracy: 0.9960\n",
      "Epoch 00018: val_loss did not improve from 0.04038\n",
      "371/371 [==============================] - 9s 25ms/step - loss: 0.0633 - accuracy: 0.9960 - val_loss: 0.0625 - val_accuracy: 0.9943\n",
      "Epoch 19/30\n",
      "370/371 [============================>.] - ETA: 0s - loss: 0.0567 - accuracy: 0.9965\n",
      "Epoch 00019: val_loss did not improve from 0.04038\n",
      "371/371 [==============================] - 9s 25ms/step - loss: 0.0566 - accuracy: 0.9965 - val_loss: 0.0554 - val_accuracy: 0.9956\n",
      "Epoch 20/30\n",
      "371/371 [==============================] - ETA: 0s - loss: 0.0503 - accuracy: 0.9976\n",
      "Epoch 00020: val_loss did not improve from 0.04038\n",
      "371/371 [==============================] - 9s 25ms/step - loss: 0.0503 - accuracy: 0.9976 - val_loss: 0.0497 - val_accuracy: 0.9963\n",
      "Epoch 21/30\n",
      "369/371 [============================>.] - ETA: 0s - loss: 0.0409 - accuracy: 0.9987\n",
      "Epoch 00021: val_loss did not improve from 0.04038\n",
      "371/371 [==============================] - 9s 25ms/step - loss: 0.0408 - accuracy: 0.9987 - val_loss: 0.0463 - val_accuracy: 0.9976\n",
      "Epoch 22/30\n",
      "369/371 [============================>.] - ETA: 0s - loss: 0.0390 - accuracy: 0.9994\n",
      "Epoch 00022: val_loss did not improve from 0.04038\n",
      "371/371 [==============================] - 9s 25ms/step - loss: 0.0389 - accuracy: 0.9994 - val_loss: 0.0449 - val_accuracy: 0.9970\n",
      "Epoch 23/30\n",
      "371/371 [==============================] - ETA: 0s - loss: 0.0359 - accuracy: 0.9994\n",
      "Epoch 00023: val_loss did not improve from 0.04038\n",
      "371/371 [==============================] - 9s 25ms/step - loss: 0.0359 - accuracy: 0.9994 - val_loss: 0.0417 - val_accuracy: 0.9980\n",
      "Epoch 24/30\n",
      "370/371 [============================>.] - ETA: 0s - loss: 0.0366 - accuracy: 0.9992\n",
      "Epoch 00024: val_loss did not improve from 0.04038\n",
      "371/371 [==============================] - 9s 24ms/step - loss: 0.0366 - accuracy: 0.9992 - val_loss: 0.0434 - val_accuracy: 0.9976\n",
      "Epoch 25/30\n",
      "371/371 [==============================] - ETA: 0s - loss: 0.0349 - accuracy: 0.9993\n",
      "Epoch 00025: val_loss did not improve from 0.04038\n",
      "371/371 [==============================] - 9s 24ms/step - loss: 0.0349 - accuracy: 0.9993 - val_loss: 0.0412 - val_accuracy: 0.9980\n",
      "Epoch 00025: early stopping\n"
     ]
    }
   ],
   "source": [
    "history = model.fit(X_train, Y_train, epochs = 30,validation_split=0.2, verbose = 1, callbacks=[checkpoint,early])"
   ]
  },
  {
   "cell_type": "code",
   "execution_count": 19,
   "id": "c295f029",
   "metadata": {},
   "outputs": [
    {
     "data": {
      "image/png": "[encoded data removed]",
      "text/plain": [
       "<Figure size 640x480 with 1 Axes>"
      ]
     },
     "metadata": {},
     "output_type": "display_data"
    }
   ],
   "source": [
    "# Plot training & validation accuracy values\n",
    "plt.plot(history.history['accuracy'])\n",
    "plt.plot(history.history['val_accuracy'])\n",
    "plt.title('BRNN Model Accuracy')\n",
    "plt.ylabel('Accuracy')\n",
    "plt.xlabel('Epoch')\n",
    "plt.legend(['Train', 'Test'], loc='lower right')\n",
    "plt.savefig('BRNN 200 Model Accuracy.png')\n",
    "plt.show()"
   ]
  },
  {
   "cell_type": "code",
   "execution_count": 20,
   "id": "efdefc2c",
   "metadata": {},
   "outputs": [
    {
     "data": {
      "image/png": "[encoded data removed]",
      "text/plain": [
       "<Figure size 640x480 with 1 Axes>"
      ]
     },
     "metadata": {},
     "output_type": "display_data"
    }
   ],
   "source": [
    "# Plot training & validation loss values\n",
    "plt.plot(history.history['loss'])\n",
    "plt.plot(history.history['val_loss'])\n",
    "plt.title('BRNN Model  Loss')\n",
    "plt.ylabel('Loss')\n",
    "plt.xlabel('Epoch')\n",
    "plt.legend(['Train', 'Test'], loc='upper left')\n",
    "plt.savefig('BRNN 200 Model Loss.png')\n",
    "plt.show()"
   ]
  },
  {
   "cell_type": "code",
   "execution_count": 21,
   "id": "a36fcb82",
   "metadata": {},
   "outputs": [
    {
     "name": "stdout",
     "output_type": "stream",
     "text": [
      "116/116 [==============================] - 1s 10ms/step\n"
     ]
    }
   ],
   "source": [
    "predict = model.predict(X_test, verbose=1)"
   ]
  },
  {
   "cell_type": "code",
   "execution_count": 22,
   "id": "51cbd9f6",
   "metadata": {},
   "outputs": [
    {
     "data": {
      "image/png": "[encoded data removed]",
      "text/plain": [
       "<Figure size 640x480 with 2 Axes>"
      ]
     },
     "metadata": {},
     "output_type": "display_data"
    }
   ],
   "source": [
    "tp = 0\n",
    "tn = 0\n",
    "fp = 0\n",
    "fn = 0\n",
    "predictn = predict.flatten().round()\n",
    "predictn = predictn.tolist()\n",
    "Y_testn = Y_test.tolist()\n",
    "for i in range(len(Y_testn)):\n",
    "  if predictn[i]==1 and Y_testn[i]==1:\n",
    "    tp+=1\n",
    "  elif predictn[i]==0 and Y_testn[i]==0:\n",
    "    tn+=1\n",
    "  elif predictn[i]==0 and Y_testn[i]==1:\n",
    "    fp+=1\n",
    "  elif predictn[i]==1 and Y_testn[i]==0:\n",
    "    fn+=1\n",
    "to_heat_map =[[tn,fp],[fn,tp]]\n",
    "to_heat_map = pd.DataFrame(to_heat_map, index = [\"Attack\",\"Normal\"],columns = [\"Attack\",\"Normal\"])\n",
    "ax = sns.heatmap(to_heat_map,annot=True, fmt=\"d\")"
   ]
  },
  {
   "cell_type": "code",
   "execution_count": 23,
   "id": "5477b51f",
   "metadata": {},
   "outputs": [],
   "source": [
    "figure = ax.get_figure()\n",
    "figure.savefig('confusion_matrix_BRNN_200.png', dpi=400)"
   ]
  },
  {
   "cell_type": "code",
   "execution_count": 24,
   "id": "42ecc926",
   "metadata": {},
   "outputs": [
    {
     "data": {
      "text/plain": [
       "['scaler_200.save']"
      ]
     },
     "execution_count": 24,
     "metadata": {},
     "output_type": "execute_result"
    }
   ],
   "source": [
    "# model.save('brnn_model_200_step.h5')\n",
    "joblib.dump(scalar, 'scaler_200.save')"
   ]
  },
  {
   "cell_type": "code",
   "execution_count": 25,
   "id": "2a938888",
   "metadata": {},
   "outputs": [
    {
     "name": "stdout",
     "output_type": "stream",
     "text": [
      "accuracy: 99.92%\n"
     ]
    }
   ],
   "source": [
    "scores = model.evaluate(X_test, Y_test, verbose=0)\n",
    "print(\"%s: %.2f%%\" % (model.metrics_names[1], scores[1]*100))"
   ]
  },
  {
   "cell_type": "code",
   "execution_count": 26,
   "id": "c172e338",
   "metadata": {},
   "outputs": [
    {
     "name": "stdout",
     "output_type": "stream",
     "text": [
      "              precision    recall  f1-score   support\n",
      "\n",
      "           0       1.00      1.00      1.00      1834\n",
      "           1       1.00      1.00      1.00      1874\n",
      "\n",
      "    accuracy                           1.00      3708\n",
      "   macro avg       1.00      1.00      1.00      3708\n",
      "weighted avg       1.00      1.00      1.00      3708\n",
      "\n"
     ]
    }
   ],
   "source": [
    "print(classification_report(Y_testn,predictn))"
   ]
  },
  {
   "cell_type": "code",
   "execution_count": 27,
   "id": "d9db1966",
   "metadata": {},
   "outputs": [
    {
     "name": "stdout",
     "output_type": "stream",
     "text": [
      "SVM: ROC AUC=0.999\n"
     ]
    }
   ],
   "source": [
    "lr_auc = roc_auc_score(Y_testn, predictn)\n",
    "print('SVM: ROC AUC=%.3f' % (lr_auc))"
   ]
  },
  {
   "cell_type": "code",
   "execution_count": 28,
   "id": "9b4c4183",
   "metadata": {},
   "outputs": [
    {
     "name": "stdout",
     "output_type": "stream",
     "text": [
      "7/7 [==============================] - 0s 10ms/step\n",
      "Time elapse for prediction : 0.10003949999997985\n",
      "[[0.00568704]\n",
      " [0.00578307]\n",
      " [0.00590677]\n",
      " [0.00599117]\n",
      " [0.00598374]\n",
      " [0.00581946]\n",
      " [0.00576257]\n",
      " [0.0058518 ]\n",
      " [0.00575024]\n",
      " [0.00566   ]\n",
      " [0.00563414]\n",
      " [0.00566411]\n",
      " [0.00560094]\n",
      " [0.00539432]\n",
      " [0.0053612 ]\n",
      " [0.00540576]\n",
      " [0.00541894]\n",
      " [0.00546649]\n",
      " [0.00557698]\n",
      " [0.00571412]\n",
      " [0.00579665]\n",
      " [0.0055994 ]\n",
      " [0.0056159 ]\n",
      " [0.00569746]\n",
      " [0.00570971]\n",
      " [0.00587213]\n",
      " [0.00615683]\n",
      " [0.00634595]\n",
      " [0.00645792]\n",
      " [0.00656459]\n",
      " [0.00668355]\n",
      " [0.0067556 ]\n",
      " [0.00685265]\n",
      " [0.00648911]\n",
      " [0.00595346]\n",
      " [0.00564192]\n",
      " [0.0055541 ]\n",
      " [0.00544085]\n",
      " [0.00537914]\n",
      " [0.00533686]\n",
      " [0.0053632 ]\n",
      " [0.00537042]\n",
      " [0.00531076]\n",
      " [0.00537284]\n",
      " [0.00548771]\n",
      " [0.00539681]\n",
      " [0.00535859]\n",
      " [0.00540444]\n",
      " [0.00541948]\n",
      " [0.00548274]\n",
      " [0.00555001]\n",
      " [0.00570943]\n",
      " [0.00583904]\n",
      " [0.00560861]\n",
      " [0.0055595 ]\n",
      " [0.00567017]\n",
      " [0.00569641]\n",
      " [0.00573636]\n",
      " [0.0055002 ]\n",
      " [0.005413  ]\n",
      " [0.00532825]\n",
      " [0.00526287]\n",
      " [0.00532397]\n",
      " [0.00529529]\n",
      " [0.0052849 ]\n",
      " [0.00522356]\n",
      " [0.00520568]\n",
      " [0.00521545]\n",
      " [0.00516221]\n",
      " [0.00518152]\n",
      " [0.00522035]\n",
      " [0.00520236]\n",
      " [0.00511847]\n",
      " [0.00510997]\n",
      " [0.00515282]\n",
      " [0.00509695]\n",
      " [0.00511054]\n",
      " [0.00519195]\n",
      " [0.00519608]\n",
      " [0.00523373]\n",
      " [0.00520516]\n",
      " [0.00522566]\n",
      " [0.00526608]\n",
      " [0.00525152]\n",
      " [0.00525451]\n",
      " [0.00517197]\n",
      " [0.00517329]\n",
      " [0.00526521]\n",
      " [0.0053486 ]\n",
      " [0.00545367]\n",
      " [0.0054533 ]\n",
      " [0.00547062]\n",
      " [0.0055163 ]\n",
      " [0.00556758]\n",
      " [0.00565577]\n",
      " [0.00572361]\n",
      " [0.00573313]\n",
      " [0.00567909]\n",
      " [0.00572838]\n",
      " [0.00563842]\n",
      " [0.00545368]\n",
      " [0.00531846]\n",
      " [0.00517512]\n",
      " [0.00506368]\n",
      " [0.00503515]\n",
      " [0.00508317]\n",
      " [0.00510471]\n",
      " [0.00518577]\n",
      " [0.00525493]\n",
      " [0.00530795]\n",
      " [0.00536155]\n",
      " [0.0053879 ]\n",
      " [0.00541398]\n",
      " [0.00549954]\n",
      " [0.00541107]\n",
      " [0.00538927]\n",
      " [0.00554336]\n",
      " [0.00558355]\n",
      " [0.00564647]\n",
      " [0.00559469]\n",
      " [0.00538595]\n",
      " [0.00534239]\n",
      " [0.00530897]\n",
      " [0.00524845]\n",
      " [0.00526331]\n",
      " [0.00530893]\n",
      " [0.0053393 ]\n",
      " [0.00540482]\n",
      " [0.00552342]\n",
      " [0.00567818]\n",
      " [0.0058333 ]\n",
      " [0.00561151]\n",
      " [0.00550229]\n",
      " [0.00538003]\n",
      " [0.00533107]\n",
      " [0.00527151]\n",
      " [0.0051507 ]\n",
      " [0.00516228]\n",
      " [0.00521218]\n",
      " [0.00530514]\n",
      " [0.00539184]\n",
      " [0.00547321]\n",
      " [0.0056157 ]\n",
      " [0.00585718]\n",
      " [0.00607806]\n",
      " [0.00638818]\n",
      " [0.00620961]\n",
      " [0.00591576]\n",
      " [0.00585005]\n",
      " [0.00579897]\n",
      " [0.00578114]\n",
      " [0.00571735]\n",
      " [0.00577732]\n",
      " [0.00587198]\n",
      " [0.00589589]\n",
      " [0.00595128]\n",
      " [0.00579591]\n",
      " [0.00545702]\n",
      " [0.00527407]\n",
      " [0.0052142 ]\n",
      " [0.00513286]\n",
      " [0.00500114]\n",
      " [0.00499278]\n",
      " [0.00503642]\n",
      " [0.00506948]\n",
      " [0.00513068]\n",
      " [0.00524629]\n",
      " [0.00535992]\n",
      " [0.00542038]\n",
      " [0.0056006 ]\n",
      " [0.00563454]\n",
      " [0.00557304]\n",
      " [0.00564126]\n",
      " [0.00555327]\n",
      " [0.00545689]\n",
      " [0.00534287]\n",
      " [0.00519449]\n",
      " [0.00511952]\n",
      " [0.00513605]\n",
      " [0.00519693]\n",
      " [0.00525797]\n",
      " [0.00532551]\n",
      " [0.0052731 ]\n",
      " [0.00516262]\n",
      " [0.00510881]\n",
      " [0.00503355]\n",
      " [0.00502266]\n",
      " [0.00508312]\n",
      " [0.00514195]\n",
      " [0.00512435]\n",
      " [0.00511667]\n",
      " [0.00518178]\n",
      " [0.00520643]\n",
      " [0.00524774]\n",
      " [0.00531023]\n",
      " [0.00543477]\n",
      " [0.00566261]\n",
      " [0.00585699]\n",
      " [0.00615368]\n",
      " [0.00637984]]\n"
     ]
    }
   ],
   "source": [
    "time_start = time.perf_counter()\n",
    "predict = model.predict(I[:200], verbose=1)\n",
    "print(f\"Time elapse for prediction : {time.perf_counter() - time_start}\")\n",
    "print(predict)"
   ]
  }
 ],
 "metadata": {
  "kernelspec": {
   "display_name": "Python 3 (ipykernel)",
   "language": "python",
   "name": "python3"
  },
  "language_info": {
   "codemirror_mode": {
    "name": "ipython",
    "version": 3
   },
   "file_extension": ".py",
   "mimetype": "text/x-python",
   "name": "python",
   "nbconvert_exporter": "python",
   "pygments_lexer": "ipython3",
   "version": "3.9.13"
  }
 },
 "nbformat": 4,
 "nbformat_minor": 5
}
