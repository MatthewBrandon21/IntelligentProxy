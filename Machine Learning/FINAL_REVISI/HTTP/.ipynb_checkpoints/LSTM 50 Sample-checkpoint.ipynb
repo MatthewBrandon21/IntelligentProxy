{
 "cells": [
  {
   "cell_type": "code",
   "execution_count": 1,
   "id": "76fa329c",
   "metadata": {},
   "outputs": [],
   "source": [
    "import numpy as np\n",
    "import pandas as pd\n",
    "import matplotlib.pyplot as plt\n",
    "import seaborn as sns; sns.set()\n",
    "from keras.models import Sequential, load_model\n",
    "from keras.layers import Dense, LSTM, Bidirectional\n",
    "from keras.utils.np_utils import to_categorical\n",
    "from keras.utils import np_utils\n",
    "from keras.callbacks import ModelCheckpoint, EarlyStopping\n",
    "from sklearn.model_selection import train_test_split\n",
    "from sklearn.preprocessing import LabelEncoder, StandardScaler\n",
    "from sklearn.metrics import classification_report, confusion_matrix\n",
    "from sklearn.metrics import roc_auc_score\n",
    "import joblib\n",
    "\n",
    "import time\n",
    "from collections import Counter\n",
    "from imblearn.over_sampling import SMOTE\n",
    "from imblearn.under_sampling import RandomUnderSampler\n",
    "from imblearn.pipeline import Pipeline"
   ]
  },
  {
   "cell_type": "code",
   "execution_count": 2,
   "id": "d041644e",
   "metadata": {},
   "outputs": [],
   "source": [
    "data_normal_1 = pd.read_csv('dataset/timeseries/dataset_http_timeseries_normal_1.csv')\n",
    "data_normal_2 = pd.read_csv('dataset/timeseries/dataset_http_timeseries_normal_2.csv')\n",
    "\n",
    "data_attack_1 = pd.read_csv('dataset/timeseries/dataset_http_timeseries_attack_1.csv')\n",
    "data_attack_2 = pd.read_csv('dataset/timeseries/dataset_http_timeseries_attack_2.csv')"
   ]
  },
  {
   "cell_type": "code",
   "execution_count": 3,
   "id": "b0e9c85b",
   "metadata": {},
   "outputs": [],
   "source": [
    "data_normal_1.columns = ['no_thread', 'connection_time', 'r_bytes', 'port_src', 'status', 'url',\n",
    "       'timeout', 'label']\n",
    "data_normal_2.columns = ['no_thread', 'connection_time', 'r_bytes', 'port_src', 'status', 'url',\n",
    "       'timeout', 'label']\n",
    "\n",
    "data_attack_1.columns = ['no_thread', 'connection_time', 'r_bytes', 'port_src', 'status', 'url',\n",
    "       'timeout', 'label']\n",
    "data_attack_2.columns = ['no_thread', 'connection_time', 'r_bytes', 'port_src', 'status', 'url',\n",
    "       'timeout', 'label']"
   ]
  },
  {
   "cell_type": "code",
   "execution_count": 4,
   "id": "12aa93dc",
   "metadata": {},
   "outputs": [],
   "source": [
    "features = ['no_thread', 'connection_time', 'r_bytes', 'port_src', 'status', 'url', 'timeout']"
   ]
  },
  {
   "cell_type": "code",
   "execution_count": 5,
   "id": "c3caaf52",
   "metadata": {},
   "outputs": [],
   "source": [
    "X_normal_1 = data_normal_1[features].values\n",
    "X_normal_2 = data_normal_2[features].values\n",
    "\n",
    "X_attack_1 = data_attack_1[features].values\n",
    "X_attack_2 = data_attack_2[features].values\n",
    "\n",
    "Y_normal_1 = data_normal_1['label']\n",
    "Y_normal_2 = data_normal_2['label']\n",
    "\n",
    "Y_attack_1 = data_attack_1['label']\n",
    "Y_attack_2 = data_attack_2['label']\n",
    "\n",
    "X=np.concatenate((X_normal_1,X_normal_2,X_attack_1,X_attack_2))\n",
    "Y=np.concatenate((Y_normal_1,Y_normal_2,Y_attack_1,Y_attack_2))"
   ]
  },
  {
   "cell_type": "code",
   "execution_count": 6,
   "id": "a21297c9",
   "metadata": {},
   "outputs": [
    {
     "name": "stdout",
     "output_type": "stream",
     "text": [
      "Counter({1: 9370, 0: 1094})\n"
     ]
    }
   ],
   "source": [
    "data_counter = Counter(Y)\n",
    "print(data_counter)"
   ]
  },
  {
   "cell_type": "code",
   "execution_count": 7,
   "id": "741cc249",
   "metadata": {},
   "outputs": [],
   "source": [
    "over = SMOTE()\n",
    "under = RandomUnderSampler()\n",
    "steps = [('o', over), ('u', under)]\n",
    "pipeline = Pipeline(steps=steps)\n",
    "X, Y = pipeline.fit_resample(X, Y)"
   ]
  },
  {
   "cell_type": "code",
   "execution_count": 8,
   "id": "409135a7",
   "metadata": {},
   "outputs": [
    {
     "name": "stdout",
     "output_type": "stream",
     "text": [
      "Counter({0: 9370, 1: 9370})\n"
     ]
    }
   ],
   "source": [
    "data_counter = Counter(Y)\n",
    "print(data_counter)"
   ]
  },
  {
   "cell_type": "code",
   "execution_count": 9,
   "id": "08f5daf5",
   "metadata": {},
   "outputs": [],
   "source": [
    "scalar = StandardScaler(copy=True, with_mean=True, with_std=True)\n",
    "scalar.fit(X)\n",
    "X = scalar.transform(X)"
   ]
  },
  {
   "cell_type": "code",
   "execution_count": 10,
   "id": "03fb017a",
   "metadata": {},
   "outputs": [
    {
     "name": "stdout",
     "output_type": "stream",
     "text": [
      "(18740, 7)\n",
      "(18740,)\n"
     ]
    }
   ],
   "source": [
    "print(np.shape(X))\n",
    "print(np.shape(Y))"
   ]
  },
  {
   "cell_type": "code",
   "execution_count": 11,
   "id": "9b543209",
   "metadata": {},
   "outputs": [],
   "source": [
    "features = len(X[0])\n",
    "samples = X.shape[0]\n",
    "train_len = 50\n",
    "input_len = samples - train_len\n",
    "I = np.zeros((samples - train_len, train_len, features))"
   ]
  },
  {
   "cell_type": "code",
   "execution_count": 12,
   "id": "4a802d89",
   "metadata": {},
   "outputs": [],
   "source": [
    "for i in range(input_len):\n",
    "    temp = np.zeros((train_len, features))\n",
    "    for j in range(i, i + train_len - 1):\n",
    "        temp[j-i] = X[j]\n",
    "    I[i] = temp"
   ]
  },
  {
   "cell_type": "code",
   "execution_count": 13,
   "id": "7668c3b1",
   "metadata": {},
   "outputs": [
    {
     "name": "stdout",
     "output_type": "stream",
     "text": [
      "(18690, 50, 7)\n"
     ]
    }
   ],
   "source": [
    "print(I.shape)"
   ]
  },
  {
   "cell_type": "code",
   "execution_count": 14,
   "id": "fde8f9e5",
   "metadata": {},
   "outputs": [],
   "source": [
    "X_train, X_test, Y_train, Y_test = train_test_split(I, Y[50:], test_size = 0.2, stratify=Y[50:], random_state = 0)"
   ]
  },
  {
   "cell_type": "code",
   "execution_count": 15,
   "id": "a5c0d100",
   "metadata": {},
   "outputs": [],
   "source": [
    "def create_baseline():\n",
    "    model = Sequential()\n",
    "    model.add(Bidirectional(LSTM(64, activation='tanh', kernel_regularizer='l2')))\n",
    "    model.add(Dense(128, activation = 'relu', kernel_regularizer='l2'))\n",
    "    model.add(Dense(1, activation = 'sigmoid', kernel_regularizer='l2'))\n",
    "    model.compile(loss = 'binary_crossentropy', optimizer = 'adam', metrics = ['accuracy'])\n",
    "    return model"
   ]
  },
  {
   "cell_type": "code",
   "execution_count": 16,
   "id": "6c6a82e8",
   "metadata": {},
   "outputs": [],
   "source": [
    "model = create_baseline()"
   ]
  },
  {
   "cell_type": "code",
   "execution_count": 17,
   "id": "8b882f4d",
   "metadata": {},
   "outputs": [
    {
     "name": "stdout",
     "output_type": "stream",
     "text": [
      "WARNING:tensorflow:`period` argument is deprecated. Please use `save_freq` to specify the frequency in number of batches seen.\n"
     ]
    }
   ],
   "source": [
    "checkpoint = ModelCheckpoint(\"LSTMmodel.h5\", monitor='val_loss', verbose=1, save_best_only=True, save_weights_only=False, mode='auto', period=1)\n",
    "early = EarlyStopping(monitor='val_loss', min_delta=0, patience=5, verbose=1, mode='auto')"
   ]
  },
  {
   "cell_type": "code",
   "execution_count": 18,
   "id": "6397598b",
   "metadata": {},
   "outputs": [
    {
     "name": "stdout",
     "output_type": "stream",
     "text": [
      "Epoch 1/20\n",
      "374/374 [==============================] - ETA: 0s - loss: 0.2815 - accuracy: 0.9961\n",
      "Epoch 00001: val_loss improved from inf to 0.03562, saving model to LSTMmodel.h5\n",
      "374/374 [==============================] - 9s 15ms/step - loss: 0.2815 - accuracy: 0.9961 - val_loss: 0.0356 - val_accuracy: 0.9990\n",
      "Epoch 2/20\n",
      "372/374 [============================>.] - ETA: 0s - loss: 0.0292 - accuracy: 0.9995\n",
      "Epoch 00002: val_loss improved from 0.03562 to 0.03174, saving model to LSTMmodel.h5\n",
      "374/374 [==============================] - 5s 13ms/step - loss: 0.0292 - accuracy: 0.9995 - val_loss: 0.0317 - val_accuracy: 0.9990\n",
      "Epoch 3/20\n",
      "373/374 [============================>.] - ETA: 0s - loss: 0.0398 - accuracy: 0.9974\n",
      "Epoch 00003: val_loss did not improve from 0.03174\n",
      "374/374 [==============================] - 5s 13ms/step - loss: 0.0398 - accuracy: 0.9974 - val_loss: 0.0355 - val_accuracy: 0.9973\n",
      "Epoch 4/20\n",
      "370/374 [============================>.] - ETA: 0s - loss: 0.0428 - accuracy: 0.9955\n",
      "Epoch 00004: val_loss did not improve from 0.03174\n",
      "374/374 [==============================] - 4s 11ms/step - loss: 0.0427 - accuracy: 0.9956 - val_loss: 0.0417 - val_accuracy: 0.9977\n",
      "Epoch 5/20\n",
      "369/374 [============================>.] - ETA: 0s - loss: 0.0360 - accuracy: 0.9989\n",
      "Epoch 00005: val_loss did not improve from 0.03174\n",
      "374/374 [==============================] - 4s 11ms/step - loss: 0.0359 - accuracy: 0.9989 - val_loss: 0.0378 - val_accuracy: 0.9977\n",
      "Epoch 6/20\n",
      "372/374 [============================>.] - ETA: 0s - loss: 0.0308 - accuracy: 0.9992\n",
      "Epoch 00006: val_loss did not improve from 0.03174\n",
      "374/374 [==============================] - 4s 11ms/step - loss: 0.0308 - accuracy: 0.9992 - val_loss: 0.0322 - val_accuracy: 0.9977\n",
      "Epoch 7/20\n",
      "369/374 [============================>.] - ETA: 0s - loss: 0.0260 - accuracy: 0.9996\n",
      "Epoch 00007: val_loss improved from 0.03174 to 0.02751, saving model to LSTMmodel.h5\n",
      "374/374 [==============================] - 4s 11ms/step - loss: 0.0259 - accuracy: 0.9996 - val_loss: 0.0275 - val_accuracy: 0.9990\n",
      "Epoch 8/20\n",
      "373/374 [============================>.] - ETA: 0s - loss: 0.0222 - accuracy: 0.9998\n",
      "Epoch 00008: val_loss improved from 0.02751 to 0.02401, saving model to LSTMmodel.h5\n",
      "374/374 [==============================] - 4s 11ms/step - loss: 0.0222 - accuracy: 0.9998 - val_loss: 0.0240 - val_accuracy: 0.9993\n",
      "Epoch 9/20\n",
      "370/374 [============================>.] - ETA: 0s - loss: 0.0214 - accuracy: 0.9999\n",
      "Epoch 00009: val_loss improved from 0.02401 to 0.02397, saving model to LSTMmodel.h5\n",
      "374/374 [==============================] - 4s 11ms/step - loss: 0.0214 - accuracy: 0.9999 - val_loss: 0.0240 - val_accuracy: 0.9993\n",
      "Epoch 10/20\n",
      "372/374 [============================>.] - ETA: 0s - loss: 0.0197 - accuracy: 0.9999\n",
      "Epoch 00010: val_loss improved from 0.02397 to 0.02159, saving model to LSTMmodel.h5\n",
      "374/374 [==============================] - 4s 11ms/step - loss: 0.0197 - accuracy: 0.9999 - val_loss: 0.0216 - val_accuracy: 0.9993\n",
      "Epoch 11/20\n",
      "370/374 [============================>.] - ETA: 0s - loss: 0.0189 - accuracy: 0.9999\n",
      "Epoch 00011: val_loss did not improve from 0.02159\n",
      "374/374 [==============================] - 4s 11ms/step - loss: 0.0189 - accuracy: 0.9999 - val_loss: 0.0225 - val_accuracy: 0.9993\n",
      "Epoch 12/20\n",
      "370/374 [============================>.] - ETA: 0s - loss: 0.0183 - accuracy: 0.9999\n",
      "Epoch 00012: val_loss improved from 0.02159 to 0.02057, saving model to LSTMmodel.h5\n",
      "374/374 [==============================] - 4s 11ms/step - loss: 0.0183 - accuracy: 0.9999 - val_loss: 0.0206 - val_accuracy: 0.9993\n",
      "Epoch 13/20\n",
      "370/374 [============================>.] - ETA: 0s - loss: 0.0171 - accuracy: 0.9999\n",
      "Epoch 00013: val_loss improved from 0.02057 to 0.02004, saving model to LSTMmodel.h5\n",
      "374/374 [==============================] - 4s 11ms/step - loss: 0.0171 - accuracy: 0.9999 - val_loss: 0.0200 - val_accuracy: 0.9993\n",
      "Epoch 14/20\n",
      "373/374 [============================>.] - ETA: 0s - loss: 0.0168 - accuracy: 0.9999\n",
      "Epoch 00014: val_loss improved from 0.02004 to 0.01994, saving model to LSTMmodel.h5\n",
      "374/374 [==============================] - 4s 11ms/step - loss: 0.0168 - accuracy: 0.9999 - val_loss: 0.0199 - val_accuracy: 0.9993\n",
      "Epoch 15/20\n",
      "371/374 [============================>.] - ETA: 0s - loss: 0.1279 - accuracy: 0.9714\n",
      "Epoch 00015: val_loss did not improve from 0.01994\n",
      "374/374 [==============================] - 4s 11ms/step - loss: 0.1282 - accuracy: 0.9714 - val_loss: 0.1987 - val_accuracy: 0.9522\n",
      "Epoch 16/20\n",
      "371/374 [============================>.] - ETA: 0s - loss: 0.1799 - accuracy: 0.9577\n",
      "Epoch 00016: val_loss did not improve from 0.01994\n",
      "374/374 [==============================] - 4s 11ms/step - loss: 0.1801 - accuracy: 0.9577 - val_loss: 0.2044 - val_accuracy: 0.9488\n",
      "Epoch 17/20\n",
      "369/374 [============================>.] - ETA: 0s - loss: 0.1961 - accuracy: 0.9491\n",
      "Epoch 00017: val_loss did not improve from 0.01994\n",
      "374/374 [==============================] - 4s 11ms/step - loss: 0.1967 - accuracy: 0.9489 - val_loss: 0.2281 - val_accuracy: 0.9321\n",
      "Epoch 18/20\n",
      "372/374 [============================>.] - ETA: 0s - loss: 0.2469 - accuracy: 0.9238\n",
      "Epoch 00018: val_loss did not improve from 0.01994\n",
      "374/374 [==============================] - 4s 11ms/step - loss: 0.2464 - accuracy: 0.9241 - val_loss: 0.2908 - val_accuracy: 0.9007\n",
      "Epoch 19/20\n",
      "371/374 [============================>.] - ETA: 0s - loss: 0.3198 - accuracy: 0.8830\n",
      "Epoch 00019: val_loss did not improve from 0.01994\n",
      "374/374 [==============================] - 4s 11ms/step - loss: 0.3198 - accuracy: 0.8830 - val_loss: 0.3388 - val_accuracy: 0.8750\n",
      "Epoch 00019: early stopping\n"
     ]
    }
   ],
   "source": [
    "history = model.fit(X_train, Y_train, epochs = 20,validation_split=0.2, verbose = 1, callbacks=[checkpoint,early])"
   ]
  },
  {
   "cell_type": "code",
   "execution_count": 19,
   "id": "c295f029",
   "metadata": {},
   "outputs": [
    {
     "data": {
      "image/png": "[encoded data removed]",
      "text/plain": [
       "<Figure size 640x480 with 1 Axes>"
      ]
     },
     "metadata": {},
     "output_type": "display_data"
    }
   ],
   "source": [
    "# Plot training & validation accuracy values\n",
    "plt.plot(history.history['accuracy'])\n",
    "plt.plot(history.history['val_accuracy'])\n",
    "plt.title('BRNN Model Accuracy')\n",
    "plt.ylabel('Accuracy')\n",
    "plt.xlabel('Epoch')\n",
    "plt.legend(['Train', 'Test'], loc='lower right')\n",
    "plt.savefig('BRNN 500 Model Accuracy.png')\n",
    "plt.show()"
   ]
  },
  {
   "cell_type": "code",
   "execution_count": 20,
   "id": "efdefc2c",
   "metadata": {},
   "outputs": [
    {
     "data": {
      "image/png": "[encoded data removed]",
      "text/plain": [
       "<Figure size 640x480 with 1 Axes>"
      ]
     },
     "metadata": {},
     "output_type": "display_data"
    }
   ],
   "source": [
    "# Plot training & validation loss values\n",
    "plt.plot(history.history['loss'])\n",
    "plt.plot(history.history['val_loss'])\n",
    "plt.title('BRNN Model  Loss')\n",
    "plt.ylabel('Loss')\n",
    "plt.xlabel('Epoch')\n",
    "plt.legend(['Train', 'Test'], loc='upper left')\n",
    "plt.savefig('BRNN 50 Model Loss.png')\n",
    "plt.show()"
   ]
  },
  {
   "cell_type": "code",
   "execution_count": 21,
   "id": "a36fcb82",
   "metadata": {},
   "outputs": [
    {
     "name": "stdout",
     "output_type": "stream",
     "text": [
      "117/117 [==============================] - 1s 4ms/step\n"
     ]
    }
   ],
   "source": [
    "predict = model.predict(X_test, verbose=1)"
   ]
  },
  {
   "cell_type": "code",
   "execution_count": 22,
   "id": "51cbd9f6",
   "metadata": {},
   "outputs": [
    {
     "data": {
      "image/png": "[encoded data removed]",
      "text/plain": [
       "<Figure size 640x480 with 2 Axes>"
      ]
     },
     "metadata": {},
     "output_type": "display_data"
    }
   ],
   "source": [
    "tp = 0\n",
    "tn = 0\n",
    "fp = 0\n",
    "fn = 0\n",
    "predictn = predict.flatten().round()\n",
    "predictn = predictn.tolist()\n",
    "Y_testn = Y_test.tolist()\n",
    "for i in range(len(Y_testn)):\n",
    "  if predictn[i]==1 and Y_testn[i]==1:\n",
    "    tp+=1\n",
    "  elif predictn[i]==0 and Y_testn[i]==0:\n",
    "    tn+=1\n",
    "  elif predictn[i]==0 and Y_testn[i]==1:\n",
    "    fp+=1\n",
    "  elif predictn[i]==1 and Y_testn[i]==0:\n",
    "    fn+=1\n",
    "to_heat_map =[[tn,fp],[fn,tp]]\n",
    "to_heat_map = pd.DataFrame(to_heat_map, index = [\"Attack\",\"Normal\"],columns = [\"Attack\",\"Normal\"])\n",
    "ax = sns.heatmap(to_heat_map,annot=True, fmt=\"d\")"
   ]
  },
  {
   "cell_type": "code",
   "execution_count": 23,
   "id": "5477b51f",
   "metadata": {},
   "outputs": [],
   "source": [
    "figure = ax.get_figure()\n",
    "figure.savefig('confusion_matrix_BRNN_50.png', dpi=400)"
   ]
  },
  {
   "cell_type": "code",
   "execution_count": 24,
   "id": "42ecc926",
   "metadata": {},
   "outputs": [
    {
     "data": {
      "text/plain": [
       "['scaler_50.save']"
      ]
     },
     "execution_count": 24,
     "metadata": {},
     "output_type": "execute_result"
    }
   ],
   "source": [
    "model.save('brnn_model_50_step.h5')\n",
    "joblib.dump(scalar, 'scaler_50.save')"
   ]
  },
  {
   "cell_type": "code",
   "execution_count": 25,
   "id": "2a938888",
   "metadata": {},
   "outputs": [
    {
     "name": "stdout",
     "output_type": "stream",
     "text": [
      "accuracy: 88.31%\n"
     ]
    }
   ],
   "source": [
    "scores = model.evaluate(X_test, Y_test, verbose=0)\n",
    "print(\"%s: %.2f%%\" % (model.metrics_names[1], scores[1]*100))"
   ]
  },
  {
   "cell_type": "code",
   "execution_count": 26,
   "id": "c172e338",
   "metadata": {},
   "outputs": [
    {
     "name": "stdout",
     "output_type": "stream",
     "text": [
      "              precision    recall  f1-score   support\n",
      "\n",
      "           0       0.81      1.00      0.90      1864\n",
      "           1       1.00      0.77      0.87      1874\n",
      "\n",
      "    accuracy                           0.88      3738\n",
      "   macro avg       0.91      0.88      0.88      3738\n",
      "weighted avg       0.91      0.88      0.88      3738\n",
      "\n"
     ]
    }
   ],
   "source": [
    "print(classification_report(Y_testn,predictn))"
   ]
  },
  {
   "cell_type": "code",
   "execution_count": 27,
   "id": "d9db1966",
   "metadata": {},
   "outputs": [
    {
     "name": "stdout",
     "output_type": "stream",
     "text": [
      "SVM: ROC AUC=0.883\n"
     ]
    }
   ],
   "source": [
    "lr_auc = roc_auc_score(Y_testn, predictn)\n",
    "print('SVM: ROC AUC=%.3f' % (lr_auc))"
   ]
  },
  {
   "cell_type": "code",
   "execution_count": 28,
   "id": "9b4c4183",
   "metadata": {},
   "outputs": [
    {
     "name": "stdout",
     "output_type": "stream",
     "text": [
      "2/2 [==============================] - 0s 6ms/step\n",
      "Time elapse for prediction : 0.038320899999988\n",
      "[[0.13150512]\n",
      " [0.13192765]\n",
      " [0.1317038 ]\n",
      " [0.13142307]\n",
      " [0.13193813]\n",
      " [0.13174662]\n",
      " [0.13175331]\n",
      " [0.13159922]\n",
      " [0.13115741]\n",
      " [0.13170189]\n",
      " [0.13189778]\n",
      " [0.13115446]\n",
      " [0.13172498]\n",
      " [0.13158208]\n",
      " [0.13180189]\n",
      " [0.13187125]\n",
      " [0.13168897]\n",
      " [0.13178328]\n",
      " [0.1316175 ]\n",
      " [0.13174552]\n",
      " [0.1317615 ]\n",
      " [0.13120152]\n",
      " [0.13186744]\n",
      " [0.13166915]\n",
      " [0.13170356]\n",
      " [0.13154683]\n",
      " [0.13147502]\n",
      " [0.13121788]\n",
      " [0.13179128]\n",
      " [0.13164574]\n",
      " [0.1316649 ]\n",
      " [0.13163598]\n",
      " [0.13123925]\n",
      " [0.1318139 ]\n",
      " [0.13166107]\n",
      " [0.13167103]\n",
      " [0.13140684]\n",
      " [0.13177383]\n",
      " [0.13171339]\n",
      " [0.13182652]\n",
      " [0.13161513]\n",
      " [0.13176942]\n",
      " [0.1317187 ]\n",
      " [0.13145049]\n",
      " [0.13170905]\n",
      " [0.1319116 ]\n",
      " [0.13142762]\n",
      " [0.13187177]\n",
      " [0.1313901 ]\n",
      " [0.1316846 ]]\n"
     ]
    }
   ],
   "source": [
    "time_start = time.perf_counter()\n",
    "predict = model.predict(I[:50], verbose=1)\n",
    "print(f\"Time elapse for prediction : {time.perf_counter() - time_start}\")\n",
    "print(predict)"
   ]
  },
  {
   "cell_type": "code",
   "execution_count": 29,
   "id": "8a3995ec",
   "metadata": {},
   "outputs": [
    {
     "name": "stdout",
     "output_type": "stream",
     "text": [
      "Model: \"sequential\"\n",
      "_________________________________________________________________\n",
      " Layer (type)                Output Shape              Param #   \n",
      "=================================================================\n",
      " bidirectional (Bidirectiona  (None, 128)              36864     \n",
      " l)                                                              \n",
      "                                                                 \n",
      " dense (Dense)               (None, 128)               16512     \n",
      "                                                                 \n",
      " dense_1 (Dense)             (None, 1)                 129       \n",
      "                                                                 \n",
      "=================================================================\n",
      "Total params: 53,505\n",
      "Trainable params: 53,505\n",
      "Non-trainable params: 0\n",
      "_________________________________________________________________\n"
     ]
    }
   ],
   "source": [
    "model.summary()"
   ]
  }
 ],
 "metadata": {
  "kernelspec": {
   "display_name": "Python 3 (ipykernel)",
   "language": "python",
   "name": "python3"
  },
  "language_info": {
   "codemirror_mode": {
    "name": "ipython",
    "version": 3
   },
   "file_extension": ".py",
   "mimetype": "text/x-python",
   "name": "python",
   "nbconvert_exporter": "python",
   "pygments_lexer": "ipython3",
   "version": "3.9.13"
  }
 },
 "nbformat": 4,
 "nbformat_minor": 5
}
