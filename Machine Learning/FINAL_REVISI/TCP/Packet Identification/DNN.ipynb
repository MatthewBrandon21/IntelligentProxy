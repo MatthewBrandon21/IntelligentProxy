{
 "cells": [
  {
   "cell_type": "code",
   "execution_count": 1,
   "id": "9f780517",
   "metadata": {},
   "outputs": [],
   "source": [
    "import numpy as np\n",
    "import pandas as pd\n",
    "from matplotlib import pyplot as plt\n",
    "import seaborn as sns; sns.set()\n",
    "from keras.layers import Dense, Dropout\n",
    "from keras.models import Sequential\n",
    "from keras.models import load_model\n",
    "from keras.callbacks import ModelCheckpoint, EarlyStopping\n",
    "from tensorflow.keras.utils import to_categorical\n",
    "from sklearn.model_selection import train_test_split\n",
    "from sklearn.preprocessing import LabelEncoder, StandardScaler\n",
    "from sklearn.metrics import classification_report, confusion_matrix\n",
    "from sklearn.metrics import roc_auc_score\n",
    "import joblib\n",
    "import time\n",
    "from collections import Counter\n",
    "from imblearn.over_sampling import SMOTE\n",
    "from imblearn.under_sampling import RandomUnderSampler\n",
    "from imblearn.pipeline import Pipeline"
   ]
  },
  {
   "cell_type": "code",
   "execution_count": 2,
   "id": "953718a8",
   "metadata": {},
   "outputs": [],
   "source": [
    "def StringToBytes(data):\n",
    "    sum = 0\n",
    "    arrbytes = bytes(data, 'utf-8')\n",
    "    for i in arrbytes:\n",
    "        sum = sum + i\n",
    "    return(sum)"
   ]
  },
  {
   "cell_type": "code",
   "execution_count": 3,
   "id": "5c265d83",
   "metadata": {},
   "outputs": [],
   "source": [
    "features, labels = [], []\n",
    "training_files = [\"dataset.csv\"]"
   ]
  },
  {
   "cell_type": "code",
   "execution_count": 4,
   "id": "33a79058",
   "metadata": {},
   "outputs": [],
   "source": [
    "def scrape_data():\n",
    "    global training_files\n",
    "    global features\n",
    "    global labels\n",
    "    \n",
    "    for fname in training_files:\n",
    "        meal = open(fname, \"rt\")\n",
    "        for line in meal:\n",
    "            data_list = line.rsplit(\",\")\n",
    "            if(len(data_list) != 11):\n",
    "                print(\"error data\")\n",
    "            else:\n",
    "                data_list[5] = StringToBytes(data_list[5])\n",
    "                data_list[(len(data_list)-1)]=int(data_list[(len(data_list)-1)].replace('\\n', ''))\n",
    "                features.append(data_list[:(len(data_list)-1)])\n",
    "                labels.append(data_list[(len(data_list)-1)])\n",
    "        meal.close()\n",
    "    \n",
    "    data_counter = Counter(labels)\n",
    "    print(data_counter)\n",
    "    \n",
    "    over = SMOTE()\n",
    "    under = RandomUnderSampler()\n",
    "    steps = [('o', over), ('u', under)]\n",
    "    pipeline = Pipeline(steps=steps)\n",
    "    features, labels = pipeline.fit_resample(features, labels)\n",
    "    \n",
    "    data_counter = Counter(labels)\n",
    "    print(data_counter)\n",
    "    \n",
    "    scalar = StandardScaler(copy=True, with_mean=True, with_std=True)\n",
    "    scalar.fit(features)\n",
    "    features = scalar.transform(features)\n",
    "    \n",
    "    features = np.array(features).astype(np.float64)\n",
    "    features = features.tolist()\n",
    "    \n",
    "    print(f\"Size of feature dataset : {len(features)}\")\n",
    "    print(f\"Size of feature dataset : {len(labels)}\")\n",
    "    print(\"Features first and last entries:\\n\\t\", end = \"\")\n",
    "    print(features[:1] + features[(len(features)-1):])\n",
    "    print(\"Labels first and last entries:\\n\\t\", end = \"\")\n",
    "    print(labels[:1] + labels[(len(features)-1):])\n",
    "    \n",
    "    features_train, features_test, labels_train, labels_test = train_test_split(features, labels, test_size = 0.20, stratify=labels, random_state = 0)\n",
    "    \n",
    "    return np.asarray(features_train), np.asarray(labels_train), np.asarray(features_test), np.asarray(labels_test)"
   ]
  },
  {
   "cell_type": "code",
   "execution_count": 5,
   "id": "9b84bae1",
   "metadata": {},
   "outputs": [],
   "source": [
    "def generate_model(shape):\n",
    "    model = Sequential()\n",
    "\n",
    "    model.add(Dense(256, input_dim=shape, kernel_initializer='uniform', activation='relu'))\n",
    "    model.add(Dropout(0.4))\n",
    "    model.add(Dense(128, activation='relu'))\n",
    "    model.add(Dropout(0.4))\n",
    "    model.add(Dense(64, activation='relu'))\n",
    "    model.add(Dropout(0.4))\n",
    "    model.add(Dense(32, activation='relu'))\n",
    "    model.add(Dropout(0.4))\n",
    "    model.add(Dense(1, activation='sigmoid'))\n",
    "    print(model.summary())\n",
    "\n",
    "    return model"
   ]
  },
  {
   "cell_type": "code",
   "execution_count": 6,
   "id": "d6ef0b01",
   "metadata": {},
   "outputs": [
    {
     "name": "stdout",
     "output_type": "stream",
     "text": [
      "Counter({1: 200, 0: 200})\n",
      "Counter({0: 200, 1: 200})\n",
      "Size of feature dataset : 400\n",
      "Size of feature dataset : 400\n",
      "Features first and last entries:\n",
      "\t[[1.2020732429622507, 1.9718164478689237, -1.3991426654229087, 2.001928488600989, 0.0, 0.009644010863377905, 4.2482484026984935, -0.08706111741417988, 0.0, 0.1582360538943416], [-0.9817861331469772, -0.7166707859307148, 0.10884745742338835, -0.9595041868442611, 0.0, 0.009644010863377905, -0.23506029427228314, -1.4313485990113997, 0.0, -0.3972217921586348]]\n",
      "Labels first and last entries:\n",
      "\t[0, 1]\n"
     ]
    },
    {
     "name": "stderr",
     "output_type": "stream",
     "text": [
      "C:\\Users\\H P VICTUS\\anaconda3\\lib\\site-packages\\sklearn\\utils\\validation.py:964: FutureWarning: Arrays of bytes/strings is being converted to decimal numbers if dtype='numeric'. This behavior is deprecated in 0.24 and will be removed in 1.1 (renaming of 0.26). Please convert your data to numeric values explicitly instead.\n",
      "  X = check_array(\n"
     ]
    }
   ],
   "source": [
    "data_train, label_train, data_eval, label_eval = scrape_data()"
   ]
  },
  {
   "cell_type": "code",
   "execution_count": 7,
   "id": "89771801",
   "metadata": {},
   "outputs": [
    {
     "name": "stdout",
     "output_type": "stream",
     "text": [
      "Model: \"sequential\"\n",
      "_________________________________________________________________\n",
      " Layer (type)                Output Shape              Param #   \n",
      "=================================================================\n",
      " dense (Dense)               (None, 256)               2816      \n",
      "                                                                 \n",
      " dropout (Dropout)           (None, 256)               0         \n",
      "                                                                 \n",
      " dense_1 (Dense)             (None, 128)               32896     \n",
      "                                                                 \n",
      " dropout_1 (Dropout)         (None, 128)               0         \n",
      "                                                                 \n",
      " dense_2 (Dense)             (None, 64)                8256      \n",
      "                                                                 \n",
      " dropout_2 (Dropout)         (None, 64)                0         \n",
      "                                                                 \n",
      " dense_3 (Dense)             (None, 32)                2080      \n",
      "                                                                 \n",
      " dropout_3 (Dropout)         (None, 32)                0         \n",
      "                                                                 \n",
      " dense_4 (Dense)             (None, 1)                 33        \n",
      "                                                                 \n",
      "=================================================================\n",
      "Total params: 46,081\n",
      "Trainable params: 46,081\n",
      "Non-trainable params: 0\n",
      "_________________________________________________________________\n",
      "None\n"
     ]
    }
   ],
   "source": [
    "model = generate_model(len(data_train[0]))"
   ]
  },
  {
   "cell_type": "code",
   "execution_count": 8,
   "id": "071ae79f",
   "metadata": {},
   "outputs": [
    {
     "name": "stdout",
     "output_type": "stream",
     "text": [
      "Model: \"sequential\"\n",
      "_________________________________________________________________\n",
      " Layer (type)                Output Shape              Param #   \n",
      "=================================================================\n",
      " dense (Dense)               (None, 256)               2816      \n",
      "                                                                 \n",
      " dropout (Dropout)           (None, 256)               0         \n",
      "                                                                 \n",
      " dense_1 (Dense)             (None, 128)               32896     \n",
      "                                                                 \n",
      " dropout_1 (Dropout)         (None, 128)               0         \n",
      "                                                                 \n",
      " dense_2 (Dense)             (None, 64)                8256      \n",
      "                                                                 \n",
      " dropout_2 (Dropout)         (None, 64)                0         \n",
      "                                                                 \n",
      " dense_3 (Dense)             (None, 32)                2080      \n",
      "                                                                 \n",
      " dropout_3 (Dropout)         (None, 32)                0         \n",
      "                                                                 \n",
      " dense_4 (Dense)             (None, 1)                 33        \n",
      "                                                                 \n",
      "=================================================================\n",
      "Total params: 46,081\n",
      "Trainable params: 46,081\n",
      "Non-trainable params: 0\n",
      "_________________________________________________________________\n"
     ]
    }
   ],
   "source": [
    "model.summary()"
   ]
  },
  {
   "cell_type": "code",
   "execution_count": 9,
   "id": "5e5b8b02",
   "metadata": {},
   "outputs": [],
   "source": [
    "model.compile(loss='binary_crossentropy', optimizer='adam', metrics=['accuracy'])"
   ]
  },
  {
   "cell_type": "code",
   "execution_count": 10,
   "id": "6c798507",
   "metadata": {},
   "outputs": [
    {
     "name": "stdout",
     "output_type": "stream",
     "text": [
      "WARNING:tensorflow:`period` argument is deprecated. Please use `save_freq` to specify the frequency in number of batches seen.\n"
     ]
    }
   ],
   "source": [
    "checkpoint = ModelCheckpoint(\"dnnModel.h5\", monitor='val_loss', verbose=1, save_best_only=True, save_weights_only=False, mode='auto', period=1)\n",
    "early = EarlyStopping(monitor='val_loss', min_delta=0, patience=30, verbose=1, mode='auto')"
   ]
  },
  {
   "cell_type": "code",
   "execution_count": 11,
   "id": "a7def03b",
   "metadata": {},
   "outputs": [
    {
     "name": "stdout",
     "output_type": "stream",
     "text": [
      "Epoch 1/100\n",
      "1/8 [==>...........................] - ETA: 5s - loss: 0.6869 - accuracy: 0.5312\n",
      "Epoch 00001: val_loss improved from inf to 0.61396, saving model to dnnModel.h5\n",
      "8/8 [==============================] - 1s 20ms/step - loss: 0.6689 - accuracy: 0.6094 - val_loss: 0.6140 - val_accuracy: 1.0000\n",
      "Epoch 2/100\n",
      "1/8 [==>...........................] - ETA: 0s - loss: 0.6139 - accuracy: 0.8125\n",
      "Epoch 00002: val_loss improved from 0.61396 to 0.47881, saving model to dnnModel.h5\n",
      "8/8 [==============================] - 0s 10ms/step - loss: 0.5823 - accuracy: 0.8281 - val_loss: 0.4788 - val_accuracy: 1.0000\n",
      "Epoch 3/100\n",
      "1/8 [==>...........................] - ETA: 0s - loss: 0.5139 - accuracy: 0.8750\n",
      "Epoch 00003: val_loss improved from 0.47881 to 0.27608, saving model to dnnModel.h5\n",
      "8/8 [==============================] - 0s 9ms/step - loss: 0.4367 - accuracy: 0.9609 - val_loss: 0.2761 - val_accuracy: 1.0000\n",
      "Epoch 4/100\n",
      "1/8 [==>...........................] - ETA: 0s - loss: 0.3573 - accuracy: 0.9688\n",
      "Epoch 00004: val_loss improved from 0.27608 to 0.10751, saving model to dnnModel.h5\n",
      "8/8 [==============================] - 0s 9ms/step - loss: 0.2521 - accuracy: 0.9922 - val_loss: 0.1075 - val_accuracy: 1.0000\n",
      "Epoch 5/100\n",
      "1/8 [==>...........................] - ETA: 0s - loss: 0.1222 - accuracy: 1.0000\n",
      "Epoch 00005: val_loss improved from 0.10751 to 0.02175, saving model to dnnModel.h5\n",
      "8/8 [==============================] - 0s 9ms/step - loss: 0.1072 - accuracy: 1.0000 - val_loss: 0.0218 - val_accuracy: 1.0000\n",
      "Epoch 6/100\n",
      "1/8 [==>...........................] - ETA: 0s - loss: 0.0431 - accuracy: 1.0000\n",
      "Epoch 00006: val_loss improved from 0.02175 to 0.00282, saving model to dnnModel.h5\n",
      "8/8 [==============================] - 0s 9ms/step - loss: 0.0359 - accuracy: 1.0000 - val_loss: 0.0028 - val_accuracy: 1.0000\n",
      "Epoch 7/100\n",
      "1/8 [==>...........................] - ETA: 0s - loss: 0.0185 - accuracy: 1.0000\n",
      "Epoch 00007: val_loss improved from 0.00282 to 0.00056, saving model to dnnModel.h5\n",
      "8/8 [==============================] - 0s 8ms/step - loss: 0.0148 - accuracy: 1.0000 - val_loss: 5.6107e-04 - val_accuracy: 1.0000\n",
      "Epoch 8/100\n",
      "1/8 [==>...........................] - ETA: 0s - loss: 0.0117 - accuracy: 1.0000\n",
      "Epoch 00008: val_loss improved from 0.00056 to 0.00020, saving model to dnnModel.h5\n",
      "8/8 [==============================] - 0s 8ms/step - loss: 0.0065 - accuracy: 1.0000 - val_loss: 2.0007e-04 - val_accuracy: 1.0000\n",
      "Epoch 9/100\n",
      "1/8 [==>...........................] - ETA: 0s - loss: 9.2799e-04 - accuracy: 1.0000\n",
      "Epoch 00009: val_loss improved from 0.00020 to 0.00010, saving model to dnnModel.h5\n",
      "8/8 [==============================] - 0s 10ms/step - loss: 0.0046 - accuracy: 1.0000 - val_loss: 1.0380e-04 - val_accuracy: 1.0000\n",
      "Epoch 10/100\n",
      "1/8 [==>...........................] - ETA: 0s - loss: 0.0064 - accuracy: 1.0000\n",
      "Epoch 00010: val_loss improved from 0.00010 to 0.00006, saving model to dnnModel.h5\n",
      "8/8 [==============================] - 0s 9ms/step - loss: 0.0063 - accuracy: 1.0000 - val_loss: 6.3525e-05 - val_accuracy: 1.0000\n",
      "Epoch 11/100\n",
      "1/8 [==>...........................] - ETA: 0s - loss: 0.0060 - accuracy: 1.0000\n",
      "Epoch 00011: val_loss improved from 0.00006 to 0.00004, saving model to dnnModel.h5\n",
      "8/8 [==============================] - 0s 8ms/step - loss: 0.0024 - accuracy: 1.0000 - val_loss: 4.3786e-05 - val_accuracy: 1.0000\n",
      "Epoch 12/100\n",
      "1/8 [==>...........................] - ETA: 0s - loss: 0.0023 - accuracy: 1.0000\n",
      "Epoch 00012: val_loss improved from 0.00004 to 0.00003, saving model to dnnModel.h5\n",
      "8/8 [==============================] - 0s 7ms/step - loss: 0.0025 - accuracy: 1.0000 - val_loss: 3.2474e-05 - val_accuracy: 1.0000\n",
      "Epoch 13/100\n",
      "1/8 [==>...........................] - ETA: 0s - loss: 6.2938e-04 - accuracy: 1.0000\n",
      "Epoch 00013: val_loss improved from 0.00003 to 0.00003, saving model to dnnModel.h5\n",
      "8/8 [==============================] - 0s 8ms/step - loss: 0.0011 - accuracy: 1.0000 - val_loss: 2.5134e-05 - val_accuracy: 1.0000\n",
      "Epoch 14/100\n",
      "1/8 [==>...........................] - ETA: 0s - loss: 0.0015 - accuracy: 1.0000\n",
      "Epoch 00014: val_loss improved from 0.00003 to 0.00002, saving model to dnnModel.h5\n",
      "8/8 [==============================] - 0s 9ms/step - loss: 0.0016 - accuracy: 1.0000 - val_loss: 1.9787e-05 - val_accuracy: 1.0000\n",
      "Epoch 15/100\n",
      "1/8 [==>...........................] - ETA: 0s - loss: 5.1707e-04 - accuracy: 1.0000\n",
      "Epoch 00015: val_loss improved from 0.00002 to 0.00002, saving model to dnnModel.h5\n",
      "8/8 [==============================] - 0s 7ms/step - loss: 0.0011 - accuracy: 1.0000 - val_loss: 1.5604e-05 - val_accuracy: 1.0000\n",
      "Epoch 16/100\n",
      "1/8 [==>...........................] - ETA: 0s - loss: 0.0053 - accuracy: 1.0000\n",
      "Epoch 00016: val_loss improved from 0.00002 to 0.00001, saving model to dnnModel.h5\n",
      "8/8 [==============================] - 0s 9ms/step - loss: 0.0018 - accuracy: 1.0000 - val_loss: 1.2763e-05 - val_accuracy: 1.0000\n",
      "Epoch 17/100\n",
      "1/8 [==>...........................] - ETA: 0s - loss: 1.6615e-04 - accuracy: 1.0000\n",
      "Epoch 00017: val_loss improved from 0.00001 to 0.00001, saving model to dnnModel.h5\n",
      "8/8 [==============================] - 0s 9ms/step - loss: 0.0011 - accuracy: 1.0000 - val_loss: 1.0610e-05 - val_accuracy: 1.0000\n",
      "Epoch 18/100\n",
      "1/8 [==>...........................] - ETA: 0s - loss: 0.0014 - accuracy: 1.0000\n",
      "Epoch 00018: val_loss improved from 0.00001 to 0.00001, saving model to dnnModel.h5\n",
      "8/8 [==============================] - 0s 9ms/step - loss: 0.0015 - accuracy: 1.0000 - val_loss: 8.4481e-06 - val_accuracy: 1.0000\n",
      "Epoch 19/100\n",
      "1/8 [==>...........................] - ETA: 0s - loss: 0.0011 - accuracy: 1.0000\n",
      "Epoch 00019: val_loss improved from 0.00001 to 0.00001, saving model to dnnModel.h5\n",
      "8/8 [==============================] - 0s 9ms/step - loss: 0.0028 - accuracy: 1.0000 - val_loss: 6.9552e-06 - val_accuracy: 1.0000\n",
      "Epoch 20/100\n",
      "1/8 [==>...........................] - ETA: 0s - loss: 0.0022 - accuracy: 1.0000\n",
      "Epoch 00020: val_loss improved from 0.00001 to 0.00001, saving model to dnnModel.h5\n",
      "8/8 [==============================] - 0s 8ms/step - loss: 7.7485e-04 - accuracy: 1.0000 - val_loss: 5.9986e-06 - val_accuracy: 1.0000\n",
      "Epoch 21/100\n",
      "1/8 [==>...........................] - ETA: 0s - loss: 1.9089e-04 - accuracy: 1.0000\n",
      "Epoch 00021: val_loss improved from 0.00001 to 0.00001, saving model to dnnModel.h5\n",
      "8/8 [==============================] - 0s 8ms/step - loss: 3.5953e-04 - accuracy: 1.0000 - val_loss: 5.3014e-06 - val_accuracy: 1.0000\n",
      "Epoch 22/100\n",
      "1/8 [==>...........................] - ETA: 0s - loss: 6.3540e-04 - accuracy: 1.0000\n",
      "Epoch 00022: val_loss improved from 0.00001 to 0.00000, saving model to dnnModel.h5\n",
      "8/8 [==============================] - 0s 7ms/step - loss: 9.4081e-04 - accuracy: 1.0000 - val_loss: 4.5556e-06 - val_accuracy: 1.0000\n",
      "Epoch 23/100\n",
      "1/8 [==>...........................] - ETA: 0s - loss: 8.6876e-05 - accuracy: 1.0000\n",
      "Epoch 00023: val_loss improved from 0.00000 to 0.00000, saving model to dnnModel.h5\n",
      "8/8 [==============================] - 0s 8ms/step - loss: 2.9937e-04 - accuracy: 1.0000 - val_loss: 3.8748e-06 - val_accuracy: 1.0000\n",
      "Epoch 24/100\n",
      "1/8 [==>...........................] - ETA: 0s - loss: 9.2113e-04 - accuracy: 1.0000\n",
      "Epoch 00024: val_loss improved from 0.00000 to 0.00000, saving model to dnnModel.h5\n",
      "8/8 [==============================] - 0s 9ms/step - loss: 5.9028e-04 - accuracy: 1.0000 - val_loss: 3.2377e-06 - val_accuracy: 1.0000\n",
      "Epoch 25/100\n",
      "1/8 [==>...........................] - ETA: 0s - loss: 0.0015 - accuracy: 1.0000\n",
      "Epoch 00025: val_loss improved from 0.00000 to 0.00000, saving model to dnnModel.h5\n",
      "8/8 [==============================] - 0s 8ms/step - loss: 5.6810e-04 - accuracy: 1.0000 - val_loss: 2.7191e-06 - val_accuracy: 1.0000\n",
      "Epoch 26/100\n",
      "1/8 [==>...........................] - ETA: 0s - loss: 2.1552e-04 - accuracy: 1.0000\n",
      "Epoch 00026: val_loss improved from 0.00000 to 0.00000, saving model to dnnModel.h5\n",
      "8/8 [==============================] - 0s 8ms/step - loss: 7.1985e-04 - accuracy: 1.0000 - val_loss: 2.1680e-06 - val_accuracy: 1.0000\n",
      "Epoch 27/100\n",
      "1/8 [==>...........................] - ETA: 0s - loss: 0.0028 - accuracy: 1.0000\n",
      "Epoch 00027: val_loss improved from 0.00000 to 0.00000, saving model to dnnModel.h5\n",
      "8/8 [==============================] - 0s 8ms/step - loss: 6.8943e-04 - accuracy: 1.0000 - val_loss: 1.8165e-06 - val_accuracy: 1.0000\n"
     ]
    },
    {
     "name": "stdout",
     "output_type": "stream",
     "text": [
      "Epoch 28/100\n",
      "1/8 [==>...........................] - ETA: 0s - loss: 2.8489e-06 - accuracy: 1.0000\n",
      "Epoch 00028: val_loss improved from 0.00000 to 0.00000, saving model to dnnModel.h5\n",
      "8/8 [==============================] - 0s 9ms/step - loss: 4.3623e-04 - accuracy: 1.0000 - val_loss: 1.5772e-06 - val_accuracy: 1.0000\n",
      "Epoch 29/100\n",
      "1/8 [==>...........................] - ETA: 0s - loss: 7.6947e-05 - accuracy: 1.0000\n",
      "Epoch 00029: val_loss improved from 0.00000 to 0.00000, saving model to dnnModel.h5\n",
      "8/8 [==============================] - 0s 9ms/step - loss: 1.3593e-04 - accuracy: 1.0000 - val_loss: 1.3852e-06 - val_accuracy: 1.0000\n",
      "Epoch 30/100\n",
      "1/8 [==>...........................] - ETA: 0s - loss: 6.5302e-05 - accuracy: 1.0000\n",
      "Epoch 00030: val_loss improved from 0.00000 to 0.00000, saving model to dnnModel.h5\n",
      "8/8 [==============================] - 0s 11ms/step - loss: 4.9247e-04 - accuracy: 1.0000 - val_loss: 1.2601e-06 - val_accuracy: 1.0000\n",
      "Epoch 31/100\n",
      "1/8 [==>...........................] - ETA: 0s - loss: 0.0018 - accuracy: 1.0000\n",
      "Epoch 00031: val_loss improved from 0.00000 to 0.00000, saving model to dnnModel.h5\n",
      "8/8 [==============================] - 0s 11ms/step - loss: 5.7502e-04 - accuracy: 1.0000 - val_loss: 1.0716e-06 - val_accuracy: 1.0000\n",
      "Epoch 32/100\n",
      "1/8 [==>...........................] - ETA: 0s - loss: 0.0125 - accuracy: 1.0000\n",
      "Epoch 00032: val_loss improved from 0.00000 to 0.00000, saving model to dnnModel.h5\n",
      "8/8 [==============================] - 0s 8ms/step - loss: 0.0027 - accuracy: 1.0000 - val_loss: 8.4387e-07 - val_accuracy: 1.0000\n",
      "Epoch 33/100\n",
      "1/8 [==>...........................] - ETA: 0s - loss: 0.0024 - accuracy: 1.0000\n",
      "Epoch 00033: val_loss improved from 0.00000 to 0.00000, saving model to dnnModel.h5\n",
      "8/8 [==============================] - 0s 9ms/step - loss: 6.1272e-04 - accuracy: 1.0000 - val_loss: 6.9384e-07 - val_accuracy: 1.0000\n",
      "Epoch 34/100\n",
      "1/8 [==>...........................] - ETA: 0s - loss: 1.4725e-05 - accuracy: 1.0000\n",
      "Epoch 00034: val_loss improved from 0.00000 to 0.00000, saving model to dnnModel.h5\n",
      "8/8 [==============================] - 0s 9ms/step - loss: 1.1777e-04 - accuracy: 1.0000 - val_loss: 6.1879e-07 - val_accuracy: 1.0000\n",
      "Epoch 35/100\n",
      "1/8 [==>...........................] - ETA: 0s - loss: 3.0652e-05 - accuracy: 1.0000\n",
      "Epoch 00035: val_loss improved from 0.00000 to 0.00000, saving model to dnnModel.h5\n",
      "8/8 [==============================] - 0s 8ms/step - loss: 9.8438e-05 - accuracy: 1.0000 - val_loss: 5.7503e-07 - val_accuracy: 1.0000\n",
      "Epoch 36/100\n",
      "1/8 [==>...........................] - ETA: 0s - loss: 3.1600e-04 - accuracy: 1.0000\n",
      "Epoch 00036: val_loss improved from 0.00000 to 0.00000, saving model to dnnModel.h5\n",
      "8/8 [==============================] - 0s 8ms/step - loss: 4.5681e-04 - accuracy: 1.0000 - val_loss: 5.0607e-07 - val_accuracy: 1.0000\n",
      "Epoch 37/100\n",
      "1/8 [==>...........................] - ETA: 0s - loss: 8.7889e-05 - accuracy: 1.0000\n",
      "Epoch 00037: val_loss improved from 0.00000 to 0.00000, saving model to dnnModel.h5\n",
      "8/8 [==============================] - 0s 11ms/step - loss: 5.3142e-04 - accuracy: 1.0000 - val_loss: 4.3552e-07 - val_accuracy: 1.0000\n",
      "Epoch 38/100\n",
      "1/8 [==>...........................] - ETA: 0s - loss: 0.0019 - accuracy: 1.0000\n",
      "Epoch 00038: val_loss improved from 0.00000 to 0.00000, saving model to dnnModel.h5\n",
      "8/8 [==============================] - 0s 8ms/step - loss: 3.6457e-04 - accuracy: 1.0000 - val_loss: 3.6164e-07 - val_accuracy: 1.0000\n",
      "Epoch 39/100\n",
      "1/8 [==>...........................] - ETA: 0s - loss: 7.5896e-04 - accuracy: 1.0000\n",
      "Epoch 00039: val_loss improved from 0.00000 to 0.00000, saving model to dnnModel.h5\n",
      "8/8 [==============================] - 0s 8ms/step - loss: 3.7215e-04 - accuracy: 1.0000 - val_loss: 3.0679e-07 - val_accuracy: 1.0000\n",
      "Epoch 40/100\n",
      "1/8 [==>...........................] - ETA: 0s - loss: 1.1569e-04 - accuracy: 1.0000\n",
      "Epoch 00040: val_loss improved from 0.00000 to 0.00000, saving model to dnnModel.h5\n",
      "8/8 [==============================] - 0s 15ms/step - loss: 2.0784e-04 - accuracy: 1.0000 - val_loss: 2.7162e-07 - val_accuracy: 1.0000\n",
      "Epoch 41/100\n",
      "1/8 [==>...........................] - ETA: 0s - loss: 6.5271e-05 - accuracy: 1.0000\n",
      "Epoch 00041: val_loss improved from 0.00000 to 0.00000, saving model to dnnModel.h5\n",
      "8/8 [==============================] - 0s 11ms/step - loss: 2.0031e-04 - accuracy: 1.0000 - val_loss: 2.4500e-07 - val_accuracy: 1.0000\n",
      "Epoch 42/100\n",
      "1/8 [==>...........................] - ETA: 0s - loss: 0.0027 - accuracy: 1.0000\n",
      "Epoch 00042: val_loss improved from 0.00000 to 0.00000, saving model to dnnModel.h5\n",
      "8/8 [==============================] - 0s 12ms/step - loss: 5.3448e-04 - accuracy: 1.0000 - val_loss: 2.0741e-07 - val_accuracy: 1.0000\n",
      "Epoch 43/100\n",
      "1/8 [==>...........................] - ETA: 0s - loss: 1.4526e-06 - accuracy: 1.0000\n",
      "Epoch 00043: val_loss improved from 0.00000 to 0.00000, saving model to dnnModel.h5\n",
      "8/8 [==============================] - 0s 11ms/step - loss: 5.7796e-04 - accuracy: 1.0000 - val_loss: 1.7016e-07 - val_accuracy: 1.0000\n",
      "Epoch 44/100\n",
      "1/8 [==>...........................] - ETA: 0s - loss: 1.2660e-04 - accuracy: 1.0000\n",
      "Epoch 00044: val_loss improved from 0.00000 to 0.00000, saving model to dnnModel.h5\n",
      "8/8 [==============================] - 0s 11ms/step - loss: 6.0223e-05 - accuracy: 1.0000 - val_loss: 1.5048e-07 - val_accuracy: 1.0000\n",
      "Epoch 45/100\n",
      "1/8 [==>...........................] - ETA: 0s - loss: 1.1726e-05 - accuracy: 1.0000\n",
      "Epoch 00045: val_loss improved from 0.00000 to 0.00000, saving model to dnnModel.h5\n",
      "8/8 [==============================] - 0s 10ms/step - loss: 1.6415e-04 - accuracy: 1.0000 - val_loss: 1.3910e-07 - val_accuracy: 1.0000\n",
      "Epoch 46/100\n",
      "1/8 [==>...........................] - ETA: 0s - loss: 5.2949e-05 - accuracy: 1.0000\n",
      "Epoch 00046: val_loss improved from 0.00000 to 0.00000, saving model to dnnModel.h5\n",
      "8/8 [==============================] - 0s 12ms/step - loss: 5.2253e-05 - accuracy: 1.0000 - val_loss: 1.3065e-07 - val_accuracy: 1.0000\n",
      "Epoch 47/100\n",
      "1/8 [==>...........................] - ETA: 0s - loss: 1.5028e-05 - accuracy: 1.0000\n",
      "Epoch 00047: val_loss improved from 0.00000 to 0.00000, saving model to dnnModel.h5\n",
      "8/8 [==============================] - 0s 11ms/step - loss: 2.3384e-04 - accuracy: 1.0000 - val_loss: 1.2372e-07 - val_accuracy: 1.0000\n",
      "Epoch 48/100\n",
      "1/8 [==>...........................] - ETA: 0s - loss: 4.9939e-05 - accuracy: 1.0000\n",
      "Epoch 00048: val_loss improved from 0.00000 to 0.00000, saving model to dnnModel.h5\n",
      "8/8 [==============================] - 0s 10ms/step - loss: 7.1940e-05 - accuracy: 1.0000 - val_loss: 1.1348e-07 - val_accuracy: 1.0000\n",
      "Epoch 49/100\n",
      "1/8 [==>...........................] - ETA: 0s - loss: 0.0014 - accuracy: 1.0000\n",
      "Epoch 00049: val_loss improved from 0.00000 to 0.00000, saving model to dnnModel.h5\n",
      "8/8 [==============================] - 0s 10ms/step - loss: 6.3778e-04 - accuracy: 1.0000 - val_loss: 1.0352e-07 - val_accuracy: 1.0000\n",
      "Epoch 50/100\n",
      "1/8 [==>...........................] - ETA: 0s - loss: 1.1280e-05 - accuracy: 1.0000\n",
      "Epoch 00050: val_loss improved from 0.00000 to 0.00000, saving model to dnnModel.h5\n",
      "8/8 [==============================] - 0s 10ms/step - loss: 1.0167e-04 - accuracy: 1.0000 - val_loss: 9.6308e-08 - val_accuracy: 1.0000\n",
      "Epoch 51/100\n",
      "1/8 [==>...........................] - ETA: 0s - loss: 3.1941e-05 - accuracy: 1.0000\n",
      "Epoch 00051: val_loss improved from 0.00000 to 0.00000, saving model to dnnModel.h5\n",
      "8/8 [==============================] - 0s 9ms/step - loss: 2.0709e-04 - accuracy: 1.0000 - val_loss: 8.8387e-08 - val_accuracy: 1.0000\n",
      "Epoch 52/100\n",
      "1/8 [==>...........................] - ETA: 0s - loss: 1.8992e-05 - accuracy: 1.0000\n",
      "Epoch 00052: val_loss improved from 0.00000 to 0.00000, saving model to dnnModel.h5\n",
      "8/8 [==============================] - 0s 12ms/step - loss: 5.2777e-05 - accuracy: 1.0000 - val_loss: 8.2322e-08 - val_accuracy: 1.0000\n",
      "Epoch 53/100\n",
      "1/8 [==>...........................] - ETA: 0s - loss: 1.6630e-06 - accuracy: 1.0000\n",
      "Epoch 00053: val_loss improved from 0.00000 to 0.00000, saving model to dnnModel.h5\n",
      "8/8 [==============================] - 0s 10ms/step - loss: 1.9832e-04 - accuracy: 1.0000 - val_loss: 7.5757e-08 - val_accuracy: 1.0000\n"
     ]
    },
    {
     "name": "stdout",
     "output_type": "stream",
     "text": [
      "Epoch 54/100\n",
      "1/8 [==>...........................] - ETA: 0s - loss: 3.5346e-04 - accuracy: 1.0000\n",
      "Epoch 00054: val_loss improved from 0.00000 to 0.00000, saving model to dnnModel.h5\n",
      "8/8 [==============================] - 0s 10ms/step - loss: 1.0921e-04 - accuracy: 1.0000 - val_loss: 7.1027e-08 - val_accuracy: 1.0000\n",
      "Epoch 55/100\n",
      "1/8 [==>...........................] - ETA: 0s - loss: 1.6312e-05 - accuracy: 1.0000\n",
      "Epoch 00055: val_loss improved from 0.00000 to 0.00000, saving model to dnnModel.h5\n",
      "8/8 [==============================] - 0s 10ms/step - loss: 4.3188e-05 - accuracy: 1.0000 - val_loss: 6.8374e-08 - val_accuracy: 1.0000\n",
      "Epoch 56/100\n",
      "1/8 [==>...........................] - ETA: 0s - loss: 1.1819e-06 - accuracy: 1.0000\n",
      "Epoch 00056: val_loss improved from 0.00000 to 0.00000, saving model to dnnModel.h5\n",
      "8/8 [==============================] - 0s 8ms/step - loss: 1.2491e-04 - accuracy: 1.0000 - val_loss: 6.4750e-08 - val_accuracy: 1.0000\n",
      "Epoch 57/100\n",
      "1/8 [==>...........................] - ETA: 0s - loss: 5.5825e-05 - accuracy: 1.0000\n",
      "Epoch 00057: val_loss improved from 0.00000 to 0.00000, saving model to dnnModel.h5\n",
      "8/8 [==============================] - 0s 10ms/step - loss: 1.8808e-04 - accuracy: 1.0000 - val_loss: 5.6994e-08 - val_accuracy: 1.0000\n",
      "Epoch 58/100\n",
      "1/8 [==>...........................] - ETA: 0s - loss: 1.4395e-04 - accuracy: 1.0000\n",
      "Epoch 00058: val_loss improved from 0.00000 to 0.00000, saving model to dnnModel.h5\n",
      "8/8 [==============================] - 0s 10ms/step - loss: 7.6578e-05 - accuracy: 1.0000 - val_loss: 5.3011e-08 - val_accuracy: 1.0000\n",
      "Epoch 59/100\n",
      "1/8 [==>...........................] - ETA: 0s - loss: 3.1666e-05 - accuracy: 1.0000\n",
      "Epoch 00059: val_loss improved from 0.00000 to 0.00000, saving model to dnnModel.h5\n",
      "8/8 [==============================] - 0s 10ms/step - loss: 3.8624e-05 - accuracy: 1.0000 - val_loss: 5.0429e-08 - val_accuracy: 1.0000\n",
      "Epoch 60/100\n",
      "1/8 [==>...........................] - ETA: 0s - loss: 9.5637e-06 - accuracy: 1.0000\n",
      "Epoch 00060: val_loss improved from 0.00000 to 0.00000, saving model to dnnModel.h5\n",
      "8/8 [==============================] - 0s 10ms/step - loss: 1.3856e-04 - accuracy: 1.0000 - val_loss: 4.8850e-08 - val_accuracy: 1.0000\n",
      "Epoch 61/100\n",
      "1/8 [==>...........................] - ETA: 0s - loss: 1.4544e-05 - accuracy: 1.0000\n",
      "Epoch 00061: val_loss improved from 0.00000 to 0.00000, saving model to dnnModel.h5\n",
      "8/8 [==============================] - 0s 8ms/step - loss: 3.3325e-04 - accuracy: 1.0000 - val_loss: 4.2869e-08 - val_accuracy: 1.0000\n",
      "Epoch 62/100\n",
      "1/8 [==>...........................] - ETA: 0s - loss: 1.8141e-05 - accuracy: 1.0000\n",
      "Epoch 00062: val_loss improved from 0.00000 to 0.00000, saving model to dnnModel.h5\n",
      "8/8 [==============================] - 0s 8ms/step - loss: 1.7580e-05 - accuracy: 1.0000 - val_loss: 3.9134e-08 - val_accuracy: 1.0000\n",
      "Epoch 63/100\n",
      "1/8 [==>...........................] - ETA: 0s - loss: 1.1946e-05 - accuracy: 1.0000\n",
      "Epoch 00063: val_loss improved from 0.00000 to 0.00000, saving model to dnnModel.h5\n",
      "8/8 [==============================] - 0s 10ms/step - loss: 4.6381e-04 - accuracy: 1.0000 - val_loss: 3.6897e-08 - val_accuracy: 1.0000\n",
      "Epoch 64/100\n",
      "1/8 [==>...........................] - ETA: 0s - loss: 5.0347e-06 - accuracy: 1.0000\n",
      "Epoch 00064: val_loss improved from 0.00000 to 0.00000, saving model to dnnModel.h5\n",
      "8/8 [==============================] - 0s 11ms/step - loss: 5.5125e-04 - accuracy: 1.0000 - val_loss: 3.4461e-08 - val_accuracy: 1.0000\n",
      "Epoch 65/100\n",
      "1/8 [==>...........................] - ETA: 0s - loss: 3.0150e-06 - accuracy: 1.0000\n",
      "Epoch 00065: val_loss improved from 0.00000 to 0.00000, saving model to dnnModel.h5\n",
      "8/8 [==============================] - 0s 9ms/step - loss: 7.7035e-05 - accuracy: 1.0000 - val_loss: 3.2847e-08 - val_accuracy: 1.0000\n",
      "Epoch 66/100\n",
      "1/8 [==>...........................] - ETA: 0s - loss: 2.2160e-04 - accuracy: 1.0000\n",
      "Epoch 00066: val_loss improved from 0.00000 to 0.00000, saving model to dnnModel.h5\n",
      "8/8 [==============================] - 0s 12ms/step - loss: 3.5045e-04 - accuracy: 1.0000 - val_loss: 3.1053e-08 - val_accuracy: 1.0000\n",
      "Epoch 67/100\n",
      "1/8 [==>...........................] - ETA: 0s - loss: 6.1473e-05 - accuracy: 1.0000\n",
      "Epoch 00067: val_loss improved from 0.00000 to 0.00000, saving model to dnnModel.h5\n",
      "8/8 [==============================] - 0s 10ms/step - loss: 5.9058e-04 - accuracy: 1.0000 - val_loss: 2.8427e-08 - val_accuracy: 1.0000\n",
      "Epoch 68/100\n",
      "1/8 [==>...........................] - ETA: 0s - loss: 0.0018 - accuracy: 1.0000\n",
      "Epoch 00068: val_loss improved from 0.00000 to 0.00000, saving model to dnnModel.h5\n",
      "8/8 [==============================] - 0s 11ms/step - loss: 2.5519e-04 - accuracy: 1.0000 - val_loss: 2.3029e-08 - val_accuracy: 1.0000\n",
      "Epoch 69/100\n",
      "1/8 [==>...........................] - ETA: 0s - loss: 1.7092e-05 - accuracy: 1.0000\n",
      "Epoch 00069: val_loss improved from 0.00000 to 0.00000, saving model to dnnModel.h5\n",
      "8/8 [==============================] - 0s 11ms/step - loss: 1.0879e-04 - accuracy: 1.0000 - val_loss: 2.0768e-08 - val_accuracy: 1.0000\n",
      "Epoch 70/100\n",
      "1/8 [==>...........................] - ETA: 0s - loss: 7.3863e-05 - accuracy: 1.0000\n",
      "Epoch 00070: val_loss improved from 0.00000 to 0.00000, saving model to dnnModel.h5\n",
      "8/8 [==============================] - 0s 9ms/step - loss: 8.0856e-05 - accuracy: 1.0000 - val_loss: 1.9524e-08 - val_accuracy: 1.0000\n",
      "Epoch 71/100\n",
      "1/8 [==>...........................] - ETA: 0s - loss: 2.7300e-07 - accuracy: 1.0000\n",
      "Epoch 00071: val_loss improved from 0.00000 to 0.00000, saving model to dnnModel.h5\n",
      "8/8 [==============================] - 0s 8ms/step - loss: 7.3002e-05 - accuracy: 1.0000 - val_loss: 1.8732e-08 - val_accuracy: 1.0000\n",
      "Epoch 72/100\n",
      "1/8 [==>...........................] - ETA: 0s - loss: 2.1676e-05 - accuracy: 1.0000\n",
      "Epoch 00072: val_loss improved from 0.00000 to 0.00000, saving model to dnnModel.h5\n",
      "8/8 [==============================] - 0s 8ms/step - loss: 2.9659e-05 - accuracy: 1.0000 - val_loss: 1.8219e-08 - val_accuracy: 1.0000\n",
      "Epoch 73/100\n",
      "1/8 [==>...........................] - ETA: 0s - loss: 1.3625e-04 - accuracy: 1.0000\n",
      "Epoch 00073: val_loss improved from 0.00000 to 0.00000, saving model to dnnModel.h5\n",
      "8/8 [==============================] - 0s 10ms/step - loss: 5.1928e-05 - accuracy: 1.0000 - val_loss: 1.7619e-08 - val_accuracy: 1.0000\n",
      "Epoch 74/100\n",
      "1/8 [==>...........................] - ETA: 0s - loss: 3.4275e-06 - accuracy: 1.0000\n",
      "Epoch 00074: val_loss improved from 0.00000 to 0.00000, saving model to dnnModel.h5\n",
      "8/8 [==============================] - 0s 10ms/step - loss: 6.3984e-05 - accuracy: 1.0000 - val_loss: 1.7029e-08 - val_accuracy: 1.0000\n",
      "Epoch 75/100\n",
      "1/8 [==>...........................] - ETA: 0s - loss: 8.5240e-05 - accuracy: 1.0000\n",
      "Epoch 00075: val_loss improved from 0.00000 to 0.00000, saving model to dnnModel.h5\n",
      "8/8 [==============================] - 0s 8ms/step - loss: 5.8105e-05 - accuracy: 1.0000 - val_loss: 1.6485e-08 - val_accuracy: 1.0000\n",
      "Epoch 76/100\n",
      "1/8 [==>...........................] - ETA: 0s - loss: 1.0179e-05 - accuracy: 1.0000\n",
      "Epoch 00076: val_loss improved from 0.00000 to 0.00000, saving model to dnnModel.h5\n",
      "8/8 [==============================] - 0s 11ms/step - loss: 2.3941e-05 - accuracy: 1.0000 - val_loss: 1.6176e-08 - val_accuracy: 1.0000\n",
      "Epoch 77/100\n",
      "1/8 [==>...........................] - ETA: 0s - loss: 1.5197e-06 - accuracy: 1.0000\n",
      "Epoch 00077: val_loss improved from 0.00000 to 0.00000, saving model to dnnModel.h5\n",
      "8/8 [==============================] - 0s 10ms/step - loss: 2.5758e-05 - accuracy: 1.0000 - val_loss: 1.5881e-08 - val_accuracy: 1.0000\n",
      "Epoch 78/100\n",
      "1/8 [==>...........................] - ETA: 0s - loss: 3.1584e-06 - accuracy: 1.0000\n",
      "Epoch 00078: val_loss improved from 0.00000 to 0.00000, saving model to dnnModel.h5\n",
      "8/8 [==============================] - 0s 11ms/step - loss: 1.2693e-04 - accuracy: 1.0000 - val_loss: 1.5202e-08 - val_accuracy: 1.0000\n",
      "Epoch 79/100\n",
      "1/8 [==>...........................] - ETA: 0s - loss: 9.7481e-06 - accuracy: 1.0000\n",
      "Epoch 00079: val_loss improved from 0.00000 to 0.00000, saving model to dnnModel.h5\n",
      "8/8 [==============================] - 0s 16ms/step - loss: 0.0040 - accuracy: 0.9961 - val_loss: 1.5162e-08 - val_accuracy: 1.0000\n"
     ]
    },
    {
     "name": "stdout",
     "output_type": "stream",
     "text": [
      "Epoch 80/100\n",
      "1/8 [==>...........................] - ETA: 0s - loss: 6.1044e-06 - accuracy: 1.0000\n",
      "Epoch 00080: val_loss did not improve from 0.00000\n",
      "8/8 [==============================] - 0s 6ms/step - loss: 2.0467e-04 - accuracy: 1.0000 - val_loss: 1.6336e-08 - val_accuracy: 1.0000\n",
      "Epoch 81/100\n",
      "1/8 [==>...........................] - ETA: 0s - loss: 2.7367e-04 - accuracy: 1.0000\n",
      "Epoch 00081: val_loss did not improve from 0.00000\n",
      "8/8 [==============================] - 0s 6ms/step - loss: 5.7021e-05 - accuracy: 1.0000 - val_loss: 1.5697e-08 - val_accuracy: 1.0000\n",
      "Epoch 82/100\n",
      "1/8 [==>...........................] - ETA: 0s - loss: 5.8663e-06 - accuracy: 1.0000\n",
      "Epoch 00082: val_loss improved from 0.00000 to 0.00000, saving model to dnnModel.h5\n",
      "8/8 [==============================] - 0s 9ms/step - loss: 2.2897e-04 - accuracy: 1.0000 - val_loss: 1.5047e-08 - val_accuracy: 1.0000\n",
      "Epoch 83/100\n",
      "1/8 [==>...........................] - ETA: 0s - loss: 4.7722e-07 - accuracy: 1.0000\n",
      "Epoch 00083: val_loss improved from 0.00000 to 0.00000, saving model to dnnModel.h5\n",
      "8/8 [==============================] - 0s 13ms/step - loss: 0.0016 - accuracy: 1.0000 - val_loss: 1.0793e-08 - val_accuracy: 1.0000\n",
      "Epoch 84/100\n",
      "1/8 [==>...........................] - ETA: 0s - loss: 5.3224e-06 - accuracy: 1.0000\n",
      "Epoch 00084: val_loss improved from 0.00000 to 0.00000, saving model to dnnModel.h5\n",
      "8/8 [==============================] - 0s 11ms/step - loss: 4.2378e-04 - accuracy: 1.0000 - val_loss: 7.6869e-09 - val_accuracy: 1.0000\n",
      "Epoch 85/100\n",
      "1/8 [==>...........................] - ETA: 0s - loss: 1.2134e-04 - accuracy: 1.0000\n",
      "Epoch 00085: val_loss improved from 0.00000 to 0.00000, saving model to dnnModel.h5\n",
      "8/8 [==============================] - 0s 11ms/step - loss: 2.4905e-05 - accuracy: 1.0000 - val_loss: 6.1440e-09 - val_accuracy: 1.0000\n",
      "Epoch 86/100\n",
      "1/8 [==>...........................] - ETA: 0s - loss: 6.2708e-06 - accuracy: 1.0000\n",
      "Epoch 00086: val_loss improved from 0.00000 to 0.00000, saving model to dnnModel.h5\n",
      "8/8 [==============================] - 0s 12ms/step - loss: 0.0021 - accuracy: 1.0000 - val_loss: 5.4703e-09 - val_accuracy: 1.0000\n",
      "Epoch 87/100\n",
      "1/8 [==>...........................] - ETA: 0s - loss: 2.6458e-06 - accuracy: 1.0000\n",
      "Epoch 00087: val_loss improved from 0.00000 to 0.00000, saving model to dnnModel.h5\n",
      "8/8 [==============================] - 0s 11ms/step - loss: 2.4955e-05 - accuracy: 1.0000 - val_loss: 5.1107e-09 - val_accuracy: 1.0000\n",
      "Epoch 88/100\n",
      "1/8 [==>...........................] - ETA: 0s - loss: 5.5853e-07 - accuracy: 1.0000\n",
      "Epoch 00088: val_loss improved from 0.00000 to 0.00000, saving model to dnnModel.h5\n",
      "8/8 [==============================] - 0s 11ms/step - loss: 1.0612e-04 - accuracy: 1.0000 - val_loss: 4.9213e-09 - val_accuracy: 1.0000\n",
      "Epoch 89/100\n",
      "1/8 [==>...........................] - ETA: 0s - loss: 5.2168e-06 - accuracy: 1.0000\n",
      "Epoch 00089: val_loss improved from 0.00000 to 0.00000, saving model to dnnModel.h5\n",
      "8/8 [==============================] - 0s 12ms/step - loss: 1.7317e-05 - accuracy: 1.0000 - val_loss: 4.7833e-09 - val_accuracy: 1.0000\n",
      "Epoch 90/100\n",
      "1/8 [==>...........................] - ETA: 0s - loss: 1.5646e-07 - accuracy: 1.0000\n",
      "Epoch 00090: val_loss improved from 0.00000 to 0.00000, saving model to dnnModel.h5\n",
      "8/8 [==============================] - 0s 11ms/step - loss: 1.4531e-06 - accuracy: 1.0000 - val_loss: 4.6811e-09 - val_accuracy: 1.0000\n",
      "Epoch 91/100\n",
      "1/8 [==>...........................] - ETA: 0s - loss: 1.3399e-05 - accuracy: 1.0000\n",
      "Epoch 00091: val_loss improved from 0.00000 to 0.00000, saving model to dnnModel.h5\n",
      "8/8 [==============================] - 0s 12ms/step - loss: 1.1916e-04 - accuracy: 1.0000 - val_loss: 4.6271e-09 - val_accuracy: 1.0000\n",
      "Epoch 92/100\n",
      "1/8 [==>...........................] - ETA: 0s - loss: 6.8683e-07 - accuracy: 1.0000\n",
      "Epoch 00092: val_loss improved from 0.00000 to 0.00000, saving model to dnnModel.h5\n",
      "8/8 [==============================] - 0s 15ms/step - loss: 6.6200e-06 - accuracy: 1.0000 - val_loss: 4.5937e-09 - val_accuracy: 1.0000\n",
      "Epoch 93/100\n",
      "1/8 [==>...........................] - ETA: 0s - loss: 5.4609e-07 - accuracy: 1.0000\n",
      "Epoch 00093: val_loss improved from 0.00000 to 0.00000, saving model to dnnModel.h5\n",
      "8/8 [==============================] - 0s 11ms/step - loss: 1.0908e-05 - accuracy: 1.0000 - val_loss: 4.5677e-09 - val_accuracy: 1.0000\n",
      "Epoch 94/100\n",
      "1/8 [==>...........................] - ETA: 0s - loss: 2.1842e-04 - accuracy: 1.0000\n",
      "Epoch 00094: val_loss improved from 0.00000 to 0.00000, saving model to dnnModel.h5\n",
      "8/8 [==============================] - 0s 12ms/step - loss: 2.2769e-04 - accuracy: 1.0000 - val_loss: 4.5320e-09 - val_accuracy: 1.0000\n",
      "Epoch 95/100\n",
      "1/8 [==>...........................] - ETA: 0s - loss: 3.1655e-04 - accuracy: 1.0000\n",
      "Epoch 00095: val_loss improved from 0.00000 to 0.00000, saving model to dnnModel.h5\n",
      "8/8 [==============================] - 0s 11ms/step - loss: 7.9632e-05 - accuracy: 1.0000 - val_loss: 4.4626e-09 - val_accuracy: 1.0000\n",
      "Epoch 96/100\n",
      "1/8 [==>...........................] - ETA: 0s - loss: 4.0861e-06 - accuracy: 1.0000\n",
      "Epoch 00096: val_loss improved from 0.00000 to 0.00000, saving model to dnnModel.h5\n",
      "8/8 [==============================] - 0s 11ms/step - loss: 6.4659e-05 - accuracy: 1.0000 - val_loss: 4.3642e-09 - val_accuracy: 1.0000\n",
      "Epoch 97/100\n",
      "1/8 [==>...........................] - ETA: 0s - loss: 3.8777e-08 - accuracy: 1.0000\n",
      "Epoch 00097: val_loss improved from 0.00000 to 0.00000, saving model to dnnModel.h5\n",
      "8/8 [==============================] - 0s 13ms/step - loss: 1.2601e-05 - accuracy: 1.0000 - val_loss: 4.2884e-09 - val_accuracy: 1.0000\n",
      "Epoch 98/100\n",
      "1/8 [==>...........................] - ETA: 0s - loss: 1.8840e-06 - accuracy: 1.0000\n",
      "Epoch 00098: val_loss improved from 0.00000 to 0.00000, saving model to dnnModel.h5\n",
      "8/8 [==============================] - 0s 12ms/step - loss: 1.2801e-05 - accuracy: 1.0000 - val_loss: 4.2053e-09 - val_accuracy: 1.0000\n",
      "Epoch 99/100\n",
      "1/8 [==>...........................] - ETA: 0s - loss: 3.1108e-07 - accuracy: 1.0000\n",
      "Epoch 00099: val_loss improved from 0.00000 to 0.00000, saving model to dnnModel.h5\n",
      "8/8 [==============================] - 0s 11ms/step - loss: 8.5028e-05 - accuracy: 1.0000 - val_loss: 4.1350e-09 - val_accuracy: 1.0000\n",
      "Epoch 100/100\n",
      "1/8 [==>...........................] - ETA: 0s - loss: 7.6884e-07 - accuracy: 1.0000\n",
      "Epoch 00100: val_loss improved from 0.00000 to 0.00000, saving model to dnnModel.h5\n",
      "8/8 [==============================] - 0s 12ms/step - loss: 4.2156e-05 - accuracy: 1.0000 - val_loss: 3.9962e-09 - val_accuracy: 1.0000\n"
     ]
    }
   ],
   "source": [
    "time_training_start = time.perf_counter()\n",
    "history = model.fit(data_train, label_train, validation_split=0.2, epochs=100, verbose = 1, callbacks=[checkpoint,early])"
   ]
  },
  {
   "cell_type": "code",
   "execution_count": 12,
   "id": "04d9fa0a",
   "metadata": {},
   "outputs": [
    {
     "name": "stdout",
     "output_type": "stream",
     "text": [
      "Time to training : 8.4961098\n"
     ]
    }
   ],
   "source": [
    "print(f'Time to training : {time.perf_counter() - time_training_start}')"
   ]
  },
  {
   "cell_type": "code",
   "execution_count": 13,
   "id": "ab63c0a3",
   "metadata": {},
   "outputs": [
    {
     "data": {
      "image/png": "[encoded data removed]",
      "text/plain": [
       "<Figure size 640x480 with 1 Axes>"
      ]
     },
     "metadata": {},
     "output_type": "display_data"
    }
   ],
   "source": [
    "# Plot training & validation accuracy values\n",
    "plt.plot(history.history['accuracy'])\n",
    "plt.plot(history.history['val_accuracy'])\n",
    "plt.title('BRNN Model Accuracy')\n",
    "plt.ylabel('Accuracy')\n",
    "plt.xlabel('Epoch')\n",
    "plt.legend(['Train', 'Test'], loc='lower right')\n",
    "# plt.savefig('BRNN 200 Model Accuracy.png')\n",
    "plt.show()"
   ]
  },
  {
   "cell_type": "code",
   "execution_count": 14,
   "id": "04277965",
   "metadata": {},
   "outputs": [
    {
     "data": {
      "image/png": "[encoded data removed]",
      "text/plain": [
       "<Figure size 640x480 with 1 Axes>"
      ]
     },
     "metadata": {},
     "output_type": "display_data"
    }
   ],
   "source": [
    "# Plot training & validation loss values\n",
    "plt.plot(history.history['loss'])\n",
    "plt.plot(history.history['val_loss'])\n",
    "plt.title('BRNN Model  Loss')\n",
    "plt.ylabel('Loss')\n",
    "plt.xlabel('Epoch')\n",
    "plt.legend(['Train', 'Test'], loc='upper left')\n",
    "# plt.savefig('BRNN 200 Model Loss.png')\n",
    "plt.show()"
   ]
  },
  {
   "cell_type": "code",
   "execution_count": 15,
   "id": "cfcc8675",
   "metadata": {},
   "outputs": [
    {
     "name": "stdout",
     "output_type": "stream",
     "text": [
      "3/3 [==============================] - 0s 2ms/step\n"
     ]
    }
   ],
   "source": [
    "predict = model.predict(data_eval, verbose=1)"
   ]
  },
  {
   "cell_type": "code",
   "execution_count": 16,
   "id": "3b485068",
   "metadata": {},
   "outputs": [
    {
     "data": {
      "image/png": "[encoded data removed]",
      "text/plain": [
       "<Figure size 640x480 with 2 Axes>"
      ]
     },
     "metadata": {},
     "output_type": "display_data"
    }
   ],
   "source": [
    "tp = 0\n",
    "tn = 0\n",
    "fp = 0\n",
    "fn = 0\n",
    "predictn = predict.flatten().round()\n",
    "predictn = predictn.tolist()\n",
    "Y_testn = label_eval.tolist()\n",
    "for i in range(len(Y_testn)):\n",
    "  if predictn[i]==1 and Y_testn[i]==1:\n",
    "    tp+=1\n",
    "  elif predictn[i]==0 and Y_testn[i]==0:\n",
    "    tn+=1\n",
    "  elif predictn[i]==0 and Y_testn[i]==1:\n",
    "    fp+=1\n",
    "  elif predictn[i]==1 and Y_testn[i]==0:\n",
    "    fn+=1\n",
    "to_heat_map =[[tn,fp],[fn,tp]]\n",
    "to_heat_map = pd.DataFrame(to_heat_map, index = [\"Attack\",\"Normal\"],columns = [\"Attack\",\"Normal\"])\n",
    "ax = sns.heatmap(to_heat_map,annot=True, fmt=\"d\")"
   ]
  },
  {
   "cell_type": "code",
   "execution_count": 17,
   "id": "0f64d323",
   "metadata": {},
   "outputs": [
    {
     "name": "stdout",
     "output_type": "stream",
     "text": [
      "3/3 [==============================] - 0s 4ms/step - loss: 1.7666e-09 - accuracy: 1.0000\n",
      "accuracy: 100.00%\n"
     ]
    }
   ],
   "source": [
    "scores = model.evaluate(data_eval, label_eval)\n",
    "print(\"%s: %.2f%%\" % (model.metrics_names[1], scores[1]*100))"
   ]
  },
  {
   "cell_type": "code",
   "execution_count": 18,
   "id": "8355540c",
   "metadata": {},
   "outputs": [
    {
     "name": "stdout",
     "output_type": "stream",
     "text": [
      "              precision    recall  f1-score   support\n",
      "\n",
      "           0       1.00      1.00      1.00        40\n",
      "           1       1.00      1.00      1.00        40\n",
      "\n",
      "    accuracy                           1.00        80\n",
      "   macro avg       1.00      1.00      1.00        80\n",
      "weighted avg       1.00      1.00      1.00        80\n",
      "\n"
     ]
    }
   ],
   "source": [
    "print(classification_report(Y_testn,predictn))"
   ]
  },
  {
   "cell_type": "code",
   "execution_count": 19,
   "id": "6b1e5995",
   "metadata": {},
   "outputs": [
    {
     "name": "stdout",
     "output_type": "stream",
     "text": [
      "SVM: ROC AUC=1.000\n"
     ]
    }
   ],
   "source": [
    "lr_auc = roc_auc_score(Y_testn, predictn)\n",
    "print('SVM: ROC AUC=%.3f' % (lr_auc))"
   ]
  },
  {
   "cell_type": "code",
   "execution_count": 20,
   "id": "9e9ffd90",
   "metadata": {},
   "outputs": [
    {
     "name": "stdout",
     "output_type": "stream",
     "text": [
      "1/1 [==============================] - 0s 23ms/step\n",
      "Time elapse for prediction : 0.044364599999999754\n",
      "[[1.]]\n"
     ]
    }
   ],
   "source": [
    "time_start = time.perf_counter()\n",
    "predict = model.predict(data_eval[:1], verbose=1)\n",
    "print(f\"Time elapse for prediction : {time.perf_counter() - time_start}\")\n",
    "print(predict)"
   ]
  },
  {
   "cell_type": "code",
   "execution_count": null,
   "id": "fe718f7a",
   "metadata": {},
   "outputs": [],
   "source": []
  }
 ],
 "metadata": {
  "kernelspec": {
   "display_name": "Python 3 (ipykernel)",
   "language": "python",
   "name": "python3"
  },
  "language_info": {
   "codemirror_mode": {
    "name": "ipython",
    "version": 3
   },
   "file_extension": ".py",
   "mimetype": "text/x-python",
   "name": "python",
   "nbconvert_exporter": "python",
   "pygments_lexer": "ipython3",
   "version": "3.9.13"
  }
 },
 "nbformat": 4,
 "nbformat_minor": 5
}
