{
 "cells": [
  {
   "cell_type": "code",
   "execution_count": 1,
   "id": "f01297db",
   "metadata": {},
   "outputs": [],
   "source": [
    "from collections import Counter"
   ]
  },
  {
   "cell_type": "code",
   "execution_count": 2,
   "id": "6f92789a",
   "metadata": {},
   "outputs": [],
   "source": [
    "tcp_signature = {\n",
    "    \"dataofs\": 0,\n",
    "    \"reserved\": 0,\n",
    "    \"flags\": \"S\",\n",
    "    \"window\": 0,\n",
    "    \"urgptr\": 0,\n",
    "    \"payload_len\": 0\n",
    "}"
   ]
  },
  {
   "cell_type": "code",
   "execution_count": 3,
   "id": "92c9d0f9",
   "metadata": {},
   "outputs": [],
   "source": [
    "dataofs = []\n",
    "reserved = []\n",
    "flags = []\n",
    "window = []\n",
    "urgptr = []\n",
    "payload_len = []"
   ]
  },
  {
   "cell_type": "code",
   "execution_count": 4,
   "id": "55dfb74d",
   "metadata": {},
   "outputs": [],
   "source": [
    "def most_frequent(List):\n",
    "    occurence_count = Counter(List)\n",
    "    return occurence_count.most_common(1)[0][0]"
   ]
  },
  {
   "cell_type": "code",
   "execution_count": 5,
   "id": "2a13dc98",
   "metadata": {},
   "outputs": [],
   "source": [
    "features, labels = [], []"
   ]
  },
  {
   "cell_type": "code",
   "execution_count": 6,
   "id": "34beaac3",
   "metadata": {},
   "outputs": [],
   "source": [
    "meal = open(\"dataset.csv\", \"rt\")\n",
    "for line in meal:\n",
    "    data_list = line.rsplit(\",\")\n",
    "    if(len(data_list) != 11):\n",
    "        print(\"error data\")\n",
    "    else:\n",
    "        data_list[(len(data_list)-1)]=data_list[(len(data_list)-1)].replace('\\n', '')\n",
    "        features.append(data_list[:(len(data_list)-1)])\n",
    "        labels.append(data_list[(len(data_list)-1)])\n",
    "meal.close()"
   ]
  },
  {
   "cell_type": "code",
   "execution_count": 7,
   "id": "c6779ba8",
   "metadata": {},
   "outputs": [],
   "source": [
    "bad_data = features[:200]\n",
    "good_data = features[200:]"
   ]
  },
  {
   "cell_type": "code",
   "execution_count": 8,
   "id": "3f548a40",
   "metadata": {},
   "outputs": [
    {
     "name": "stdout",
     "output_type": "stream",
     "text": [
      "400\n",
      "400\n",
      "200\n",
      "200\n"
     ]
    }
   ],
   "source": [
    "print(len(features))\n",
    "print(len(labels))\n",
    "print(len(bad_data))\n",
    "print(len(good_data))"
   ]
  },
  {
   "cell_type": "code",
   "execution_count": 9,
   "id": "5f57ccce",
   "metadata": {},
   "outputs": [],
   "source": [
    "for data in bad_data:\n",
    "    dataofs.append(int(data[3]))\n",
    "    reserved.append(int(data[4]))\n",
    "    flags.append(str(data[5]))\n",
    "    window.append(int(data[6]))\n",
    "    urgptr.append(int(data[8]))\n",
    "    payload_len.append(int(data[9]))"
   ]
  },
  {
   "cell_type": "code",
   "execution_count": 10,
   "id": "f7a96a22",
   "metadata": {},
   "outputs": [],
   "source": [
    "tcp_signature['dataofs'] = most_frequent(dataofs)\n",
    "tcp_signature['reserved'] = most_frequent(reserved)\n",
    "tcp_signature['flags'] = most_frequent(flags)\n",
    "tcp_signature['window'] = most_frequent(window)\n",
    "tcp_signature['urgptr'] = most_frequent(urgptr)\n",
    "tcp_signature['payload_len'] = most_frequent(payload_len)"
   ]
  },
  {
   "cell_type": "code",
   "execution_count": 11,
   "id": "4cc9627f",
   "metadata": {},
   "outputs": [],
   "source": [
    "sum = 0\n",
    "for data in features:\n",
    "       if(tcp_signature['dataofs'] == int(data[3]) and\n",
    "       tcp_signature['reserved'] == int(data[4]) and\n",
    "       tcp_signature['flags'] == str(data[5]) and\n",
    "       tcp_signature['window'] == int(data[6]) and\n",
    "       tcp_signature['urgptr'] == int(data[8]) and\n",
    "       tcp_signature['payload_len'] == int(data[9])):\n",
    "        sum = sum + 1"
   ]
  },
  {
   "cell_type": "code",
   "execution_count": 12,
   "id": "701959b1",
   "metadata": {},
   "outputs": [
    {
     "name": "stdout",
     "output_type": "stream",
     "text": [
      "200\n"
     ]
    }
   ],
   "source": [
    "print(sum)"
   ]
  }
 ],
 "metadata": {
  "kernelspec": {
   "display_name": "Python 3 (ipykernel)",
   "language": "python",
   "name": "python3"
  },
  "language_info": {
   "codemirror_mode": {
    "name": "ipython",
    "version": 3
   },
   "file_extension": ".py",
   "mimetype": "text/x-python",
   "name": "python",
   "nbconvert_exporter": "python",
   "pygments_lexer": "ipython3",
   "version": "3.9.13"
  }
 },
 "nbformat": 4,
 "nbformat_minor": 5
}
