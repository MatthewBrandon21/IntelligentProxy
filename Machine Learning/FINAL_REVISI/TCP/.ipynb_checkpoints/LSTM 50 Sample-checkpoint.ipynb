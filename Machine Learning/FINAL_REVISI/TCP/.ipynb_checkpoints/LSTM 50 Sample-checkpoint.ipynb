{
 "cells": [
  {
   "cell_type": "code",
   "execution_count": 1,
   "id": "76fa329c",
   "metadata": {},
   "outputs": [],
   "source": [
    "import numpy as np\n",
    "import pandas as pd\n",
    "import matplotlib.pyplot as plt\n",
    "import seaborn as sns; sns.set()\n",
    "from keras.models import Sequential, load_model\n",
    "from keras.layers import Dense, LSTM, Bidirectional\n",
    "from keras.utils.np_utils import to_categorical\n",
    "from keras.utils import np_utils\n",
    "from sklearn.model_selection import train_test_split\n",
    "from sklearn.preprocessing import LabelEncoder, StandardScaler\n",
    "from sklearn.metrics import classification_report, confusion_matrix\n",
    "from sklearn.metrics import roc_auc_score\n",
    "import joblib\n",
    "\n",
    "import time\n",
    "from collections import Counter\n",
    "from imblearn.over_sampling import SMOTE\n",
    "from imblearn.under_sampling import RandomUnderSampler\n",
    "from imblearn.pipeline import Pipeline"
   ]
  },
  {
   "cell_type": "code",
   "execution_count": 2,
   "id": "4cbbc4f7",
   "metadata": {},
   "outputs": [],
   "source": [
    "def StringToBytes(data):\n",
    "    sum = 0\n",
    "    arrbytes = bytes(data, 'utf-8')\n",
    "    for i in arrbytes:\n",
    "        sum = sum + i\n",
    "    return(sum)"
   ]
  },
  {
   "cell_type": "code",
   "execution_count": 3,
   "id": "d041644e",
   "metadata": {},
   "outputs": [],
   "source": [
    "data_normal_1 = pd.read_csv('dataset/timeseries/tcp_dataset_timeseries_normal_1.csv')\n",
    "data_normal_2 = pd.read_csv('dataset/timeseries/tcp_dataset_timeseries_normal_2.csv')\n",
    "data_normal_3 = pd.read_csv('dataset/timeseries/tcp_dataset_timeseries_normal_3.csv')\n",
    "data_normal_4 = pd.read_csv('dataset/timeseries/tcp_dataset_timeseries_normal_4.csv')\n",
    "\n",
    "data_normal_5 = pd.read_csv('dataset/timeseries/old/dataset_tcp_timeseries_normal_3.csv')\n",
    "\n",
    "data_attack_1 = pd.read_csv('dataset/timeseries/tcp_dataset_timeseries_attack_1.csv')\n",
    "data_attack_2 = pd.read_csv('dataset/timeseries/tcp_dataset_timeseries_attack_2.csv')\n",
    "data_attack_3 = pd.read_csv('dataset/timeseries/tcp_dataset_timeseries_attack_3.csv')\n",
    "\n",
    "data_attack_4 = pd.read_csv('dataset/timeseries/old/dataset_tcp_timeseries_attack_1.csv')"
   ]
  },
  {
   "cell_type": "code",
   "execution_count": 4,
   "id": "b0e9c85b",
   "metadata": {},
   "outputs": [],
   "source": [
    "data_normal_1.columns = ['port_src', 'seq', 'ack', 'dataofs', 'reserved', 'flags',\n",
    "       'window', 'chksum', 'urgptr', 'payload_len', 'label']\n",
    "data_normal_2.columns = ['port_src', 'seq', 'ack', 'dataofs', 'reserved', 'flags',\n",
    "       'window', 'chksum', 'urgptr', 'payload_len', 'label']\n",
    "data_normal_3.columns = ['port_src', 'seq', 'ack', 'dataofs', 'reserved', 'flags',\n",
    "       'window', 'chksum', 'urgptr', 'payload_len', 'label']\n",
    "data_normal_4.columns = ['port_src', 'seq', 'ack', 'dataofs', 'reserved', 'flags',\n",
    "       'window', 'chksum', 'urgptr', 'payload_len', 'label']\n",
    "\n",
    "data_normal_5.columns = ['timestamp', 'port_src', 'port_dest',\n",
    "       'seq', 'ack', 'dataofs', 'reserved', 'flags',\n",
    "       'window', 'chksum', 'urgptr', 'payload_len', 'label']\n",
    "\n",
    "data_attack_1.columns = ['port_src', 'seq', 'ack', 'dataofs', 'reserved', 'flags',\n",
    "       'window', 'chksum', 'urgptr', 'payload_len', 'label']\n",
    "data_attack_2.columns = ['port_src', 'seq', 'ack', 'dataofs', 'reserved', 'flags',\n",
    "       'window', 'chksum', 'urgptr', 'payload_len', 'label']\n",
    "data_attack_3.columns = ['port_src', 'seq', 'ack', 'dataofs', 'reserved', 'flags',\n",
    "       'window', 'chksum', 'urgptr', 'payload_len', 'label']\n",
    "\n",
    "data_attack_4.columns = ['timestamp', 'port_src', 'port_dest',\n",
    "       'seq', 'ack', 'dataofs', 'reserved', 'flags',\n",
    "       'window', 'chksum', 'urgptr', 'payload_len', 'label']"
   ]
  },
  {
   "cell_type": "code",
   "execution_count": 5,
   "id": "b3292744",
   "metadata": {},
   "outputs": [],
   "source": [
    "data_normal_5 = data_normal_5.drop(['timestamp', 'port_dest'],axis=1)\n",
    "\n",
    "data_attack_4 = data_attack_4.drop(['timestamp', 'port_dest'],axis=1)"
   ]
  },
  {
   "cell_type": "code",
   "execution_count": 6,
   "id": "12aa93dc",
   "metadata": {},
   "outputs": [],
   "source": [
    "features = ['port_src', 'seq', 'ack', 'dataofs', 'reserved', 'flags',\n",
    "       'window', 'chksum', 'urgptr', 'payload_len']"
   ]
  },
  {
   "cell_type": "code",
   "execution_count": 7,
   "id": "c3caaf52",
   "metadata": {},
   "outputs": [],
   "source": [
    "X_normal_1 = data_normal_1[features].values\n",
    "X_normal_2 = data_normal_2[features].values\n",
    "X_normal_3 = data_normal_3[features].values\n",
    "X_normal_4 = data_normal_4[features].values\n",
    "X_normal_5 = data_normal_5[features].values\n",
    "\n",
    "X_attack_1 = data_attack_1[features].values\n",
    "X_attack_2 = data_attack_2[features].values\n",
    "X_attack_3 = data_attack_3[features].values\n",
    "X_attack_4 = data_attack_4[features].values\n",
    "\n",
    "Y_normal_1 = data_normal_1['label']\n",
    "Y_normal_2 = data_normal_2['label']\n",
    "Y_normal_3 = data_normal_3['label']\n",
    "Y_normal_4 = data_normal_4['label']\n",
    "Y_normal_5 = data_normal_5['label']\n",
    "\n",
    "Y_attack_1 = data_attack_1['label']\n",
    "Y_attack_2 = data_attack_2['label']\n",
    "Y_attack_3 = data_attack_3['label']\n",
    "Y_attack_4 = data_attack_4['label']\n",
    "\n",
    "X=np.concatenate((X_normal_1,X_normal_2,X_normal_3,X_normal_4,X_normal_5,X_attack_1,X_attack_2,X_attack_3,X_attack_4))\n",
    "Y=np.concatenate((Y_normal_1,Y_normal_2,Y_normal_3,Y_normal_4,Y_normal_5,Y_attack_1,Y_attack_2,Y_attack_3,Y_attack_4))"
   ]
  },
  {
   "cell_type": "code",
   "execution_count": 8,
   "id": "3fd73c9f",
   "metadata": {},
   "outputs": [],
   "source": [
    "for i in range(len(X)):\n",
    "    X[i][5] = StringToBytes(str(X[i][5]))"
   ]
  },
  {
   "cell_type": "code",
   "execution_count": 9,
   "id": "a21297c9",
   "metadata": {},
   "outputs": [
    {
     "name": "stdout",
     "output_type": "stream",
     "text": [
      "Counter({0: 96512, 1: 90273})\n"
     ]
    }
   ],
   "source": [
    "data_counter = Counter(Y)\n",
    "print(data_counter)"
   ]
  },
  {
   "cell_type": "code",
   "execution_count": 10,
   "id": "741cc249",
   "metadata": {},
   "outputs": [],
   "source": [
    "over = SMOTE()\n",
    "under = RandomUnderSampler()\n",
    "steps = [('o', over), ('u', under)]\n",
    "pipeline = Pipeline(steps=steps)\n",
    "X, Y = pipeline.fit_resample(X, Y)"
   ]
  },
  {
   "cell_type": "code",
   "execution_count": 11,
   "id": "409135a7",
   "metadata": {},
   "outputs": [
    {
     "name": "stdout",
     "output_type": "stream",
     "text": [
      "Counter({0: 96512, 1: 96512})\n"
     ]
    }
   ],
   "source": [
    "data_counter = Counter(Y)\n",
    "print(data_counter)"
   ]
  },
  {
   "cell_type": "code",
   "execution_count": 12,
   "id": "08f5daf5",
   "metadata": {},
   "outputs": [],
   "source": [
    "scalar = StandardScaler(copy=True, with_mean=True, with_std=True)\n",
    "scalar.fit(X)\n",
    "X = scalar.transform(X)"
   ]
  },
  {
   "cell_type": "code",
   "execution_count": 13,
   "id": "03fb017a",
   "metadata": {},
   "outputs": [
    {
     "name": "stdout",
     "output_type": "stream",
     "text": [
      "(193024, 10)\n",
      "(193024,)\n"
     ]
    }
   ],
   "source": [
    "print(np.shape(X))\n",
    "print(np.shape(Y))"
   ]
  },
  {
   "cell_type": "code",
   "execution_count": 14,
   "id": "9b543209",
   "metadata": {},
   "outputs": [],
   "source": [
    "features = len(X[0])\n",
    "samples = X.shape[0]\n",
    "train_len = 50\n",
    "input_len = samples - train_len\n",
    "I = np.zeros((samples - train_len, train_len, features))"
   ]
  },
  {
   "cell_type": "code",
   "execution_count": 15,
   "id": "4a802d89",
   "metadata": {},
   "outputs": [],
   "source": [
    "for i in range(input_len):\n",
    "    temp = np.zeros((train_len, features))\n",
    "    for j in range(i, i + train_len - 1):\n",
    "        temp[j-i] = X[j]\n",
    "    I[i] = temp"
   ]
  },
  {
   "cell_type": "code",
   "execution_count": 16,
   "id": "7668c3b1",
   "metadata": {},
   "outputs": [
    {
     "name": "stdout",
     "output_type": "stream",
     "text": [
      "(192974, 50, 10)\n"
     ]
    }
   ],
   "source": [
    "print(I.shape)"
   ]
  },
  {
   "cell_type": "code",
   "execution_count": 17,
   "id": "fde8f9e5",
   "metadata": {},
   "outputs": [],
   "source": [
    "X_train, X_test, Y_train, Y_test = train_test_split(I, Y[50:], test_size = 0.2, stratify=Y[50:], random_state = 0)"
   ]
  },
  {
   "cell_type": "code",
   "execution_count": 18,
   "id": "a5c0d100",
   "metadata": {},
   "outputs": [],
   "source": [
    "def create_baseline():\n",
    "    model = Sequential()\n",
    "    model.add(Bidirectional(LSTM(64, activation='tanh', kernel_regularizer='l2')))\n",
    "    model.add(Dense(128, activation = 'relu', kernel_regularizer='l2'))\n",
    "    model.add(Dense(1, activation = 'sigmoid', kernel_regularizer='l2'))\n",
    "    model.compile(loss = 'binary_crossentropy', optimizer = 'adam', metrics = ['accuracy'])\n",
    "    return model"
   ]
  },
  {
   "cell_type": "code",
   "execution_count": 19,
   "id": "6c6a82e8",
   "metadata": {},
   "outputs": [],
   "source": [
    "model = create_baseline()"
   ]
  },
  {
   "cell_type": "code",
   "execution_count": null,
   "id": "6397598b",
   "metadata": {},
   "outputs": [
    {
     "name": "stdout",
     "output_type": "stream",
     "text": [
      "Epoch 1/20\n",
      "1160/3860 [========>.....................] - ETA: 26s - loss: 0.1163 - accuracy: 0.9992"
     ]
    }
   ],
   "source": [
    "history = model.fit(X_train, Y_train, epochs = 20,validation_split=0.2, verbose = 1)"
   ]
  },
  {
   "cell_type": "code",
   "execution_count": null,
   "id": "c295f029",
   "metadata": {},
   "outputs": [],
   "source": [
    "# Plot training & validation accuracy values\n",
    "plt.plot(history.history['accuracy'])\n",
    "plt.plot(history.history['val_accuracy'])\n",
    "plt.title('BRNN Model Accuracy')\n",
    "plt.ylabel('Accuracy')\n",
    "plt.xlabel('Epoch')\n",
    "plt.legend(['Train', 'Test'], loc='lower right')\n",
    "plt.savefig('BRNN 500 Model Accuracy.png')\n",
    "plt.show()"
   ]
  },
  {
   "cell_type": "code",
   "execution_count": null,
   "id": "efdefc2c",
   "metadata": {},
   "outputs": [],
   "source": [
    "# Plot training & validation loss values\n",
    "plt.plot(history.history['loss'])\n",
    "plt.plot(history.history['val_loss'])\n",
    "plt.title('BRNN Model  Loss')\n",
    "plt.ylabel('Loss')\n",
    "plt.xlabel('Epoch')\n",
    "plt.legend(['Train', 'Test'], loc='upper left')\n",
    "plt.savefig('BRNN 50 Model Loss.png')\n",
    "plt.show()"
   ]
  },
  {
   "cell_type": "code",
   "execution_count": null,
   "id": "a36fcb82",
   "metadata": {},
   "outputs": [],
   "source": [
    "predict = model.predict(X_test, verbose=1)"
   ]
  },
  {
   "cell_type": "code",
   "execution_count": null,
   "id": "51cbd9f6",
   "metadata": {},
   "outputs": [],
   "source": [
    "tp = 0\n",
    "tn = 0\n",
    "fp = 0\n",
    "fn = 0\n",
    "predictn = predict.flatten().round()\n",
    "predictn = predictn.tolist()\n",
    "Y_testn = Y_test.tolist()\n",
    "for i in range(len(Y_testn)):\n",
    "  if predictn[i]==1 and Y_testn[i]==1:\n",
    "    tp+=1\n",
    "  elif predictn[i]==0 and Y_testn[i]==0:\n",
    "    tn+=1\n",
    "  elif predictn[i]==0 and Y_testn[i]==1:\n",
    "    fp+=1\n",
    "  elif predictn[i]==1 and Y_testn[i]==0:\n",
    "    fn+=1\n",
    "to_heat_map =[[tn,fp],[fn,tp]]\n",
    "to_heat_map = pd.DataFrame(to_heat_map, index = [\"Attack\",\"Normal\"],columns = [\"Attack\",\"Normal\"])\n",
    "ax = sns.heatmap(to_heat_map,annot=True, fmt=\"d\")"
   ]
  },
  {
   "cell_type": "code",
   "execution_count": null,
   "id": "5477b51f",
   "metadata": {},
   "outputs": [],
   "source": [
    "figure = ax.get_figure()\n",
    "figure.savefig('confusion_matrix_BRNN_50.png', dpi=400)"
   ]
  },
  {
   "cell_type": "code",
   "execution_count": null,
   "id": "42ecc926",
   "metadata": {},
   "outputs": [],
   "source": [
    "model.save('brnn_model_50_step.h5')\n",
    "joblib.dump(scalar, 'scaler_50.save')"
   ]
  },
  {
   "cell_type": "code",
   "execution_count": null,
   "id": "2a938888",
   "metadata": {},
   "outputs": [],
   "source": [
    "scores = model.evaluate(X_test, Y_test, verbose=0)\n",
    "print(\"%s: %.2f%%\" % (model.metrics_names[1], scores[1]*100))"
   ]
  },
  {
   "cell_type": "code",
   "execution_count": null,
   "id": "c172e338",
   "metadata": {},
   "outputs": [],
   "source": [
    "print(classification_report(Y_testn,predictn))"
   ]
  },
  {
   "cell_type": "code",
   "execution_count": null,
   "id": "d9db1966",
   "metadata": {},
   "outputs": [],
   "source": [
    "lr_auc = roc_auc_score(Y_testn, predictn)\n",
    "print('SVM: ROC AUC=%.3f' % (lr_auc))"
   ]
  },
  {
   "cell_type": "code",
   "execution_count": null,
   "id": "9b4c4183",
   "metadata": {},
   "outputs": [],
   "source": [
    "time_start = time.perf_counter()\n",
    "predict = model.predict(I[:50], verbose=1)\n",
    "print(f\"Time elapse for prediction : {time.perf_counter() - time_start}\")\n",
    "print(predict)"
   ]
  },
  {
   "cell_type": "code",
   "execution_count": null,
   "id": "e955012d",
   "metadata": {},
   "outputs": [],
   "source": [
    "model.summary()"
   ]
  }
 ],
 "metadata": {
  "kernelspec": {
   "display_name": "Python 3 (ipykernel)",
   "language": "python",
   "name": "python3"
  },
  "language_info": {
   "codemirror_mode": {
    "name": "ipython",
    "version": 3
   },
   "file_extension": ".py",
   "mimetype": "text/x-python",
   "name": "python",
   "nbconvert_exporter": "python",
   "pygments_lexer": "ipython3",
   "version": "3.9.13"
  }
 },
 "nbformat": 4,
 "nbformat_minor": 5
}
