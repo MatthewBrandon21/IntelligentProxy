{
 "cells": [
  {
   "cell_type": "code",
   "execution_count": 1,
   "id": "76fa329c",
   "metadata": {},
   "outputs": [],
   "source": [
    "import numpy as np\n",
    "import pandas as pd\n",
    "import matplotlib.pyplot as plt\n",
    "import seaborn as sns; sns.set()\n",
    "from keras.models import Sequential, load_model\n",
    "from keras.layers import Dense, LSTM, Bidirectional\n",
    "from keras.utils.np_utils import to_categorical\n",
    "from keras.utils import np_utils\n",
    "from keras.callbacks import ModelCheckpoint, EarlyStopping\n",
    "from sklearn.model_selection import train_test_split\n",
    "from sklearn.preprocessing import LabelEncoder, StandardScaler\n",
    "from sklearn.metrics import classification_report, confusion_matrix\n",
    "from sklearn.metrics import roc_auc_score\n",
    "import joblib\n",
    "\n",
    "import time\n",
    "from collections import Counter\n",
    "from imblearn.over_sampling import SMOTE\n",
    "from imblearn.under_sampling import RandomUnderSampler\n",
    "from imblearn.pipeline import Pipeline"
   ]
  },
  {
   "cell_type": "code",
   "execution_count": 2,
   "id": "4cbbc4f7",
   "metadata": {},
   "outputs": [],
   "source": [
    "def StringToBytes(data):\n",
    "    sum = 0\n",
    "    arrbytes = bytes(data, 'utf-8')\n",
    "    for i in arrbytes:\n",
    "        sum = sum + i\n",
    "    return(sum)"
   ]
  },
  {
   "cell_type": "code",
   "execution_count": 3,
   "id": "d041644e",
   "metadata": {},
   "outputs": [],
   "source": [
    "data_normal_1 = pd.read_csv('dataset/timeseries/tcp_dataset_timeseries_normal_1.csv')\n",
    "data_normal_2 = pd.read_csv('dataset/timeseries/tcp_dataset_timeseries_normal_2.csv')\n",
    "data_normal_3 = pd.read_csv('dataset/timeseries/tcp_dataset_timeseries_normal_3.csv')\n",
    "data_normal_4 = pd.read_csv('dataset/timeseries/tcp_dataset_timeseries_normal_4.csv')\n",
    "\n",
    "data_normal_5 = pd.read_csv('dataset/timeseries/old/dataset_tcp_timeseries_normal_3.csv')\n",
    "\n",
    "data_attack_1 = pd.read_csv('dataset/timeseries/tcp_dataset_timeseries_attack_1.csv')\n",
    "data_attack_2 = pd.read_csv('dataset/timeseries/tcp_dataset_timeseries_attack_2.csv')\n",
    "data_attack_3 = pd.read_csv('dataset/timeseries/tcp_dataset_timeseries_attack_3.csv')\n",
    "\n",
    "data_attack_4 = pd.read_csv('dataset/timeseries/old/dataset_tcp_timeseries_attack_1.csv')"
   ]
  },
  {
   "cell_type": "code",
   "execution_count": 4,
   "id": "b0e9c85b",
   "metadata": {},
   "outputs": [],
   "source": [
    "data_normal_1.columns = ['port_src', 'seq', 'ack', 'dataofs', 'reserved', 'flags',\n",
    "       'window', 'chksum', 'urgptr', 'payload_len', 'label']\n",
    "data_normal_2.columns = ['port_src', 'seq', 'ack', 'dataofs', 'reserved', 'flags',\n",
    "       'window', 'chksum', 'urgptr', 'payload_len', 'label']\n",
    "data_normal_3.columns = ['port_src', 'seq', 'ack', 'dataofs', 'reserved', 'flags',\n",
    "       'window', 'chksum', 'urgptr', 'payload_len', 'label']\n",
    "data_normal_4.columns = ['port_src', 'seq', 'ack', 'dataofs', 'reserved', 'flags',\n",
    "       'window', 'chksum', 'urgptr', 'payload_len', 'label']\n",
    "\n",
    "data_normal_5.columns = ['timestamp', 'port_src', 'port_dest',\n",
    "       'seq', 'ack', 'dataofs', 'reserved', 'flags',\n",
    "       'window', 'chksum', 'urgptr', 'payload_len', 'label']\n",
    "\n",
    "data_attack_1.columns = ['port_src', 'seq', 'ack', 'dataofs', 'reserved', 'flags',\n",
    "       'window', 'chksum', 'urgptr', 'payload_len', 'label']\n",
    "data_attack_2.columns = ['port_src', 'seq', 'ack', 'dataofs', 'reserved', 'flags',\n",
    "       'window', 'chksum', 'urgptr', 'payload_len', 'label']\n",
    "data_attack_3.columns = ['port_src', 'seq', 'ack', 'dataofs', 'reserved', 'flags',\n",
    "       'window', 'chksum', 'urgptr', 'payload_len', 'label']\n",
    "\n",
    "data_attack_4.columns = ['timestamp', 'port_src', 'port_dest',\n",
    "       'seq', 'ack', 'dataofs', 'reserved', 'flags',\n",
    "       'window', 'chksum', 'urgptr', 'payload_len', 'label']"
   ]
  },
  {
   "cell_type": "code",
   "execution_count": 5,
   "id": "b3292744",
   "metadata": {},
   "outputs": [],
   "source": [
    "data_normal_5 = data_normal_5.drop(['timestamp', 'port_dest'],axis=1)\n",
    "\n",
    "data_attack_4 = data_attack_4.drop(['timestamp', 'port_dest'],axis=1)"
   ]
  },
  {
   "cell_type": "code",
   "execution_count": 6,
   "id": "12aa93dc",
   "metadata": {},
   "outputs": [],
   "source": [
    "features = ['port_src', 'seq', 'ack', 'dataofs', 'reserved', 'flags',\n",
    "       'window', 'chksum', 'urgptr', 'payload_len']"
   ]
  },
  {
   "cell_type": "code",
   "execution_count": 7,
   "id": "c3caaf52",
   "metadata": {},
   "outputs": [],
   "source": [
    "X_normal_1 = data_normal_1[features].values\n",
    "X_normal_2 = data_normal_2[features].values\n",
    "X_normal_3 = data_normal_3[features].values\n",
    "X_normal_4 = data_normal_4[features].values\n",
    "X_normal_5 = data_normal_5[features].values\n",
    "\n",
    "X_attack_1 = data_attack_1[features].values\n",
    "X_attack_2 = data_attack_2[features].values\n",
    "X_attack_3 = data_attack_3[features].values\n",
    "X_attack_4 = data_attack_4[features].values\n",
    "\n",
    "Y_normal_1 = data_normal_1['label']\n",
    "Y_normal_2 = data_normal_2['label']\n",
    "Y_normal_3 = data_normal_3['label']\n",
    "Y_normal_4 = data_normal_4['label']\n",
    "Y_normal_5 = data_normal_5['label']\n",
    "\n",
    "Y_attack_1 = data_attack_1['label']\n",
    "Y_attack_2 = data_attack_2['label']\n",
    "Y_attack_3 = data_attack_3['label']\n",
    "Y_attack_4 = data_attack_4['label']\n",
    "\n",
    "X=np.concatenate((X_normal_1,X_normal_2,X_normal_3,X_normal_4,X_normal_5,X_attack_1,X_attack_2,X_attack_3,X_attack_4))\n",
    "Y=np.concatenate((Y_normal_1,Y_normal_2,Y_normal_3,Y_normal_4,Y_normal_5,Y_attack_1,Y_attack_2,Y_attack_3,Y_attack_4))"
   ]
  },
  {
   "cell_type": "code",
   "execution_count": 8,
   "id": "3fd73c9f",
   "metadata": {},
   "outputs": [],
   "source": [
    "for i in range(len(X)):\n",
    "    X[i][5] = StringToBytes(str(X[i][5]))"
   ]
  },
  {
   "cell_type": "code",
   "execution_count": 9,
   "id": "a21297c9",
   "metadata": {},
   "outputs": [
    {
     "name": "stdout",
     "output_type": "stream",
     "text": [
      "Counter({0: 96512, 1: 90273})\n"
     ]
    }
   ],
   "source": [
    "data_counter = Counter(Y)\n",
    "print(data_counter)"
   ]
  },
  {
   "cell_type": "code",
   "execution_count": 10,
   "id": "741cc249",
   "metadata": {},
   "outputs": [],
   "source": [
    "over = SMOTE()\n",
    "under = RandomUnderSampler()\n",
    "steps = [('o', over), ('u', under)]\n",
    "pipeline = Pipeline(steps=steps)\n",
    "X, Y = pipeline.fit_resample(X, Y)"
   ]
  },
  {
   "cell_type": "code",
   "execution_count": 11,
   "id": "409135a7",
   "metadata": {},
   "outputs": [
    {
     "name": "stdout",
     "output_type": "stream",
     "text": [
      "Counter({0: 96512, 1: 96512})\n"
     ]
    }
   ],
   "source": [
    "data_counter = Counter(Y)\n",
    "print(data_counter)"
   ]
  },
  {
   "cell_type": "code",
   "execution_count": 12,
   "id": "08f5daf5",
   "metadata": {},
   "outputs": [],
   "source": [
    "scalar = StandardScaler(copy=True, with_mean=True, with_std=True)\n",
    "scalar.fit(X)\n",
    "X = scalar.transform(X)"
   ]
  },
  {
   "cell_type": "code",
   "execution_count": 13,
   "id": "03fb017a",
   "metadata": {},
   "outputs": [
    {
     "name": "stdout",
     "output_type": "stream",
     "text": [
      "(193024, 10)\n",
      "(193024,)\n"
     ]
    }
   ],
   "source": [
    "print(np.shape(X))\n",
    "print(np.shape(Y))"
   ]
  },
  {
   "cell_type": "code",
   "execution_count": 14,
   "id": "9b543209",
   "metadata": {},
   "outputs": [],
   "source": [
    "features = len(X[0])\n",
    "samples = X.shape[0]\n",
    "train_len = 200\n",
    "input_len = samples - train_len\n",
    "I = np.zeros((samples - train_len, train_len, features))"
   ]
  },
  {
   "cell_type": "code",
   "execution_count": 15,
   "id": "4a802d89",
   "metadata": {},
   "outputs": [],
   "source": [
    "for i in range(input_len):\n",
    "    temp = np.zeros((train_len, features))\n",
    "    for j in range(i, i + train_len - 1):\n",
    "        temp[j-i] = X[j]\n",
    "    I[i] = temp"
   ]
  },
  {
   "cell_type": "code",
   "execution_count": 16,
   "id": "7668c3b1",
   "metadata": {},
   "outputs": [
    {
     "name": "stdout",
     "output_type": "stream",
     "text": [
      "(192824, 200, 10)\n"
     ]
    }
   ],
   "source": [
    "print(I.shape)"
   ]
  },
  {
   "cell_type": "code",
   "execution_count": 17,
   "id": "fde8f9e5",
   "metadata": {},
   "outputs": [],
   "source": [
    "X_train, X_test, Y_train, Y_test = train_test_split(I, Y[200:], test_size = 0.2, stratify=Y[200:], random_state = 0)"
   ]
  },
  {
   "cell_type": "code",
   "execution_count": 18,
   "id": "a5c0d100",
   "metadata": {},
   "outputs": [],
   "source": [
    "def create_baseline():\n",
    "    model = Sequential()\n",
    "    model.add(Bidirectional(LSTM(64, activation='tanh', kernel_regularizer='l2')))\n",
    "    model.add(Dense(128, activation = 'relu', kernel_regularizer='l2'))\n",
    "    model.add(Dense(1, activation = 'sigmoid', kernel_regularizer='l2'))\n",
    "    model.compile(loss = 'binary_crossentropy', optimizer = 'adam', metrics = ['accuracy'])\n",
    "    return model"
   ]
  },
  {
   "cell_type": "code",
   "execution_count": 19,
   "id": "6c6a82e8",
   "metadata": {},
   "outputs": [],
   "source": [
    "model = create_baseline()"
   ]
  },
  {
   "cell_type": "code",
   "execution_count": 20,
   "id": "6e010d07",
   "metadata": {},
   "outputs": [
    {
     "name": "stdout",
     "output_type": "stream",
     "text": [
      "WARNING:tensorflow:`period` argument is deprecated. Please use `save_freq` to specify the frequency in number of batches seen.\n"
     ]
    }
   ],
   "source": [
    "checkpoint = ModelCheckpoint(\"LSTMmodel.h5\", monitor='val_loss', verbose=1, save_best_only=True, save_weights_only=False, mode='auto', period=1)\n",
    "early = EarlyStopping(monitor='val_loss', min_delta=0, patience=5, verbose=1, mode='auto')"
   ]
  },
  {
   "cell_type": "code",
   "execution_count": 21,
   "id": "6397598b",
   "metadata": {},
   "outputs": [
    {
     "name": "stdout",
     "output_type": "stream",
     "text": [
      "Epoch 1/30\n",
      "3855/3857 [============================>.] - ETA: 0s - loss: 0.0713 - accuracy: 0.9940\n",
      "Epoch 00001: val_loss improved from inf to 0.02729, saving model to LSTMmodel.h5\n",
      "3857/3857 [==============================] - 100s 25ms/step - loss: 0.0713 - accuracy: 0.9940 - val_loss: 0.0273 - val_accuracy: 0.9999\n",
      "Epoch 2/30\n",
      "3856/3857 [============================>.] - ETA: 0s - loss: 0.0398 - accuracy: 0.9978\n",
      "Epoch 00002: val_loss did not improve from 0.02729\n",
      "3857/3857 [==============================] - 95s 25ms/step - loss: 0.0398 - accuracy: 0.9978 - val_loss: 0.0310 - val_accuracy: 0.9999\n",
      "Epoch 3/30\n",
      "3856/3857 [============================>.] - ETA: 0s - loss: 0.0432 - accuracy: 0.9967\n",
      "Epoch 00003: val_loss did not improve from 0.02729\n",
      "3857/3857 [==============================] - 97s 25ms/step - loss: 0.0432 - accuracy: 0.9967 - val_loss: 0.0465 - val_accuracy: 0.9971\n",
      "Epoch 4/30\n",
      "3857/3857 [==============================] - ETA: 0s - loss: 0.0643 - accuracy: 0.9911\n",
      "Epoch 00004: val_loss did not improve from 0.02729\n",
      "3857/3857 [==============================] - 96s 25ms/step - loss: 0.0643 - accuracy: 0.9911 - val_loss: 0.0343 - val_accuracy: 0.9999\n",
      "Epoch 5/30\n",
      "3857/3857 [==============================] - ETA: 0s - loss: 0.0515 - accuracy: 0.9953\n",
      "Epoch 00005: val_loss did not improve from 0.02729\n",
      "3857/3857 [==============================] - 97s 25ms/step - loss: 0.0515 - accuracy: 0.9953 - val_loss: 0.0288 - val_accuracy: 0.9999\n",
      "Epoch 6/30\n",
      "3855/3857 [============================>.] - ETA: 0s - loss: 0.0346 - accuracy: 0.9980\n",
      "Epoch 00006: val_loss did not improve from 0.02729\n",
      "3857/3857 [==============================] - 96s 25ms/step - loss: 0.0346 - accuracy: 0.9980 - val_loss: 0.0904 - val_accuracy: 0.9842\n",
      "Epoch 00006: early stopping\n"
     ]
    }
   ],
   "source": [
    "history = model.fit(X_train, Y_train, epochs = 30,validation_split=0.2, verbose = 1, callbacks=[checkpoint,early])"
   ]
  },
  {
   "cell_type": "code",
   "execution_count": 22,
   "id": "c295f029",
   "metadata": {},
   "outputs": [
    {
     "data": {
      "image/png": "[encoded data removed]",
      "text/plain": [
       "<Figure size 640x480 with 1 Axes>"
      ]
     },
     "metadata": {},
     "output_type": "display_data"
    }
   ],
   "source": [
    "# Plot training & validation accuracy values\n",
    "plt.plot(history.history['accuracy'])\n",
    "plt.plot(history.history['val_accuracy'])\n",
    "plt.title('BRNN Model Accuracy')\n",
    "plt.ylabel('Accuracy')\n",
    "plt.xlabel('Epoch')\n",
    "plt.legend(['Train', 'Test'], loc='lower right')\n",
    "plt.savefig('BRNN 200 Model Accuracy.png')\n",
    "plt.show()"
   ]
  },
  {
   "cell_type": "code",
   "execution_count": 23,
   "id": "efdefc2c",
   "metadata": {},
   "outputs": [
    {
     "data": {
      "image/png": "[encoded data removed]",
      "text/plain": [
       "<Figure size 640x480 with 1 Axes>"
      ]
     },
     "metadata": {},
     "output_type": "display_data"
    }
   ],
   "source": [
    "# Plot training & validation loss values\n",
    "plt.plot(history.history['loss'])\n",
    "plt.plot(history.history['val_loss'])\n",
    "plt.title('BRNN Model  Loss')\n",
    "plt.ylabel('Loss')\n",
    "plt.xlabel('Epoch')\n",
    "plt.legend(['Train', 'Test'], loc='upper left')\n",
    "plt.savefig('BRNN 200 Model Loss.png')\n",
    "plt.show()"
   ]
  },
  {
   "cell_type": "code",
   "execution_count": 24,
   "id": "a36fcb82",
   "metadata": {},
   "outputs": [
    {
     "name": "stdout",
     "output_type": "stream",
     "text": [
      "1206/1206 [==============================] - 13s 10ms/step\n"
     ]
    }
   ],
   "source": [
    "predict = model.predict(X_test, verbose=1)"
   ]
  },
  {
   "cell_type": "code",
   "execution_count": 25,
   "id": "51cbd9f6",
   "metadata": {},
   "outputs": [
    {
     "data": {
      "image/png": "[encoded data removed]",
      "text/plain": [
       "<Figure size 640x480 with 2 Axes>"
      ]
     },
     "metadata": {},
     "output_type": "display_data"
    }
   ],
   "source": [
    "tp = 0\n",
    "tn = 0\n",
    "fp = 0\n",
    "fn = 0\n",
    "predictn = predict.flatten().round()\n",
    "predictn = predictn.tolist()\n",
    "Y_testn = Y_test.tolist()\n",
    "for i in range(len(Y_testn)):\n",
    "  if predictn[i]==1 and Y_testn[i]==1:\n",
    "    tp+=1\n",
    "  elif predictn[i]==0 and Y_testn[i]==0:\n",
    "    tn+=1\n",
    "  elif predictn[i]==0 and Y_testn[i]==1:\n",
    "    fp+=1\n",
    "  elif predictn[i]==1 and Y_testn[i]==0:\n",
    "    fn+=1\n",
    "to_heat_map =[[tn,fp],[fn,tp]]\n",
    "to_heat_map = pd.DataFrame(to_heat_map, index = [\"Attack\",\"Normal\"],columns = [\"Attack\",\"Normal\"])\n",
    "ax = sns.heatmap(to_heat_map,annot=True, fmt=\"d\")"
   ]
  },
  {
   "cell_type": "code",
   "execution_count": 26,
   "id": "5477b51f",
   "metadata": {},
   "outputs": [],
   "source": [
    "figure = ax.get_figure()\n",
    "figure.savefig('confusion_matrix_BRNN_200.png', dpi=400)"
   ]
  },
  {
   "cell_type": "code",
   "execution_count": 27,
   "id": "42ecc926",
   "metadata": {},
   "outputs": [
    {
     "data": {
      "text/plain": [
       "['scaler_200.save']"
      ]
     },
     "execution_count": 27,
     "metadata": {},
     "output_type": "execute_result"
    }
   ],
   "source": [
    "# model.save('brnn_model_200_step.h5')\n",
    "joblib.dump(scalar, 'scaler_200.save')"
   ]
  },
  {
   "cell_type": "code",
   "execution_count": 28,
   "id": "2a938888",
   "metadata": {},
   "outputs": [
    {
     "name": "stdout",
     "output_type": "stream",
     "text": [
      "accuracy: 98.46%\n"
     ]
    }
   ],
   "source": [
    "scores = model.evaluate(X_test, Y_test, verbose=0)\n",
    "print(\"%s: %.2f%%\" % (model.metrics_names[1], scores[1]*100))"
   ]
  },
  {
   "cell_type": "code",
   "execution_count": 29,
   "id": "c172e338",
   "metadata": {},
   "outputs": [
    {
     "name": "stdout",
     "output_type": "stream",
     "text": [
      "              precision    recall  f1-score   support\n",
      "\n",
      "           0       1.00      0.97      0.98     19262\n",
      "           1       0.97      1.00      0.98     19303\n",
      "\n",
      "    accuracy                           0.98     38565\n",
      "   macro avg       0.99      0.98      0.98     38565\n",
      "weighted avg       0.99      0.98      0.98     38565\n",
      "\n"
     ]
    }
   ],
   "source": [
    "print(classification_report(Y_testn,predictn))"
   ]
  },
  {
   "cell_type": "code",
   "execution_count": 30,
   "id": "d9db1966",
   "metadata": {},
   "outputs": [
    {
     "name": "stdout",
     "output_type": "stream",
     "text": [
      "SVM: ROC AUC=0.985\n"
     ]
    }
   ],
   "source": [
    "lr_auc = roc_auc_score(Y_testn, predictn)\n",
    "print('SVM: ROC AUC=%.3f' % (lr_auc))"
   ]
  },
  {
   "cell_type": "code",
   "execution_count": 31,
   "id": "9b4c4183",
   "metadata": {},
   "outputs": [
    {
     "name": "stdout",
     "output_type": "stream",
     "text": [
      "7/7 [==============================] - 0s 10ms/step\n",
      "Time elapse for prediction : 0.10012440000002698\n",
      "[[0.00362906]\n",
      " [0.00362893]\n",
      " [0.00362926]\n",
      " [0.00362983]\n",
      " [0.00363083]\n",
      " [0.00363088]\n",
      " [0.0036302 ]\n",
      " [0.00363105]\n",
      " [0.0036311 ]\n",
      " [0.00363129]\n",
      " [0.00363129]\n",
      " [0.00363137]\n",
      " [0.00363093]\n",
      " [0.00363142]\n",
      " [0.00363139]\n",
      " [0.00363123]\n",
      " [0.00363104]\n",
      " [0.00363081]\n",
      " [0.00363057]\n",
      " [0.00363076]\n",
      " [0.00363027]\n",
      " [0.00363023]\n",
      " [0.00363003]\n",
      " [0.0036297 ]\n",
      " [0.00362922]\n",
      " [0.00362916]\n",
      " [0.00362908]\n",
      " [0.00362901]\n",
      " [0.00362891]\n",
      " [0.0036289 ]\n",
      " [0.00362898]\n",
      " [0.00362911]\n",
      " [0.00362926]\n",
      " [0.00362947]\n",
      " [0.00362973]\n",
      " [0.00362997]\n",
      " [0.00362974]\n",
      " [0.00363016]\n",
      " [0.00362901]\n",
      " [0.00363089]\n",
      " [0.0036307 ]\n",
      " [0.00363004]\n",
      " [0.00362933]\n",
      " [0.00363079]\n",
      " [0.00363084]\n",
      " [0.00363063]\n",
      " [0.00363075]\n",
      " [0.00363061]\n",
      " [0.0036307 ]\n",
      " [0.00363073]\n",
      " [0.00363088]\n",
      " [0.00363092]\n",
      " [0.00363092]\n",
      " [0.00363106]\n",
      " [0.00363099]\n",
      " [0.00363097]\n",
      " [0.00363092]\n",
      " [0.00363091]\n",
      " [0.0036305 ]\n",
      " [0.00362965]\n",
      " [0.00363082]\n",
      " [0.003631  ]\n",
      " [0.00363111]\n",
      " [0.0036309 ]\n",
      " [0.00363093]\n",
      " [0.00363086]\n",
      " [0.00363085]\n",
      " [0.00363022]\n",
      " [0.00363021]\n",
      " [0.0036304 ]\n",
      " [0.00363045]\n",
      " [0.00363021]\n",
      " [0.00363026]\n",
      " [0.00363033]\n",
      " [0.00363011]\n",
      " [0.00362944]\n",
      " [0.00363073]\n",
      " [0.00363003]\n",
      " [0.00363095]\n",
      " [0.00363088]\n",
      " [0.00363082]\n",
      " [0.00363021]\n",
      " [0.00363025]\n",
      " [0.00363035]\n",
      " [0.00363034]\n",
      " [0.00363041]\n",
      " [0.00363051]\n",
      " [0.00363058]\n",
      " [0.00363073]\n",
      " [0.00363088]\n",
      " [0.00363102]\n",
      " [0.00363118]\n",
      " [0.00363129]\n",
      " [0.00363159]\n",
      " [0.00363106]\n",
      " [0.00363053]\n",
      " [0.00363178]\n",
      " [0.00363206]\n",
      " [0.0036319 ]\n",
      " [0.00363194]\n",
      " [0.00363193]\n",
      " [0.00363207]\n",
      " [0.00363148]\n",
      " [0.00363131]\n",
      " [0.00363144]\n",
      " [0.00363181]\n",
      " [0.00363118]\n",
      " [0.00363113]\n",
      " [0.00363113]\n",
      " [0.9733445 ]\n",
      " [0.97336733]\n",
      " [0.97337127]\n",
      " [0.9733464 ]\n",
      " [0.973327  ]\n",
      " [0.00363196]\n",
      " [0.00363251]\n",
      " [0.00363242]\n",
      " [0.00363264]\n",
      " [0.00363312]\n",
      " [0.00363365]\n",
      " [0.00363289]\n",
      " [0.00363344]\n",
      " [0.00363348]\n",
      " [0.00363352]\n",
      " [0.00363357]\n",
      " [0.00363364]\n",
      " [0.00363369]\n",
      " [0.00363373]\n",
      " [0.00363377]\n",
      " [0.00363381]\n",
      " [0.00363376]\n",
      " [0.00363355]\n",
      " [0.00363325]\n",
      " [0.00363371]\n",
      " [0.00363374]\n",
      " [0.00363383]\n",
      " [0.00363378]\n",
      " [0.00363391]\n",
      " [0.00363377]\n",
      " [0.00363332]\n",
      " [0.0036324 ]\n",
      " [0.00363287]\n",
      " [0.00363331]\n",
      " [0.0036327 ]\n",
      " [0.00363198]\n",
      " [0.00363182]\n",
      " [0.00363159]\n",
      " [0.00363128]\n",
      " [0.00363101]\n",
      " [0.0036307 ]\n",
      " [0.00363036]\n",
      " [0.00362992]\n",
      " [0.00362947]\n",
      " [0.00362871]\n",
      " [0.00363032]\n",
      " [0.0036296 ]\n",
      " [0.00363019]\n",
      " [0.00363049]\n",
      " [0.00363029]\n",
      " [0.00362957]\n",
      " [0.00362805]\n",
      " [0.00362974]\n",
      " [0.00362976]\n",
      " [0.00362993]\n",
      " [0.00363003]\n",
      " [0.00362999]\n",
      " [0.00362996]\n",
      " [0.00362994]\n",
      " [0.00362924]\n",
      " [0.00362853]\n",
      " [0.00362945]\n",
      " [0.00362948]\n",
      " [0.00362979]\n",
      " [0.00362975]\n",
      " [0.00362988]\n",
      " [0.00363002]\n",
      " [0.00363012]\n",
      " [0.00363026]\n",
      " [0.00363042]\n",
      " [0.00363075]\n",
      " [0.00363056]\n",
      " [0.0036304 ]\n",
      " [0.00363041]\n",
      " [0.00362971]\n",
      " [0.0036303 ]\n",
      " [0.00363075]\n",
      " [0.00363065]\n",
      " [0.00363081]\n",
      " [0.00363095]\n",
      " [0.00363043]\n",
      " [0.0036306 ]\n",
      " [0.00363086]\n",
      " [0.00363066]\n",
      " [0.00363082]\n",
      " [0.00363095]\n",
      " [0.00363073]\n",
      " [0.00363079]\n",
      " [0.00363077]\n",
      " [0.00362915]\n",
      " [0.00363095]]\n"
     ]
    }
   ],
   "source": [
    "time_start = time.perf_counter()\n",
    "predict = model.predict(I[:200], verbose=1)\n",
    "print(f\"Time elapse for prediction : {time.perf_counter() - time_start}\")\n",
    "print(predict)"
   ]
  }
 ],
 "metadata": {
  "kernelspec": {
   "display_name": "Python 3 (ipykernel)",
   "language": "python",
   "name": "python3"
  },
  "language_info": {
   "codemirror_mode": {
    "name": "ipython",
    "version": 3
   },
   "file_extension": ".py",
   "mimetype": "text/x-python",
   "name": "python",
   "nbconvert_exporter": "python",
   "pygments_lexer": "ipython3",
   "version": "3.9.13"
  }
 },
 "nbformat": 4,
 "nbformat_minor": 5
}
