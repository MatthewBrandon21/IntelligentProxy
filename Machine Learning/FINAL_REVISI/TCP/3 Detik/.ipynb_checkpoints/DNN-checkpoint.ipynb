{
 "cells": [
  {
   "cell_type": "code",
   "execution_count": 1,
   "id": "9f780517",
   "metadata": {},
   "outputs": [],
   "source": [
    "import numpy as np\n",
    "import pandas as pd\n",
    "from matplotlib import pyplot as plt\n",
    "import seaborn as sns; sns.set()\n",
    "from keras.layers import Dense, Dropout\n",
    "from keras.models import Sequential\n",
    "from keras.models import load_model\n",
    "from keras.callbacks import ModelCheckpoint, EarlyStopping\n",
    "from tensorflow.keras.utils import to_categorical\n",
    "from sklearn.model_selection import train_test_split\n",
    "from sklearn.preprocessing import LabelEncoder, StandardScaler\n",
    "from sklearn.metrics import classification_report, confusion_matrix\n",
    "from sklearn.metrics import roc_auc_score\n",
    "import joblib\n",
    "import time\n",
    "from collections import Counter\n",
    "from imblearn.over_sampling import SMOTE\n",
    "from imblearn.under_sampling import RandomUnderSampler\n",
    "from imblearn.pipeline import Pipeline"
   ]
  },
  {
   "cell_type": "code",
   "execution_count": 2,
   "id": "5c265d83",
   "metadata": {},
   "outputs": [],
   "source": [
    "features, labels = [], []\n",
    "training_files = [\"../dataset/individual/tcp_dataset_individual_attack_3detik.csv\",\n",
    "                  \"../dataset/individual/tcp_dataset_individual_normal_3detik_1.csv\",\n",
    "                  \"../dataset/individual/tcp_dataset_individual_normal_3detik_2.csv\"]"
   ]
  },
  {
   "cell_type": "code",
   "execution_count": 3,
   "id": "33a79058",
   "metadata": {},
   "outputs": [],
   "source": [
    "def scrape_data():\n",
    "    global training_files\n",
    "    global features\n",
    "    global labels\n",
    "    \n",
    "    for fname in training_files:\n",
    "        meal = open(fname, \"rt\")\n",
    "        for line in meal:\n",
    "            data_list = line.rsplit(\",\")\n",
    "            if(len(data_list) != 14):\n",
    "                print(\"error data\")\n",
    "            else:\n",
    "                data_list[(len(data_list)-1)]=int(data_list[(len(data_list)-1)].replace('\\n', ''))\n",
    "                features.append(data_list[:(len(data_list)-1)])\n",
    "                labels.append(data_list[(len(data_list)-1)])\n",
    "        meal.close()\n",
    "    \n",
    "    data_counter = Counter(labels)\n",
    "    print(data_counter)\n",
    "    \n",
    "    over = SMOTE()\n",
    "    under = RandomUnderSampler()\n",
    "    steps = [('o', over), ('u', under)]\n",
    "    pipeline = Pipeline(steps=steps)\n",
    "    features, labels = pipeline.fit_resample(features, labels)\n",
    "    \n",
    "    data_counter = Counter(labels)\n",
    "    print(data_counter)\n",
    "    \n",
    "    scalar = StandardScaler(copy=True, with_mean=True, with_std=True)\n",
    "    scalar.fit(features)\n",
    "    features = scalar.transform(features)\n",
    "    \n",
    "    features = np.array(features).astype(np.float64)\n",
    "    features = features.tolist()\n",
    "    \n",
    "    print(f\"Size of feature dataset : {len(features)}\")\n",
    "    print(f\"Size of feature dataset : {len(labels)}\")\n",
    "    print(\"Features first and last entries:\\n\\t\", end = \"\")\n",
    "    print(features[:1] + features[(len(features)-1):])\n",
    "    print(\"Labels first and last entries:\\n\\t\", end = \"\")\n",
    "    print(labels[:1] + labels[(len(features)-1):])\n",
    "    \n",
    "    features_train, features_test, labels_train, labels_test = train_test_split(features, labels, test_size = 0.20, stratify=labels, random_state = 0)\n",
    "    \n",
    "    return np.asarray(features_train), np.asarray(labels_train), np.asarray(features_test), np.asarray(labels_test)"
   ]
  },
  {
   "cell_type": "code",
   "execution_count": 4,
   "id": "9b84bae1",
   "metadata": {},
   "outputs": [],
   "source": [
    "def generate_model(shape):\n",
    "    model = Sequential()\n",
    "\n",
    "    model.add(Dense(256, input_dim=shape, kernel_initializer='uniform', activation='relu'))\n",
    "    model.add(Dropout(0.4))\n",
    "    model.add(Dense(128, activation='relu'))\n",
    "    model.add(Dropout(0.4))\n",
    "    model.add(Dense(64, activation='relu'))\n",
    "    model.add(Dropout(0.4))\n",
    "    model.add(Dense(32, activation='relu'))\n",
    "    model.add(Dropout(0.4))\n",
    "    model.add(Dense(1, activation='sigmoid'))\n",
    "    print(model.summary())\n",
    "\n",
    "    return model"
   ]
  },
  {
   "cell_type": "code",
   "execution_count": 5,
   "id": "d6ef0b01",
   "metadata": {},
   "outputs": [
    {
     "name": "stdout",
     "output_type": "stream",
     "text": [
      "Counter({0: 250, 1: 161})\n",
      "Counter({0: 250, 1: 250})\n",
      "Size of feature dataset : 500\n",
      "Size of feature dataset : 500\n",
      "Features first and last entries:\n",
      "\t[[-2.3464594435212067, -0.629119114288364, -1.0788031275306045, -0.008415225029301473, 0.5417995290996331, 0.8060258210814472, 0.0, 1.0638903188996094, 0.6013156713410271, -0.2385023150519984, 0.0, 0.5677972135118733, -1.0685450137625268], [0.532976907130693, 1.6636175185304212, -1.075257830082479, -0.7249270078245899, -0.6232864737846427, -0.9101750773421672, 0.0, -0.8884324663745962, -0.9302035155477887, 0.44578410224094633, 0.0, -0.7323478390603453, -0.062044847163576784]]\n",
      "Labels first and last entries:\n",
      "\t[0, 1]\n"
     ]
    },
    {
     "name": "stderr",
     "output_type": "stream",
     "text": [
      "C:\\Users\\H P VICTUS\\anaconda3\\lib\\site-packages\\sklearn\\utils\\validation.py:964: FutureWarning: Arrays of bytes/strings is being converted to decimal numbers if dtype='numeric'. This behavior is deprecated in 0.24 and will be removed in 1.1 (renaming of 0.26). Please convert your data to numeric values explicitly instead.\n",
      "  X = check_array(\n"
     ]
    }
   ],
   "source": [
    "data_train, label_train, data_eval, label_eval = scrape_data()"
   ]
  },
  {
   "cell_type": "code",
   "execution_count": 6,
   "id": "89771801",
   "metadata": {},
   "outputs": [
    {
     "name": "stdout",
     "output_type": "stream",
     "text": [
      "Model: \"sequential\"\n",
      "_________________________________________________________________\n",
      " Layer (type)                Output Shape              Param #   \n",
      "=================================================================\n",
      " dense (Dense)               (None, 256)               3584      \n",
      "                                                                 \n",
      " dropout (Dropout)           (None, 256)               0         \n",
      "                                                                 \n",
      " dense_1 (Dense)             (None, 128)               32896     \n",
      "                                                                 \n",
      " dropout_1 (Dropout)         (None, 128)               0         \n",
      "                                                                 \n",
      " dense_2 (Dense)             (None, 64)                8256      \n",
      "                                                                 \n",
      " dropout_2 (Dropout)         (None, 64)                0         \n",
      "                                                                 \n",
      " dense_3 (Dense)             (None, 32)                2080      \n",
      "                                                                 \n",
      " dropout_3 (Dropout)         (None, 32)                0         \n",
      "                                                                 \n",
      " dense_4 (Dense)             (None, 1)                 33        \n",
      "                                                                 \n",
      "=================================================================\n",
      "Total params: 46,849\n",
      "Trainable params: 46,849\n",
      "Non-trainable params: 0\n",
      "_________________________________________________________________\n",
      "None\n"
     ]
    }
   ],
   "source": [
    "model = generate_model(len(data_train[0]))"
   ]
  },
  {
   "cell_type": "code",
   "execution_count": 7,
   "id": "071ae79f",
   "metadata": {},
   "outputs": [
    {
     "name": "stdout",
     "output_type": "stream",
     "text": [
      "Model: \"sequential\"\n",
      "_________________________________________________________________\n",
      " Layer (type)                Output Shape              Param #   \n",
      "=================================================================\n",
      " dense (Dense)               (None, 256)               3584      \n",
      "                                                                 \n",
      " dropout (Dropout)           (None, 256)               0         \n",
      "                                                                 \n",
      " dense_1 (Dense)             (None, 128)               32896     \n",
      "                                                                 \n",
      " dropout_1 (Dropout)         (None, 128)               0         \n",
      "                                                                 \n",
      " dense_2 (Dense)             (None, 64)                8256      \n",
      "                                                                 \n",
      " dropout_2 (Dropout)         (None, 64)                0         \n",
      "                                                                 \n",
      " dense_3 (Dense)             (None, 32)                2080      \n",
      "                                                                 \n",
      " dropout_3 (Dropout)         (None, 32)                0         \n",
      "                                                                 \n",
      " dense_4 (Dense)             (None, 1)                 33        \n",
      "                                                                 \n",
      "=================================================================\n",
      "Total params: 46,849\n",
      "Trainable params: 46,849\n",
      "Non-trainable params: 0\n",
      "_________________________________________________________________\n"
     ]
    }
   ],
   "source": [
    "model.summary()"
   ]
  },
  {
   "cell_type": "code",
   "execution_count": 8,
   "id": "5e5b8b02",
   "metadata": {},
   "outputs": [],
   "source": [
    "model.compile(loss='binary_crossentropy', optimizer='adam', metrics=['accuracy'])"
   ]
  },
  {
   "cell_type": "code",
   "execution_count": 9,
   "id": "6c798507",
   "metadata": {},
   "outputs": [
    {
     "name": "stdout",
     "output_type": "stream",
     "text": [
      "WARNING:tensorflow:`period` argument is deprecated. Please use `save_freq` to specify the frequency in number of batches seen.\n"
     ]
    }
   ],
   "source": [
    "checkpoint = ModelCheckpoint(\"dnnModel.h5\", monitor='val_loss', verbose=1, save_best_only=True, save_weights_only=False, mode='auto', period=1)\n",
    "early = EarlyStopping(monitor='val_loss', min_delta=0, patience=30, verbose=1, mode='auto')"
   ]
  },
  {
   "cell_type": "code",
   "execution_count": 10,
   "id": "a7def03b",
   "metadata": {},
   "outputs": [
    {
     "name": "stdout",
     "output_type": "stream",
     "text": [
      "Epoch 1/100\n",
      " 1/10 [==>...........................] - ETA: 11s - loss: 0.7156 - accuracy: 0.5000\n",
      "Epoch 00001: val_loss improved from inf to 0.54128, saving model to dnnModel.h5\n",
      "10/10 [==============================] - 1s 18ms/step - loss: 0.6414 - accuracy: 0.7312 - val_loss: 0.5413 - val_accuracy: 0.9750\n",
      "Epoch 2/100\n",
      " 1/10 [==>...........................] - ETA: 0s - loss: 0.5466 - accuracy: 0.9062\n",
      "Epoch 00002: val_loss improved from 0.54128 to 0.26530, saving model to dnnModel.h5\n",
      "10/10 [==============================] - 0s 9ms/step - loss: 0.4376 - accuracy: 0.9563 - val_loss: 0.2653 - val_accuracy: 0.9750\n",
      "Epoch 3/100\n",
      " 1/10 [==>...........................] - ETA: 0s - loss: 0.2890 - accuracy: 1.0000\n",
      "Epoch 00003: val_loss improved from 0.26530 to 0.10646, saving model to dnnModel.h5\n",
      "10/10 [==============================] - 0s 7ms/step - loss: 0.1960 - accuracy: 0.9844 - val_loss: 0.1065 - val_accuracy: 0.9750\n",
      "Epoch 4/100\n",
      " 1/10 [==>...........................] - ETA: 0s - loss: 0.0743 - accuracy: 1.0000\n",
      "Epoch 00004: val_loss did not improve from 0.10646\n",
      "10/10 [==============================] - 0s 5ms/step - loss: 0.0544 - accuracy: 0.9969 - val_loss: 0.1294 - val_accuracy: 0.9750\n",
      "Epoch 5/100\n",
      " 1/10 [==>...........................] - ETA: 0s - loss: 0.0541 - accuracy: 1.0000\n",
      "Epoch 00005: val_loss did not improve from 0.10646\n",
      "10/10 [==============================] - 0s 5ms/step - loss: 0.0219 - accuracy: 0.9969 - val_loss: 0.1819 - val_accuracy: 0.9750\n",
      "Epoch 6/100\n",
      " 1/10 [==>...........................] - ETA: 0s - loss: 0.0051 - accuracy: 1.0000\n",
      "Epoch 00006: val_loss did not improve from 0.10646\n",
      "10/10 [==============================] - 0s 5ms/step - loss: 0.0098 - accuracy: 0.9969 - val_loss: 0.2183 - val_accuracy: 0.9750\n",
      "Epoch 7/100\n",
      " 1/10 [==>...........................] - ETA: 0s - loss: 0.0033 - accuracy: 1.0000\n",
      "Epoch 00007: val_loss did not improve from 0.10646\n",
      "10/10 [==============================] - 0s 5ms/step - loss: 0.0038 - accuracy: 1.0000 - val_loss: 0.2423 - val_accuracy: 0.9750\n",
      "Epoch 8/100\n",
      " 1/10 [==>...........................] - ETA: 0s - loss: 0.0089 - accuracy: 1.0000\n",
      "Epoch 00008: val_loss did not improve from 0.10646\n",
      "10/10 [==============================] - 0s 4ms/step - loss: 0.0051 - accuracy: 1.0000 - val_loss: 0.2598 - val_accuracy: 0.9750\n",
      "Epoch 9/100\n",
      " 1/10 [==>...........................] - ETA: 0s - loss: 0.0048 - accuracy: 1.0000\n",
      "Epoch 00009: val_loss did not improve from 0.10646\n",
      "10/10 [==============================] - 0s 5ms/step - loss: 0.0030 - accuracy: 1.0000 - val_loss: 0.2725 - val_accuracy: 0.9750\n",
      "Epoch 10/100\n",
      " 1/10 [==>...........................] - ETA: 0s - loss: 0.0046 - accuracy: 1.0000\n",
      "Epoch 00010: val_loss did not improve from 0.10646\n",
      "10/10 [==============================] - 0s 4ms/step - loss: 0.0019 - accuracy: 1.0000 - val_loss: 0.2809 - val_accuracy: 0.9750\n",
      "Epoch 11/100\n",
      " 1/10 [==>...........................] - ETA: 0s - loss: 0.0034 - accuracy: 1.0000\n",
      "Epoch 00011: val_loss did not improve from 0.10646\n",
      "10/10 [==============================] - 0s 5ms/step - loss: 0.0042 - accuracy: 1.0000 - val_loss: 0.2903 - val_accuracy: 0.9750\n",
      "Epoch 12/100\n",
      " 1/10 [==>...........................] - ETA: 0s - loss: 1.6768e-04 - accuracy: 1.0000\n",
      "Epoch 00012: val_loss did not improve from 0.10646\n",
      "10/10 [==============================] - 0s 4ms/step - loss: 0.0014 - accuracy: 1.0000 - val_loss: 0.2996 - val_accuracy: 0.9750\n",
      "Epoch 13/100\n",
      " 1/10 [==>...........................] - ETA: 0s - loss: 0.0031 - accuracy: 1.0000\n",
      "Epoch 00013: val_loss did not improve from 0.10646\n",
      "10/10 [==============================] - 0s 4ms/step - loss: 0.0015 - accuracy: 1.0000 - val_loss: 0.3083 - val_accuracy: 0.9750\n",
      "Epoch 14/100\n",
      " 1/10 [==>...........................] - ETA: 0s - loss: 8.2158e-05 - accuracy: 1.0000\n",
      "Epoch 00014: val_loss did not improve from 0.10646\n",
      "10/10 [==============================] - 0s 4ms/step - loss: 0.0041 - accuracy: 0.9969 - val_loss: 0.3164 - val_accuracy: 0.9750\n",
      "Epoch 15/100\n",
      " 1/10 [==>...........................] - ETA: 0s - loss: 5.1123e-04 - accuracy: 1.0000\n",
      "Epoch 00015: val_loss did not improve from 0.10646\n",
      "10/10 [==============================] - 0s 5ms/step - loss: 0.0010 - accuracy: 1.0000 - val_loss: 0.3243 - val_accuracy: 0.9750\n",
      "Epoch 16/100\n",
      " 1/10 [==>...........................] - ETA: 0s - loss: 0.0160 - accuracy: 1.0000\n",
      "Epoch 00016: val_loss did not improve from 0.10646\n",
      "10/10 [==============================] - 0s 5ms/step - loss: 0.0026 - accuracy: 1.0000 - val_loss: 0.3339 - val_accuracy: 0.9750\n",
      "Epoch 17/100\n",
      " 1/10 [==>...........................] - ETA: 0s - loss: 0.0013 - accuracy: 1.0000\n",
      "Epoch 00017: val_loss did not improve from 0.10646\n",
      "10/10 [==============================] - 0s 5ms/step - loss: 0.0010 - accuracy: 1.0000 - val_loss: 0.3439 - val_accuracy: 0.9750\n",
      "Epoch 18/100\n",
      " 1/10 [==>...........................] - ETA: 0s - loss: 0.0021 - accuracy: 1.0000\n",
      "Epoch 00018: val_loss did not improve from 0.10646\n",
      "10/10 [==============================] - 0s 5ms/step - loss: 8.2871e-04 - accuracy: 1.0000 - val_loss: 0.3532 - val_accuracy: 0.9750\n",
      "Epoch 19/100\n",
      " 1/10 [==>...........................] - ETA: 0s - loss: 2.5421e-05 - accuracy: 1.0000\n",
      "Epoch 00019: val_loss did not improve from 0.10646\n",
      "10/10 [==============================] - 0s 5ms/step - loss: 2.1403e-04 - accuracy: 1.0000 - val_loss: 0.3586 - val_accuracy: 0.9750\n",
      "Epoch 20/100\n",
      " 1/10 [==>...........................] - ETA: 0s - loss: 4.0832e-04 - accuracy: 1.0000\n",
      "Epoch 00020: val_loss did not improve from 0.10646\n",
      "10/10 [==============================] - 0s 4ms/step - loss: 6.3734e-04 - accuracy: 1.0000 - val_loss: 0.3653 - val_accuracy: 0.9750\n",
      "Epoch 21/100\n",
      " 1/10 [==>...........................] - ETA: 0s - loss: 3.5146e-04 - accuracy: 1.0000\n",
      "Epoch 00021: val_loss did not improve from 0.10646\n",
      "10/10 [==============================] - 0s 4ms/step - loss: 8.4066e-04 - accuracy: 1.0000 - val_loss: 0.3731 - val_accuracy: 0.9750\n",
      "Epoch 22/100\n",
      " 1/10 [==>...........................] - ETA: 0s - loss: 0.0011 - accuracy: 1.0000\n",
      "Epoch 00022: val_loss did not improve from 0.10646\n",
      "10/10 [==============================] - 0s 5ms/step - loss: 6.4407e-04 - accuracy: 1.0000 - val_loss: 0.3797 - val_accuracy: 0.9750\n",
      "Epoch 23/100\n",
      " 1/10 [==>...........................] - ETA: 0s - loss: 0.0018 - accuracy: 1.0000\n",
      "Epoch 00023: val_loss did not improve from 0.10646\n",
      "10/10 [==============================] - 0s 4ms/step - loss: 0.0011 - accuracy: 1.0000 - val_loss: 0.3883 - val_accuracy: 0.9750\n",
      "Epoch 24/100\n",
      " 1/10 [==>...........................] - ETA: 0s - loss: 5.5230e-05 - accuracy: 1.0000\n",
      "Epoch 00024: val_loss did not improve from 0.10646\n",
      "10/10 [==============================] - 0s 4ms/step - loss: 3.9108e-04 - accuracy: 1.0000 - val_loss: 0.3959 - val_accuracy: 0.9750\n",
      "Epoch 25/100\n",
      " 1/10 [==>...........................] - ETA: 0s - loss: 3.8705e-04 - accuracy: 1.0000\n",
      "Epoch 00025: val_loss did not improve from 0.10646\n",
      "10/10 [==============================] - 0s 5ms/step - loss: 8.7833e-04 - accuracy: 1.0000 - val_loss: 0.4030 - val_accuracy: 0.9750\n",
      "Epoch 26/100\n",
      " 1/10 [==>...........................] - ETA: 0s - loss: 9.2411e-06 - accuracy: 1.0000\n",
      "Epoch 00026: val_loss did not improve from 0.10646\n",
      "10/10 [==============================] - 0s 6ms/step - loss: 2.3602e-04 - accuracy: 1.0000 - val_loss: 0.4079 - val_accuracy: 0.9750\n",
      "Epoch 27/100\n",
      " 1/10 [==>...........................] - ETA: 0s - loss: 1.3317e-04 - accuracy: 1.0000\n",
      "Epoch 00027: val_loss did not improve from 0.10646\n",
      "10/10 [==============================] - 0s 6ms/step - loss: 3.2619e-04 - accuracy: 1.0000 - val_loss: 0.4131 - val_accuracy: 0.9750\n",
      "Epoch 28/100\n",
      " 1/10 [==>...........................] - ETA: 0s - loss: 1.7119e-04 - accuracy: 1.0000\n",
      "Epoch 00028: val_loss did not improve from 0.10646\n",
      "10/10 [==============================] - 0s 6ms/step - loss: 9.9426e-05 - accuracy: 1.0000 - val_loss: 0.4163 - val_accuracy: 0.9750\n",
      "Epoch 29/100\n",
      " 1/10 [==>...........................] - ETA: 0s - loss: 6.6386e-05 - accuracy: 1.0000\n",
      "Epoch 00029: val_loss did not improve from 0.10646\n",
      "10/10 [==============================] - 0s 7ms/step - loss: 2.4064e-04 - accuracy: 1.0000 - val_loss: 0.4191 - val_accuracy: 0.9750\n",
      "Epoch 30/100\n"
     ]
    },
    {
     "name": "stdout",
     "output_type": "stream",
     "text": [
      " 1/10 [==>...........................] - ETA: 0s - loss: 6.6842e-05 - accuracy: 1.0000\n",
      "Epoch 00030: val_loss did not improve from 0.10646\n",
      "10/10 [==============================] - 0s 5ms/step - loss: 1.5301e-04 - accuracy: 1.0000 - val_loss: 0.4210 - val_accuracy: 0.9750\n",
      "Epoch 31/100\n",
      " 1/10 [==>...........................] - ETA: 0s - loss: 1.6533e-05 - accuracy: 1.0000\n",
      "Epoch 00031: val_loss did not improve from 0.10646\n",
      "10/10 [==============================] - 0s 5ms/step - loss: 4.0848e-04 - accuracy: 1.0000 - val_loss: 0.4235 - val_accuracy: 0.9750\n",
      "Epoch 32/100\n",
      " 1/10 [==>...........................] - ETA: 0s - loss: 6.9456e-06 - accuracy: 1.0000\n",
      "Epoch 00032: val_loss did not improve from 0.10646\n",
      "10/10 [==============================] - 0s 6ms/step - loss: 2.1588e-04 - accuracy: 1.0000 - val_loss: 0.4266 - val_accuracy: 0.9750\n",
      "Epoch 33/100\n",
      " 1/10 [==>...........................] - ETA: 0s - loss: 3.3429e-05 - accuracy: 1.0000\n",
      "Epoch 00033: val_loss did not improve from 0.10646\n",
      "10/10 [==============================] - 0s 5ms/step - loss: 9.1222e-04 - accuracy: 1.0000 - val_loss: 0.4316 - val_accuracy: 0.9750\n",
      "Epoch 00033: early stopping\n"
     ]
    }
   ],
   "source": [
    "history = model.fit(data_train, label_train, validation_split=0.2, epochs=100, verbose = 1, callbacks=[checkpoint,early])"
   ]
  },
  {
   "cell_type": "code",
   "execution_count": 11,
   "id": "ab63c0a3",
   "metadata": {},
   "outputs": [
    {
     "data": {
      "image/png": "[encoded data removed]",
      "text/plain": [
       "<Figure size 640x480 with 1 Axes>"
      ]
     },
     "metadata": {},
     "output_type": "display_data"
    }
   ],
   "source": [
    "# Plot training & validation accuracy values\n",
    "plt.plot(history.history['accuracy'])\n",
    "plt.plot(history.history['val_accuracy'])\n",
    "plt.title('BRNN Model Accuracy')\n",
    "plt.ylabel('Accuracy')\n",
    "plt.xlabel('Epoch')\n",
    "plt.legend(['Train', 'Test'], loc='lower right')\n",
    "# plt.savefig('BRNN 200 Model Accuracy.png')\n",
    "plt.show()"
   ]
  },
  {
   "cell_type": "code",
   "execution_count": 12,
   "id": "04277965",
   "metadata": {},
   "outputs": [
    {
     "data": {
      "image/png": "[encoded data removed]",
      "text/plain": [
       "<Figure size 640x480 with 1 Axes>"
      ]
     },
     "metadata": {},
     "output_type": "display_data"
    }
   ],
   "source": [
    "# Plot training & validation loss values\n",
    "plt.plot(history.history['loss'])\n",
    "plt.plot(history.history['val_loss'])\n",
    "plt.title('BRNN Model  Loss')\n",
    "plt.ylabel('Loss')\n",
    "plt.xlabel('Epoch')\n",
    "plt.legend(['Train', 'Test'], loc='upper left')\n",
    "# plt.savefig('BRNN 200 Model Loss.png')\n",
    "plt.show()"
   ]
  },
  {
   "cell_type": "code",
   "execution_count": 13,
   "id": "cfcc8675",
   "metadata": {},
   "outputs": [
    {
     "name": "stdout",
     "output_type": "stream",
     "text": [
      "4/4 [==============================] - 0s 2ms/step\n"
     ]
    }
   ],
   "source": [
    "predict = model.predict(data_eval, verbose=1)"
   ]
  },
  {
   "cell_type": "code",
   "execution_count": 14,
   "id": "3b485068",
   "metadata": {},
   "outputs": [
    {
     "data": {
      "image/png": "[encoded data removed]",
      "text/plain": [
       "<Figure size 640x480 with 2 Axes>"
      ]
     },
     "metadata": {},
     "output_type": "display_data"
    }
   ],
   "source": [
    "tp = 0\n",
    "tn = 0\n",
    "fp = 0\n",
    "fn = 0\n",
    "predictn = predict.flatten().round()\n",
    "predictn = predictn.tolist()\n",
    "Y_testn = label_eval.tolist()\n",
    "for i in range(len(Y_testn)):\n",
    "  if predictn[i]==1 and Y_testn[i]==1:\n",
    "    tp+=1\n",
    "  elif predictn[i]==0 and Y_testn[i]==0:\n",
    "    tn+=1\n",
    "  elif predictn[i]==0 and Y_testn[i]==1:\n",
    "    fp+=1\n",
    "  elif predictn[i]==1 and Y_testn[i]==0:\n",
    "    fn+=1\n",
    "to_heat_map =[[tn,fp],[fn,tp]]\n",
    "to_heat_map = pd.DataFrame(to_heat_map, index = [\"Attack\",\"Normal\"],columns = [\"Attack\",\"Normal\"])\n",
    "ax = sns.heatmap(to_heat_map,annot=True, fmt=\"d\")"
   ]
  },
  {
   "cell_type": "code",
   "execution_count": 15,
   "id": "0f64d323",
   "metadata": {},
   "outputs": [
    {
     "name": "stdout",
     "output_type": "stream",
     "text": [
      "4/4 [==============================] - 0s 2ms/step - loss: 0.0666 - accuracy: 0.9900\n",
      "accuracy: 99.00%\n"
     ]
    }
   ],
   "source": [
    "scores = model.evaluate(data_eval, label_eval)\n",
    "print(\"%s: %.2f%%\" % (model.metrics_names[1], scores[1]*100))"
   ]
  },
  {
   "cell_type": "code",
   "execution_count": 16,
   "id": "8355540c",
   "metadata": {},
   "outputs": [
    {
     "name": "stdout",
     "output_type": "stream",
     "text": [
      "              precision    recall  f1-score   support\n",
      "\n",
      "           0       1.00      0.98      0.99        50\n",
      "           1       0.98      1.00      0.99        50\n",
      "\n",
      "    accuracy                           0.99       100\n",
      "   macro avg       0.99      0.99      0.99       100\n",
      "weighted avg       0.99      0.99      0.99       100\n",
      "\n"
     ]
    }
   ],
   "source": [
    "print(classification_report(Y_testn,predictn))"
   ]
  },
  {
   "cell_type": "code",
   "execution_count": 17,
   "id": "6b1e5995",
   "metadata": {},
   "outputs": [
    {
     "name": "stdout",
     "output_type": "stream",
     "text": [
      "SVM: ROC AUC=0.990\n"
     ]
    }
   ],
   "source": [
    "lr_auc = roc_auc_score(Y_testn, predictn)\n",
    "print('SVM: ROC AUC=%.3f' % (lr_auc))"
   ]
  },
  {
   "cell_type": "code",
   "execution_count": 18,
   "id": "9e9ffd90",
   "metadata": {},
   "outputs": [
    {
     "name": "stdout",
     "output_type": "stream",
     "text": [
      "1/1 [==============================] - 0s 14ms/step\n",
      "Time elapse for prediction : 0.041448499999999555\n",
      "[[0.9999995]]\n"
     ]
    }
   ],
   "source": [
    "time_start = time.perf_counter()\n",
    "predict = model.predict(data_eval[:1], verbose=1)\n",
    "print(f\"Time elapse for prediction : {time.perf_counter() - time_start}\")\n",
    "print(predict)"
   ]
  },
  {
   "cell_type": "code",
   "execution_count": null,
   "id": "fe718f7a",
   "metadata": {},
   "outputs": [],
   "source": []
  }
 ],
 "metadata": {
  "kernelspec": {
   "display_name": "Python 3 (ipykernel)",
   "language": "python",
   "name": "python3"
  },
  "language_info": {
   "codemirror_mode": {
    "name": "ipython",
    "version": 3
   },
   "file_extension": ".py",
   "mimetype": "text/x-python",
   "name": "python",
   "nbconvert_exporter": "python",
   "pygments_lexer": "ipython3",
   "version": "3.9.13"
  }
 },
 "nbformat": 4,
 "nbformat_minor": 5
}
