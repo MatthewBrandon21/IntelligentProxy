{
 "cells": [
  {
   "cell_type": "code",
   "execution_count": 1,
   "id": "9f780517",
   "metadata": {},
   "outputs": [],
   "source": [
    "import numpy as np\n",
    "import pandas as pd\n",
    "from matplotlib import pyplot as plt\n",
    "import seaborn as sns; sns.set()\n",
    "from keras.layers import Dense, Dropout\n",
    "from keras.models import Sequential\n",
    "from keras.models import load_model\n",
    "from keras.callbacks import ModelCheckpoint, EarlyStopping\n",
    "from tensorflow.keras.utils import to_categorical\n",
    "from sklearn.model_selection import train_test_split\n",
    "from sklearn.preprocessing import LabelEncoder, StandardScaler\n",
    "from sklearn.metrics import classification_report, confusion_matrix\n",
    "from sklearn.metrics import roc_auc_score\n",
    "import joblib\n",
    "import time\n",
    "from collections import Counter\n",
    "from imblearn.over_sampling import SMOTE\n",
    "from imblearn.under_sampling import RandomUnderSampler\n",
    "from imblearn.pipeline import Pipeline"
   ]
  },
  {
   "cell_type": "code",
   "execution_count": 2,
   "id": "5c265d83",
   "metadata": {},
   "outputs": [],
   "source": [
    "features, labels = [], []\n",
    "training_files = [\"dataset/individual/icmp_dataset_individual_attack_1.csv\",\n",
    "                  \"dataset/individual/icmp_dataset_individual_attack_2.csv\",\n",
    "                  \"dataset/individual/icmp_dataset_individual_normal_1.csv\",\n",
    "                  \"dataset/individual/icmp_dataset_individual_normal_2.csv\"]\n",
    "training_files_old = [\"dataset/individual/old/dataset_icmp_attack.csv\",\n",
    "                  \"dataset/individual/old/dataset_icmp_normal.csv\"]"
   ]
  },
  {
   "cell_type": "code",
   "execution_count": 3,
   "id": "33a79058",
   "metadata": {},
   "outputs": [],
   "source": [
    "def scrape_data():\n",
    "    global training_files\n",
    "    global features\n",
    "    global labels\n",
    "    \n",
    "    for fname in training_files:\n",
    "        meal = open(fname, \"rt\")\n",
    "        for line in meal:\n",
    "            data_list = line.rsplit(\",\")\n",
    "            if(len(data_list) != 8):\n",
    "                print(\"error data\")\n",
    "            else:\n",
    "                data_list[(len(data_list)-1)]=int(data_list[(len(data_list)-1)].replace('\\n', ''))\n",
    "                features.append(data_list[:(len(data_list)-1)])\n",
    "                labels.append(data_list[(len(data_list)-1)])\n",
    "        meal.close()\n",
    "    \n",
    "    for fname in training_files_old:\n",
    "        meal = open(fname, \"rt\")\n",
    "        for line in meal:\n",
    "            data_list = line.rsplit(\",\")\n",
    "            if(len(data_list) != 8):\n",
    "                print(\"error data\")\n",
    "            else:\n",
    "                data_list[(len(data_list)-1)]=int(data_list[(len(data_list)-1)].replace('\\n', ''))\n",
    "                features.append(data_list[:(len(data_list)-1)])\n",
    "                labels.append(data_list[(len(data_list)-1)])\n",
    "        meal.close()\n",
    "    \n",
    "    scalar = StandardScaler(copy=True, with_mean=True, with_std=True)\n",
    "    scalar.fit(features)\n",
    "    features = scalar.transform(features)\n",
    "    \n",
    "    features = np.array(features).astype(np.float64)\n",
    "    features = features.tolist()\n",
    "    \n",
    "    print(f\"Size of feature dataset : {len(features)}\")\n",
    "    print(f\"Size of feature dataset : {len(labels)}\")\n",
    "    print(\"Features first and last entries:\\n\\t\", end = \"\")\n",
    "    print(features[:1] + features[(len(features)-1):])\n",
    "    print(\"Labels first and last entries:\\n\\t\", end = \"\")\n",
    "    print(labels[:1] + labels[(len(features)-1):])\n",
    "    \n",
    "    features_train, features_test, labels_train, labels_test = train_test_split(features, labels, test_size = 0.20, stratify=labels, random_state = 0)\n",
    "    \n",
    "    return np.asarray(features_train), np.asarray(labels_train), np.asarray(features_test), np.asarray(labels_test)"
   ]
  },
  {
   "cell_type": "code",
   "execution_count": 4,
   "id": "9b84bae1",
   "metadata": {},
   "outputs": [],
   "source": [
    "def generate_model(shape):\n",
    "    model = Sequential()\n",
    "\n",
    "    model.add(Dense(256, input_dim=shape, kernel_initializer='uniform', activation='relu'))\n",
    "    model.add(Dropout(0.4))\n",
    "    model.add(Dense(128, activation='relu'))\n",
    "    model.add(Dropout(0.4))\n",
    "    model.add(Dense(64, activation='relu'))\n",
    "    model.add(Dropout(0.4))\n",
    "    model.add(Dense(32, activation='relu'))\n",
    "    model.add(Dropout(0.4))\n",
    "    model.add(Dense(1, activation='sigmoid'))\n",
    "    print(model.summary())\n",
    "\n",
    "    return model"
   ]
  },
  {
   "cell_type": "code",
   "execution_count": 5,
   "id": "d6ef0b01",
   "metadata": {},
   "outputs": [
    {
     "name": "stdout",
     "output_type": "stream",
     "text": [
      "Size of feature dataset : 1254\n",
      "Size of feature dataset : 1254\n",
      "Features first and last entries:\n",
      "\t[[-3.686389931151895, -0.5200061013405037, 1.8524678276245978, 1.397453786296078, -0.5597995300250728, 0.9740204208379709, -0.4410885496411871], [-2.77129003445883, -0.5662578302754743, -2.271779521488045, -0.7920804433796907, -0.8575226614813753, -0.3807339179437989, -0.454869188336394]]\n",
      "Labels first and last entries:\n",
      "\t[1, 0]\n"
     ]
    }
   ],
   "source": [
    "data_train, label_train, data_eval, label_eval = scrape_data()"
   ]
  },
  {
   "cell_type": "code",
   "execution_count": 6,
   "id": "89771801",
   "metadata": {},
   "outputs": [
    {
     "name": "stdout",
     "output_type": "stream",
     "text": [
      "Model: \"sequential\"\n",
      "_________________________________________________________________\n",
      " Layer (type)                Output Shape              Param #   \n",
      "=================================================================\n",
      " dense (Dense)               (None, 256)               2048      \n",
      "                                                                 \n",
      " dropout (Dropout)           (None, 256)               0         \n",
      "                                                                 \n",
      " dense_1 (Dense)             (None, 128)               32896     \n",
      "                                                                 \n",
      " dropout_1 (Dropout)         (None, 128)               0         \n",
      "                                                                 \n",
      " dense_2 (Dense)             (None, 64)                8256      \n",
      "                                                                 \n",
      " dropout_2 (Dropout)         (None, 64)                0         \n",
      "                                                                 \n",
      " dense_3 (Dense)             (None, 32)                2080      \n",
      "                                                                 \n",
      " dropout_3 (Dropout)         (None, 32)                0         \n",
      "                                                                 \n",
      " dense_4 (Dense)             (None, 1)                 33        \n",
      "                                                                 \n",
      "=================================================================\n",
      "Total params: 45,313\n",
      "Trainable params: 45,313\n",
      "Non-trainable params: 0\n",
      "_________________________________________________________________\n",
      "None\n"
     ]
    }
   ],
   "source": [
    "model = generate_model(len(data_train[0]))"
   ]
  },
  {
   "cell_type": "code",
   "execution_count": 7,
   "id": "071ae79f",
   "metadata": {},
   "outputs": [
    {
     "name": "stdout",
     "output_type": "stream",
     "text": [
      "Model: \"sequential\"\n",
      "_________________________________________________________________\n",
      " Layer (type)                Output Shape              Param #   \n",
      "=================================================================\n",
      " dense (Dense)               (None, 256)               2048      \n",
      "                                                                 \n",
      " dropout (Dropout)           (None, 256)               0         \n",
      "                                                                 \n",
      " dense_1 (Dense)             (None, 128)               32896     \n",
      "                                                                 \n",
      " dropout_1 (Dropout)         (None, 128)               0         \n",
      "                                                                 \n",
      " dense_2 (Dense)             (None, 64)                8256      \n",
      "                                                                 \n",
      " dropout_2 (Dropout)         (None, 64)                0         \n",
      "                                                                 \n",
      " dense_3 (Dense)             (None, 32)                2080      \n",
      "                                                                 \n",
      " dropout_3 (Dropout)         (None, 32)                0         \n",
      "                                                                 \n",
      " dense_4 (Dense)             (None, 1)                 33        \n",
      "                                                                 \n",
      "=================================================================\n",
      "Total params: 45,313\n",
      "Trainable params: 45,313\n",
      "Non-trainable params: 0\n",
      "_________________________________________________________________\n"
     ]
    }
   ],
   "source": [
    "model.summary()"
   ]
  },
  {
   "cell_type": "code",
   "execution_count": 8,
   "id": "5e5b8b02",
   "metadata": {},
   "outputs": [],
   "source": [
    "model.compile(loss='binary_crossentropy', optimizer='adam', metrics=['accuracy'])"
   ]
  },
  {
   "cell_type": "code",
   "execution_count": 9,
   "id": "6c798507",
   "metadata": {},
   "outputs": [
    {
     "name": "stdout",
     "output_type": "stream",
     "text": [
      "WARNING:tensorflow:`period` argument is deprecated. Please use `save_freq` to specify the frequency in number of batches seen.\n"
     ]
    }
   ],
   "source": [
    "checkpoint = ModelCheckpoint(\"dnnModel.h5\", monitor='val_loss', verbose=1, save_best_only=True, save_weights_only=False, mode='auto', period=1)\n",
    "early = EarlyStopping(monitor='val_loss', min_delta=0, patience=30, verbose=1, mode='auto')"
   ]
  },
  {
   "cell_type": "code",
   "execution_count": 10,
   "id": "a7def03b",
   "metadata": {},
   "outputs": [
    {
     "name": "stdout",
     "output_type": "stream",
     "text": [
      "Epoch 1/100\n",
      "20/26 [======================>.......] - ETA: 0s - loss: 0.5885 - accuracy: 0.7969 \n",
      "Epoch 00001: val_loss improved from inf to 0.20380, saving model to dnnModel.h5\n",
      "26/26 [==============================] - 1s 7ms/step - loss: 0.5413 - accuracy: 0.8329 - val_loss: 0.2038 - val_accuracy: 0.9801\n",
      "Epoch 2/100\n",
      "23/26 [=========================>....] - ETA: 0s - loss: 0.1363 - accuracy: 0.9810\n",
      "Epoch 00002: val_loss improved from 0.20380 to 0.03009, saving model to dnnModel.h5\n",
      "26/26 [==============================] - 0s 5ms/step - loss: 0.1279 - accuracy: 0.9825 - val_loss: 0.0301 - val_accuracy: 0.9900\n",
      "Epoch 3/100\n",
      "21/26 [=======================>......] - ETA: 0s - loss: 0.0525 - accuracy: 0.9896\n",
      "Epoch 00003: val_loss improved from 0.03009 to 0.02159, saving model to dnnModel.h5\n",
      "26/26 [==============================] - 0s 5ms/step - loss: 0.0473 - accuracy: 0.9913 - val_loss: 0.0216 - val_accuracy: 0.9950\n",
      "Epoch 4/100\n",
      "19/26 [====================>.........] - ETA: 0s - loss: 0.0520 - accuracy: 0.9885\n",
      "Epoch 00004: val_loss improved from 0.02159 to 0.01847, saving model to dnnModel.h5\n",
      "26/26 [==============================] - 0s 5ms/step - loss: 0.0418 - accuracy: 0.9913 - val_loss: 0.0185 - val_accuracy: 0.9950\n",
      "Epoch 5/100\n",
      "19/26 [====================>.........] - ETA: 0s - loss: 0.0227 - accuracy: 0.9951\n",
      "Epoch 00005: val_loss improved from 0.01847 to 0.01789, saving model to dnnModel.h5\n",
      "26/26 [==============================] - 0s 5ms/step - loss: 0.0290 - accuracy: 0.9938 - val_loss: 0.0179 - val_accuracy: 0.9950\n",
      "Epoch 6/100\n",
      "26/26 [==============================] - ETA: 0s - loss: 0.0250 - accuracy: 0.9938\n",
      "Epoch 00006: val_loss improved from 0.01789 to 0.01707, saving model to dnnModel.h5\n",
      "26/26 [==============================] - 0s 4ms/step - loss: 0.0250 - accuracy: 0.9938 - val_loss: 0.0171 - val_accuracy: 0.9950\n",
      "Epoch 7/100\n",
      "20/26 [======================>.......] - ETA: 0s - loss: 0.0224 - accuracy: 0.9953\n",
      "Epoch 00007: val_loss improved from 0.01707 to 0.01465, saving model to dnnModel.h5\n",
      "26/26 [==============================] - 0s 5ms/step - loss: 0.0283 - accuracy: 0.9938 - val_loss: 0.0146 - val_accuracy: 0.9950\n",
      "Epoch 8/100\n",
      "18/26 [===================>..........] - ETA: 0s - loss: 0.0209 - accuracy: 0.9931\n",
      "Epoch 00008: val_loss did not improve from 0.01465\n",
      "26/26 [==============================] - 0s 4ms/step - loss: 0.0222 - accuracy: 0.9938 - val_loss: 0.0152 - val_accuracy: 0.9950\n",
      "Epoch 9/100\n",
      "21/26 [=======================>......] - ETA: 0s - loss: 0.0250 - accuracy: 0.9940\n",
      "Epoch 00009: val_loss did not improve from 0.01465\n",
      "26/26 [==============================] - 0s 4ms/step - loss: 0.0298 - accuracy: 0.9938 - val_loss: 0.0147 - val_accuracy: 0.9950\n",
      "Epoch 10/100\n",
      "18/26 [===================>..........] - ETA: 0s - loss: 0.0248 - accuracy: 0.9931\n",
      "Epoch 00010: val_loss improved from 0.01465 to 0.01399, saving model to dnnModel.h5\n",
      "26/26 [==============================] - 0s 4ms/step - loss: 0.0257 - accuracy: 0.9938 - val_loss: 0.0140 - val_accuracy: 0.9950\n",
      "Epoch 11/100\n",
      "18/26 [===================>..........] - ETA: 0s - loss: 0.0239 - accuracy: 0.9948\n",
      "Epoch 00011: val_loss did not improve from 0.01399\n",
      "26/26 [==============================] - 0s 4ms/step - loss: 0.0229 - accuracy: 0.9950 - val_loss: 0.0149 - val_accuracy: 0.9950\n",
      "Epoch 12/100\n",
      "21/26 [=======================>......] - ETA: 0s - loss: 0.0215 - accuracy: 0.9955\n",
      "Epoch 00012: val_loss improved from 0.01399 to 0.01366, saving model to dnnModel.h5\n",
      "26/26 [==============================] - 0s 5ms/step - loss: 0.0272 - accuracy: 0.9950 - val_loss: 0.0137 - val_accuracy: 0.9950\n",
      "Epoch 13/100\n",
      "17/26 [==================>...........] - ETA: 0s - loss: 0.0306 - accuracy: 0.9926\n",
      "Epoch 00013: val_loss did not improve from 0.01366\n",
      "26/26 [==============================] - 0s 4ms/step - loss: 0.0248 - accuracy: 0.9938 - val_loss: 0.0142 - val_accuracy: 0.9950\n",
      "Epoch 14/100\n",
      "17/26 [==================>...........] - ETA: 0s - loss: 0.0151 - accuracy: 0.9963\n",
      "Epoch 00014: val_loss did not improve from 0.01366\n",
      "26/26 [==============================] - 0s 4ms/step - loss: 0.0248 - accuracy: 0.9938 - val_loss: 0.0143 - val_accuracy: 0.9950\n",
      "Epoch 15/100\n",
      "20/26 [======================>.......] - ETA: 0s - loss: 0.0265 - accuracy: 0.9937\n",
      "Epoch 00015: val_loss did not improve from 0.01366\n",
      "26/26 [==============================] - 0s 4ms/step - loss: 0.0225 - accuracy: 0.9950 - val_loss: 0.0139 - val_accuracy: 0.9950\n",
      "Epoch 16/100\n",
      "18/26 [===================>..........] - ETA: 0s - loss: 0.0118 - accuracy: 0.9965\n",
      "Epoch 00016: val_loss did not improve from 0.01366\n",
      "26/26 [==============================] - 0s 4ms/step - loss: 0.0178 - accuracy: 0.9950 - val_loss: 0.0143 - val_accuracy: 0.9950\n",
      "Epoch 17/100\n",
      "18/26 [===================>..........] - ETA: 0s - loss: 0.0322 - accuracy: 0.9965\n",
      "Epoch 00017: val_loss did not improve from 0.01366\n",
      "26/26 [==============================] - 0s 4ms/step - loss: 0.0323 - accuracy: 0.9950 - val_loss: 0.0156 - val_accuracy: 0.9950\n",
      "Epoch 18/100\n",
      "19/26 [====================>.........] - ETA: 0s - loss: 0.0235 - accuracy: 0.9934\n",
      "Epoch 00018: val_loss did not improve from 0.01366\n",
      "26/26 [==============================] - 0s 4ms/step - loss: 0.0195 - accuracy: 0.9950 - val_loss: 0.0138 - val_accuracy: 0.9950\n",
      "Epoch 19/100\n",
      "22/26 [========================>.....] - ETA: 0s - loss: 0.0208 - accuracy: 0.9957\n",
      "Epoch 00019: val_loss did not improve from 0.01366\n",
      "26/26 [==============================] - 0s 3ms/step - loss: 0.0219 - accuracy: 0.9950 - val_loss: 0.0152 - val_accuracy: 0.9950\n",
      "Epoch 20/100\n",
      "19/26 [====================>.........] - ETA: 0s - loss: 0.0176 - accuracy: 0.9967    \n",
      "Epoch 00020: val_loss did not improve from 0.01366\n",
      "26/26 [==============================] - 0s 4ms/step - loss: 0.0227 - accuracy: 0.9950 - val_loss: 0.0142 - val_accuracy: 0.9950\n",
      "Epoch 21/100\n",
      "17/26 [==================>...........] - ETA: 0s - loss: 0.0300 - accuracy: 0.9945\n",
      "Epoch 00021: val_loss did not improve from 0.01366\n",
      "26/26 [==============================] - 0s 4ms/step - loss: 0.0267 - accuracy: 0.9950 - val_loss: 0.0141 - val_accuracy: 0.9950\n",
      "Epoch 22/100\n",
      "14/26 [===============>..............] - ETA: 0s - loss: 0.0269 - accuracy: 0.9933\n",
      "Epoch 00022: val_loss improved from 0.01366 to 0.01362, saving model to dnnModel.h5\n",
      "26/26 [==============================] - 0s 7ms/step - loss: 0.0197 - accuracy: 0.9950 - val_loss: 0.0136 - val_accuracy: 0.9950\n",
      "Epoch 23/100\n",
      "16/26 [=================>............] - ETA: 0s - loss: 0.0094 - accuracy: 0.9980\n",
      "Epoch 00023: val_loss improved from 0.01362 to 0.01307, saving model to dnnModel.h5\n",
      "26/26 [==============================] - 0s 5ms/step - loss: 0.0208 - accuracy: 0.9950 - val_loss: 0.0131 - val_accuracy: 0.9950\n",
      "Epoch 24/100\n",
      "17/26 [==================>...........] - ETA: 0s - loss: 0.0228 - accuracy: 0.9963    \n",
      "Epoch 00024: val_loss did not improve from 0.01307\n",
      "26/26 [==============================] - 0s 4ms/step - loss: 0.0234 - accuracy: 0.9950 - val_loss: 0.0139 - val_accuracy: 0.9950\n",
      "Epoch 25/100\n",
      "16/26 [=================>............] - ETA: 0s - loss: 0.0198 - accuracy: 0.9961\n",
      "Epoch 00025: val_loss did not improve from 0.01307\n",
      "26/26 [==============================] - 0s 5ms/step - loss: 0.0230 - accuracy: 0.9950 - val_loss: 0.0136 - val_accuracy: 0.9950\n",
      "Epoch 26/100\n",
      "17/26 [==================>...........] - ETA: 0s - loss: 0.0120 - accuracy: 0.9982\n",
      "Epoch 00026: val_loss did not improve from 0.01307\n",
      "26/26 [==============================] - 0s 4ms/step - loss: 0.0190 - accuracy: 0.9950 - val_loss: 0.0138 - val_accuracy: 0.9950\n",
      "Epoch 27/100\n",
      "17/26 [==================>...........] - ETA: 0s - loss: 0.0181 - accuracy: 0.9945\n",
      "Epoch 00027: val_loss did not improve from 0.01307\n",
      "26/26 [==============================] - 0s 4ms/step - loss: 0.0234 - accuracy: 0.9938 - val_loss: 0.0144 - val_accuracy: 0.9950\n",
      "Epoch 28/100\n",
      "16/26 [=================>............] - ETA: 0s - loss: 0.0108 - accuracy: 0.9980\n",
      "Epoch 00028: val_loss did not improve from 0.01307\n",
      "26/26 [==============================] - 0s 5ms/step - loss: 0.0232 - accuracy: 0.9950 - val_loss: 0.0137 - val_accuracy: 0.9950\n",
      "Epoch 29/100\n",
      "18/26 [===================>..........] - ETA: 0s - loss: 0.0152 - accuracy: 0.9965\n",
      "Epoch 00029: val_loss did not improve from 0.01307\n",
      "26/26 [==============================] - 0s 5ms/step - loss: 0.0247 - accuracy: 0.9950 - val_loss: 0.0135 - val_accuracy: 0.9950\n"
     ]
    },
    {
     "name": "stdout",
     "output_type": "stream",
     "text": [
      "Epoch 30/100\n",
      "25/26 [===========================>..] - ETA: 0s - loss: 0.0195 - accuracy: 0.9950\n",
      "Epoch 00030: val_loss did not improve from 0.01307\n",
      "26/26 [==============================] - 0s 6ms/step - loss: 0.0194 - accuracy: 0.9950 - val_loss: 0.0135 - val_accuracy: 0.9950\n",
      "Epoch 31/100\n",
      "18/26 [===================>..........] - ETA: 0s - loss: 0.0144 - accuracy: 0.9965\n",
      "Epoch 00031: val_loss did not improve from 0.01307\n",
      "26/26 [==============================] - 0s 4ms/step - loss: 0.0209 - accuracy: 0.9950 - val_loss: 0.0137 - val_accuracy: 0.9950\n",
      "Epoch 32/100\n",
      "16/26 [=================>............] - ETA: 0s - loss: 0.0301 - accuracy: 0.9922\n",
      "Epoch 00032: val_loss did not improve from 0.01307\n",
      "26/26 [==============================] - 0s 4ms/step - loss: 0.0242 - accuracy: 0.9950 - val_loss: 0.0148 - val_accuracy: 0.9950\n",
      "Epoch 33/100\n",
      "16/26 [=================>............] - ETA: 0s - loss: 0.0184 - accuracy: 0.9941\n",
      "Epoch 00033: val_loss did not improve from 0.01307\n",
      "26/26 [==============================] - 0s 4ms/step - loss: 0.0165 - accuracy: 0.9950 - val_loss: 0.0137 - val_accuracy: 0.9950\n",
      "Epoch 34/100\n",
      "17/26 [==================>...........] - ETA: 0s - loss: 0.0363 - accuracy: 0.9945    \n",
      "Epoch 00034: val_loss did not improve from 0.01307\n",
      "26/26 [==============================] - 0s 4ms/step - loss: 0.0293 - accuracy: 0.9950 - val_loss: 0.0139 - val_accuracy: 0.9950\n",
      "Epoch 35/100\n",
      "17/26 [==================>...........] - ETA: 0s - loss: 0.0231 - accuracy: 0.9963\n",
      "Epoch 00035: val_loss did not improve from 0.01307\n",
      "26/26 [==============================] - 0s 4ms/step - loss: 0.0225 - accuracy: 0.9950 - val_loss: 0.0142 - val_accuracy: 0.9950\n",
      "Epoch 36/100\n",
      "20/26 [======================>.......] - ETA: 0s - loss: 0.0251 - accuracy: 0.9937\n",
      "Epoch 00036: val_loss did not improve from 0.01307\n",
      "26/26 [==============================] - 0s 4ms/step - loss: 0.0221 - accuracy: 0.9950 - val_loss: 0.0153 - val_accuracy: 0.9950\n",
      "Epoch 37/100\n",
      "18/26 [===================>..........] - ETA: 0s - loss: 0.0298 - accuracy: 0.9931\n",
      "Epoch 00037: val_loss did not improve from 0.01307\n",
      "26/26 [==============================] - 0s 4ms/step - loss: 0.0230 - accuracy: 0.9950 - val_loss: 0.0149 - val_accuracy: 0.9950\n",
      "Epoch 38/100\n",
      "16/26 [=================>............] - ETA: 0s - loss: 0.0340 - accuracy: 0.9922\n",
      "Epoch 00038: val_loss did not improve from 0.01307\n",
      "26/26 [==============================] - 0s 4ms/step - loss: 0.0243 - accuracy: 0.9950 - val_loss: 0.0154 - val_accuracy: 0.9950\n",
      "Epoch 39/100\n",
      "17/26 [==================>...........] - ETA: 0s - loss: 0.0192 - accuracy: 0.9963\n",
      "Epoch 00039: val_loss did not improve from 0.01307\n",
      "26/26 [==============================] - 0s 4ms/step - loss: 0.0224 - accuracy: 0.9950 - val_loss: 0.0154 - val_accuracy: 0.9950\n",
      "Epoch 40/100\n",
      "19/26 [====================>.........] - ETA: 0s - loss: 0.0354 - accuracy: 0.9934\n",
      "Epoch 00040: val_loss did not improve from 0.01307\n",
      "26/26 [==============================] - 0s 4ms/step - loss: 0.0304 - accuracy: 0.9950 - val_loss: 0.0148 - val_accuracy: 0.9950\n",
      "Epoch 41/100\n",
      "17/26 [==================>...........] - ETA: 0s - loss: 0.0281 - accuracy: 0.9945\n",
      "Epoch 00041: val_loss did not improve from 0.01307\n",
      "26/26 [==============================] - 0s 4ms/step - loss: 0.0229 - accuracy: 0.9950 - val_loss: 0.0146 - val_accuracy: 0.9950\n",
      "Epoch 42/100\n",
      "18/26 [===================>..........] - ETA: 0s - loss: 0.0262 - accuracy: 0.9948\n",
      "Epoch 00042: val_loss did not improve from 0.01307\n",
      "26/26 [==============================] - 0s 5ms/step - loss: 0.0226 - accuracy: 0.9950 - val_loss: 0.0146 - val_accuracy: 0.9950\n",
      "Epoch 43/100\n",
      "17/26 [==================>...........] - ETA: 0s - loss: 0.0166 - accuracy: 0.9963\n",
      "Epoch 00043: val_loss did not improve from 0.01307\n",
      "26/26 [==============================] - 0s 4ms/step - loss: 0.0240 - accuracy: 0.9950 - val_loss: 0.0136 - val_accuracy: 0.9950\n",
      "Epoch 44/100\n",
      "18/26 [===================>..........] - ETA: 0s - loss: 0.0144 - accuracy: 0.9965\n",
      "Epoch 00044: val_loss did not improve from 0.01307\n",
      "26/26 [==============================] - 0s 4ms/step - loss: 0.0174 - accuracy: 0.9950 - val_loss: 0.0136 - val_accuracy: 0.9950\n",
      "Epoch 45/100\n",
      "17/26 [==================>...........] - ETA: 0s - loss: 0.0222 - accuracy: 0.9945\n",
      "Epoch 00045: val_loss did not improve from 0.01307\n",
      "26/26 [==============================] - 0s 4ms/step - loss: 0.0201 - accuracy: 0.9950 - val_loss: 0.0140 - val_accuracy: 0.9950\n",
      "Epoch 46/100\n",
      "18/26 [===================>..........] - ETA: 0s - loss: 0.0128 - accuracy: 0.9965\n",
      "Epoch 00046: val_loss did not improve from 0.01307\n",
      "26/26 [==============================] - 0s 4ms/step - loss: 0.0163 - accuracy: 0.9950 - val_loss: 0.0139 - val_accuracy: 0.9950\n",
      "Epoch 47/100\n",
      "19/26 [====================>.........] - ETA: 0s - loss: 0.0214 - accuracy: 0.9951\n",
      "Epoch 00047: val_loss did not improve from 0.01307\n",
      "26/26 [==============================] - 0s 4ms/step - loss: 0.0201 - accuracy: 0.9950 - val_loss: 0.0140 - val_accuracy: 0.9950\n",
      "Epoch 48/100\n",
      "17/26 [==================>...........] - ETA: 0s - loss: 0.0217 - accuracy: 0.9963\n",
      "Epoch 00048: val_loss did not improve from 0.01307\n",
      "26/26 [==============================] - 0s 4ms/step - loss: 0.0200 - accuracy: 0.9950 - val_loss: 0.0138 - val_accuracy: 0.9950\n",
      "Epoch 49/100\n",
      "20/26 [======================>.......] - ETA: 0s - loss: 0.0141 - accuracy: 0.9953\n",
      "Epoch 00049: val_loss did not improve from 0.01307\n",
      "26/26 [==============================] - 0s 4ms/step - loss: 0.0165 - accuracy: 0.9950 - val_loss: 0.0134 - val_accuracy: 0.9950\n",
      "Epoch 50/100\n",
      "20/26 [======================>.......] - ETA: 0s - loss: 0.0266 - accuracy: 0.9937\n",
      "Epoch 00050: val_loss did not improve from 0.01307\n",
      "26/26 [==============================] - 0s 4ms/step - loss: 0.0217 - accuracy: 0.9950 - val_loss: 0.0137 - val_accuracy: 0.9950\n",
      "Epoch 51/100\n",
      "17/26 [==================>...........] - ETA: 0s - loss: 0.0080 - accuracy: 0.9982    \n",
      "Epoch 00051: val_loss did not improve from 0.01307\n",
      "26/26 [==============================] - 0s 4ms/step - loss: 0.0181 - accuracy: 0.9950 - val_loss: 0.0135 - val_accuracy: 0.9950\n",
      "Epoch 52/100\n",
      "17/26 [==================>...........] - ETA: 0s - loss: 0.0095 - accuracy: 0.9982\n",
      "Epoch 00052: val_loss did not improve from 0.01307\n",
      "26/26 [==============================] - 0s 4ms/step - loss: 0.0139 - accuracy: 0.9950 - val_loss: 0.0137 - val_accuracy: 0.9950\n",
      "Epoch 53/100\n",
      "17/26 [==================>...........] - ETA: 0s - loss: 0.0254 - accuracy: 0.9926\n",
      "Epoch 00053: val_loss did not improve from 0.01307\n",
      "26/26 [==============================] - 0s 5ms/step - loss: 0.0189 - accuracy: 0.9950 - val_loss: 0.0135 - val_accuracy: 0.9950\n",
      "Epoch 00053: early stopping\n"
     ]
    }
   ],
   "source": [
    "history = model.fit(data_train, label_train, validation_split=0.2, epochs=100, verbose = 1, callbacks=[checkpoint,early])"
   ]
  },
  {
   "cell_type": "code",
   "execution_count": 11,
   "id": "ab63c0a3",
   "metadata": {},
   "outputs": [
    {
     "data": {
      "image/png": "[encoded data removed]",
      "text/plain": [
       "<Figure size 640x480 with 1 Axes>"
      ]
     },
     "metadata": {},
     "output_type": "display_data"
    }
   ],
   "source": [
    "# Plot training & validation accuracy values\n",
    "plt.plot(history.history['accuracy'])\n",
    "plt.plot(history.history['val_accuracy'])\n",
    "plt.title('BRNN Model Accuracy')\n",
    "plt.ylabel('Accuracy')\n",
    "plt.xlabel('Epoch')\n",
    "plt.legend(['Train', 'Test'], loc='lower right')\n",
    "# plt.savefig('BRNN 200 Model Accuracy.png')\n",
    "plt.show()"
   ]
  },
  {
   "cell_type": "code",
   "execution_count": 12,
   "id": "04277965",
   "metadata": {},
   "outputs": [
    {
     "data": {
      "image/png": "[encoded data removed]",
      "text/plain": [
       "<Figure size 640x480 with 1 Axes>"
      ]
     },
     "metadata": {},
     "output_type": "display_data"
    }
   ],
   "source": [
    "# Plot training & validation loss values\n",
    "plt.plot(history.history['loss'])\n",
    "plt.plot(history.history['val_loss'])\n",
    "plt.title('BRNN Model  Loss')\n",
    "plt.ylabel('Loss')\n",
    "plt.xlabel('Epoch')\n",
    "plt.legend(['Train', 'Test'], loc='upper left')\n",
    "# plt.savefig('BRNN 200 Model Loss.png')\n",
    "plt.show()"
   ]
  },
  {
   "cell_type": "code",
   "execution_count": 13,
   "id": "cfcc8675",
   "metadata": {},
   "outputs": [
    {
     "name": "stdout",
     "output_type": "stream",
     "text": [
      "8/8 [==============================] - 0s 944us/step\n"
     ]
    }
   ],
   "source": [
    "predict = model.predict(data_eval, verbose=1)"
   ]
  },
  {
   "cell_type": "code",
   "execution_count": 14,
   "id": "3b485068",
   "metadata": {},
   "outputs": [
    {
     "data": {
      "image/png": "[encoded data removed]",
      "text/plain": [
       "<Figure size 640x480 with 2 Axes>"
      ]
     },
     "metadata": {},
     "output_type": "display_data"
    }
   ],
   "source": [
    "tp = 0\n",
    "tn = 0\n",
    "fp = 0\n",
    "fn = 0\n",
    "predictn = predict.flatten().round()\n",
    "predictn = predictn.tolist()\n",
    "Y_testn = label_eval.tolist()\n",
    "for i in range(len(Y_testn)):\n",
    "  if predictn[i]==1 and Y_testn[i]==1:\n",
    "    tp+=1\n",
    "  elif predictn[i]==0 and Y_testn[i]==0:\n",
    "    tn+=1\n",
    "  elif predictn[i]==0 and Y_testn[i]==1:\n",
    "    fp+=1\n",
    "  elif predictn[i]==1 and Y_testn[i]==0:\n",
    "    fn+=1\n",
    "to_heat_map =[[tn,fp],[fn,tp]]\n",
    "to_heat_map = pd.DataFrame(to_heat_map, index = [\"Attack\",\"Normal\"],columns = [\"Attack\",\"Normal\"])\n",
    "ax = sns.heatmap(to_heat_map,annot=True, fmt=\"d\")"
   ]
  },
  {
   "cell_type": "code",
   "execution_count": 15,
   "id": "0f64d323",
   "metadata": {},
   "outputs": [
    {
     "name": "stdout",
     "output_type": "stream",
     "text": [
      "8/8 [==============================] - 0s 2ms/step - loss: 0.0477 - accuracy: 0.9960\n",
      "accuracy: 99.60%\n"
     ]
    }
   ],
   "source": [
    "scores = model.evaluate(data_eval, label_eval)\n",
    "print(\"%s: %.2f%%\" % (model.metrics_names[1], scores[1]*100))"
   ]
  },
  {
   "cell_type": "code",
   "execution_count": 16,
   "id": "8355540c",
   "metadata": {},
   "outputs": [
    {
     "name": "stdout",
     "output_type": "stream",
     "text": [
      "              precision    recall  f1-score   support\n",
      "\n",
      "           0       0.99      1.00      1.00       147\n",
      "           1       1.00      0.99      1.00       104\n",
      "\n",
      "    accuracy                           1.00       251\n",
      "   macro avg       1.00      1.00      1.00       251\n",
      "weighted avg       1.00      1.00      1.00       251\n",
      "\n"
     ]
    }
   ],
   "source": [
    "print(classification_report(Y_testn,predictn))"
   ]
  },
  {
   "cell_type": "code",
   "execution_count": 17,
   "id": "6b1e5995",
   "metadata": {},
   "outputs": [
    {
     "name": "stdout",
     "output_type": "stream",
     "text": [
      "SVM: ROC AUC=0.995\n"
     ]
    }
   ],
   "source": [
    "lr_auc = roc_auc_score(Y_testn, predictn)\n",
    "print('SVM: ROC AUC=%.3f' % (lr_auc))"
   ]
  },
  {
   "cell_type": "code",
   "execution_count": 18,
   "id": "9e9ffd90",
   "metadata": {},
   "outputs": [
    {
     "name": "stdout",
     "output_type": "stream",
     "text": [
      "1/1 [==============================] - 0s 21ms/step\n",
      "Time elapse for prediction : 0.03873950000000015\n",
      "[[1.]]\n"
     ]
    }
   ],
   "source": [
    "time_start = time.perf_counter()\n",
    "predict = model.predict(data_eval[:1], verbose=1)\n",
    "print(f\"Time elapse for prediction : {time.perf_counter() - time_start}\")\n",
    "print(predict)"
   ]
  },
  {
   "cell_type": "code",
   "execution_count": null,
   "id": "fe718f7a",
   "metadata": {},
   "outputs": [],
   "source": []
  }
 ],
 "metadata": {
  "kernelspec": {
   "display_name": "Python 3 (ipykernel)",
   "language": "python",
   "name": "python3"
  },
  "language_info": {
   "codemirror_mode": {
    "name": "ipython",
    "version": 3
   },
   "file_extension": ".py",
   "mimetype": "text/x-python",
   "name": "python",
   "nbconvert_exporter": "python",
   "pygments_lexer": "ipython3",
   "version": "3.9.13"
  }
 },
 "nbformat": 4,
 "nbformat_minor": 5
}
