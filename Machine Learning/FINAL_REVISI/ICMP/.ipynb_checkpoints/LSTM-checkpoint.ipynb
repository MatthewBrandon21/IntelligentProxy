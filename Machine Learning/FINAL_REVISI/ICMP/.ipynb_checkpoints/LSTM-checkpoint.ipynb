{
 "cells": [
  {
   "cell_type": "code",
   "execution_count": 1,
   "id": "76fa329c",
   "metadata": {},
   "outputs": [],
   "source": [
    "import numpy as np\n",
    "import pandas as pd\n",
    "import matplotlib.pyplot as plt\n",
    "import seaborn as sns; sns.set()\n",
    "from keras.models import Sequential, load_model\n",
    "from keras.layers import Dense, LSTM, Bidirectional\n",
    "from keras.utils.np_utils import to_categorical\n",
    "from keras.utils import np_utils\n",
    "from keras.callbacks import ModelCheckpoint, EarlyStopping\n",
    "from sklearn.model_selection import train_test_split\n",
    "from sklearn.preprocessing import LabelEncoder, StandardScaler\n",
    "from sklearn.metrics import classification_report, confusion_matrix\n",
    "from sklearn.metrics import roc_auc_score\n",
    "import joblib\n",
    "\n",
    "import time\n",
    "from collections import Counter\n",
    "from imblearn.over_sampling import SMOTE\n",
    "from imblearn.under_sampling import RandomUnderSampler\n",
    "from imblearn.pipeline import Pipeline"
   ]
  },
  {
   "cell_type": "code",
   "execution_count": 2,
   "id": "d041644e",
   "metadata": {},
   "outputs": [],
   "source": [
    "data_normal_1 = pd.read_csv('dataset/timeseries/icmp_dataset_timeseries_normal_1.csv')\n",
    "data_normal_2 = pd.read_csv('dataset/timeseries/icmp_dataset_timeseries_normal_2.csv')\n",
    "\n",
    "data_normal_3 = pd.read_csv('dataset/timeseries/old/dataset_icmp_timeseries_normal.csv')\n",
    "\n",
    "data_attack_1 = pd.read_csv('dataset/timeseries/icmp_dataset_timeseries_attack_1.csv')\n",
    "data_attack_2 = pd.read_csv('dataset/timeseries/icmp_dataset_timeseries_attack_2.csv')\n",
    "\n",
    "data_attack_3 = pd.read_csv('dataset/timeseries/old/dataset_icmp_timeseries_attack.csv')"
   ]
  },
  {
   "cell_type": "code",
   "execution_count": 3,
   "id": "b0e9c85b",
   "metadata": {},
   "outputs": [],
   "source": [
    "data_normal_1.columns = ['chksum', 'id', 'seq', 'payload_len', 'label']\n",
    "data_normal_2.columns = ['chksum', 'id', 'seq', 'payload_len', 'label']\n",
    "\n",
    "data_normal_3.columns = ['timestamp', 'chksum', 'id', 'seq', 'payload_len', 'label']\n",
    "\n",
    "data_attack_1.columns = ['chksum', 'id', 'seq', 'payload_len', 'label']\n",
    "data_attack_2.columns = ['chksum', 'id', 'seq', 'payload_len', 'label']\n",
    "\n",
    "data_attack_3.columns = ['timestamp', 'chksum', 'id', 'seq', 'payload_len', 'label']"
   ]
  },
  {
   "cell_type": "code",
   "execution_count": 4,
   "id": "b3292744",
   "metadata": {},
   "outputs": [],
   "source": [
    "data_normal_3 = data_normal_3.drop(['timestamp'],axis=1)\n",
    "\n",
    "data_attack_3 = data_attack_3.drop(['timestamp'],axis=1)"
   ]
  },
  {
   "cell_type": "code",
   "execution_count": 5,
   "id": "12aa93dc",
   "metadata": {},
   "outputs": [],
   "source": [
    "features = ['chksum', 'id', 'seq', 'payload_len']"
   ]
  },
  {
   "cell_type": "code",
   "execution_count": 6,
   "id": "c3caaf52",
   "metadata": {},
   "outputs": [],
   "source": [
    "X_normal_1 = data_normal_1[features].values\n",
    "X_normal_2 = data_normal_2[features].values\n",
    "X_normal_3 = data_normal_3[features].values\n",
    "\n",
    "X_attack_1 = data_attack_1[features].values\n",
    "X_attack_2 = data_attack_2[features].values\n",
    "X_attack_3 = data_attack_3[features].values\n",
    "\n",
    "Y_normal_1 = data_normal_1['label']\n",
    "Y_normal_2 = data_normal_2['label']\n",
    "Y_normal_3 = data_normal_3['label']\n",
    "\n",
    "Y_attack_1 = data_attack_1['label']\n",
    "Y_attack_2 = data_attack_2['label']\n",
    "Y_attack_3 = data_attack_3['label']\n",
    "\n",
    "X=np.concatenate((X_normal_1,X_normal_2,X_normal_3,X_attack_1,X_attack_2,X_attack_3))\n",
    "Y=np.concatenate((Y_normal_1,Y_normal_2,Y_normal_3,Y_attack_1,Y_attack_2,Y_attack_3))"
   ]
  },
  {
   "cell_type": "code",
   "execution_count": 7,
   "id": "a21297c9",
   "metadata": {},
   "outputs": [
    {
     "name": "stdout",
     "output_type": "stream",
     "text": [
      "Counter({1: 62676, 0: 8299})\n"
     ]
    }
   ],
   "source": [
    "data_counter = Counter(Y)\n",
    "print(data_counter)"
   ]
  },
  {
   "cell_type": "code",
   "execution_count": 8,
   "id": "741cc249",
   "metadata": {},
   "outputs": [],
   "source": [
    "over = SMOTE()\n",
    "under = RandomUnderSampler()\n",
    "steps = [('o', over), ('u', under)]\n",
    "pipeline = Pipeline(steps=steps)\n",
    "X, Y = pipeline.fit_resample(X, Y)"
   ]
  },
  {
   "cell_type": "code",
   "execution_count": 9,
   "id": "409135a7",
   "metadata": {},
   "outputs": [
    {
     "name": "stdout",
     "output_type": "stream",
     "text": [
      "Counter({0: 62676, 1: 62676})\n"
     ]
    }
   ],
   "source": [
    "data_counter = Counter(Y)\n",
    "print(data_counter)"
   ]
  },
  {
   "cell_type": "code",
   "execution_count": 10,
   "id": "08f5daf5",
   "metadata": {},
   "outputs": [],
   "source": [
    "scalar = StandardScaler(copy=True, with_mean=True, with_std=True)\n",
    "scalar.fit(X)\n",
    "X = scalar.transform(X)"
   ]
  },
  {
   "cell_type": "code",
   "execution_count": 11,
   "id": "03fb017a",
   "metadata": {},
   "outputs": [
    {
     "name": "stdout",
     "output_type": "stream",
     "text": [
      "(125352, 4)\n",
      "(125352,)\n"
     ]
    }
   ],
   "source": [
    "print(np.shape(X))\n",
    "print(np.shape(Y))"
   ]
  },
  {
   "cell_type": "code",
   "execution_count": 12,
   "id": "9b543209",
   "metadata": {},
   "outputs": [],
   "source": [
    "features = len(X[0])\n",
    "samples = X.shape[0]\n",
    "train_len = 200\n",
    "input_len = samples - train_len\n",
    "I = np.zeros((samples - train_len, train_len, features))"
   ]
  },
  {
   "cell_type": "code",
   "execution_count": 13,
   "id": "4a802d89",
   "metadata": {},
   "outputs": [],
   "source": [
    "for i in range(input_len):\n",
    "    temp = np.zeros((train_len, features))\n",
    "    for j in range(i, i + train_len - 1):\n",
    "        temp[j-i] = X[j]\n",
    "    I[i] = temp"
   ]
  },
  {
   "cell_type": "code",
   "execution_count": 14,
   "id": "7668c3b1",
   "metadata": {},
   "outputs": [
    {
     "name": "stdout",
     "output_type": "stream",
     "text": [
      "(125152, 200, 4)\n"
     ]
    }
   ],
   "source": [
    "print(I.shape)"
   ]
  },
  {
   "cell_type": "code",
   "execution_count": 15,
   "id": "fde8f9e5",
   "metadata": {},
   "outputs": [],
   "source": [
    "X_train, X_test, Y_train, Y_test = train_test_split(I, Y[200:], test_size = 0.2, stratify=Y[200:], random_state = 0)"
   ]
  },
  {
   "cell_type": "code",
   "execution_count": 16,
   "id": "a5c0d100",
   "metadata": {},
   "outputs": [],
   "source": [
    "def create_baseline():\n",
    "    model = Sequential()\n",
    "    model.add(Bidirectional(LSTM(64, activation='tanh', kernel_regularizer='l2')))\n",
    "    model.add(Dense(128, activation = 'relu', kernel_regularizer='l2'))\n",
    "    model.add(Dense(1, activation = 'sigmoid', kernel_regularizer='l2'))\n",
    "    model.compile(loss = 'binary_crossentropy', optimizer = 'adam', metrics = ['accuracy'])\n",
    "    return model"
   ]
  },
  {
   "cell_type": "code",
   "execution_count": 17,
   "id": "6c6a82e8",
   "metadata": {},
   "outputs": [],
   "source": [
    "model = create_baseline()"
   ]
  },
  {
   "cell_type": "code",
   "execution_count": 18,
   "id": "6e010d07",
   "metadata": {},
   "outputs": [
    {
     "name": "stdout",
     "output_type": "stream",
     "text": [
      "WARNING:tensorflow:`period` argument is deprecated. Please use `save_freq` to specify the frequency in number of batches seen.\n"
     ]
    }
   ],
   "source": [
    "checkpoint = ModelCheckpoint(\"LSTMmodel.h5\", monitor='val_loss', verbose=1, save_best_only=True, save_weights_only=False, mode='auto', period=1)\n",
    "early = EarlyStopping(monitor='val_loss', min_delta=0, patience=5, verbose=1, mode='auto')"
   ]
  },
  {
   "cell_type": "code",
   "execution_count": 19,
   "id": "6397598b",
   "metadata": {},
   "outputs": [
    {
     "name": "stdout",
     "output_type": "stream",
     "text": [
      "Epoch 1/30\n",
      "2501/2503 [============================>.] - ETA: 0s - loss: 0.1259 - accuracy: 0.9711\n",
      "Epoch 00001: val_loss improved from inf to 0.71079, saving model to LSTMmodel.h5\n",
      "2503/2503 [==============================] - 64s 24ms/step - loss: 0.1263 - accuracy: 0.9708 - val_loss: 0.7108 - val_accuracy: 0.4987\n",
      "Epoch 2/30\n",
      "2502/2503 [============================>.] - ETA: 0s - loss: 0.2050 - accuracy: 0.9136\n",
      "Epoch 00002: val_loss improved from 0.71079 to 0.02662, saving model to LSTMmodel.h5\n",
      "2503/2503 [==============================] - 60s 24ms/step - loss: 0.2049 - accuracy: 0.9136 - val_loss: 0.0266 - val_accuracy: 0.9999\n",
      "Epoch 3/30\n",
      "2502/2503 [============================>.] - ETA: 0s - loss: 0.0302 - accuracy: 0.9988\n",
      "Epoch 00003: val_loss improved from 0.02662 to 0.02377, saving model to LSTMmodel.h5\n",
      "2503/2503 [==============================] - 59s 23ms/step - loss: 0.0302 - accuracy: 0.9988 - val_loss: 0.0238 - val_accuracy: 0.9999\n",
      "Epoch 4/30\n",
      "2502/2503 [============================>.] - ETA: 0s - loss: 0.0370 - accuracy: 0.9975\n",
      "Epoch 00004: val_loss did not improve from 0.02377\n",
      "2503/2503 [==============================] - 61s 24ms/step - loss: 0.0370 - accuracy: 0.9975 - val_loss: 0.0280 - val_accuracy: 0.9995\n",
      "Epoch 5/30\n",
      "2503/2503 [==============================] - ETA: 0s - loss: 0.0321 - accuracy: 0.9984\n",
      "Epoch 00005: val_loss did not improve from 0.02377\n",
      "2503/2503 [==============================] - 60s 24ms/step - loss: 0.0321 - accuracy: 0.9984 - val_loss: 0.0284 - val_accuracy: 0.9998\n",
      "Epoch 6/30\n",
      "2503/2503 [==============================] - ETA: 0s - loss: 0.0630 - accuracy: 0.9865\n",
      "Epoch 00006: val_loss did not improve from 0.02377\n",
      "2503/2503 [==============================] - 61s 24ms/step - loss: 0.0630 - accuracy: 0.9865 - val_loss: 0.0401 - val_accuracy: 0.9991\n",
      "Epoch 7/30\n",
      "2501/2503 [============================>.] - ETA: 0s - loss: 0.0396 - accuracy: 0.9971\n",
      "Epoch 00007: val_loss did not improve from 0.02377\n",
      "2503/2503 [==============================] - 60s 24ms/step - loss: 0.0396 - accuracy: 0.9971 - val_loss: 0.0260 - val_accuracy: 0.9994\n",
      "Epoch 8/30\n",
      "2502/2503 [============================>.] - ETA: 0s - loss: 0.0406 - accuracy: 0.9920\n",
      "Epoch 00008: val_loss did not improve from 0.02377\n",
      "2503/2503 [==============================] - 60s 24ms/step - loss: 0.0406 - accuracy: 0.9920 - val_loss: 0.0676 - val_accuracy: 0.9994\n",
      "Epoch 00008: early stopping\n"
     ]
    }
   ],
   "source": [
    "history = model.fit(X_train, Y_train, epochs = 30,validation_split=0.2, verbose = 1, callbacks=[checkpoint,early])"
   ]
  },
  {
   "cell_type": "code",
   "execution_count": 20,
   "id": "c295f029",
   "metadata": {},
   "outputs": [
    {
     "data": {
      "image/png": "[encoded data removed]",
      "text/plain": [
       "<Figure size 640x480 with 1 Axes>"
      ]
     },
     "metadata": {},
     "output_type": "display_data"
    }
   ],
   "source": [
    "# Plot training & validation accuracy values\n",
    "plt.plot(history.history['accuracy'])\n",
    "plt.plot(history.history['val_accuracy'])\n",
    "plt.title('BRNN Model Accuracy')\n",
    "plt.ylabel('Accuracy')\n",
    "plt.xlabel('Epoch')\n",
    "plt.legend(['Train', 'Test'], loc='lower right')\n",
    "plt.savefig('BRNN 200 Model Accuracy.png')\n",
    "plt.show()"
   ]
  },
  {
   "cell_type": "code",
   "execution_count": 21,
   "id": "efdefc2c",
   "metadata": {},
   "outputs": [
    {
     "data": {
      "image/png": "[encoded data removed]",
      "text/plain": [
       "<Figure size 640x480 with 1 Axes>"
      ]
     },
     "metadata": {},
     "output_type": "display_data"
    }
   ],
   "source": [
    "# Plot training & validation loss values\n",
    "plt.plot(history.history['loss'])\n",
    "plt.plot(history.history['val_loss'])\n",
    "plt.title('BRNN Model  Loss')\n",
    "plt.ylabel('Loss')\n",
    "plt.xlabel('Epoch')\n",
    "plt.legend(['Train', 'Test'], loc='upper left')\n",
    "plt.savefig('BRNN 200 Model Loss.png')\n",
    "plt.show()"
   ]
  },
  {
   "cell_type": "code",
   "execution_count": 22,
   "id": "a36fcb82",
   "metadata": {},
   "outputs": [
    {
     "name": "stdout",
     "output_type": "stream",
     "text": [
      "783/783 [==============================] - 9s 11ms/step\n"
     ]
    }
   ],
   "source": [
    "predict = model.predict(X_test, verbose=1)"
   ]
  },
  {
   "cell_type": "code",
   "execution_count": 23,
   "id": "51cbd9f6",
   "metadata": {},
   "outputs": [
    {
     "data": {
      "image/png": "[encoded data removed]",
      "text/plain": [
       "<Figure size 640x480 with 2 Axes>"
      ]
     },
     "metadata": {},
     "output_type": "display_data"
    }
   ],
   "source": [
    "tp = 0\n",
    "tn = 0\n",
    "fp = 0\n",
    "fn = 0\n",
    "predictn = predict.flatten().round()\n",
    "predictn = predictn.tolist()\n",
    "Y_testn = Y_test.tolist()\n",
    "for i in range(len(Y_testn)):\n",
    "  if predictn[i]==1 and Y_testn[i]==1:\n",
    "    tp+=1\n",
    "  elif predictn[i]==0 and Y_testn[i]==0:\n",
    "    tn+=1\n",
    "  elif predictn[i]==0 and Y_testn[i]==1:\n",
    "    fp+=1\n",
    "  elif predictn[i]==1 and Y_testn[i]==0:\n",
    "    fn+=1\n",
    "to_heat_map =[[tn,fp],[fn,tp]]\n",
    "to_heat_map = pd.DataFrame(to_heat_map, index = [\"Attack\",\"Normal\"],columns = [\"Attack\",\"Normal\"])\n",
    "ax = sns.heatmap(to_heat_map,annot=True, fmt=\"d\")"
   ]
  },
  {
   "cell_type": "code",
   "execution_count": 24,
   "id": "5477b51f",
   "metadata": {},
   "outputs": [],
   "source": [
    "figure = ax.get_figure()\n",
    "figure.savefig('confusion_matrix_BRNN_200.png', dpi=400)"
   ]
  },
  {
   "cell_type": "code",
   "execution_count": 25,
   "id": "42ecc926",
   "metadata": {},
   "outputs": [
    {
     "data": {
      "text/plain": [
       "['scaler_200.save']"
      ]
     },
     "execution_count": 25,
     "metadata": {},
     "output_type": "execute_result"
    }
   ],
   "source": [
    "# model.save('brnn_model_200_step.h5')\n",
    "joblib.dump(scalar, 'scaler_200.save')"
   ]
  },
  {
   "cell_type": "code",
   "execution_count": 26,
   "id": "2a938888",
   "metadata": {},
   "outputs": [
    {
     "name": "stdout",
     "output_type": "stream",
     "text": [
      "accuracy: 99.96%\n"
     ]
    }
   ],
   "source": [
    "scores = model.evaluate(X_test, Y_test, verbose=0)\n",
    "print(\"%s: %.2f%%\" % (model.metrics_names[1], scores[1]*100))"
   ]
  },
  {
   "cell_type": "code",
   "execution_count": 27,
   "id": "c172e338",
   "metadata": {},
   "outputs": [
    {
     "name": "stdout",
     "output_type": "stream",
     "text": [
      "              precision    recall  f1-score   support\n",
      "\n",
      "           0       1.00      1.00      1.00     12495\n",
      "           1       1.00      1.00      1.00     12536\n",
      "\n",
      "    accuracy                           1.00     25031\n",
      "   macro avg       1.00      1.00      1.00     25031\n",
      "weighted avg       1.00      1.00      1.00     25031\n",
      "\n"
     ]
    }
   ],
   "source": [
    "print(classification_report(Y_testn,predictn))"
   ]
  },
  {
   "cell_type": "code",
   "execution_count": 28,
   "id": "d9db1966",
   "metadata": {},
   "outputs": [
    {
     "name": "stdout",
     "output_type": "stream",
     "text": [
      "SVM: ROC AUC=1.000\n"
     ]
    }
   ],
   "source": [
    "lr_auc = roc_auc_score(Y_testn, predictn)\n",
    "print('SVM: ROC AUC=%.3f' % (lr_auc))"
   ]
  },
  {
   "cell_type": "code",
   "execution_count": 29,
   "id": "9b4c4183",
   "metadata": {},
   "outputs": [
    {
     "name": "stdout",
     "output_type": "stream",
     "text": [
      "7/7 [==============================] - 0s 10ms/step\n",
      "Time elapse for prediction : 0.09593400000005659\n",
      "[[0.00847956]\n",
      " [0.00847835]\n",
      " [0.00848379]\n",
      " [0.00849046]\n",
      " [0.00848116]\n",
      " [0.00848763]\n",
      " [0.00849123]\n",
      " [0.0084959 ]\n",
      " [0.00848598]\n",
      " [0.00848497]\n",
      " [0.00848815]\n",
      " [0.00848806]\n",
      " [0.00849551]\n",
      " [0.00848893]\n",
      " [0.00848306]\n",
      " [0.00849005]\n",
      " [0.00849454]\n",
      " [0.00850056]\n",
      " [0.00850861]\n",
      " [0.00850912]\n",
      " [0.00850497]\n",
      " [0.00849754]\n",
      " [0.00849552]\n",
      " [0.00850254]\n",
      " [0.00851123]\n",
      " [0.00850759]\n",
      " [0.00850945]\n",
      " [0.00851027]\n",
      " [0.00851246]\n",
      " [0.00851261]\n",
      " [0.00850642]\n",
      " [0.00850208]\n",
      " [0.00850564]\n",
      " [0.00850127]\n",
      " [0.0084971 ]\n",
      " [0.00850374]\n",
      " [0.0085049 ]\n",
      " [0.00849972]\n",
      " [0.00850615]\n",
      " [0.00850321]\n",
      " [0.00850655]\n",
      " [0.00850245]\n",
      " [0.00850354]\n",
      " [0.00849481]\n",
      " [0.0084915 ]\n",
      " [0.0084869 ]\n",
      " [0.00848544]\n",
      " [0.00849286]\n",
      " [0.00849067]\n",
      " [0.0084987 ]\n",
      " [0.0084977 ]\n",
      " [0.00849258]\n",
      " [0.00849111]\n",
      " [0.00849274]\n",
      " [0.00849919]\n",
      " [0.00850149]\n",
      " [0.00850961]\n",
      " [0.00850432]\n",
      " [0.00850146]\n",
      " [0.00850505]\n",
      " [0.00850699]\n",
      " [0.00849921]\n",
      " [0.00849657]\n",
      " [0.00849758]\n",
      " [0.00850232]\n",
      " [0.00850883]\n",
      " [0.00851138]\n",
      " [0.00851105]\n",
      " [0.00850992]\n",
      " [0.00851066]\n",
      " [0.00851735]\n",
      " [0.00851718]\n",
      " [0.0085152 ]\n",
      " [0.00850999]\n",
      " [0.00850255]\n",
      " [0.00849905]\n",
      " [0.00849724]\n",
      " [0.00849853]\n",
      " [0.00850611]\n",
      " [0.00850347]\n",
      " [0.00851405]\n",
      " [0.00850864]\n",
      " [0.00850661]\n",
      " [0.00850475]\n",
      " [0.00849895]\n",
      " [0.00850502]\n",
      " [0.00849906]\n",
      " [0.00849319]\n",
      " [0.00848479]\n",
      " [0.00847883]\n",
      " [0.00847221]\n",
      " [0.00846242]\n",
      " [0.00846396]\n",
      " [0.00846779]\n",
      " [0.00847458]\n",
      " [0.00848073]\n",
      " [0.00847499]\n",
      " [0.00847628]\n",
      " [0.00846938]\n",
      " [0.0084676 ]\n",
      " [0.00846508]\n",
      " [0.00846539]\n",
      " [0.00846507]\n",
      " [0.00846904]\n",
      " [0.00847467]\n",
      " [0.00848015]\n",
      " [0.00847447]\n",
      " [0.00847304]\n",
      " [0.00847102]\n",
      " [0.00847363]\n",
      " [0.0084754 ]\n",
      " [0.0084653 ]\n",
      " [0.0084664 ]\n",
      " [0.00846606]\n",
      " [0.00847193]\n",
      " [0.00847164]\n",
      " [0.00847743]\n",
      " [0.00847932]\n",
      " [0.00848125]\n",
      " [0.00848438]\n",
      " [0.00849219]\n",
      " [0.00849364]\n",
      " [0.0084852 ]\n",
      " [0.00848064]\n",
      " [0.00848664]\n",
      " [0.00847822]\n",
      " [0.00848049]\n",
      " [0.0084797 ]\n",
      " [0.0084752 ]\n",
      " [0.0084836 ]\n",
      " [0.00847812]\n",
      " [0.00847133]\n",
      " [0.00847411]\n",
      " [0.00847522]\n",
      " [0.0084704 ]\n",
      " [0.00847386]\n",
      " [0.0084776 ]\n",
      " [0.00848609]\n",
      " [0.0084892 ]\n",
      " [0.0084811 ]\n",
      " [0.00848593]\n",
      " [0.00849195]\n",
      " [0.00849103]\n",
      " [0.00849055]\n",
      " [0.00849522]\n",
      " [0.00848993]\n",
      " [0.0084953 ]\n",
      " [0.0084964 ]\n",
      " [0.00850111]\n",
      " [0.00850314]\n",
      " [0.0085055 ]\n",
      " [0.00850272]\n",
      " [0.00849623]\n",
      " [0.00849091]\n",
      " [0.00849262]\n",
      " [0.0084942 ]\n",
      " [0.00849113]\n",
      " [0.00849115]\n",
      " [0.00849493]\n",
      " [0.00850044]\n",
      " [0.00849566]\n",
      " [0.00850321]\n",
      " [0.00849646]\n",
      " [0.00849231]\n",
      " [0.00848961]\n",
      " [0.00848483]\n",
      " [0.00848007]\n",
      " [0.00846899]\n",
      " [0.00846864]\n",
      " [0.00847334]\n",
      " [0.00847591]\n",
      " [0.00848282]\n",
      " [0.00847737]\n",
      " [0.00847318]\n",
      " [0.00847482]\n",
      " [0.0084759 ]\n",
      " [0.00848085]\n",
      " [0.0084843 ]\n",
      " [0.00848973]\n",
      " [0.00848095]\n",
      " [0.00847573]\n",
      " [0.0084791 ]\n",
      " [0.00848304]\n",
      " [0.00847849]\n",
      " [0.00847709]\n",
      " [0.00848457]\n",
      " [0.00848768]\n",
      " [0.0084893 ]\n",
      " [0.00849639]\n",
      " [0.00849273]\n",
      " [0.00849112]\n",
      " [0.00849404]\n",
      " [0.0084991 ]\n",
      " [0.00849498]\n",
      " [0.00848974]\n",
      " [0.00848717]\n",
      " [0.00849515]\n",
      " [0.00849026]\n",
      " [0.00848792]\n",
      " [0.00848999]]\n"
     ]
    }
   ],
   "source": [
    "time_start = time.perf_counter()\n",
    "predict = model.predict(I[:200], verbose=1)\n",
    "print(f\"Time elapse for prediction : {time.perf_counter() - time_start}\")\n",
    "print(predict)"
   ]
  }
 ],
 "metadata": {
  "kernelspec": {
   "display_name": "Python 3 (ipykernel)",
   "language": "python",
   "name": "python3"
  },
  "language_info": {
   "codemirror_mode": {
    "name": "ipython",
    "version": 3
   },
   "file_extension": ".py",
   "mimetype": "text/x-python",
   "name": "python",
   "nbconvert_exporter": "python",
   "pygments_lexer": "ipython3",
   "version": "3.9.13"
  }
 },
 "nbformat": 4,
 "nbformat_minor": 5
}
