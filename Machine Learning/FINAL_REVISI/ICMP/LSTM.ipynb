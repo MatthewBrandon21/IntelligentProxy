{
 "cells": [
  {
   "cell_type": "code",
   "execution_count": 1,
   "id": "76fa329c",
   "metadata": {},
   "outputs": [],
   "source": [
    "import numpy as np\n",
    "import pandas as pd\n",
    "import matplotlib.pyplot as plt\n",
    "import seaborn as sns; sns.set()\n",
    "from keras.models import Sequential, load_model\n",
    "from keras.layers import Dense, LSTM, Bidirectional\n",
    "from keras.utils.np_utils import to_categorical\n",
    "from keras.utils import np_utils\n",
    "from keras.callbacks import ModelCheckpoint, EarlyStopping\n",
    "from sklearn.model_selection import train_test_split\n",
    "from sklearn.preprocessing import LabelEncoder, StandardScaler\n",
    "from sklearn.metrics import classification_report, confusion_matrix\n",
    "from sklearn.metrics import roc_auc_score\n",
    "import joblib\n",
    "\n",
    "import time\n",
    "from collections import Counter\n",
    "from imblearn.over_sampling import SMOTE\n",
    "from imblearn.under_sampling import RandomUnderSampler\n",
    "from imblearn.pipeline import Pipeline"
   ]
  },
  {
   "cell_type": "code",
   "execution_count": 2,
   "id": "d041644e",
   "metadata": {},
   "outputs": [],
   "source": [
    "data_normal_1 = pd.read_csv('dataset/timeseries/icmp_dataset_timeseries_normal_1.csv')\n",
    "data_normal_2 = pd.read_csv('dataset/timeseries/icmp_dataset_timeseries_normal_2.csv')\n",
    "\n",
    "data_normal_3 = pd.read_csv('dataset/timeseries/old/dataset_icmp_timeseries_normal.csv')\n",
    "\n",
    "data_attack_1 = pd.read_csv('dataset/timeseries/icmp_dataset_timeseries_attack_1.csv')\n",
    "data_attack_2 = pd.read_csv('dataset/timeseries/icmp_dataset_timeseries_attack_2.csv')\n",
    "\n",
    "data_attack_3 = pd.read_csv('dataset/timeseries/old/dataset_icmp_timeseries_attack.csv')"
   ]
  },
  {
   "cell_type": "code",
   "execution_count": 3,
   "id": "b0e9c85b",
   "metadata": {},
   "outputs": [],
   "source": [
    "data_normal_1.columns = ['chksum', 'id', 'seq', 'payload_len', 'label']\n",
    "data_normal_2.columns = ['chksum', 'id', 'seq', 'payload_len', 'label']\n",
    "\n",
    "data_normal_3.columns = ['timestamp', 'chksum', 'id', 'seq', 'payload_len', 'label']\n",
    "\n",
    "data_attack_1.columns = ['chksum', 'id', 'seq', 'payload_len', 'label']\n",
    "data_attack_2.columns = ['chksum', 'id', 'seq', 'payload_len', 'label']\n",
    "\n",
    "data_attack_3.columns = ['timestamp', 'chksum', 'id', 'seq', 'payload_len', 'label']"
   ]
  },
  {
   "cell_type": "code",
   "execution_count": 4,
   "id": "b3292744",
   "metadata": {},
   "outputs": [],
   "source": [
    "data_normal_3 = data_normal_3.drop(['timestamp'],axis=1)\n",
    "\n",
    "data_attack_3 = data_attack_3.drop(['timestamp'],axis=1)"
   ]
  },
  {
   "cell_type": "code",
   "execution_count": 5,
   "id": "12aa93dc",
   "metadata": {},
   "outputs": [],
   "source": [
    "features = ['chksum', 'id', 'seq', 'payload_len']"
   ]
  },
  {
   "cell_type": "code",
   "execution_count": 6,
   "id": "c3caaf52",
   "metadata": {},
   "outputs": [],
   "source": [
    "X_normal_1 = data_normal_1[features].values\n",
    "X_normal_2 = data_normal_2[features].values\n",
    "X_normal_3 = data_normal_3[features].values\n",
    "\n",
    "X_attack_1 = data_attack_1[features].values\n",
    "X_attack_2 = data_attack_2[features].values\n",
    "X_attack_3 = data_attack_3[features].values\n",
    "\n",
    "Y_normal_1 = data_normal_1['label']\n",
    "Y_normal_2 = data_normal_2['label']\n",
    "Y_normal_3 = data_normal_3['label']\n",
    "\n",
    "Y_attack_1 = data_attack_1['label']\n",
    "Y_attack_2 = data_attack_2['label']\n",
    "Y_attack_3 = data_attack_3['label']\n",
    "\n",
    "X=np.concatenate((X_normal_1,X_normal_2,X_normal_3,X_attack_1,X_attack_2,X_attack_3))\n",
    "Y=np.concatenate((Y_normal_1,Y_normal_2,Y_normal_3,Y_attack_1,Y_attack_2,Y_attack_3))"
   ]
  },
  {
   "cell_type": "code",
   "execution_count": 7,
   "id": "08f5daf5",
   "metadata": {},
   "outputs": [],
   "source": [
    "scalar = StandardScaler(copy=True, with_mean=True, with_std=True)\n",
    "scalar.fit(X)\n",
    "X = scalar.transform(X)"
   ]
  },
  {
   "cell_type": "code",
   "execution_count": 8,
   "id": "03fb017a",
   "metadata": {},
   "outputs": [
    {
     "name": "stdout",
     "output_type": "stream",
     "text": [
      "(70975, 4)\n",
      "(70975,)\n"
     ]
    }
   ],
   "source": [
    "print(np.shape(X))\n",
    "print(np.shape(Y))"
   ]
  },
  {
   "cell_type": "code",
   "execution_count": 9,
   "id": "9b543209",
   "metadata": {},
   "outputs": [],
   "source": [
    "features = len(X[0])\n",
    "samples = X.shape[0]\n",
    "train_len = 200\n",
    "input_len = samples - train_len\n",
    "I = np.zeros((samples - train_len, train_len, features))"
   ]
  },
  {
   "cell_type": "code",
   "execution_count": 10,
   "id": "4a802d89",
   "metadata": {},
   "outputs": [],
   "source": [
    "for i in range(input_len):\n",
    "    temp = np.zeros((train_len, features))\n",
    "    for j in range(i, i + train_len - 1):\n",
    "        temp[j-i] = X[j]\n",
    "    I[i] = temp"
   ]
  },
  {
   "cell_type": "code",
   "execution_count": 11,
   "id": "7668c3b1",
   "metadata": {},
   "outputs": [
    {
     "name": "stdout",
     "output_type": "stream",
     "text": [
      "(70775, 200, 4)\n"
     ]
    }
   ],
   "source": [
    "print(I.shape)"
   ]
  },
  {
   "cell_type": "code",
   "execution_count": 12,
   "id": "fde8f9e5",
   "metadata": {},
   "outputs": [],
   "source": [
    "X_train, X_test, Y_train, Y_test = train_test_split(I, Y[200:], test_size = 0.2, stratify=Y[200:], random_state = 0)"
   ]
  },
  {
   "cell_type": "code",
   "execution_count": 13,
   "id": "a5c0d100",
   "metadata": {},
   "outputs": [],
   "source": [
    "def create_baseline():\n",
    "    model = Sequential()\n",
    "    model.add(Bidirectional(LSTM(64, activation='tanh', kernel_regularizer='l2')))\n",
    "    model.add(Dense(128, activation = 'relu', kernel_regularizer='l2'))\n",
    "    model.add(Dense(1, activation = 'sigmoid', kernel_regularizer='l2'))\n",
    "    model.compile(loss = 'binary_crossentropy', optimizer = 'adam', metrics = ['accuracy'])\n",
    "    return model"
   ]
  },
  {
   "cell_type": "code",
   "execution_count": 14,
   "id": "6c6a82e8",
   "metadata": {},
   "outputs": [],
   "source": [
    "model = create_baseline()"
   ]
  },
  {
   "cell_type": "code",
   "execution_count": 15,
   "id": "6e010d07",
   "metadata": {},
   "outputs": [
    {
     "name": "stdout",
     "output_type": "stream",
     "text": [
      "WARNING:tensorflow:`period` argument is deprecated. Please use `save_freq` to specify the frequency in number of batches seen.\n"
     ]
    }
   ],
   "source": [
    "checkpoint = ModelCheckpoint(\"LSTMmodel.h5\", monitor='val_loss', verbose=1, save_best_only=True, save_weights_only=False, mode='auto', period=1)\n",
    "early = EarlyStopping(monitor='val_loss', min_delta=0, patience=5, verbose=1, mode='auto')"
   ]
  },
  {
   "cell_type": "code",
   "execution_count": 16,
   "id": "6397598b",
   "metadata": {},
   "outputs": [
    {
     "name": "stdout",
     "output_type": "stream",
     "text": [
      "Epoch 1/30\n",
      "1414/1416 [============================>.] - ETA: 0s - loss: 0.2215 - accuracy: 0.9488 ETA: 0s - loss: 0.2216 - accuracy: 0.94\n",
      "Epoch 00001: val_loss improved from inf to 0.15408, saving model to LSTMmodel.h5\n",
      "1416/1416 [==============================] - 44s 29ms/step - loss: 0.2214 - accuracy: 0.9488 - val_loss: 0.1541 - val_accuracy: 0.9255\n",
      "Epoch 2/30\n",
      "1416/1416 [==============================] - ETA: 0s - loss: 0.1199 - accuracy: 0.9744 ETA: 0s - loss: 0.1207 - ac\n",
      "Epoch 00002: val_loss improved from 0.15408 to 0.04382, saving model to LSTMmodel.h5\n",
      "1416/1416 [==============================] - 40s 28ms/step - loss: 0.1199 - accuracy: 0.9744 - val_loss: 0.0438 - val_accuracy: 0.9984\n",
      "Epoch 3/30\n",
      "1415/1416 [============================>.] - ETA: 0s - loss: 0.0439 - accuracy: 0.9976\n",
      "Epoch 00003: val_loss improved from 0.04382 to 0.03657, saving model to LSTMmodel.h5\n",
      "1416/1416 [==============================] - 39s 28ms/step - loss: 0.0439 - accuracy: 0.9976 - val_loss: 0.0366 - val_accuracy: 0.9990\n",
      "Epoch 4/30\n",
      "1415/1416 [============================>.] - ETA: 0s - loss: 0.0515 - accuracy: 0.9942 E\n",
      "Epoch 00004: val_loss improved from 0.03657 to 0.03532, saving model to LSTMmodel.h5\n",
      "1416/1416 [==============================] - 40s 28ms/step - loss: 0.0515 - accuracy: 0.9942 - val_loss: 0.0353 - val_accuracy: 0.9985\n",
      "Epoch 5/30\n",
      "1415/1416 [============================>.] - ETA: 0s - loss: 0.0339 - accuracy: 0.9990\n",
      "Epoch 00005: val_loss improved from 0.03532 to 0.02936, saving model to LSTMmodel.h5\n",
      "1416/1416 [==============================] - 40s 28ms/step - loss: 0.0339 - accuracy: 0.9990 - val_loss: 0.0294 - val_accuracy: 0.9992\n",
      "Epoch 6/30\n",
      "1415/1416 [============================>.] - ETA: 0s - loss: 0.0844 - accuracy: 0.9860\n",
      "Epoch 00006: val_loss did not improve from 0.02936\n",
      "1416/1416 [==============================] - 40s 28ms/step - loss: 0.0843 - accuracy: 0.9860 - val_loss: 0.0420 - val_accuracy: 0.9990\n",
      "Epoch 7/30\n",
      "1415/1416 [============================>.] - ETA: 0s - loss: 0.0350 - accuracy: 0.9993\n",
      "Epoch 00007: val_loss improved from 0.02936 to 0.02908, saving model to LSTMmodel.h5\n",
      "1416/1416 [==============================] - 44s 31ms/step - loss: 0.0350 - accuracy: 0.9993 - val_loss: 0.0291 - val_accuracy: 0.9998\n",
      "Epoch 8/30\n",
      "1415/1416 [============================>.] - ETA: 0s - loss: 0.0414 - accuracy: 0.9965\n",
      "Epoch 00008: val_loss did not improve from 0.02908\n",
      "1416/1416 [==============================] - 41s 29ms/step - loss: 0.0414 - accuracy: 0.9965 - val_loss: 0.0428 - val_accuracy: 0.9990\n",
      "Epoch 9/30\n",
      "1415/1416 [============================>.] - ETA: 0s - loss: 0.0408 - accuracy: 0.9986\n",
      "Epoch 00009: val_loss did not improve from 0.02908\n",
      "1416/1416 [==============================] - 40s 28ms/step - loss: 0.0408 - accuracy: 0.9986 - val_loss: 0.0330 - val_accuracy: 0.9998\n",
      "Epoch 10/30\n",
      "1416/1416 [==============================] - ETA: 0s - loss: 0.0513 - accuracy: 0.9943\n",
      "Epoch 00010: val_loss did not improve from 0.02908\n",
      "1416/1416 [==============================] - 40s 28ms/step - loss: 0.0513 - accuracy: 0.9943 - val_loss: 0.0442 - val_accuracy: 0.9986\n",
      "Epoch 11/30\n",
      "1416/1416 [==============================] - ETA: 0s - loss: 0.0356 - accuracy: 0.9988\n",
      "Epoch 00011: val_loss did not improve from 0.02908\n",
      "1416/1416 [==============================] - 40s 28ms/step - loss: 0.0356 - accuracy: 0.9988 - val_loss: 0.0330 - val_accuracy: 0.9989\n",
      "Epoch 12/30\n",
      "1416/1416 [==============================] - ETA: 0s - loss: 0.0345 - accuracy: 0.9978\n",
      "Epoch 00012: val_loss improved from 0.02908 to 0.02827, saving model to LSTMmodel.h5\n",
      "1416/1416 [==============================] - 39s 28ms/step - loss: 0.0345 - accuracy: 0.9978 - val_loss: 0.0283 - val_accuracy: 0.9994\n",
      "Epoch 13/30\n",
      "1415/1416 [============================>.] - ETA: 0s - loss: 0.0292 - accuracy: 0.9991\n",
      "Epoch 00013: val_loss did not improve from 0.02827\n",
      "1416/1416 [==============================] - 39s 28ms/step - loss: 0.0292 - accuracy: 0.9991 - val_loss: 0.0298 - val_accuracy: 0.9988\n",
      "Epoch 14/30\n",
      "1415/1416 [============================>.] - ETA: 0s - loss: 0.0295 - accuracy: 0.9985\n",
      "Epoch 00014: val_loss improved from 0.02827 to 0.02455, saving model to LSTMmodel.h5\n",
      "1416/1416 [==============================] - 40s 28ms/step - loss: 0.0295 - accuracy: 0.9985 - val_loss: 0.0246 - val_accuracy: 0.9998\n",
      "Epoch 15/30\n",
      "1414/1416 [============================>.] - ETA: 0s - loss: 0.0282 - accuracy: 0.9987\n",
      "Epoch 00015: val_loss did not improve from 0.02455\n",
      "1416/1416 [==============================] - 40s 29ms/step - loss: 0.0281 - accuracy: 0.9987 - val_loss: 0.0270 - val_accuracy: 0.9989\n",
      "Epoch 16/30\n",
      "1416/1416 [==============================] - ETA: 0s - loss: 0.0326 - accuracy: 0.9971\n",
      "Epoch 00016: val_loss improved from 0.02455 to 0.02391, saving model to LSTMmodel.h5\n",
      "1416/1416 [==============================] - 40s 28ms/step - loss: 0.0326 - accuracy: 0.9971 - val_loss: 0.0239 - val_accuracy: 0.9996\n",
      "Epoch 17/30\n",
      "1415/1416 [============================>.] - ETA: 0s - loss: 0.0265 - accuracy: 0.9988\n",
      "Epoch 00017: val_loss did not improve from 0.02391\n",
      "1416/1416 [==============================] - 40s 28ms/step - loss: 0.0265 - accuracy: 0.9988 - val_loss: 0.0264 - val_accuracy: 0.9987\n",
      "Epoch 18/30\n",
      "1415/1416 [============================>.] - ETA: 0s - loss: 0.0278 - accuracy: 0.9990\n",
      "Epoch 00018: val_loss did not improve from 0.02391\n",
      "1416/1416 [==============================] - 40s 28ms/step - loss: 0.0278 - accuracy: 0.9990 - val_loss: 0.0281 - val_accuracy: 0.9986\n",
      "Epoch 19/30\n",
      "1415/1416 [============================>.] - ETA: 0s - loss: 0.0271 - accuracy: 0.9987\n",
      "Epoch 00019: val_loss improved from 0.02391 to 0.02179, saving model to LSTMmodel.h5\n",
      "1416/1416 [==============================] - 40s 28ms/step - loss: 0.0271 - accuracy: 0.9987 - val_loss: 0.0218 - val_accuracy: 0.9999\n",
      "Epoch 20/30\n",
      "1415/1416 [============================>.] - ETA: 0s - loss: 0.0242 - accuracy: 0.9993\n",
      "Epoch 00020: val_loss did not improve from 0.02179\n",
      "1416/1416 [==============================] - 39s 28ms/step - loss: 0.0242 - accuracy: 0.9993 - val_loss: 0.0221 - val_accuracy: 0.9996\n",
      "Epoch 21/30\n",
      "1415/1416 [============================>.] - ETA: 0s - loss: 0.0267 - accuracy: 0.9984\n",
      "Epoch 00021: val_loss did not improve from 0.02179\n",
      "1416/1416 [==============================] - 40s 28ms/step - loss: 0.0267 - accuracy: 0.9984 - val_loss: 0.0238 - val_accuracy: 0.9991\n",
      "Epoch 22/30\n",
      "1414/1416 [============================>.] - ETA: 0s - loss: 0.0249 - accuracy: 0.9990\n",
      "Epoch 00022: val_loss did not improve from 0.02179\n",
      "1416/1416 [==============================] - 39s 28ms/step - loss: 0.0249 - accuracy: 0.9990 - val_loss: 0.0272 - val_accuracy: 0.9986\n",
      "Epoch 23/30\n",
      "1414/1416 [============================>.] - ETA: 0s - loss: 0.0253 - accuracy: 0.9989\n",
      "Epoch 00023: val_loss improved from 0.02179 to 0.02117, saving model to LSTMmodel.h5\n",
      "1416/1416 [==============================] - 40s 28ms/step - loss: 0.0253 - accuracy: 0.9989 - val_loss: 0.0212 - val_accuracy: 0.9999\n",
      "Epoch 24/30\n",
      "1416/1416 [==============================] - ETA: 0s - loss: 0.0258 - accuracy: 0.9987\n",
      "Epoch 00024: val_loss did not improve from 0.02117\n",
      "1416/1416 [==============================] - 39s 28ms/step - loss: 0.0258 - accuracy: 0.9987 - val_loss: 0.0242 - val_accuracy: 0.9991\n",
      "Epoch 25/30\n",
      "1416/1416 [==============================] - ETA: 0s - loss: 0.0236 - accuracy: 0.9992\n",
      "Epoch 00025: val_loss improved from 0.02117 to 0.02040, saving model to LSTMmodel.h5\n",
      "1416/1416 [==============================] - 40s 28ms/step - loss: 0.0236 - accuracy: 0.9992 - val_loss: 0.0204 - val_accuracy: 0.9999\n",
      "Epoch 26/30\n",
      "1415/1416 [============================>.] - ETA: 0s - loss: 0.0279 - accuracy: 0.9980\n",
      "Epoch 00026: val_loss did not improve from 0.02040\n",
      "1416/1416 [==============================] - 39s 28ms/step - loss: 0.0279 - accuracy: 0.9980 - val_loss: 0.0226 - val_accuracy: 0.9991\n",
      "Epoch 27/30\n",
      "1414/1416 [============================>.] - ETA: 0s - loss: 0.0245 - accuracy: 0.9989\n",
      "Epoch 00027: val_loss did not improve from 0.02040\n",
      "1416/1416 [==============================] - 40s 28ms/step - loss: 0.0245 - accuracy: 0.9989 - val_loss: 0.0263 - val_accuracy: 0.9991\n",
      "Epoch 28/30\n"
     ]
    },
    {
     "name": "stdout",
     "output_type": "stream",
     "text": [
      "1415/1416 [============================>.] - ETA: 0s - loss: 0.0237 - accuracy: 0.9991\n",
      "Epoch 00028: val_loss improved from 0.02040 to 0.02036, saving model to LSTMmodel.h5\n",
      "1416/1416 [==============================] - 40s 28ms/step - loss: 0.0237 - accuracy: 0.9991 - val_loss: 0.0204 - val_accuracy: 0.9999\n",
      "Epoch 29/30\n",
      "1414/1416 [============================>.] - ETA: 0s - loss: 0.0396 - accuracy: 0.9962\n",
      "Epoch 00029: val_loss did not improve from 0.02036\n",
      "1416/1416 [==============================] - 39s 28ms/step - loss: 0.0396 - accuracy: 0.9962 - val_loss: 0.0259 - val_accuracy: 0.9990\n",
      "Epoch 30/30\n",
      "1416/1416 [==============================] - ETA: 0s - loss: 0.0257 - accuracy: 0.9991\n",
      "Epoch 00030: val_loss did not improve from 0.02036\n",
      "1416/1416 [==============================] - 39s 28ms/step - loss: 0.0257 - accuracy: 0.9991 - val_loss: 0.0215 - val_accuracy: 0.9999\n"
     ]
    }
   ],
   "source": [
    "history = model.fit(X_train, Y_train, epochs = 30,validation_split=0.2, verbose = 1, callbacks=[checkpoint,early])"
   ]
  },
  {
   "cell_type": "code",
   "execution_count": 17,
   "id": "c295f029",
   "metadata": {},
   "outputs": [
    {
     "data": {
      "image/png": "[encoded data removed]",
      "text/plain": [
       "<Figure size 640x480 with 1 Axes>"
      ]
     },
     "metadata": {},
     "output_type": "display_data"
    }
   ],
   "source": [
    "# Plot training & validation accuracy values\n",
    "plt.plot(history.history['accuracy'])\n",
    "plt.plot(history.history['val_accuracy'])\n",
    "plt.title('BRNN Model Accuracy')\n",
    "plt.ylabel('Accuracy')\n",
    "plt.xlabel('Epoch')\n",
    "plt.legend(['Train', 'Test'], loc='lower right')\n",
    "plt.savefig('BRNN 200 Model Accuracy.png')\n",
    "plt.show()"
   ]
  },
  {
   "cell_type": "code",
   "execution_count": 18,
   "id": "efdefc2c",
   "metadata": {},
   "outputs": [
    {
     "data": {
      "image/png": "[encoded data removed]",
      "text/plain": [
       "<Figure size 640x480 with 1 Axes>"
      ]
     },
     "metadata": {},
     "output_type": "display_data"
    }
   ],
   "source": [
    "# Plot training & validation loss values\n",
    "plt.plot(history.history['loss'])\n",
    "plt.plot(history.history['val_loss'])\n",
    "plt.title('BRNN Model  Loss')\n",
    "plt.ylabel('Loss')\n",
    "plt.xlabel('Epoch')\n",
    "plt.legend(['Train', 'Test'], loc='upper left')\n",
    "plt.savefig('BRNN 200 Model Loss.png')\n",
    "plt.show()"
   ]
  },
  {
   "cell_type": "code",
   "execution_count": 19,
   "id": "a36fcb82",
   "metadata": {},
   "outputs": [
    {
     "name": "stdout",
     "output_type": "stream",
     "text": [
      "443/443 [==============================] - 6s 13ms/step\n"
     ]
    }
   ],
   "source": [
    "predict = model.predict(X_test, verbose=1)"
   ]
  },
  {
   "cell_type": "code",
   "execution_count": 20,
   "id": "51cbd9f6",
   "metadata": {},
   "outputs": [
    {
     "data": {
      "image/png": "[encoded data removed]",
      "text/plain": [
       "<Figure size 640x480 with 2 Axes>"
      ]
     },
     "metadata": {},
     "output_type": "display_data"
    }
   ],
   "source": [
    "tp = 0\n",
    "tn = 0\n",
    "fp = 0\n",
    "fn = 0\n",
    "predictn = predict.flatten().round()\n",
    "predictn = predictn.tolist()\n",
    "Y_testn = Y_test.tolist()\n",
    "for i in range(len(Y_testn)):\n",
    "  if predictn[i]==1 and Y_testn[i]==1:\n",
    "    tp+=1\n",
    "  elif predictn[i]==0 and Y_testn[i]==0:\n",
    "    tn+=1\n",
    "  elif predictn[i]==0 and Y_testn[i]==1:\n",
    "    fp+=1\n",
    "  elif predictn[i]==1 and Y_testn[i]==0:\n",
    "    fn+=1\n",
    "to_heat_map =[[tn,fp],[fn,tp]]\n",
    "to_heat_map = pd.DataFrame(to_heat_map, index = [\"Attack\",\"Normal\"],columns = [\"Attack\",\"Normal\"])\n",
    "ax = sns.heatmap(to_heat_map,annot=True, fmt=\"d\")"
   ]
  },
  {
   "cell_type": "code",
   "execution_count": 21,
   "id": "5477b51f",
   "metadata": {},
   "outputs": [],
   "source": [
    "figure = ax.get_figure()\n",
    "figure.savefig('confusion_matrix_BRNN_200.png', dpi=400)"
   ]
  },
  {
   "cell_type": "code",
   "execution_count": 22,
   "id": "42ecc926",
   "metadata": {},
   "outputs": [
    {
     "data": {
      "text/plain": [
       "['scaler_200.save']"
      ]
     },
     "execution_count": 22,
     "metadata": {},
     "output_type": "execute_result"
    }
   ],
   "source": [
    "# model.save('brnn_model_200_step.h5')\n",
    "joblib.dump(scalar, 'scaler_200.save')"
   ]
  },
  {
   "cell_type": "code",
   "execution_count": 23,
   "id": "2a938888",
   "metadata": {},
   "outputs": [
    {
     "name": "stdout",
     "output_type": "stream",
     "text": [
      "accuracy: 99.96%\n"
     ]
    }
   ],
   "source": [
    "scores = model.evaluate(X_test, Y_test, verbose=0)\n",
    "print(\"%s: %.2f%%\" % (model.metrics_names[1], scores[1]*100))"
   ]
  },
  {
   "cell_type": "code",
   "execution_count": 24,
   "id": "c172e338",
   "metadata": {},
   "outputs": [
    {
     "name": "stdout",
     "output_type": "stream",
     "text": [
      "              precision    recall  f1-score   support\n",
      "\n",
      "           0       1.00      1.00      1.00      1620\n",
      "           1       1.00      1.00      1.00     12535\n",
      "\n",
      "    accuracy                           1.00     14155\n",
      "   macro avg       1.00      1.00      1.00     14155\n",
      "weighted avg       1.00      1.00      1.00     14155\n",
      "\n"
     ]
    }
   ],
   "source": [
    "print(classification_report(Y_testn,predictn))"
   ]
  },
  {
   "cell_type": "code",
   "execution_count": 25,
   "id": "d9db1966",
   "metadata": {},
   "outputs": [
    {
     "name": "stdout",
     "output_type": "stream",
     "text": [
      "SVM: ROC AUC=1.000\n"
     ]
    }
   ],
   "source": [
    "lr_auc = roc_auc_score(Y_testn, predictn)\n",
    "print('SVM: ROC AUC=%.3f' % (lr_auc))"
   ]
  },
  {
   "cell_type": "code",
   "execution_count": 26,
   "id": "9b4c4183",
   "metadata": {},
   "outputs": [
    {
     "name": "stdout",
     "output_type": "stream",
     "text": [
      "7/7 [==============================] - 0s 12ms/step\n",
      "Time elapse for prediction : 0.12326950000010584\n",
      "[[0.01324232]\n",
      " [0.01309435]\n",
      " [0.01297562]\n",
      " [0.01302463]\n",
      " [0.01326269]\n",
      " [0.01309529]\n",
      " [0.01320049]\n",
      " [0.01340138]\n",
      " [0.01346613]\n",
      " [0.01350144]\n",
      " [0.01348446]\n",
      " [0.01336896]\n",
      " [0.01340148]\n",
      " [0.01321684]\n",
      " [0.01308173]\n",
      " [0.01293032]\n",
      " [0.01288727]\n",
      " [0.01311849]\n",
      " [0.01300961]\n",
      " [0.01302167]\n",
      " [0.01323348]\n",
      " [0.01303129]\n",
      " [0.01281878]\n",
      " [0.01279098]\n",
      " [0.01311436]\n",
      " [0.01313001]\n",
      " [0.01289153]\n",
      " [0.01287569]\n",
      " [0.01288493]\n",
      " [0.01306103]\n",
      " [0.01332429]\n",
      " [0.0134155 ]\n",
      " [0.01343907]\n",
      " [0.01344704]\n",
      " [0.0134515 ]\n",
      " [0.01344884]\n",
      " [0.01345289]\n",
      " [0.01331528]\n",
      " [0.01313845]\n",
      " [0.013014  ]\n",
      " [0.01335345]\n",
      " [0.01336496]\n",
      " [0.01339064]\n",
      " [0.01337217]\n",
      " [0.01342632]\n",
      " [0.01340069]\n",
      " [0.01330384]\n",
      " [0.01309845]\n",
      " [0.01301795]\n",
      " [0.01312771]\n",
      " [0.01321906]\n",
      " [0.01343572]\n",
      " [0.01339733]\n",
      " [0.0131666 ]\n",
      " [0.0130386 ]\n",
      " [0.01283733]\n",
      " [0.01288836]\n",
      " [0.01326381]\n",
      " [0.01312644]\n",
      " [0.01309531]\n",
      " [0.01319861]\n",
      " [0.01331903]\n",
      " [0.01336967]\n",
      " [0.01329232]\n",
      " [0.01341992]\n",
      " [0.01342751]\n",
      " [0.01330811]\n",
      " [0.01327466]\n",
      " [0.01344421]\n",
      " [0.0133228 ]\n",
      " [0.01341975]\n",
      " [0.01318923]\n",
      " [0.01338998]\n",
      " [0.0132208 ]\n",
      " [0.01339944]\n",
      " [0.01342227]\n",
      " [0.0134672 ]\n",
      " [0.01339909]\n",
      " [0.01324178]\n",
      " [0.01328505]\n",
      " [0.01319808]\n",
      " [0.01334968]\n",
      " [0.01324213]\n",
      " [0.01340098]\n",
      " [0.01345955]\n",
      " [0.01337693]\n",
      " [0.01339342]\n",
      " [0.01311621]\n",
      " [0.0130265 ]\n",
      " [0.01316605]\n",
      " [0.01338204]\n",
      " [0.01339514]\n",
      " [0.01313682]\n",
      " [0.01303919]\n",
      " [0.01311146]\n",
      " [0.01336016]\n",
      " [0.01315659]\n",
      " [0.01323051]\n",
      " [0.01295625]\n",
      " [0.01333862]\n",
      " [0.01337891]\n",
      " [0.01334795]\n",
      " [0.01339807]\n",
      " [0.01310459]\n",
      " [0.01310009]\n",
      " [0.0130932 ]\n",
      " [0.01303833]\n",
      " [0.01319097]\n",
      " [0.01337643]\n",
      " [0.01339326]\n",
      " [0.01318418]\n",
      " [0.01318741]\n",
      " [0.01307585]\n",
      " [0.01302032]\n",
      " [0.01306802]\n",
      " [0.0129614 ]\n",
      " [0.01281956]\n",
      " [0.01288903]\n",
      " [0.01285489]\n",
      " [0.012873  ]\n",
      " [0.01285066]\n",
      " [0.01282753]\n",
      " [0.01325518]\n",
      " [0.0131457 ]\n",
      " [0.01341707]\n",
      " [0.01346444]\n",
      " [0.01340623]\n",
      " [0.01321041]\n",
      " [0.01334546]\n",
      " [0.01332169]\n",
      " [0.01316054]\n",
      " [0.01325075]\n",
      " [0.01302778]\n",
      " [0.01302706]\n",
      " [0.01317328]\n",
      " [0.01320114]\n",
      " [0.01299427]\n",
      " [0.01290912]\n",
      " [0.0128229 ]\n",
      " [0.01285291]\n",
      " [0.0131809 ]\n",
      " [0.01329807]\n",
      " [0.01336775]\n",
      " [0.01317476]\n",
      " [0.01317674]\n",
      " [0.01314437]\n",
      " [0.01311667]\n",
      " [0.01282807]\n",
      " [0.01315233]\n",
      " [0.01306342]\n",
      " [0.01298245]\n",
      " [0.01304754]\n",
      " [0.01320366]\n",
      " [0.01336834]\n",
      " [0.01311686]\n",
      " [0.01318201]\n",
      " [0.01296004]\n",
      " [0.01290404]\n",
      " [0.01328225]\n",
      " [0.01304805]\n",
      " [0.01284909]\n",
      " [0.01279238]\n",
      " [0.01311743]\n",
      " [0.0130516 ]\n",
      " [0.01310682]\n",
      " [0.01326386]\n",
      " [0.01339622]\n",
      " [0.01319397]\n",
      " [0.01330175]\n",
      " [0.01311724]\n",
      " [0.01321015]\n",
      " [0.01331936]\n",
      " [0.01305564]\n",
      " [0.01280703]\n",
      " [0.01280383]\n",
      " [0.01282213]\n",
      " [0.01281517]\n",
      " [0.01304706]\n",
      " [0.01337215]\n",
      " [0.01320749]\n",
      " [0.01340619]\n",
      " [0.01330762]\n",
      " [0.01337085]\n",
      " [0.01338212]\n",
      " [0.01337313]\n",
      " [0.013412  ]\n",
      " [0.01343744]\n",
      " [0.01340759]\n",
      " [0.01328535]\n",
      " [0.01315028]\n",
      " [0.01303352]\n",
      " [0.01281805]\n",
      " [0.01279276]\n",
      " [0.0127927 ]\n",
      " [0.01303984]\n",
      " [0.01281719]\n",
      " [0.01279163]\n",
      " [0.01281032]\n",
      " [0.01307661]\n",
      " [0.01314498]]\n"
     ]
    }
   ],
   "source": [
    "time_start = time.perf_counter()\n",
    "predict = model.predict(I[:200], verbose=1)\n",
    "print(f\"Time elapse for prediction : {time.perf_counter() - time_start}\")\n",
    "print(predict)"
   ]
  }
 ],
 "metadata": {
  "kernelspec": {
   "display_name": "Python 3 (ipykernel)",
   "language": "python",
   "name": "python3"
  },
  "language_info": {
   "codemirror_mode": {
    "name": "ipython",
    "version": 3
   },
   "file_extension": ".py",
   "mimetype": "text/x-python",
   "name": "python",
   "nbconvert_exporter": "python",
   "pygments_lexer": "ipython3",
   "version": "3.9.13"
  }
 },
 "nbformat": 4,
 "nbformat_minor": 5
}
