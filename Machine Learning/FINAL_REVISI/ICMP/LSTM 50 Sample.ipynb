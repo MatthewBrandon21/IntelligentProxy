{
 "cells": [
  {
   "cell_type": "code",
   "execution_count": 1,
   "id": "76fa329c",
   "metadata": {},
   "outputs": [],
   "source": [
    "import numpy as np\n",
    "import pandas as pd\n",
    "import matplotlib.pyplot as plt\n",
    "import seaborn as sns; sns.set()\n",
    "from keras.models import Sequential, load_model\n",
    "from keras.layers import Dense, LSTM, Bidirectional\n",
    "from keras.utils.np_utils import to_categorical\n",
    "from keras.utils import np_utils\n",
    "from sklearn.model_selection import train_test_split\n",
    "from sklearn.preprocessing import LabelEncoder, StandardScaler\n",
    "from sklearn.metrics import classification_report, confusion_matrix\n",
    "from sklearn.metrics import roc_auc_score\n",
    "import joblib\n",
    "\n",
    "import time\n",
    "from collections import Counter\n",
    "from imblearn.over_sampling import SMOTE\n",
    "from imblearn.under_sampling import RandomUnderSampler\n",
    "from imblearn.pipeline import Pipeline"
   ]
  },
  {
   "cell_type": "code",
   "execution_count": 2,
   "id": "d041644e",
   "metadata": {},
   "outputs": [],
   "source": [
    "data_normal_1 = pd.read_csv('dataset/timeseries/icmp_dataset_timeseries_normal_1.csv')\n",
    "data_normal_2 = pd.read_csv('dataset/timeseries/icmp_dataset_timeseries_normal_2.csv')\n",
    "\n",
    "data_normal_3 = pd.read_csv('dataset/timeseries/old/dataset_icmp_timeseries_normal.csv')\n",
    "\n",
    "data_attack_1 = pd.read_csv('dataset/timeseries/icmp_dataset_timeseries_attack_1.csv')\n",
    "data_attack_2 = pd.read_csv('dataset/timeseries/icmp_dataset_timeseries_attack_2.csv')\n",
    "\n",
    "data_attack_3 = pd.read_csv('dataset/timeseries/old/dataset_icmp_timeseries_attack.csv')"
   ]
  },
  {
   "cell_type": "code",
   "execution_count": 3,
   "id": "b0e9c85b",
   "metadata": {},
   "outputs": [],
   "source": [
    "data_normal_1.columns = ['chksum', 'id', 'seq', 'payload_len', 'label']\n",
    "data_normal_2.columns = ['chksum', 'id', 'seq', 'payload_len', 'label']\n",
    "\n",
    "data_normal_3.columns = ['timestamp', 'chksum', 'id', 'seq', 'payload_len', 'label']\n",
    "\n",
    "data_attack_1.columns = ['chksum', 'id', 'seq', 'payload_len', 'label']\n",
    "data_attack_2.columns = ['chksum', 'id', 'seq', 'payload_len', 'label']\n",
    "\n",
    "data_attack_3.columns = ['timestamp', 'chksum', 'id', 'seq', 'payload_len', 'label']"
   ]
  },
  {
   "cell_type": "code",
   "execution_count": 4,
   "id": "b3292744",
   "metadata": {},
   "outputs": [],
   "source": [
    "data_normal_3 = data_normal_3.drop(['timestamp'],axis=1)\n",
    "\n",
    "data_attack_3 = data_attack_3.drop(['timestamp'],axis=1)"
   ]
  },
  {
   "cell_type": "code",
   "execution_count": 5,
   "id": "12aa93dc",
   "metadata": {},
   "outputs": [],
   "source": [
    "features = ['chksum', 'id', 'seq', 'payload_len']"
   ]
  },
  {
   "cell_type": "code",
   "execution_count": 6,
   "id": "c3caaf52",
   "metadata": {},
   "outputs": [],
   "source": [
    "X_normal_1 = data_normal_1[features].values\n",
    "X_normal_2 = data_normal_2[features].values\n",
    "X_normal_3 = data_normal_3[features].values\n",
    "\n",
    "X_attack_1 = data_attack_1[features].values\n",
    "X_attack_2 = data_attack_2[features].values\n",
    "X_attack_3 = data_attack_3[features].values\n",
    "\n",
    "Y_normal_1 = data_normal_1['label']\n",
    "Y_normal_2 = data_normal_2['label']\n",
    "Y_normal_3 = data_normal_3['label']\n",
    "\n",
    "Y_attack_1 = data_attack_1['label']\n",
    "Y_attack_2 = data_attack_2['label']\n",
    "Y_attack_3 = data_attack_3['label']\n",
    "\n",
    "X=np.concatenate((X_normal_1,X_normal_2,X_normal_3,X_attack_1,X_attack_2,X_attack_3))\n",
    "Y=np.concatenate((Y_normal_1,Y_normal_2,Y_normal_3,Y_attack_1,Y_attack_2,Y_attack_3))"
   ]
  },
  {
   "cell_type": "code",
   "execution_count": 7,
   "id": "a21297c9",
   "metadata": {},
   "outputs": [
    {
     "name": "stdout",
     "output_type": "stream",
     "text": [
      "Counter({1: 62676, 0: 8299})\n"
     ]
    }
   ],
   "source": [
    "data_counter = Counter(Y)\n",
    "print(data_counter)"
   ]
  },
  {
   "cell_type": "code",
   "execution_count": 8,
   "id": "741cc249",
   "metadata": {},
   "outputs": [],
   "source": [
    "over = SMOTE()\n",
    "under = RandomUnderSampler()\n",
    "steps = [('o', over), ('u', under)]\n",
    "pipeline = Pipeline(steps=steps)\n",
    "X, Y = pipeline.fit_resample(X, Y)"
   ]
  },
  {
   "cell_type": "code",
   "execution_count": 9,
   "id": "409135a7",
   "metadata": {},
   "outputs": [
    {
     "name": "stdout",
     "output_type": "stream",
     "text": [
      "Counter({0: 62676, 1: 62676})\n"
     ]
    }
   ],
   "source": [
    "data_counter = Counter(Y)\n",
    "print(data_counter)"
   ]
  },
  {
   "cell_type": "code",
   "execution_count": 10,
   "id": "08f5daf5",
   "metadata": {},
   "outputs": [],
   "source": [
    "scalar = StandardScaler(copy=True, with_mean=True, with_std=True)\n",
    "scalar.fit(X)\n",
    "X = scalar.transform(X)"
   ]
  },
  {
   "cell_type": "code",
   "execution_count": 11,
   "id": "03fb017a",
   "metadata": {},
   "outputs": [
    {
     "name": "stdout",
     "output_type": "stream",
     "text": [
      "(125352, 4)\n",
      "(125352,)\n"
     ]
    }
   ],
   "source": [
    "print(np.shape(X))\n",
    "print(np.shape(Y))"
   ]
  },
  {
   "cell_type": "code",
   "execution_count": 12,
   "id": "9b543209",
   "metadata": {},
   "outputs": [],
   "source": [
    "features = len(X[0])\n",
    "samples = X.shape[0]\n",
    "train_len = 50\n",
    "input_len = samples - train_len\n",
    "I = np.zeros((samples - train_len, train_len, features))"
   ]
  },
  {
   "cell_type": "code",
   "execution_count": 13,
   "id": "4a802d89",
   "metadata": {},
   "outputs": [],
   "source": [
    "for i in range(input_len):\n",
    "    temp = np.zeros((train_len, features))\n",
    "    for j in range(i, i + train_len - 1):\n",
    "        temp[j-i] = X[j]\n",
    "    I[i] = temp"
   ]
  },
  {
   "cell_type": "code",
   "execution_count": 14,
   "id": "7668c3b1",
   "metadata": {},
   "outputs": [
    {
     "name": "stdout",
     "output_type": "stream",
     "text": [
      "(125302, 50, 4)\n"
     ]
    }
   ],
   "source": [
    "print(I.shape)"
   ]
  },
  {
   "cell_type": "code",
   "execution_count": 15,
   "id": "fde8f9e5",
   "metadata": {},
   "outputs": [],
   "source": [
    "X_train, X_test, Y_train, Y_test = train_test_split(I, Y[50:], test_size = 0.2, stratify=Y[50:], random_state = 0)"
   ]
  },
  {
   "cell_type": "code",
   "execution_count": 16,
   "id": "a5c0d100",
   "metadata": {},
   "outputs": [],
   "source": [
    "def create_baseline():\n",
    "    model = Sequential()\n",
    "    model.add(Bidirectional(LSTM(64, activation='tanh', kernel_regularizer='l2')))\n",
    "    model.add(Dense(128, activation = 'relu', kernel_regularizer='l2'))\n",
    "    model.add(Dense(1, activation = 'sigmoid', kernel_regularizer='l2'))\n",
    "    model.compile(loss = 'binary_crossentropy', optimizer = 'adam', metrics = ['accuracy'])\n",
    "    return model"
   ]
  },
  {
   "cell_type": "code",
   "execution_count": 17,
   "id": "6c6a82e8",
   "metadata": {},
   "outputs": [],
   "source": [
    "model = create_baseline()"
   ]
  },
  {
   "cell_type": "code",
   "execution_count": 18,
   "id": "6397598b",
   "metadata": {},
   "outputs": [
    {
     "name": "stdout",
     "output_type": "stream",
     "text": [
      "Epoch 1/20\n",
      "2506/2506 [==============================] - 27s 10ms/step - loss: 0.0952 - accuracy: 0.9872 - val_loss: 0.0678 - val_accuracy: 0.9910\n",
      "Epoch 2/20\n",
      "2506/2506 [==============================] - 24s 9ms/step - loss: 0.1324 - accuracy: 0.9464 - val_loss: 0.0254 - val_accuracy: 0.9996\n",
      "Epoch 3/20\n",
      "2506/2506 [==============================] - 24s 9ms/step - loss: 0.1157 - accuracy: 0.9591 - val_loss: 0.0285 - val_accuracy: 0.9997\n",
      "Epoch 4/20\n",
      "2506/2506 [==============================] - 24s 10ms/step - loss: 0.0272 - accuracy: 0.9995 - val_loss: 0.0256 - val_accuracy: 0.9999\n",
      "Epoch 5/20\n",
      "2506/2506 [==============================] - 24s 9ms/step - loss: 0.0316 - accuracy: 0.9995 - val_loss: 0.0273 - val_accuracy: 0.9997\n",
      "Epoch 6/20\n",
      "2506/2506 [==============================] - 24s 10ms/step - loss: 0.0267 - accuracy: 0.9996 - val_loss: 0.0263 - val_accuracy: 0.9997\n",
      "Epoch 7/20\n",
      "2506/2506 [==============================] - 23s 9ms/step - loss: 0.0506 - accuracy: 0.9888 - val_loss: 0.0255 - val_accuracy: 0.9997\n",
      "Epoch 8/20\n",
      "2506/2506 [==============================] - 23s 9ms/step - loss: 0.0283 - accuracy: 0.9993 - val_loss: 0.0256 - val_accuracy: 0.9997\n",
      "Epoch 9/20\n",
      "2506/2506 [==============================] - 24s 10ms/step - loss: 0.0730 - accuracy: 0.9865 - val_loss: 0.0440 - val_accuracy: 1.0000\n",
      "Epoch 10/20\n",
      "2506/2506 [==============================] - 24s 10ms/step - loss: 0.0345 - accuracy: 0.9999 - val_loss: 0.0292 - val_accuracy: 1.0000\n",
      "Epoch 11/20\n",
      "2506/2506 [==============================] - 24s 10ms/step - loss: 0.0307 - accuracy: 0.9998 - val_loss: 0.0283 - val_accuracy: 1.0000\n",
      "Epoch 12/20\n",
      "2506/2506 [==============================] - 24s 10ms/step - loss: 0.0259 - accuracy: 1.0000 - val_loss: 0.0239 - val_accuracy: 1.0000\n",
      "Epoch 13/20\n",
      "2506/2506 [==============================] - 23s 9ms/step - loss: 0.0247 - accuracy: 0.9998 - val_loss: 0.0228 - val_accuracy: 1.0000\n",
      "Epoch 14/20\n",
      "2506/2506 [==============================] - 24s 9ms/step - loss: 0.0267 - accuracy: 0.9993 - val_loss: 0.0207 - val_accuracy: 0.9998\n",
      "Epoch 15/20\n",
      "2506/2506 [==============================] - 23s 9ms/step - loss: 0.0187 - accuracy: 0.9998 - val_loss: 0.0163 - val_accuracy: 1.0000\n",
      "Epoch 16/20\n",
      "2506/2506 [==============================] - 23s 9ms/step - loss: 0.0176 - accuracy: 0.9997 - val_loss: 0.0158 - val_accuracy: 1.0000\n",
      "Epoch 17/20\n",
      "2506/2506 [==============================] - 25s 10ms/step - loss: 0.0223 - accuracy: 0.9997 - val_loss: 0.0213 - val_accuracy: 0.9999\n",
      "Epoch 18/20\n",
      "2506/2506 [==============================] - 24s 10ms/step - loss: 0.0209 - accuracy: 0.9998 - val_loss: 0.0200 - val_accuracy: 0.9999\n",
      "Epoch 19/20\n",
      "2506/2506 [==============================] - 23s 9ms/step - loss: 0.0280 - accuracy: 0.9988 - val_loss: 0.0173 - val_accuracy: 1.0000\n",
      "Epoch 20/20\n",
      "2506/2506 [==============================] - 23s 9ms/step - loss: 0.0177 - accuracy: 0.9999 - val_loss: 0.0240 - val_accuracy: 0.9999\n"
     ]
    }
   ],
   "source": [
    "history = model.fit(X_train, Y_train, epochs = 20,validation_split=0.2, verbose = 1)"
   ]
  },
  {
   "cell_type": "code",
   "execution_count": 19,
   "id": "c295f029",
   "metadata": {},
   "outputs": [
    {
     "data": {
      "image/png": "[encoded data removed]",
      "text/plain": [
       "<Figure size 640x480 with 1 Axes>"
      ]
     },
     "metadata": {},
     "output_type": "display_data"
    }
   ],
   "source": [
    "# Plot training & validation accuracy values\n",
    "plt.plot(history.history['accuracy'])\n",
    "plt.plot(history.history['val_accuracy'])\n",
    "plt.title('BRNN Model Accuracy')\n",
    "plt.ylabel('Accuracy')\n",
    "plt.xlabel('Epoch')\n",
    "plt.legend(['Train', 'Test'], loc='lower right')\n",
    "plt.savefig('BRNN 500 Model Accuracy.png')\n",
    "plt.show()"
   ]
  },
  {
   "cell_type": "code",
   "execution_count": 20,
   "id": "efdefc2c",
   "metadata": {},
   "outputs": [
    {
     "data": {
      "image/png": "[encoded data removed]",
      "text/plain": [
       "<Figure size 640x480 with 1 Axes>"
      ]
     },
     "metadata": {},
     "output_type": "display_data"
    }
   ],
   "source": [
    "# Plot training & validation loss values\n",
    "plt.plot(history.history['loss'])\n",
    "plt.plot(history.history['val_loss'])\n",
    "plt.title('BRNN Model  Loss')\n",
    "plt.ylabel('Loss')\n",
    "plt.xlabel('Epoch')\n",
    "plt.legend(['Train', 'Test'], loc='upper left')\n",
    "plt.savefig('BRNN 50 Model Loss.png')\n",
    "plt.show()"
   ]
  },
  {
   "cell_type": "code",
   "execution_count": 21,
   "id": "a36fcb82",
   "metadata": {},
   "outputs": [
    {
     "name": "stdout",
     "output_type": "stream",
     "text": [
      "784/784 [==============================] - 3s 4ms/step\n"
     ]
    }
   ],
   "source": [
    "predict = model.predict(X_test, verbose=1)"
   ]
  },
  {
   "cell_type": "code",
   "execution_count": 22,
   "id": "51cbd9f6",
   "metadata": {},
   "outputs": [
    {
     "data": {
      "image/png": "[encoded data removed]",
      "text/plain": [
       "<Figure size 640x480 with 2 Axes>"
      ]
     },
     "metadata": {},
     "output_type": "display_data"
    }
   ],
   "source": [
    "tp = 0\n",
    "tn = 0\n",
    "fp = 0\n",
    "fn = 0\n",
    "predictn = predict.flatten().round()\n",
    "predictn = predictn.tolist()\n",
    "Y_testn = Y_test.tolist()\n",
    "for i in range(len(Y_testn)):\n",
    "  if predictn[i]==1 and Y_testn[i]==1:\n",
    "    tp+=1\n",
    "  elif predictn[i]==0 and Y_testn[i]==0:\n",
    "    tn+=1\n",
    "  elif predictn[i]==0 and Y_testn[i]==1:\n",
    "    fp+=1\n",
    "  elif predictn[i]==1 and Y_testn[i]==0:\n",
    "    fn+=1\n",
    "to_heat_map =[[tn,fp],[fn,tp]]\n",
    "to_heat_map = pd.DataFrame(to_heat_map, index = [\"Attack\",\"Normal\"],columns = [\"Attack\",\"Normal\"])\n",
    "ax = sns.heatmap(to_heat_map,annot=True, fmt=\"d\")"
   ]
  },
  {
   "cell_type": "code",
   "execution_count": 23,
   "id": "5477b51f",
   "metadata": {},
   "outputs": [],
   "source": [
    "figure = ax.get_figure()\n",
    "figure.savefig('confusion_matrix_BRNN_50.png', dpi=400)"
   ]
  },
  {
   "cell_type": "code",
   "execution_count": 24,
   "id": "42ecc926",
   "metadata": {},
   "outputs": [
    {
     "data": {
      "text/plain": [
       "['scaler_50.save']"
      ]
     },
     "execution_count": 24,
     "metadata": {},
     "output_type": "execute_result"
    }
   ],
   "source": [
    "model.save('brnn_model_50_step.h5')\n",
    "joblib.dump(scalar, 'scaler_50.save')"
   ]
  },
  {
   "cell_type": "code",
   "execution_count": 25,
   "id": "2a938888",
   "metadata": {},
   "outputs": [
    {
     "name": "stdout",
     "output_type": "stream",
     "text": [
      "accuracy: 99.98%\n"
     ]
    }
   ],
   "source": [
    "scores = model.evaluate(X_test, Y_test, verbose=0)\n",
    "print(\"%s: %.2f%%\" % (model.metrics_names[1], scores[1]*100))"
   ]
  },
  {
   "cell_type": "code",
   "execution_count": 26,
   "id": "c172e338",
   "metadata": {},
   "outputs": [
    {
     "name": "stdout",
     "output_type": "stream",
     "text": [
      "              precision    recall  f1-score   support\n",
      "\n",
      "           0       1.00      1.00      1.00     12525\n",
      "           1       1.00      1.00      1.00     12536\n",
      "\n",
      "    accuracy                           1.00     25061\n",
      "   macro avg       1.00      1.00      1.00     25061\n",
      "weighted avg       1.00      1.00      1.00     25061\n",
      "\n"
     ]
    }
   ],
   "source": [
    "print(classification_report(Y_testn,predictn))"
   ]
  },
  {
   "cell_type": "code",
   "execution_count": 27,
   "id": "d9db1966",
   "metadata": {},
   "outputs": [
    {
     "name": "stdout",
     "output_type": "stream",
     "text": [
      "SVM: ROC AUC=1.000\n"
     ]
    }
   ],
   "source": [
    "lr_auc = roc_auc_score(Y_testn, predictn)\n",
    "print('SVM: ROC AUC=%.3f' % (lr_auc))"
   ]
  },
  {
   "cell_type": "code",
   "execution_count": 28,
   "id": "9b4c4183",
   "metadata": {},
   "outputs": [
    {
     "name": "stdout",
     "output_type": "stream",
     "text": [
      "2/2 [==============================] - 0s 5ms/step\n",
      "Time elapse for prediction : 0.03530909999994947\n",
      "[[0.00257636]\n",
      " [0.00257379]\n",
      " [0.00257699]\n",
      " [0.00258476]\n",
      " [0.00257362]\n",
      " [0.00257784]\n",
      " [0.00258007]\n",
      " [0.00258605]\n",
      " [0.0025756 ]\n",
      " [0.00257295]\n",
      " [0.00257464]\n",
      " [0.00257223]\n",
      " [0.00257935]\n",
      " [0.00257357]\n",
      " [0.00256602]\n",
      " [0.00256925]\n",
      " [0.00257114]\n",
      " [0.00257548]\n",
      " [0.00258375]\n",
      " [0.00258621]\n",
      " [0.00258379]\n",
      " [0.0025764 ]\n",
      " [0.00257234]\n",
      " [0.00257655]\n",
      " [0.00258589]\n",
      " [0.00258202]\n",
      " [0.00258376]\n",
      " [0.00258486]\n",
      " [0.00258798]\n",
      " [0.00259083]\n",
      " [0.00258746]\n",
      " [0.00258452]\n",
      " [0.00259076]\n",
      " [0.00258847]\n",
      " [0.00258346]\n",
      " [0.00259084]\n",
      " [0.00259269]\n",
      " [0.00258563]\n",
      " [0.00259266]\n",
      " [0.00258958]\n",
      " [0.00259474]\n",
      " [0.00259152]\n",
      " [0.0025957 ]\n",
      " [0.00258844]\n",
      " [0.00258769]\n",
      " [0.00258404]\n",
      " [0.00258263]\n",
      " [0.00259124]\n",
      " [0.00258787]\n",
      " [0.00259626]]\n"
     ]
    }
   ],
   "source": [
    "time_start = time.perf_counter()\n",
    "predict = model.predict(I[:50], verbose=1)\n",
    "print(f\"Time elapse for prediction : {time.perf_counter() - time_start}\")\n",
    "print(predict)"
   ]
  },
  {
   "cell_type": "code",
   "execution_count": 29,
   "id": "8a3995ec",
   "metadata": {},
   "outputs": [
    {
     "name": "stdout",
     "output_type": "stream",
     "text": [
      "Model: \"sequential\"\n",
      "_________________________________________________________________\n",
      " Layer (type)                Output Shape              Param #   \n",
      "=================================================================\n",
      " bidirectional (Bidirectiona  (None, 128)              35328     \n",
      " l)                                                              \n",
      "                                                                 \n",
      " dense (Dense)               (None, 128)               16512     \n",
      "                                                                 \n",
      " dense_1 (Dense)             (None, 1)                 129       \n",
      "                                                                 \n",
      "=================================================================\n",
      "Total params: 51,969\n",
      "Trainable params: 51,969\n",
      "Non-trainable params: 0\n",
      "_________________________________________________________________\n"
     ]
    }
   ],
   "source": [
    "model.summary()"
   ]
  }
 ],
 "metadata": {
  "kernelspec": {
   "display_name": "Python 3 (ipykernel)",
   "language": "python",
   "name": "python3"
  },
  "language_info": {
   "codemirror_mode": {
    "name": "ipython",
    "version": 3
   },
   "file_extension": ".py",
   "mimetype": "text/x-python",
   "name": "python",
   "nbconvert_exporter": "python",
   "pygments_lexer": "ipython3",
   "version": "3.9.13"
  }
 },
 "nbformat": 4,
 "nbformat_minor": 5
}
