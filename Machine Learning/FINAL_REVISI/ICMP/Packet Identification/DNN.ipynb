{
 "cells": [
  {
   "cell_type": "code",
   "execution_count": 1,
   "id": "9f780517",
   "metadata": {},
   "outputs": [],
   "source": [
    "import numpy as np\n",
    "import pandas as pd\n",
    "from matplotlib import pyplot as plt\n",
    "import seaborn as sns; sns.set()\n",
    "from keras.layers import Dense, Dropout\n",
    "from keras.models import Sequential\n",
    "from keras.models import load_model\n",
    "from keras.callbacks import ModelCheckpoint, EarlyStopping\n",
    "from tensorflow.keras.utils import to_categorical\n",
    "from sklearn.model_selection import train_test_split\n",
    "from sklearn.preprocessing import LabelEncoder, StandardScaler\n",
    "from sklearn.metrics import classification_report, confusion_matrix\n",
    "from sklearn.metrics import roc_auc_score\n",
    "import joblib\n",
    "import time\n",
    "from collections import Counter\n",
    "from imblearn.over_sampling import SMOTE\n",
    "from imblearn.under_sampling import RandomUnderSampler\n",
    "from imblearn.pipeline import Pipeline"
   ]
  },
  {
   "cell_type": "code",
   "execution_count": 2,
   "id": "5c265d83",
   "metadata": {},
   "outputs": [],
   "source": [
    "features, labels = [], []\n",
    "training_files = [\"dataset.csv\"]"
   ]
  },
  {
   "cell_type": "code",
   "execution_count": 3,
   "id": "33a79058",
   "metadata": {},
   "outputs": [],
   "source": [
    "def scrape_data():\n",
    "    global training_files\n",
    "    global features\n",
    "    global labels\n",
    "    \n",
    "    for fname in training_files:\n",
    "        meal = open(fname, \"rt\")\n",
    "        for line in meal:\n",
    "            data_list = line.rsplit(\",\")\n",
    "            if(len(data_list) != 5):\n",
    "                print(\"error data\")\n",
    "            else:\n",
    "                data_list[(len(data_list)-1)]=int(data_list[(len(data_list)-1)].replace('\\n', ''))\n",
    "                features.append(data_list[:(len(data_list)-1)])\n",
    "                labels.append(data_list[(len(data_list)-1)])\n",
    "        meal.close()\n",
    "    \n",
    "    data_counter = Counter(labels)\n",
    "    print(data_counter)\n",
    "    \n",
    "    over = SMOTE()\n",
    "    under = RandomUnderSampler()\n",
    "    steps = [('o', over), ('u', under)]\n",
    "    pipeline = Pipeline(steps=steps)\n",
    "    features, labels = pipeline.fit_resample(features, labels)\n",
    "    \n",
    "    data_counter = Counter(labels)\n",
    "    print(data_counter)\n",
    "    \n",
    "    scalar = StandardScaler(copy=True, with_mean=True, with_std=True)\n",
    "    scalar.fit(features)\n",
    "    features = scalar.transform(features)\n",
    "    \n",
    "    features = np.array(features).astype(np.float64)\n",
    "    features = features.tolist()\n",
    "    \n",
    "    print(f\"Size of feature dataset : {len(features)}\")\n",
    "    print(f\"Size of feature dataset : {len(labels)}\")\n",
    "    print(\"Features first and last entries:\\n\\t\", end = \"\")\n",
    "    print(features[:1] + features[(len(features)-1):])\n",
    "    print(\"Labels first and last entries:\\n\\t\", end = \"\")\n",
    "    print(labels[:1] + labels[(len(features)-1):])\n",
    "    \n",
    "    features_train, features_test, labels_train, labels_test = train_test_split(features, labels, test_size = 0.20, stratify=labels, random_state = 0)\n",
    "    \n",
    "    return np.asarray(features_train), np.asarray(labels_train), np.asarray(features_test), np.asarray(labels_test)"
   ]
  },
  {
   "cell_type": "code",
   "execution_count": 4,
   "id": "9b84bae1",
   "metadata": {},
   "outputs": [],
   "source": [
    "def generate_model(shape):\n",
    "    model = Sequential()\n",
    "\n",
    "    model.add(Dense(256, input_dim=shape, kernel_initializer='uniform', activation='relu'))\n",
    "    model.add(Dropout(0.4))\n",
    "    model.add(Dense(128, activation='relu'))\n",
    "    model.add(Dropout(0.4))\n",
    "    model.add(Dense(64, activation='relu'))\n",
    "    model.add(Dropout(0.4))\n",
    "    model.add(Dense(32, activation='relu'))\n",
    "    model.add(Dropout(0.4))\n",
    "    model.add(Dense(1, activation='sigmoid'))\n",
    "    print(model.summary())\n",
    "\n",
    "    return model"
   ]
  },
  {
   "cell_type": "code",
   "execution_count": 5,
   "id": "d6ef0b01",
   "metadata": {},
   "outputs": [
    {
     "name": "stdout",
     "output_type": "stream",
     "text": [
      "Counter({1: 200, 0: 200})\n",
      "Counter({0: 200, 1: 200})\n",
      "Size of feature dataset : 400\n",
      "Size of feature dataset : 400\n",
      "Features first and last entries:\n",
      "\t[[-0.012920370775532403, -0.9651018103262479, -0.7688378216430827, 0.9366236399938116], [0.650240912412335, 1.010803945378953, 0.5795242866434293, -0.9977641099473076]]\n",
      "Labels first and last entries:\n",
      "\t[0, 1]\n"
     ]
    },
    {
     "name": "stderr",
     "output_type": "stream",
     "text": [
      "C:\\Users\\H P VICTUS\\anaconda3\\lib\\site-packages\\sklearn\\utils\\validation.py:964: FutureWarning: Arrays of bytes/strings is being converted to decimal numbers if dtype='numeric'. This behavior is deprecated in 0.24 and will be removed in 1.1 (renaming of 0.26). Please convert your data to numeric values explicitly instead.\n",
      "  X = check_array(\n"
     ]
    }
   ],
   "source": [
    "data_train, label_train, data_eval, label_eval = scrape_data()"
   ]
  },
  {
   "cell_type": "code",
   "execution_count": 6,
   "id": "89771801",
   "metadata": {},
   "outputs": [
    {
     "name": "stdout",
     "output_type": "stream",
     "text": [
      "Model: \"sequential\"\n",
      "_________________________________________________________________\n",
      " Layer (type)                Output Shape              Param #   \n",
      "=================================================================\n",
      " dense (Dense)               (None, 256)               1280      \n",
      "                                                                 \n",
      " dropout (Dropout)           (None, 256)               0         \n",
      "                                                                 \n",
      " dense_1 (Dense)             (None, 128)               32896     \n",
      "                                                                 \n",
      " dropout_1 (Dropout)         (None, 128)               0         \n",
      "                                                                 \n",
      " dense_2 (Dense)             (None, 64)                8256      \n",
      "                                                                 \n",
      " dropout_2 (Dropout)         (None, 64)                0         \n",
      "                                                                 \n",
      " dense_3 (Dense)             (None, 32)                2080      \n",
      "                                                                 \n",
      " dropout_3 (Dropout)         (None, 32)                0         \n",
      "                                                                 \n",
      " dense_4 (Dense)             (None, 1)                 33        \n",
      "                                                                 \n",
      "=================================================================\n",
      "Total params: 44,545\n",
      "Trainable params: 44,545\n",
      "Non-trainable params: 0\n",
      "_________________________________________________________________\n",
      "None\n"
     ]
    }
   ],
   "source": [
    "model = generate_model(len(data_train[0]))"
   ]
  },
  {
   "cell_type": "code",
   "execution_count": 7,
   "id": "071ae79f",
   "metadata": {},
   "outputs": [
    {
     "name": "stdout",
     "output_type": "stream",
     "text": [
      "Model: \"sequential\"\n",
      "_________________________________________________________________\n",
      " Layer (type)                Output Shape              Param #   \n",
      "=================================================================\n",
      " dense (Dense)               (None, 256)               1280      \n",
      "                                                                 \n",
      " dropout (Dropout)           (None, 256)               0         \n",
      "                                                                 \n",
      " dense_1 (Dense)             (None, 128)               32896     \n",
      "                                                                 \n",
      " dropout_1 (Dropout)         (None, 128)               0         \n",
      "                                                                 \n",
      " dense_2 (Dense)             (None, 64)                8256      \n",
      "                                                                 \n",
      " dropout_2 (Dropout)         (None, 64)                0         \n",
      "                                                                 \n",
      " dense_3 (Dense)             (None, 32)                2080      \n",
      "                                                                 \n",
      " dropout_3 (Dropout)         (None, 32)                0         \n",
      "                                                                 \n",
      " dense_4 (Dense)             (None, 1)                 33        \n",
      "                                                                 \n",
      "=================================================================\n",
      "Total params: 44,545\n",
      "Trainable params: 44,545\n",
      "Non-trainable params: 0\n",
      "_________________________________________________________________\n"
     ]
    }
   ],
   "source": [
    "model.summary()"
   ]
  },
  {
   "cell_type": "code",
   "execution_count": 8,
   "id": "5e5b8b02",
   "metadata": {},
   "outputs": [],
   "source": [
    "model.compile(loss='binary_crossentropy', optimizer='adam', metrics=['accuracy'])"
   ]
  },
  {
   "cell_type": "code",
   "execution_count": 9,
   "id": "6c798507",
   "metadata": {},
   "outputs": [
    {
     "name": "stdout",
     "output_type": "stream",
     "text": [
      "WARNING:tensorflow:`period` argument is deprecated. Please use `save_freq` to specify the frequency in number of batches seen.\n"
     ]
    }
   ],
   "source": [
    "checkpoint = ModelCheckpoint(\"dnnModel.h5\", monitor='val_loss', verbose=1, save_best_only=True, save_weights_only=False, mode='auto', period=1)\n",
    "early = EarlyStopping(monitor='val_loss', min_delta=0, patience=30, verbose=1, mode='auto')"
   ]
  },
  {
   "cell_type": "code",
   "execution_count": 10,
   "id": "a7def03b",
   "metadata": {},
   "outputs": [
    {
     "name": "stdout",
     "output_type": "stream",
     "text": [
      "Epoch 1/100\n",
      "1/8 [==>...........................] - ETA: 7s - loss: 0.6909 - accuracy: 0.5625\n",
      "Epoch 00001: val_loss improved from inf to 0.61011, saving model to dnnModel.h5\n",
      "8/8 [==============================] - 1s 22ms/step - loss: 0.6735 - accuracy: 0.6562 - val_loss: 0.6101 - val_accuracy: 1.0000\n",
      "Epoch 2/100\n",
      "1/8 [==>...........................] - ETA: 0s - loss: 0.6481 - accuracy: 0.7812\n",
      "Epoch 00002: val_loss improved from 0.61011 to 0.45774, saving model to dnnModel.h5\n",
      "8/8 [==============================] - 0s 8ms/step - loss: 0.5719 - accuracy: 0.9297 - val_loss: 0.4577 - val_accuracy: 1.0000\n",
      "Epoch 3/100\n",
      "1/8 [==>...........................] - ETA: 0s - loss: 0.4786 - accuracy: 1.0000\n",
      "Epoch 00003: val_loss improved from 0.45774 to 0.22122, saving model to dnnModel.h5\n",
      "8/8 [==============================] - 0s 8ms/step - loss: 0.3893 - accuracy: 0.9805 - val_loss: 0.2212 - val_accuracy: 1.0000\n",
      "Epoch 4/100\n",
      "1/8 [==>...........................] - ETA: 0s - loss: 0.2910 - accuracy: 1.0000\n",
      "Epoch 00004: val_loss improved from 0.22122 to 0.06072, saving model to dnnModel.h5\n",
      "8/8 [==============================] - 0s 8ms/step - loss: 0.2255 - accuracy: 0.9883 - val_loss: 0.0607 - val_accuracy: 1.0000\n",
      "Epoch 5/100\n",
      "1/8 [==>...........................] - ETA: 0s - loss: 0.1837 - accuracy: 0.9688\n",
      "Epoch 00005: val_loss improved from 0.06072 to 0.01566, saving model to dnnModel.h5\n",
      "8/8 [==============================] - 0s 8ms/step - loss: 0.0962 - accuracy: 0.9922 - val_loss: 0.0157 - val_accuracy: 1.0000\n",
      "Epoch 6/100\n",
      "1/8 [==>...........................] - ETA: 0s - loss: 0.2568 - accuracy: 0.9688\n",
      "Epoch 00006: val_loss improved from 0.01566 to 0.00604, saving model to dnnModel.h5\n",
      "8/8 [==============================] - 0s 8ms/step - loss: 0.1141 - accuracy: 0.9922 - val_loss: 0.0060 - val_accuracy: 1.0000\n",
      "Epoch 7/100\n",
      "1/8 [==>...........................] - ETA: 0s - loss: 0.0279 - accuracy: 1.0000\n",
      "Epoch 00007: val_loss improved from 0.00604 to 0.00347, saving model to dnnModel.h5\n",
      "8/8 [==============================] - 0s 8ms/step - loss: 0.0903 - accuracy: 0.9922 - val_loss: 0.0035 - val_accuracy: 1.0000\n",
      "Epoch 8/100\n",
      "1/8 [==>...........................] - ETA: 0s - loss: 0.0411 - accuracy: 1.0000\n",
      "Epoch 00008: val_loss improved from 0.00347 to 0.00329, saving model to dnnModel.h5\n",
      "8/8 [==============================] - 0s 8ms/step - loss: 0.0943 - accuracy: 0.9883 - val_loss: 0.0033 - val_accuracy: 1.0000\n",
      "Epoch 9/100\n",
      "1/8 [==>...........................] - ETA: 0s - loss: 0.0192 - accuracy: 1.0000\n",
      "Epoch 00009: val_loss did not improve from 0.00329\n",
      "8/8 [==============================] - 0s 5ms/step - loss: 0.0694 - accuracy: 0.9922 - val_loss: 0.0034 - val_accuracy: 1.0000\n",
      "Epoch 10/100\n",
      "1/8 [==>...........................] - ETA: 0s - loss: 0.1498 - accuracy: 0.9688\n",
      "Epoch 00010: val_loss did not improve from 0.00329\n",
      "8/8 [==============================] - 0s 5ms/step - loss: 0.0579 - accuracy: 0.9922 - val_loss: 0.0046 - val_accuracy: 1.0000\n",
      "Epoch 11/100\n",
      "1/8 [==>...........................] - ETA: 0s - loss: 0.0300 - accuracy: 1.0000\n",
      "Epoch 00011: val_loss did not improve from 0.00329\n",
      "8/8 [==============================] - 0s 5ms/step - loss: 0.0708 - accuracy: 0.9922 - val_loss: 0.0045 - val_accuracy: 1.0000\n",
      "Epoch 12/100\n",
      "1/8 [==>...........................] - ETA: 0s - loss: 0.0453 - accuracy: 1.0000\n",
      "Epoch 00012: val_loss did not improve from 0.00329\n",
      "8/8 [==============================] - 0s 5ms/step - loss: 0.0893 - accuracy: 0.9922 - val_loss: 0.0054 - val_accuracy: 1.0000\n",
      "Epoch 13/100\n",
      "1/8 [==>...........................] - ETA: 0s - loss: 0.0071 - accuracy: 1.0000\n",
      "Epoch 00013: val_loss did not improve from 0.00329\n",
      "8/8 [==============================] - 0s 5ms/step - loss: 0.0628 - accuracy: 0.9922 - val_loss: 0.0068 - val_accuracy: 1.0000\n",
      "Epoch 14/100\n",
      "1/8 [==>...........................] - ETA: 0s - loss: 0.0189 - accuracy: 1.0000\n",
      "Epoch 00014: val_loss did not improve from 0.00329\n",
      "8/8 [==============================] - 0s 5ms/step - loss: 0.0804 - accuracy: 0.9922 - val_loss: 0.0070 - val_accuracy: 1.0000\n",
      "Epoch 15/100\n",
      "1/8 [==>...........................] - ETA: 0s - loss: 0.0413 - accuracy: 1.0000\n",
      "Epoch 00015: val_loss did not improve from 0.00329\n",
      "8/8 [==============================] - 0s 5ms/step - loss: 0.0547 - accuracy: 0.9922 - val_loss: 0.0074 - val_accuracy: 1.0000\n",
      "Epoch 16/100\n",
      "1/8 [==>...........................] - ETA: 0s - loss: 0.0160 - accuracy: 1.0000\n",
      "Epoch 00016: val_loss did not improve from 0.00329\n",
      "8/8 [==============================] - 0s 5ms/step - loss: 0.0663 - accuracy: 0.9922 - val_loss: 0.0072 - val_accuracy: 1.0000\n",
      "Epoch 17/100\n",
      "1/8 [==>...........................] - ETA: 0s - loss: 0.0181 - accuracy: 1.0000\n",
      "Epoch 00017: val_loss did not improve from 0.00329\n",
      "8/8 [==============================] - 0s 4ms/step - loss: 0.0423 - accuracy: 0.9922 - val_loss: 0.0051 - val_accuracy: 1.0000\n",
      "Epoch 18/100\n",
      "1/8 [==>...........................] - ETA: 0s - loss: 0.0676 - accuracy: 0.9688\n",
      "Epoch 00018: val_loss improved from 0.00329 to 0.00311, saving model to dnnModel.h5\n",
      "8/8 [==============================] - 0s 8ms/step - loss: 0.0368 - accuracy: 0.9922 - val_loss: 0.0031 - val_accuracy: 1.0000\n",
      "Epoch 19/100\n",
      "1/8 [==>...........................] - ETA: 0s - loss: 0.0621 - accuracy: 0.9688\n",
      "Epoch 00019: val_loss improved from 0.00311 to 0.00247, saving model to dnnModel.h5\n",
      "8/8 [==============================] - 0s 8ms/step - loss: 0.0454 - accuracy: 0.9922 - val_loss: 0.0025 - val_accuracy: 1.0000\n",
      "Epoch 20/100\n",
      "1/8 [==>...........................] - ETA: 0s - loss: 0.0199 - accuracy: 1.0000\n",
      "Epoch 00020: val_loss improved from 0.00247 to 0.00168, saving model to dnnModel.h5\n",
      "8/8 [==============================] - 0s 8ms/step - loss: 0.0579 - accuracy: 0.9922 - val_loss: 0.0017 - val_accuracy: 1.0000\n",
      "Epoch 21/100\n",
      "1/8 [==>...........................] - ETA: 0s - loss: 0.0092 - accuracy: 1.0000\n",
      "Epoch 00021: val_loss did not improve from 0.00168\n",
      "8/8 [==============================] - 0s 5ms/step - loss: 0.0556 - accuracy: 0.9922 - val_loss: 0.0030 - val_accuracy: 1.0000\n",
      "Epoch 22/100\n",
      "1/8 [==>...........................] - ETA: 0s - loss: 0.1008 - accuracy: 0.9688\n",
      "Epoch 00022: val_loss did not improve from 0.00168\n",
      "8/8 [==============================] - 0s 5ms/step - loss: 0.0501 - accuracy: 0.9922 - val_loss: 0.0048 - val_accuracy: 1.0000\n",
      "Epoch 23/100\n",
      "1/8 [==>...........................] - ETA: 0s - loss: 0.1057 - accuracy: 0.9688\n",
      "Epoch 00023: val_loss did not improve from 0.00168\n",
      "8/8 [==============================] - 0s 5ms/step - loss: 0.0391 - accuracy: 0.9922 - val_loss: 0.0041 - val_accuracy: 1.0000\n",
      "Epoch 24/100\n",
      "1/8 [==>...........................] - ETA: 0s - loss: 0.0162 - accuracy: 1.0000\n",
      "Epoch 00024: val_loss did not improve from 0.00168\n",
      "8/8 [==============================] - 0s 5ms/step - loss: 0.0292 - accuracy: 0.9922 - val_loss: 0.0024 - val_accuracy: 1.0000\n",
      "Epoch 25/100\n",
      "1/8 [==>...........................] - ETA: 0s - loss: 0.0051 - accuracy: 1.0000\n",
      "Epoch 00025: val_loss did not improve from 0.00168\n",
      "8/8 [==============================] - 0s 5ms/step - loss: 0.0387 - accuracy: 0.9922 - val_loss: 0.0019 - val_accuracy: 1.0000\n",
      "Epoch 26/100\n",
      "1/8 [==>...........................] - ETA: 0s - loss: 0.0100 - accuracy: 1.0000\n",
      "Epoch 00026: val_loss did not improve from 0.00168\n",
      "8/8 [==============================] - 0s 5ms/step - loss: 0.0302 - accuracy: 0.9922 - val_loss: 0.0019 - val_accuracy: 1.0000\n",
      "Epoch 27/100\n",
      "1/8 [==>...........................] - ETA: 0s - loss: 0.0051 - accuracy: 1.0000\n",
      "Epoch 00027: val_loss improved from 0.00168 to 0.00154, saving model to dnnModel.h5\n",
      "8/8 [==============================] - 0s 9ms/step - loss: 0.0325 - accuracy: 0.9922 - val_loss: 0.0015 - val_accuracy: 1.0000\n",
      "Epoch 28/100\n",
      "1/8 [==>...........................] - ETA: 0s - loss: 0.0045 - accuracy: 1.0000\n",
      "Epoch 00028: val_loss did not improve from 0.00154\n",
      "8/8 [==============================] - 0s 5ms/step - loss: 0.0288 - accuracy: 0.9922 - val_loss: 0.0020 - val_accuracy: 1.0000\n",
      "Epoch 29/100\n",
      "1/8 [==>...........................] - ETA: 0s - loss: 0.0202 - accuracy: 1.0000\n",
      "Epoch 00029: val_loss did not improve from 0.00154\n",
      "8/8 [==============================] - 0s 5ms/step - loss: 0.0282 - accuracy: 0.9922 - val_loss: 0.0019 - val_accuracy: 1.0000\n"
     ]
    },
    {
     "name": "stdout",
     "output_type": "stream",
     "text": [
      "Epoch 30/100\n",
      "1/8 [==>...........................] - ETA: 0s - loss: 0.0593 - accuracy: 0.9688\n",
      "Epoch 00030: val_loss improved from 0.00154 to 0.00123, saving model to dnnModel.h5\n",
      "8/8 [==============================] - 0s 8ms/step - loss: 0.0176 - accuracy: 0.9922 - val_loss: 0.0012 - val_accuracy: 1.0000\n",
      "Epoch 31/100\n",
      "1/8 [==>...........................] - ETA: 0s - loss: 0.0427 - accuracy: 1.0000\n",
      "Epoch 00031: val_loss improved from 0.00123 to 0.00054, saving model to dnnModel.h5\n",
      "8/8 [==============================] - 0s 8ms/step - loss: 0.0150 - accuracy: 0.9961 - val_loss: 5.4102e-04 - val_accuracy: 1.0000\n",
      "Epoch 32/100\n",
      "1/8 [==>...........................] - ETA: 0s - loss: 0.0332 - accuracy: 0.9688\n",
      "Epoch 00032: val_loss improved from 0.00054 to 0.00023, saving model to dnnModel.h5\n",
      "8/8 [==============================] - 0s 8ms/step - loss: 0.0097 - accuracy: 0.9922 - val_loss: 2.3427e-04 - val_accuracy: 1.0000\n",
      "Epoch 33/100\n",
      "1/8 [==>...........................] - ETA: 0s - loss: 0.0035 - accuracy: 1.0000\n",
      "Epoch 00033: val_loss improved from 0.00023 to 0.00014, saving model to dnnModel.h5\n",
      "8/8 [==============================] - 0s 7ms/step - loss: 0.0070 - accuracy: 1.0000 - val_loss: 1.3585e-04 - val_accuracy: 1.0000\n",
      "Epoch 34/100\n",
      "1/8 [==>...........................] - ETA: 0s - loss: 0.0118 - accuracy: 1.0000\n",
      "Epoch 00034: val_loss improved from 0.00014 to 0.00013, saving model to dnnModel.h5\n",
      "8/8 [==============================] - 0s 8ms/step - loss: 0.0123 - accuracy: 0.9922 - val_loss: 1.3052e-04 - val_accuracy: 1.0000\n",
      "Epoch 35/100\n",
      "1/8 [==>...........................] - ETA: 0s - loss: 7.2488e-04 - accuracy: 1.0000\n",
      "Epoch 00035: val_loss did not improve from 0.00013\n",
      "8/8 [==============================] - 0s 5ms/step - loss: 0.0131 - accuracy: 0.9922 - val_loss: 2.5958e-04 - val_accuracy: 1.0000\n",
      "Epoch 36/100\n",
      "1/8 [==>...........................] - ETA: 0s - loss: 0.0107 - accuracy: 1.0000\n",
      "Epoch 00036: val_loss did not improve from 0.00013\n",
      "8/8 [==============================] - 0s 4ms/step - loss: 0.0115 - accuracy: 0.9961 - val_loss: 2.3320e-04 - val_accuracy: 1.0000\n",
      "Epoch 37/100\n",
      "1/8 [==>...........................] - ETA: 0s - loss: 0.1484 - accuracy: 0.9688\n",
      "Epoch 00037: val_loss did not improve from 0.00013\n",
      "8/8 [==============================] - 0s 5ms/step - loss: 0.0223 - accuracy: 0.9961 - val_loss: 2.6982e-04 - val_accuracy: 1.0000\n",
      "Epoch 38/100\n",
      "1/8 [==>...........................] - ETA: 0s - loss: 0.0020 - accuracy: 1.0000\n",
      "Epoch 00038: val_loss did not improve from 0.00013\n",
      "8/8 [==============================] - 0s 4ms/step - loss: 0.0088 - accuracy: 1.0000 - val_loss: 1.8357e-04 - val_accuracy: 1.0000\n",
      "Epoch 39/100\n",
      "1/8 [==>...........................] - ETA: 0s - loss: 0.0073 - accuracy: 1.0000\n",
      "Epoch 00039: val_loss improved from 0.00013 to 0.00009, saving model to dnnModel.h5\n",
      "8/8 [==============================] - 0s 7ms/step - loss: 0.0094 - accuracy: 0.9961 - val_loss: 8.8154e-05 - val_accuracy: 1.0000\n",
      "Epoch 40/100\n",
      "1/8 [==>...........................] - ETA: 0s - loss: 0.0047 - accuracy: 1.0000\n",
      "Epoch 00040: val_loss improved from 0.00009 to 0.00006, saving model to dnnModel.h5\n",
      "8/8 [==============================] - 0s 8ms/step - loss: 0.0081 - accuracy: 0.9961 - val_loss: 5.5567e-05 - val_accuracy: 1.0000\n",
      "Epoch 41/100\n",
      "1/8 [==>...........................] - ETA: 0s - loss: 0.0024 - accuracy: 1.0000\n",
      "Epoch 00041: val_loss did not improve from 0.00006\n",
      "8/8 [==============================] - 0s 4ms/step - loss: 0.0088 - accuracy: 1.0000 - val_loss: 6.8772e-05 - val_accuracy: 1.0000\n",
      "Epoch 42/100\n",
      "1/8 [==>...........................] - ETA: 0s - loss: 0.0010 - accuracy: 1.0000\n",
      "Epoch 00042: val_loss did not improve from 0.00006\n",
      "8/8 [==============================] - 0s 4ms/step - loss: 0.0041 - accuracy: 1.0000 - val_loss: 6.1165e-05 - val_accuracy: 1.0000\n",
      "Epoch 43/100\n",
      "1/8 [==>...........................] - ETA: 0s - loss: 0.0050 - accuracy: 1.0000\n",
      "Epoch 00043: val_loss improved from 0.00006 to 0.00003, saving model to dnnModel.h5\n",
      "8/8 [==============================] - 0s 7ms/step - loss: 0.0025 - accuracy: 1.0000 - val_loss: 3.2952e-05 - val_accuracy: 1.0000\n",
      "Epoch 44/100\n",
      "1/8 [==>...........................] - ETA: 0s - loss: 0.0022 - accuracy: 1.0000\n",
      "Epoch 00044: val_loss improved from 0.00003 to 0.00002, saving model to dnnModel.h5\n",
      "8/8 [==============================] - 0s 8ms/step - loss: 0.0030 - accuracy: 1.0000 - val_loss: 1.8588e-05 - val_accuracy: 1.0000\n",
      "Epoch 45/100\n",
      "1/8 [==>...........................] - ETA: 0s - loss: 0.0061 - accuracy: 1.0000\n",
      "Epoch 00045: val_loss improved from 0.00002 to 0.00001, saving model to dnnModel.h5\n",
      "8/8 [==============================] - 0s 8ms/step - loss: 0.0017 - accuracy: 1.0000 - val_loss: 1.2048e-05 - val_accuracy: 1.0000\n",
      "Epoch 46/100\n",
      "1/8 [==>...........................] - ETA: 0s - loss: 0.0029 - accuracy: 1.0000\n",
      "Epoch 00046: val_loss improved from 0.00001 to 0.00001, saving model to dnnModel.h5\n",
      "8/8 [==============================] - 0s 9ms/step - loss: 0.0032 - accuracy: 1.0000 - val_loss: 8.6989e-06 - val_accuracy: 1.0000\n",
      "Epoch 47/100\n",
      "1/8 [==>...........................] - ETA: 0s - loss: 9.5433e-05 - accuracy: 1.0000\n",
      "Epoch 00047: val_loss improved from 0.00001 to 0.00001, saving model to dnnModel.h5\n",
      "8/8 [==============================] - 0s 11ms/step - loss: 0.0012 - accuracy: 1.0000 - val_loss: 6.2540e-06 - val_accuracy: 1.0000\n",
      "Epoch 48/100\n",
      "1/8 [==>...........................] - ETA: 0s - loss: 2.2388e-04 - accuracy: 1.0000\n",
      "Epoch 00048: val_loss improved from 0.00001 to 0.00000, saving model to dnnModel.h5\n",
      "8/8 [==============================] - 0s 11ms/step - loss: 8.5522e-04 - accuracy: 1.0000 - val_loss: 4.7953e-06 - val_accuracy: 1.0000\n",
      "Epoch 49/100\n",
      "1/8 [==>...........................] - ETA: 0s - loss: 0.0078 - accuracy: 1.0000\n",
      "Epoch 00049: val_loss improved from 0.00000 to 0.00000, saving model to dnnModel.h5\n",
      "8/8 [==============================] - 0s 13ms/step - loss: 0.0017 - accuracy: 1.0000 - val_loss: 4.5062e-06 - val_accuracy: 1.0000\n",
      "Epoch 50/100\n",
      "1/8 [==>...........................] - ETA: 0s - loss: 0.0025 - accuracy: 1.0000\n",
      "Epoch 00050: val_loss did not improve from 0.00000\n",
      "8/8 [==============================] - 0s 7ms/step - loss: 0.0052 - accuracy: 0.9961 - val_loss: 9.5518e-06 - val_accuracy: 1.0000\n",
      "Epoch 51/100\n",
      "1/8 [==>...........................] - ETA: 0s - loss: 2.4007e-04 - accuracy: 1.0000\n",
      "Epoch 00051: val_loss did not improve from 0.00000\n",
      "8/8 [==============================] - 0s 6ms/step - loss: 5.9554e-04 - accuracy: 1.0000 - val_loss: 1.4049e-05 - val_accuracy: 1.0000\n",
      "Epoch 52/100\n",
      "1/8 [==>...........................] - ETA: 0s - loss: 6.6712e-04 - accuracy: 1.0000\n",
      "Epoch 00052: val_loss did not improve from 0.00000\n",
      "8/8 [==============================] - 0s 5ms/step - loss: 0.0013 - accuracy: 1.0000 - val_loss: 1.3804e-05 - val_accuracy: 1.0000\n",
      "Epoch 53/100\n",
      "1/8 [==>...........................] - ETA: 0s - loss: 3.7885e-04 - accuracy: 1.0000\n",
      "Epoch 00053: val_loss did not improve from 0.00000\n",
      "8/8 [==============================] - 0s 4ms/step - loss: 0.0014 - accuracy: 1.0000 - val_loss: 1.0559e-05 - val_accuracy: 1.0000\n",
      "Epoch 54/100\n",
      "1/8 [==>...........................] - ETA: 0s - loss: 2.8601e-05 - accuracy: 1.0000\n",
      "Epoch 00054: val_loss did not improve from 0.00000\n",
      "8/8 [==============================] - 0s 5ms/step - loss: 0.0010 - accuracy: 1.0000 - val_loss: 7.9022e-06 - val_accuracy: 1.0000\n",
      "Epoch 55/100\n",
      "1/8 [==>...........................] - ETA: 0s - loss: 2.6079e-04 - accuracy: 1.0000\n",
      "Epoch 00055: val_loss did not improve from 0.00000\n",
      "8/8 [==============================] - 0s 6ms/step - loss: 8.1057e-04 - accuracy: 1.0000 - val_loss: 5.2606e-06 - val_accuracy: 1.0000\n",
      "Epoch 56/100\n",
      "1/8 [==>...........................] - ETA: 0s - loss: 0.0028 - accuracy: 1.0000\n",
      "Epoch 00056: val_loss improved from 0.00000 to 0.00000, saving model to dnnModel.h5\n",
      "8/8 [==============================] - 0s 11ms/step - loss: 9.3759e-04 - accuracy: 1.0000 - val_loss: 3.4242e-06 - val_accuracy: 1.0000\n",
      "Epoch 57/100\n",
      "1/8 [==>...........................] - ETA: 0s - loss: 0.0013 - accuracy: 1.0000\n",
      "Epoch 00057: val_loss improved from 0.00000 to 0.00000, saving model to dnnModel.h5\n",
      "8/8 [==============================] - 0s 9ms/step - loss: 0.0011 - accuracy: 1.0000 - val_loss: 2.3898e-06 - val_accuracy: 1.0000\n"
     ]
    },
    {
     "name": "stdout",
     "output_type": "stream",
     "text": [
      "Epoch 58/100\n",
      "1/8 [==>...........................] - ETA: 0s - loss: 0.0031 - accuracy: 1.0000\n",
      "Epoch 00058: val_loss improved from 0.00000 to 0.00000, saving model to dnnModel.h5\n",
      "8/8 [==============================] - 0s 9ms/step - loss: 7.8747e-04 - accuracy: 1.0000 - val_loss: 2.1238e-06 - val_accuracy: 1.0000\n",
      "Epoch 59/100\n",
      "1/8 [==>...........................] - ETA: 0s - loss: 4.5856e-04 - accuracy: 1.0000\n",
      "Epoch 00059: val_loss improved from 0.00000 to 0.00000, saving model to dnnModel.h5\n",
      "8/8 [==============================] - 0s 11ms/step - loss: 9.6455e-04 - accuracy: 1.0000 - val_loss: 1.6156e-06 - val_accuracy: 1.0000\n",
      "Epoch 60/100\n",
      "1/8 [==>...........................] - ETA: 0s - loss: 2.3058e-04 - accuracy: 1.0000\n",
      "Epoch 00060: val_loss improved from 0.00000 to 0.00000, saving model to dnnModel.h5\n",
      "8/8 [==============================] - 0s 9ms/step - loss: 7.5163e-04 - accuracy: 1.0000 - val_loss: 1.2916e-06 - val_accuracy: 1.0000\n",
      "Epoch 61/100\n",
      "1/8 [==>...........................] - ETA: 0s - loss: 9.6677e-05 - accuracy: 1.0000\n",
      "Epoch 00061: val_loss improved from 0.00000 to 0.00000, saving model to dnnModel.h5\n",
      "8/8 [==============================] - 0s 8ms/step - loss: 2.7281e-04 - accuracy: 1.0000 - val_loss: 1.0830e-06 - val_accuracy: 1.0000\n",
      "Epoch 62/100\n",
      "1/8 [==>...........................] - ETA: 0s - loss: 0.0011 - accuracy: 1.0000\n",
      "Epoch 00062: val_loss improved from 0.00000 to 0.00000, saving model to dnnModel.h5\n",
      "8/8 [==============================] - 0s 11ms/step - loss: 9.6537e-04 - accuracy: 1.0000 - val_loss: 8.7844e-07 - val_accuracy: 1.0000\n",
      "Epoch 63/100\n",
      "1/8 [==>...........................] - ETA: 0s - loss: 0.0018 - accuracy: 1.0000\n",
      "Epoch 00063: val_loss improved from 0.00000 to 0.00000, saving model to dnnModel.h5\n",
      "8/8 [==============================] - 0s 9ms/step - loss: 8.4467e-04 - accuracy: 1.0000 - val_loss: 6.6450e-07 - val_accuracy: 1.0000\n",
      "Epoch 64/100\n",
      "1/8 [==>...........................] - ETA: 0s - loss: 3.4930e-04 - accuracy: 1.0000\n",
      "Epoch 00064: val_loss improved from 0.00000 to 0.00000, saving model to dnnModel.h5\n",
      "8/8 [==============================] - 0s 10ms/step - loss: 8.5170e-04 - accuracy: 1.0000 - val_loss: 5.0558e-07 - val_accuracy: 1.0000\n",
      "Epoch 65/100\n",
      "1/8 [==>...........................] - ETA: 0s - loss: 3.6151e-04 - accuracy: 1.0000\n",
      "Epoch 00065: val_loss did not improve from 0.00000\n",
      "8/8 [==============================] - 0s 6ms/step - loss: 0.0011 - accuracy: 1.0000 - val_loss: 1.1229e-06 - val_accuracy: 1.0000\n",
      "Epoch 66/100\n",
      "1/8 [==>...........................] - ETA: 0s - loss: 1.7241e-04 - accuracy: 1.0000\n",
      "Epoch 00066: val_loss did not improve from 0.00000\n",
      "8/8 [==============================] - 0s 4ms/step - loss: 3.6249e-04 - accuracy: 1.0000 - val_loss: 1.5702e-06 - val_accuracy: 1.0000\n",
      "Epoch 67/100\n",
      "1/8 [==>...........................] - ETA: 0s - loss: 2.4552e-05 - accuracy: 1.0000\n",
      "Epoch 00067: val_loss did not improve from 0.00000\n",
      "8/8 [==============================] - 0s 5ms/step - loss: 9.9185e-04 - accuracy: 1.0000 - val_loss: 1.3871e-06 - val_accuracy: 1.0000\n",
      "Epoch 68/100\n",
      "1/8 [==>...........................] - ETA: 0s - loss: 9.9063e-07 - accuracy: 1.0000\n",
      "Epoch 00068: val_loss did not improve from 0.00000\n",
      "8/8 [==============================] - 0s 6ms/step - loss: 3.9500e-04 - accuracy: 1.0000 - val_loss: 9.9502e-07 - val_accuracy: 1.0000\n",
      "Epoch 69/100\n",
      "1/8 [==>...........................] - ETA: 0s - loss: 1.7787e-04 - accuracy: 1.0000\n",
      "Epoch 00069: val_loss did not improve from 0.00000\n",
      "8/8 [==============================] - 0s 5ms/step - loss: 1.9441e-04 - accuracy: 1.0000 - val_loss: 6.6427e-07 - val_accuracy: 1.0000\n",
      "Epoch 70/100\n",
      "1/8 [==>...........................] - ETA: 0s - loss: 8.8463e-06 - accuracy: 1.0000\n",
      "Epoch 00070: val_loss did not improve from 0.00000\n",
      "8/8 [==============================] - 0s 6ms/step - loss: 3.3788e-04 - accuracy: 1.0000 - val_loss: 5.0653e-07 - val_accuracy: 1.0000\n",
      "Epoch 71/100\n",
      "1/8 [==>...........................] - ETA: 0s - loss: 9.7539e-06 - accuracy: 1.0000\n",
      "Epoch 00071: val_loss improved from 0.00000 to 0.00000, saving model to dnnModel.h5\n",
      "8/8 [==============================] - 0s 9ms/step - loss: 1.6255e-04 - accuracy: 1.0000 - val_loss: 4.0340e-07 - val_accuracy: 1.0000\n",
      "Epoch 72/100\n",
      "1/8 [==>...........................] - ETA: 0s - loss: 2.1140e-04 - accuracy: 1.0000\n",
      "Epoch 00072: val_loss improved from 0.00000 to 0.00000, saving model to dnnModel.h5\n",
      "8/8 [==============================] - 0s 8ms/step - loss: 0.0018 - accuracy: 1.0000 - val_loss: 3.0370e-07 - val_accuracy: 1.0000\n",
      "Epoch 73/100\n",
      "1/8 [==>...........................] - ETA: 0s - loss: 9.4305e-04 - accuracy: 1.0000\n",
      "Epoch 00073: val_loss improved from 0.00000 to 0.00000, saving model to dnnModel.h5\n",
      "8/8 [==============================] - 0s 12ms/step - loss: 3.4586e-04 - accuracy: 1.0000 - val_loss: 2.0693e-07 - val_accuracy: 1.0000\n",
      "Epoch 74/100\n",
      "1/8 [==>...........................] - ETA: 0s - loss: 3.5637e-05 - accuracy: 1.0000\n",
      "Epoch 00074: val_loss improved from 0.00000 to 0.00000, saving model to dnnModel.h5\n",
      "8/8 [==============================] - 0s 8ms/step - loss: 3.0727e-04 - accuracy: 1.0000 - val_loss: 1.6502e-07 - val_accuracy: 1.0000\n",
      "Epoch 75/100\n",
      "1/8 [==>...........................] - ETA: 0s - loss: 0.0018 - accuracy: 1.0000\n",
      "Epoch 00075: val_loss improved from 0.00000 to 0.00000, saving model to dnnModel.h5\n",
      "8/8 [==============================] - 0s 7ms/step - loss: 5.6479e-04 - accuracy: 1.0000 - val_loss: 1.2601e-07 - val_accuracy: 1.0000\n",
      "Epoch 76/100\n",
      "1/8 [==>...........................] - ETA: 0s - loss: 4.1777e-06 - accuracy: 1.0000\n",
      "Epoch 00076: val_loss improved from 0.00000 to 0.00000, saving model to dnnModel.h5\n",
      "8/8 [==============================] - 0s 9ms/step - loss: 2.2513e-04 - accuracy: 1.0000 - val_loss: 1.0607e-07 - val_accuracy: 1.0000\n",
      "Epoch 77/100\n",
      "1/8 [==>...........................] - ETA: 0s - loss: 7.0699e-07 - accuracy: 1.0000\n",
      "Epoch 00077: val_loss improved from 0.00000 to 0.00000, saving model to dnnModel.h5\n",
      "8/8 [==============================] - 0s 9ms/step - loss: 1.8406e-04 - accuracy: 1.0000 - val_loss: 1.0146e-07 - val_accuracy: 1.0000\n",
      "Epoch 78/100\n",
      "1/8 [==>...........................] - ETA: 0s - loss: 2.9649e-05 - accuracy: 1.0000\n",
      "Epoch 00078: val_loss improved from 0.00000 to 0.00000, saving model to dnnModel.h5\n",
      "8/8 [==============================] - 0s 8ms/step - loss: 1.8303e-04 - accuracy: 1.0000 - val_loss: 9.8574e-08 - val_accuracy: 1.0000\n",
      "Epoch 79/100\n",
      "1/8 [==>...........................] - ETA: 0s - loss: 2.4574e-05 - accuracy: 1.0000\n",
      "Epoch 00079: val_loss improved from 0.00000 to 0.00000, saving model to dnnModel.h5\n",
      "8/8 [==============================] - 0s 8ms/step - loss: 1.5066e-04 - accuracy: 1.0000 - val_loss: 8.8867e-08 - val_accuracy: 1.0000\n",
      "Epoch 80/100\n",
      "1/8 [==>...........................] - ETA: 0s - loss: 9.0507e-04 - accuracy: 1.0000\n",
      "Epoch 00080: val_loss improved from 0.00000 to 0.00000, saving model to dnnModel.h5\n",
      "8/8 [==============================] - 0s 11ms/step - loss: 1.6157e-04 - accuracy: 1.0000 - val_loss: 7.7559e-08 - val_accuracy: 1.0000\n",
      "Epoch 81/100\n",
      "1/8 [==>...........................] - ETA: 0s - loss: 6.1742e-04 - accuracy: 1.0000\n",
      "Epoch 00081: val_loss improved from 0.00000 to 0.00000, saving model to dnnModel.h5\n",
      "8/8 [==============================] - 0s 9ms/step - loss: 2.7376e-04 - accuracy: 1.0000 - val_loss: 6.9789e-08 - val_accuracy: 1.0000\n",
      "Epoch 82/100\n",
      "1/8 [==>...........................] - ETA: 0s - loss: 1.5152e-05 - accuracy: 1.0000\n",
      "Epoch 00082: val_loss improved from 0.00000 to 0.00000, saving model to dnnModel.h5\n",
      "8/8 [==============================] - 0s 8ms/step - loss: 6.9240e-05 - accuracy: 1.0000 - val_loss: 6.3029e-08 - val_accuracy: 1.0000\n",
      "Epoch 83/100\n",
      "1/8 [==>...........................] - ETA: 0s - loss: 5.0624e-05 - accuracy: 1.0000\n",
      "Epoch 00083: val_loss improved from 0.00000 to 0.00000, saving model to dnnModel.h5\n",
      "8/8 [==============================] - 0s 12ms/step - loss: 1.0351e-04 - accuracy: 1.0000 - val_loss: 5.7770e-08 - val_accuracy: 1.0000\n",
      "Epoch 84/100\n",
      "1/8 [==>...........................] - ETA: 0s - loss: 3.1101e-04 - accuracy: 1.0000\n",
      "Epoch 00084: val_loss did not improve from 0.00000\n",
      "8/8 [==============================] - 0s 5ms/step - loss: 5.8129e-04 - accuracy: 1.0000 - val_loss: 7.2328e-08 - val_accuracy: 1.0000\n"
     ]
    },
    {
     "name": "stdout",
     "output_type": "stream",
     "text": [
      "Epoch 85/100\n",
      "1/8 [==>...........................] - ETA: 0s - loss: 8.0385e-05 - accuracy: 1.0000\n",
      "Epoch 00085: val_loss did not improve from 0.00000\n",
      "8/8 [==============================] - 0s 5ms/step - loss: 4.5628e-05 - accuracy: 1.0000 - val_loss: 9.2757e-08 - val_accuracy: 1.0000\n",
      "Epoch 86/100\n",
      "1/8 [==>...........................] - ETA: 0s - loss: 9.6280e-05 - accuracy: 1.0000\n",
      "Epoch 00086: val_loss did not improve from 0.00000\n",
      "8/8 [==============================] - 0s 4ms/step - loss: 1.6203e-04 - accuracy: 1.0000 - val_loss: 9.8353e-08 - val_accuracy: 1.0000\n",
      "Epoch 87/100\n",
      "1/8 [==>...........................] - ETA: 0s - loss: 9.4546e-06 - accuracy: 1.0000\n",
      "Epoch 00087: val_loss did not improve from 0.00000\n",
      "8/8 [==============================] - 0s 5ms/step - loss: 1.9294e-04 - accuracy: 1.0000 - val_loss: 8.9284e-08 - val_accuracy: 1.0000\n",
      "Epoch 88/100\n",
      "1/8 [==>...........................] - ETA: 0s - loss: 2.7235e-04 - accuracy: 1.0000\n",
      "Epoch 00088: val_loss did not improve from 0.00000\n",
      "8/8 [==============================] - 0s 5ms/step - loss: 2.6819e-04 - accuracy: 1.0000 - val_loss: 7.2751e-08 - val_accuracy: 1.0000\n",
      "Epoch 89/100\n",
      "1/8 [==>...........................] - ETA: 0s - loss: 5.1317e-04 - accuracy: 1.0000\n",
      "Epoch 00089: val_loss did not improve from 0.00000\n",
      "8/8 [==============================] - 0s 5ms/step - loss: 1.3073e-04 - accuracy: 1.0000 - val_loss: 6.3124e-08 - val_accuracy: 1.0000\n",
      "Epoch 90/100\n",
      "1/8 [==>...........................] - ETA: 0s - loss: 5.6064e-05 - accuracy: 1.0000\n",
      "Epoch 00090: val_loss did not improve from 0.00000\n",
      "8/8 [==============================] - 0s 5ms/step - loss: 1.2568e-04 - accuracy: 1.0000 - val_loss: 6.3105e-08 - val_accuracy: 1.0000\n",
      "Epoch 91/100\n",
      "1/8 [==>...........................] - ETA: 0s - loss: 2.6980e-06 - accuracy: 1.0000\n",
      "Epoch 00091: val_loss did not improve from 0.00000\n",
      "8/8 [==============================] - 0s 5ms/step - loss: 6.3656e-05 - accuracy: 1.0000 - val_loss: 6.1533e-08 - val_accuracy: 1.0000\n",
      "Epoch 92/100\n",
      "1/8 [==>...........................] - ETA: 0s - loss: 1.1868e-04 - accuracy: 1.0000\n",
      "Epoch 00092: val_loss did not improve from 0.00000\n",
      "8/8 [==============================] - 0s 6ms/step - loss: 6.7253e-05 - accuracy: 1.0000 - val_loss: 5.8490e-08 - val_accuracy: 1.0000\n",
      "Epoch 93/100\n",
      "1/8 [==>...........................] - ETA: 0s - loss: 1.1298e-05 - accuracy: 1.0000\n",
      "Epoch 00093: val_loss did not improve from 0.00000\n",
      "8/8 [==============================] - 0s 6ms/step - loss: 0.0010 - accuracy: 1.0000 - val_loss: 6.3314e-08 - val_accuracy: 1.0000\n",
      "Epoch 94/100\n",
      "1/8 [==>...........................] - ETA: 0s - loss: 1.8245e-05 - accuracy: 1.0000\n",
      "Epoch 00094: val_loss did not improve from 0.00000\n",
      "8/8 [==============================] - 0s 5ms/step - loss: 2.2103e-04 - accuracy: 1.0000 - val_loss: 6.1839e-08 - val_accuracy: 1.0000\n",
      "Epoch 95/100\n",
      "1/8 [==>...........................] - ETA: 0s - loss: 2.6978e-05 - accuracy: 1.0000\n",
      "Epoch 00095: val_loss did not improve from 0.00000\n",
      "8/8 [==============================] - 0s 6ms/step - loss: 2.5414e-05 - accuracy: 1.0000 - val_loss: 5.8626e-08 - val_accuracy: 1.0000\n",
      "Epoch 96/100\n",
      "1/8 [==>...........................] - ETA: 0s - loss: 1.5071e-05 - accuracy: 1.0000\n",
      "Epoch 00096: val_loss improved from 0.00000 to 0.00000, saving model to dnnModel.h5\n",
      "8/8 [==============================] - 0s 10ms/step - loss: 0.0020 - accuracy: 1.0000 - val_loss: 1.3761e-08 - val_accuracy: 1.0000\n",
      "Epoch 97/100\n",
      "1/8 [==>...........................] - ETA: 0s - loss: 5.5442e-05 - accuracy: 1.0000\n",
      "Epoch 00097: val_loss improved from 0.00000 to 0.00000, saving model to dnnModel.h5\n",
      "8/8 [==============================] - 0s 8ms/step - loss: 2.1000e-04 - accuracy: 1.0000 - val_loss: 5.6279e-09 - val_accuracy: 1.0000\n",
      "Epoch 98/100\n",
      "1/8 [==>...........................] - ETA: 0s - loss: 0.0035 - accuracy: 1.0000\n",
      "Epoch 00098: val_loss improved from 0.00000 to 0.00000, saving model to dnnModel.h5\n",
      "8/8 [==============================] - 0s 10ms/step - loss: 7.9117e-04 - accuracy: 1.0000 - val_loss: 3.6679e-09 - val_accuracy: 1.0000\n",
      "Epoch 99/100\n",
      "1/8 [==>...........................] - ETA: 0s - loss: 4.7576e-04 - accuracy: 1.0000\n",
      "Epoch 00099: val_loss improved from 0.00000 to 0.00000, saving model to dnnModel.h5\n",
      "8/8 [==============================] - 0s 9ms/step - loss: 6.9325e-04 - accuracy: 1.0000 - val_loss: 2.8701e-09 - val_accuracy: 1.0000\n",
      "Epoch 100/100\n",
      "1/8 [==>...........................] - ETA: 0s - loss: 1.1785e-04 - accuracy: 1.0000\n",
      "Epoch 00100: val_loss improved from 0.00000 to 0.00000, saving model to dnnModel.h5\n",
      "8/8 [==============================] - 0s 8ms/step - loss: 6.0195e-05 - accuracy: 1.0000 - val_loss: 2.5551e-09 - val_accuracy: 1.0000\n"
     ]
    }
   ],
   "source": [
    "time_training_start = time.perf_counter()\n",
    "history = model.fit(data_train, label_train, validation_split=0.2, epochs=100, verbose = 1, callbacks=[checkpoint,early])"
   ]
  },
  {
   "cell_type": "code",
   "execution_count": 11,
   "id": "04d9fa0a",
   "metadata": {},
   "outputs": [
    {
     "name": "stdout",
     "output_type": "stream",
     "text": [
      "Time to training : 6.648430300000001\n"
     ]
    }
   ],
   "source": [
    "print(f'Time to training : {time.perf_counter() - time_training_start}')"
   ]
  },
  {
   "cell_type": "code",
   "execution_count": 12,
   "id": "ab63c0a3",
   "metadata": {},
   "outputs": [
    {
     "data": {
      "image/png": "[encoded data removed]",
      "text/plain": [
       "<Figure size 640x480 with 1 Axes>"
      ]
     },
     "metadata": {},
     "output_type": "display_data"
    }
   ],
   "source": [
    "# Plot training & validation accuracy values\n",
    "plt.plot(history.history['accuracy'])\n",
    "plt.plot(history.history['val_accuracy'])\n",
    "plt.title('BRNN Model Accuracy')\n",
    "plt.ylabel('Accuracy')\n",
    "plt.xlabel('Epoch')\n",
    "plt.legend(['Train', 'Test'], loc='lower right')\n",
    "# plt.savefig('BRNN 200 Model Accuracy.png')\n",
    "plt.show()"
   ]
  },
  {
   "cell_type": "code",
   "execution_count": 13,
   "id": "04277965",
   "metadata": {},
   "outputs": [
    {
     "data": {
      "image/png": "[encoded data removed]",
      "text/plain": [
       "<Figure size 640x480 with 1 Axes>"
      ]
     },
     "metadata": {},
     "output_type": "display_data"
    }
   ],
   "source": [
    "# Plot training & validation loss values\n",
    "plt.plot(history.history['loss'])\n",
    "plt.plot(history.history['val_loss'])\n",
    "plt.title('BRNN Model  Loss')\n",
    "plt.ylabel('Loss')\n",
    "plt.xlabel('Epoch')\n",
    "plt.legend(['Train', 'Test'], loc='upper left')\n",
    "# plt.savefig('BRNN 200 Model Loss.png')\n",
    "plt.show()"
   ]
  },
  {
   "cell_type": "code",
   "execution_count": 14,
   "id": "cfcc8675",
   "metadata": {},
   "outputs": [
    {
     "name": "stdout",
     "output_type": "stream",
     "text": [
      "3/3 [==============================] - 0s 2ms/step\n"
     ]
    }
   ],
   "source": [
    "predict = model.predict(data_eval, verbose=1)"
   ]
  },
  {
   "cell_type": "code",
   "execution_count": 15,
   "id": "3b485068",
   "metadata": {},
   "outputs": [
    {
     "data": {
      "image/png": "[encoded data removed]",
      "text/plain": [
       "<Figure size 640x480 with 2 Axes>"
      ]
     },
     "metadata": {},
     "output_type": "display_data"
    }
   ],
   "source": [
    "tp = 0\n",
    "tn = 0\n",
    "fp = 0\n",
    "fn = 0\n",
    "predictn = predict.flatten().round()\n",
    "predictn = predictn.tolist()\n",
    "Y_testn = label_eval.tolist()\n",
    "for i in range(len(Y_testn)):\n",
    "  if predictn[i]==1 and Y_testn[i]==1:\n",
    "    tp+=1\n",
    "  elif predictn[i]==0 and Y_testn[i]==0:\n",
    "    tn+=1\n",
    "  elif predictn[i]==0 and Y_testn[i]==1:\n",
    "    fp+=1\n",
    "  elif predictn[i]==1 and Y_testn[i]==0:\n",
    "    fn+=1\n",
    "to_heat_map =[[tn,fp],[fn,tp]]\n",
    "to_heat_map = pd.DataFrame(to_heat_map, index = [\"Attack\",\"Normal\"],columns = [\"Attack\",\"Normal\"])\n",
    "ax = sns.heatmap(to_heat_map,annot=True, fmt=\"d\")"
   ]
  },
  {
   "cell_type": "code",
   "execution_count": 16,
   "id": "0f64d323",
   "metadata": {},
   "outputs": [
    {
     "name": "stdout",
     "output_type": "stream",
     "text": [
      "3/3 [==============================] - 0s 3ms/step - loss: 5.9595e-05 - accuracy: 1.0000\n",
      "accuracy: 100.00%\n"
     ]
    }
   ],
   "source": [
    "scores = model.evaluate(data_eval, label_eval)\n",
    "print(\"%s: %.2f%%\" % (model.metrics_names[1], scores[1]*100))"
   ]
  },
  {
   "cell_type": "code",
   "execution_count": 17,
   "id": "8355540c",
   "metadata": {},
   "outputs": [
    {
     "name": "stdout",
     "output_type": "stream",
     "text": [
      "              precision    recall  f1-score   support\n",
      "\n",
      "           0       1.00      1.00      1.00        40\n",
      "           1       1.00      1.00      1.00        40\n",
      "\n",
      "    accuracy                           1.00        80\n",
      "   macro avg       1.00      1.00      1.00        80\n",
      "weighted avg       1.00      1.00      1.00        80\n",
      "\n"
     ]
    }
   ],
   "source": [
    "print(classification_report(Y_testn,predictn))"
   ]
  },
  {
   "cell_type": "code",
   "execution_count": 18,
   "id": "6b1e5995",
   "metadata": {},
   "outputs": [
    {
     "name": "stdout",
     "output_type": "stream",
     "text": [
      "SVM: ROC AUC=1.000\n"
     ]
    }
   ],
   "source": [
    "lr_auc = roc_auc_score(Y_testn, predictn)\n",
    "print('SVM: ROC AUC=%.3f' % (lr_auc))"
   ]
  },
  {
   "cell_type": "code",
   "execution_count": 19,
   "id": "9e9ffd90",
   "metadata": {},
   "outputs": [
    {
     "name": "stdout",
     "output_type": "stream",
     "text": [
      "1/1 [==============================] - 0s 15ms/step\n",
      "Time elapse for prediction : 0.03439179999999986\n",
      "[[1.]]\n"
     ]
    }
   ],
   "source": [
    "time_start = time.perf_counter()\n",
    "predict = model.predict(data_eval[:1], verbose=1)\n",
    "print(f\"Time elapse for prediction : {time.perf_counter() - time_start}\")\n",
    "print(predict)"
   ]
  },
  {
   "cell_type": "code",
   "execution_count": null,
   "id": "fe718f7a",
   "metadata": {},
   "outputs": [],
   "source": []
  }
 ],
 "metadata": {
  "kernelspec": {
   "display_name": "Python 3 (ipykernel)",
   "language": "python",
   "name": "python3"
  },
  "language_info": {
   "codemirror_mode": {
    "name": "ipython",
    "version": 3
   },
   "file_extension": ".py",
   "mimetype": "text/x-python",
   "name": "python",
   "nbconvert_exporter": "python",
   "pygments_lexer": "ipython3",
   "version": "3.9.13"
  }
 },
 "nbformat": 4,
 "nbformat_minor": 5
}
