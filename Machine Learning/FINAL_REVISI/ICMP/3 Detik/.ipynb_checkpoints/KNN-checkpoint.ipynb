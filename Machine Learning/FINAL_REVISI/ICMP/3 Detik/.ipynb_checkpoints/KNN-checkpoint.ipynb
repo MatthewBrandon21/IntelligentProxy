{
 "cells": [
  {
   "cell_type": "code",
   "execution_count": 1,
   "id": "7a819f92",
   "metadata": {},
   "outputs": [],
   "source": [
    "from sklearn.neighbors import KNeighborsClassifier\n",
    "from sklearn.model_selection import train_test_split\n",
    "from sklearn.metrics import classification_report, confusion_matrix\n",
    "from sklearn.metrics import roc_auc_score\n",
    "from sklearn.preprocessing import StandardScaler\n",
    "import joblib\n",
    "import seaborn as sns\n",
    "import numpy as np\n",
    "import matplotlib.pyplot as plt\n",
    "from matplotlib.colors import ListedColormap\n",
    "import pandas as pd\n",
    "import time\n",
    "from collections import Counter\n",
    "from imblearn.over_sampling import SMOTE\n",
    "from imblearn.under_sampling import RandomUnderSampler\n",
    "from imblearn.pipeline import Pipeline"
   ]
  },
  {
   "cell_type": "code",
   "execution_count": 2,
   "id": "3a2ad599",
   "metadata": {},
   "outputs": [],
   "source": [
    "def train_knn():\n",
    "    global knn_inst\n",
    "    global training_files\n",
    "    global training_files_old\n",
    "    global features\n",
    "    global labels\n",
    "    global features_train\n",
    "    global features_test\n",
    "    global labels_train\n",
    "    global labels_test\n",
    "    global X_train\n",
    "    global X_test\n",
    "    global sc\n",
    "\n",
    "    for fname in training_files:\n",
    "        meal = open(fname, \"rt\")\n",
    "        for line in meal:\n",
    "            data_list = line.rsplit(\",\")\n",
    "            if(len(data_list) != 8):\n",
    "                print(\"error data\")\n",
    "            else:\n",
    "                data_list[(len(data_list)-1)]=data_list[(len(data_list)-1)].replace('\\n', '')\n",
    "                features.append(data_list[:(len(data_list)-1)])\n",
    "                labels.append(data_list[(len(data_list)-1)])\n",
    "        meal.close()\n",
    "    print(f\"Size of feature dataset : {len(features)}\")\n",
    "    print(\"Features first and last entries:\\n\\t\", end = \"\")\n",
    "    print(features[:1] + features[(len(features)-1):])\n",
    "    print(\"Labels first and last entries:\\n\\t\", end = \"\")\n",
    "    print(labels[:1] + labels[(len(features)-1):])\n",
    "    \n",
    "    data_counter = Counter(labels)\n",
    "    print(data_counter)\n",
    "    \n",
    "    over = SMOTE()\n",
    "    under = RandomUnderSampler()\n",
    "#     over = SMOTE(sampling_strategy=0.1)\n",
    "#     under = RandomUnderSampler(sampling_strategy=0.5)\n",
    "    steps = [('o', over), ('u', under)]\n",
    "    pipeline = Pipeline(steps=steps)\n",
    "    \n",
    "    features, labels = pipeline.fit_resample(features, labels)\n",
    "    \n",
    "    data_counter = Counter(labels)\n",
    "    print(data_counter)\n",
    "    \n",
    "    features_train, features_test, labels_train, labels_test = train_test_split(features, labels, test_size = 0.20, stratify=labels, random_state = 0)\n",
    "    \n",
    "    # Feature scaling (or standardization)\n",
    "    sc = StandardScaler()\n",
    "    X_train = sc.fit_transform(features_train)\n",
    "    X_test = sc.transform(features_test)\n",
    "    \n",
    "    knn_inst.fit(X_train, labels_train)\n",
    "    \n",
    "    labels_pred = knn_inst.predict(X_test)\n",
    "    \n",
    "    cm = confusion_matrix(labels_test,labels_pred)\n",
    "    sns.heatmap(cm, annot=True, fmt='d').set_title('Confusion matrix of linear KNN') # fmt='d' formats the numbers as digits, which means integers\n",
    "    \n",
    "    print(classification_report(labels_test,labels_pred))\n",
    "    \n",
    "    lr_auc = roc_auc_score(labels_test, labels_pred)\n",
    "    print('KNN: ROC AUC=%.3f' % (lr_auc))"
   ]
  },
  {
   "cell_type": "code",
   "execution_count": 3,
   "id": "e95c8612",
   "metadata": {},
   "outputs": [
    {
     "name": "stdout",
     "output_type": "stream",
     "text": [
      "Size of feature dataset : 658\n",
      "Features first and last entries:\n",
      "\t[['0.0016076588684874014', '0.0', '883.7254475608737', '0.0', '883.7254475608737', '0.0', '12'], ['0.0', '0.0', '0.0', '0.0', '0.0', '0.0', '1']]\n",
      "Labels first and last entries:\n",
      "\t['1', '0']\n",
      "Counter({'0': 496, '1': 162})\n",
      "Counter({'0': 496, '1': 496})\n",
      "              precision    recall  f1-score   support\n",
      "\n",
      "           0       0.99      1.00      1.00       100\n",
      "           1       1.00      0.99      0.99        99\n",
      "\n",
      "    accuracy                           0.99       199\n",
      "   macro avg       1.00      0.99      0.99       199\n",
      "weighted avg       1.00      0.99      0.99       199\n",
      "\n",
      "KNN: ROC AUC=0.995\n"
     ]
    },
    {
     "name": "stderr",
     "output_type": "stream",
     "text": [
      "C:\\Users\\H P VICTUS\\anaconda3\\lib\\site-packages\\sklearn\\utils\\validation.py:964: FutureWarning: Arrays of bytes/strings is being converted to decimal numbers if dtype='numeric'. This behavior is deprecated in 0.24 and will be removed in 1.1 (renaming of 0.26). Please convert your data to numeric values explicitly instead.\n",
      "  X = check_array(\n",
      "C:\\Users\\H P VICTUS\\anaconda3\\lib\\site-packages\\sklearn\\neighbors\\_classification.py:228: FutureWarning: Unlike other reduction functions (e.g. `skew`, `kurtosis`), the default behavior of `mode` typically preserves the axis it acts along. In SciPy 1.11.0, this behavior will change: the default value of `keepdims` will become False, the `axis` over which the statistic is taken will be eliminated, and the value None will no longer be accepted. Set `keepdims` to True or False to avoid this warning.\n",
      "  mode, _ = stats.mode(_y[neigh_ind, k], axis=1)\n",
      "C:\\Users\\H P VICTUS\\anaconda3\\lib\\site-packages\\sklearn\\metrics\\_ranking.py:546: FutureWarning: Arrays of bytes/strings is being converted to decimal numbers if dtype='numeric'. This behavior is deprecated in 0.24 and will be removed in 1.1 (renaming of 0.26). Please convert your data to numeric values explicitly instead.\n",
      "  y_score = check_array(y_score, ensure_2d=False)\n"
     ]
    },
    {
     "data": {
      "image/png": "[encoded data removed]",
      "text/plain": [
       "<Figure size 640x480 with 2 Axes>"
      ]
     },
     "metadata": {},
     "output_type": "display_data"
    }
   ],
   "source": [
    "features, labels = [], []\n",
    "knn_inst = KNeighborsClassifier(n_neighbors=5)\n",
    "training_files = [\"../dataset/individual/icmp_dataset_individual_attack_3detik_1.csv\",\n",
    "                  \"../dataset/individual/icmp_dataset_individual_normal_3detik_1.csv\"]\n",
    "train_knn()"
   ]
  },
  {
   "cell_type": "code",
   "execution_count": 4,
   "id": "bb700bda",
   "metadata": {},
   "outputs": [
    {
     "name": "stdout",
     "output_type": "stream",
     "text": [
      "Time elapse for prediction : 0.0012993000000003363\n",
      "Correct result : 0\n",
      "Predicted result : 0\n"
     ]
    },
    {
     "name": "stderr",
     "output_type": "stream",
     "text": [
      "C:\\Users\\H P VICTUS\\anaconda3\\lib\\site-packages\\sklearn\\neighbors\\_classification.py:228: FutureWarning: Unlike other reduction functions (e.g. `skew`, `kurtosis`), the default behavior of `mode` typically preserves the axis it acts along. In SciPy 1.11.0, this behavior will change: the default value of `keepdims` will become False, the `axis` over which the statistic is taken will be eliminated, and the value None will no longer be accepted. Set `keepdims` to True or False to avoid this warning.\n",
      "  mode, _ = stats.mode(_y[neigh_ind, k], axis=1)\n"
     ]
    }
   ],
   "source": [
    "time_start = time.perf_counter()\n",
    "result = knn_inst.predict([X_test[0]])[0]\n",
    "print(f\"Time elapse for prediction : {time.perf_counter() - time_start}\")\n",
    "print(f\"Correct result : {labels_test[0]}\")\n",
    "print(f\"Predicted result : {result}\")"
   ]
  },
  {
   "cell_type": "code",
   "execution_count": 5,
   "id": "ab38a7bf",
   "metadata": {},
   "outputs": [
    {
     "name": "stdout",
     "output_type": "stream",
     "text": [
      "Time elapse for prediction : 0.0009534000000002152\n",
      "Correct result : 0\n",
      "Predicted result : 0\n"
     ]
    },
    {
     "name": "stderr",
     "output_type": "stream",
     "text": [
      "C:\\Users\\H P VICTUS\\anaconda3\\lib\\site-packages\\sklearn\\neighbors\\_classification.py:228: FutureWarning: Unlike other reduction functions (e.g. `skew`, `kurtosis`), the default behavior of `mode` typically preserves the axis it acts along. In SciPy 1.11.0, this behavior will change: the default value of `keepdims` will become False, the `axis` over which the statistic is taken will be eliminated, and the value None will no longer be accepted. Set `keepdims` to True or False to avoid this warning.\n",
      "  mode, _ = stats.mode(_y[neigh_ind, k], axis=1)\n"
     ]
    }
   ],
   "source": [
    "time_start = time.perf_counter()\n",
    "data = sc.transform([features_test[2]])\n",
    "result = knn_inst.predict([data[0]])[0]\n",
    "print(f\"Time elapse for prediction : {time.perf_counter() - time_start}\")\n",
    "print(f\"Correct result : {labels_test[2]}\")\n",
    "print(f\"Predicted result : {result}\")"
   ]
  },
  {
   "cell_type": "code",
   "execution_count": 6,
   "id": "eff2733b",
   "metadata": {},
   "outputs": [],
   "source": [
    "# joblib.dump(svm_inst, 'model_svm_tcp_5detik.sav')\n",
    "# joblib.dump(sc, 'scaler_svm_tcp_5detik.save') "
   ]
  }
 ],
 "metadata": {
  "kernelspec": {
   "display_name": "Python 3 (ipykernel)",
   "language": "python",
   "name": "python3"
  },
  "language_info": {
   "codemirror_mode": {
    "name": "ipython",
    "version": 3
   },
   "file_extension": ".py",
   "mimetype": "text/x-python",
   "name": "python",
   "nbconvert_exporter": "python",
   "pygments_lexer": "ipython3",
   "version": "3.9.13"
  }
 },
 "nbformat": 4,
 "nbformat_minor": 5
}
