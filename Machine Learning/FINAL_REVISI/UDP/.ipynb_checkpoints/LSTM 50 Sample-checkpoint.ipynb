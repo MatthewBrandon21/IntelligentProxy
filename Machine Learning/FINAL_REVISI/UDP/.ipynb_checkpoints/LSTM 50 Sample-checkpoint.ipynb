{
 "cells": [
  {
   "cell_type": "code",
   "execution_count": 1,
   "id": "76fa329c",
   "metadata": {},
   "outputs": [],
   "source": [
    "import numpy as np\n",
    "import pandas as pd\n",
    "import matplotlib.pyplot as plt\n",
    "import seaborn as sns; sns.set()\n",
    "from keras.models import Sequential, load_model\n",
    "from keras.layers import Dense, LSTM, Bidirectional\n",
    "from keras.utils.np_utils import to_categorical\n",
    "from keras.utils import np_utils\n",
    "from keras.callbacks import ModelCheckpoint, EarlyStopping\n",
    "from sklearn.model_selection import train_test_split\n",
    "from sklearn.preprocessing import LabelEncoder, StandardScaler\n",
    "from sklearn.metrics import classification_report, confusion_matrix\n",
    "from sklearn.metrics import roc_auc_score\n",
    "import joblib\n",
    "\n",
    "import time\n",
    "from collections import Counter\n",
    "from imblearn.over_sampling import SMOTE\n",
    "from imblearn.under_sampling import RandomUnderSampler\n",
    "from imblearn.pipeline import Pipeline"
   ]
  },
  {
   "cell_type": "code",
   "execution_count": 2,
   "id": "d041644e",
   "metadata": {},
   "outputs": [],
   "source": [
    "data_normal_1 = pd.read_csv('dataset/timeseries/udp_dataset_timeseries_normal_1.csv')\n",
    "data_normal_2 = pd.read_csv('dataset/timeseries/udp_dataset_timeseries_normal_2.csv')\n",
    "data_normal_3 = pd.read_csv('dataset/timeseries/udp_dataset_timeseries_normal_3.csv')\n",
    "data_normal_4 = pd.read_csv('dataset/timeseries/udp_dataset_timeseries_normal_4.csv')\n",
    "\n",
    "data_normal_5 = pd.read_csv('dataset/timeseries/old/dataset_udp_timeseries_normal_1.csv')\n",
    "data_normal_6 = pd.read_csv('dataset/timeseries/old/dataset_udp_timeseries_normal_2.csv')\n",
    "data_normal_7 = pd.read_csv('dataset/timeseries/old/dataset_udp_timeseries_normal_3.csv')\n",
    "\n",
    "data_attack_1 = pd.read_csv('dataset/timeseries/udp_dataset_timeseries_attack_1.csv')\n",
    "data_attack_2 = pd.read_csv('dataset/timeseries/udp_dataset_timeseries_attack_2.csv')\n",
    "data_attack_3 = pd.read_csv('dataset/timeseries/udp_dataset_timeseries_attack_3.csv')\n",
    "\n",
    "data_attack_4 = pd.read_csv('dataset/timeseries/old/dataset_udp_timeseries_attack_1.csv')\n",
    "data_attack_5 = pd.read_csv('dataset/timeseries/old/dataset_udp_timeseries_attack_2.csv')"
   ]
  },
  {
   "cell_type": "code",
   "execution_count": 3,
   "id": "b0e9c85b",
   "metadata": {},
   "outputs": [],
   "source": [
    "data_normal_1.columns = ['port_src', 'len', 'chksum', 'payload_len', 'label']\n",
    "data_normal_2.columns = ['port_src', 'len', 'chksum', 'payload_len', 'label']\n",
    "data_normal_3.columns = ['port_src', 'len', 'chksum', 'payload_len', 'label']\n",
    "data_normal_4.columns = ['port_src', 'len', 'chksum', 'payload_len', 'label']\n",
    "\n",
    "data_normal_5.columns = ['timestamp', 'port_src', 'port_dest',\n",
    "       'len', 'chksum', 'payload_len', 'label']\n",
    "data_normal_6.columns = ['timestamp', 'port_src', 'port_dest',\n",
    "       'len', 'chksum', 'payload_len', 'label']\n",
    "data_normal_7.columns = ['timestamp', 'port_src', 'port_dest',\n",
    "       'len', 'chksum', 'payload_len', 'label']\n",
    "\n",
    "data_attack_1.columns = ['port_src', 'len', 'chksum', 'payload_len', 'label']\n",
    "data_attack_2.columns = ['port_src', 'len', 'chksum', 'payload_len', 'label']\n",
    "data_attack_3.columns = ['port_src', 'len', 'chksum', 'payload_len', 'label']\n",
    "\n",
    "data_attack_4.columns = ['timestamp', 'port_src', 'port_dest',\n",
    "       'len', 'chksum', 'payload_len', 'label']\n",
    "data_attack_5.columns = ['timestamp', 'port_src', 'port_dest',\n",
    "       'len', 'chksum', 'payload_len', 'label']"
   ]
  },
  {
   "cell_type": "code",
   "execution_count": 4,
   "id": "b3292744",
   "metadata": {},
   "outputs": [],
   "source": [
    "data_normal_5 = data_normal_5.drop(['timestamp', 'port_dest'],axis=1)\n",
    "data_normal_6 = data_normal_6.drop(['timestamp', 'port_dest'],axis=1)\n",
    "data_normal_7 = data_normal_7.drop(['timestamp', 'port_dest'],axis=1)\n",
    "\n",
    "data_attack_4 = data_attack_4.drop(['timestamp', 'port_dest'],axis=1)\n",
    "data_attack_5 = data_attack_5.drop(['timestamp', 'port_dest'],axis=1)"
   ]
  },
  {
   "cell_type": "code",
   "execution_count": 5,
   "id": "12aa93dc",
   "metadata": {},
   "outputs": [],
   "source": [
    "features = ['port_src', 'len', 'chksum', 'payload_len']"
   ]
  },
  {
   "cell_type": "code",
   "execution_count": 6,
   "id": "c3caaf52",
   "metadata": {},
   "outputs": [],
   "source": [
    "X_normal_1 = data_normal_1[features].values\n",
    "X_normal_2 = data_normal_2[features].values\n",
    "X_normal_3 = data_normal_3[features].values\n",
    "X_normal_4 = data_normal_4[features].values\n",
    "X_normal_5 = data_normal_5[features].values\n",
    "X_normal_6 = data_normal_6[features].values\n",
    "X_normal_7 = data_normal_7[features].values\n",
    "\n",
    "X_attack_1 = data_attack_1[features].values\n",
    "X_attack_2 = data_attack_2[features].values\n",
    "X_attack_3 = data_attack_3[features].values\n",
    "X_attack_4 = data_attack_4[features].values\n",
    "X_attack_5 = data_attack_5[features].values\n",
    "\n",
    "Y_normal_1 = data_normal_1['label']\n",
    "Y_normal_2 = data_normal_2['label']\n",
    "Y_normal_3 = data_normal_3['label']\n",
    "Y_normal_4 = data_normal_4['label']\n",
    "Y_normal_5 = data_normal_5['label']\n",
    "Y_normal_6 = data_normal_6['label']\n",
    "Y_normal_7 = data_normal_7['label']\n",
    "\n",
    "Y_attack_1 = data_attack_1['label']\n",
    "Y_attack_2 = data_attack_2['label']\n",
    "Y_attack_3 = data_attack_3['label']\n",
    "Y_attack_4 = data_attack_4['label']\n",
    "Y_attack_5 = data_attack_5['label']\n",
    "\n",
    "X=np.concatenate((X_normal_1,X_normal_2,X_normal_3,X_normal_4,X_normal_5,X_normal_6,X_normal_7,X_attack_1,X_attack_2,X_attack_3,X_attack_4,X_attack_5))\n",
    "Y=np.concatenate((Y_normal_1,Y_normal_2,Y_normal_3,Y_normal_4,Y_normal_5,Y_normal_6,Y_normal_7,Y_attack_1,Y_attack_2,Y_attack_3,Y_attack_4,Y_attack_5))"
   ]
  },
  {
   "cell_type": "code",
   "execution_count": 7,
   "id": "a21297c9",
   "metadata": {},
   "outputs": [
    {
     "name": "stdout",
     "output_type": "stream",
     "text": [
      "Counter({1: 113620, 0: 31688})\n"
     ]
    }
   ],
   "source": [
    "data_counter = Counter(Y)\n",
    "print(data_counter)"
   ]
  },
  {
   "cell_type": "code",
   "execution_count": 8,
   "id": "741cc249",
   "metadata": {},
   "outputs": [],
   "source": [
    "over = SMOTE()\n",
    "under = RandomUnderSampler()\n",
    "steps = [('o', over), ('u', under)]\n",
    "pipeline = Pipeline(steps=steps)\n",
    "X, Y = pipeline.fit_resample(X, Y)"
   ]
  },
  {
   "cell_type": "code",
   "execution_count": 9,
   "id": "409135a7",
   "metadata": {},
   "outputs": [
    {
     "name": "stdout",
     "output_type": "stream",
     "text": [
      "Counter({0: 113620, 1: 113620})\n"
     ]
    }
   ],
   "source": [
    "data_counter = Counter(Y)\n",
    "print(data_counter)"
   ]
  },
  {
   "cell_type": "code",
   "execution_count": 10,
   "id": "08f5daf5",
   "metadata": {},
   "outputs": [],
   "source": [
    "scalar = StandardScaler(copy=True, with_mean=True, with_std=True)\n",
    "scalar.fit(X)\n",
    "X = scalar.transform(X)"
   ]
  },
  {
   "cell_type": "code",
   "execution_count": 11,
   "id": "03fb017a",
   "metadata": {},
   "outputs": [
    {
     "name": "stdout",
     "output_type": "stream",
     "text": [
      "(227240, 4)\n",
      "(227240,)\n"
     ]
    }
   ],
   "source": [
    "print(np.shape(X))\n",
    "print(np.shape(Y))"
   ]
  },
  {
   "cell_type": "code",
   "execution_count": 12,
   "id": "9b543209",
   "metadata": {},
   "outputs": [],
   "source": [
    "features = len(X[0])\n",
    "samples = X.shape[0]\n",
    "train_len = 50\n",
    "input_len = samples - train_len\n",
    "I = np.zeros((samples - train_len, train_len, features))"
   ]
  },
  {
   "cell_type": "code",
   "execution_count": 13,
   "id": "4a802d89",
   "metadata": {},
   "outputs": [],
   "source": [
    "for i in range(input_len):\n",
    "    temp = np.zeros((train_len, features))\n",
    "    for j in range(i, i + train_len - 1):\n",
    "        temp[j-i] = X[j]\n",
    "    I[i] = temp"
   ]
  },
  {
   "cell_type": "code",
   "execution_count": 14,
   "id": "7668c3b1",
   "metadata": {},
   "outputs": [
    {
     "name": "stdout",
     "output_type": "stream",
     "text": [
      "(227190, 50, 4)\n"
     ]
    }
   ],
   "source": [
    "print(I.shape)"
   ]
  },
  {
   "cell_type": "code",
   "execution_count": 15,
   "id": "fde8f9e5",
   "metadata": {},
   "outputs": [],
   "source": [
    "X_train, X_test, Y_train, Y_test = train_test_split(I, Y[50:], test_size = 0.2, stratify=Y[50:], random_state = 0)"
   ]
  },
  {
   "cell_type": "code",
   "execution_count": 16,
   "id": "a5c0d100",
   "metadata": {},
   "outputs": [],
   "source": [
    "def create_baseline():\n",
    "    model = Sequential()\n",
    "    model.add(Bidirectional(LSTM(64, activation='tanh', kernel_regularizer='l2')))\n",
    "    model.add(Dense(128, activation = 'relu', kernel_regularizer='l2'))\n",
    "    model.add(Dense(1, activation = 'sigmoid', kernel_regularizer='l2'))\n",
    "    model.compile(loss = 'binary_crossentropy', optimizer = 'adam', metrics = ['accuracy'])\n",
    "    return model"
   ]
  },
  {
   "cell_type": "code",
   "execution_count": 17,
   "id": "6c6a82e8",
   "metadata": {},
   "outputs": [],
   "source": [
    "model = create_baseline()"
   ]
  },
  {
   "cell_type": "code",
   "execution_count": 18,
   "id": "c0187ab6",
   "metadata": {},
   "outputs": [
    {
     "name": "stdout",
     "output_type": "stream",
     "text": [
      "WARNING:tensorflow:`period` argument is deprecated. Please use `save_freq` to specify the frequency in number of batches seen.\n"
     ]
    }
   ],
   "source": [
    "checkpoint = ModelCheckpoint(\"LSTMmodel.h5\", monitor='val_loss', verbose=1, save_best_only=True, save_weights_only=False, mode='auto', period=1)\n",
    "early = EarlyStopping(monitor='val_loss', min_delta=0, patience=5, verbose=1, mode='auto')"
   ]
  },
  {
   "cell_type": "code",
   "execution_count": 19,
   "id": "6397598b",
   "metadata": {},
   "outputs": [
    {
     "name": "stdout",
     "output_type": "stream",
     "text": [
      "Epoch 1/20\n",
      "4544/4544 [==============================] - ETA: 0s - loss: 0.0784 - accuracy: 0.9953\n",
      "Epoch 00001: val_loss improved from inf to 0.03909, saving model to LSTMmodel.h5\n",
      "4544/4544 [==============================] - 57s 12ms/step - loss: 0.0784 - accuracy: 0.9953 - val_loss: 0.0391 - val_accuracy: 0.9985\n",
      "Epoch 2/20\n",
      "4543/4544 [============================>.] - ETA: 0s - loss: 0.0312 - accuracy: 0.9990\n",
      "Epoch 00002: val_loss improved from 0.03909 to 0.02280, saving model to LSTMmodel.h5\n",
      "4544/4544 [==============================] - 54s 12ms/step - loss: 0.0312 - accuracy: 0.9990 - val_loss: 0.0228 - val_accuracy: 1.0000\n",
      "Epoch 3/20\n",
      "4543/4544 [============================>.] - ETA: 0s - loss: 0.0310 - accuracy: 0.9991\n",
      "Epoch 00003: val_loss did not improve from 0.02280\n",
      "4544/4544 [==============================] - 59s 13ms/step - loss: 0.0310 - accuracy: 0.9991 - val_loss: 0.0239 - val_accuracy: 0.9996\n",
      "Epoch 4/20\n",
      "4540/4544 [============================>.] - ETA: 0s - loss: 0.0339 - accuracy: 0.9978\n",
      "Epoch 00004: val_loss did not improve from 0.02280\n",
      "4544/4544 [==============================] - 54s 12ms/step - loss: 0.0339 - accuracy: 0.9978 - val_loss: 0.0234 - val_accuracy: 0.9998\n",
      "Epoch 5/20\n",
      "4544/4544 [==============================] - ETA: 0s - loss: 0.0442 - accuracy: 0.9963\n",
      "Epoch 00005: val_loss did not improve from 0.02280\n",
      "4544/4544 [==============================] - 54s 12ms/step - loss: 0.0442 - accuracy: 0.9963 - val_loss: 0.0306 - val_accuracy: 0.9993\n",
      "Epoch 6/20\n",
      "4541/4544 [============================>.] - ETA: 0s - loss: 0.0286 - accuracy: 0.9994\n",
      "Epoch 00006: val_loss did not improve from 0.02280\n",
      "4544/4544 [==============================] - 54s 12ms/step - loss: 0.0286 - accuracy: 0.9994 - val_loss: 0.0234 - val_accuracy: 1.0000\n",
      "Epoch 7/20\n",
      "4540/4544 [============================>.] - ETA: 0s - loss: 0.0337 - accuracy: 0.9977\n",
      "Epoch 00007: val_loss did not improve from 0.02280\n",
      "4544/4544 [==============================] - 54s 12ms/step - loss: 0.0337 - accuracy: 0.9977 - val_loss: 0.0525 - val_accuracy: 0.9982\n",
      "Epoch 00007: early stopping\n"
     ]
    }
   ],
   "source": [
    "history = model.fit(X_train, Y_train, epochs = 20,validation_split=0.2, verbose = 1, callbacks=[checkpoint,early])"
   ]
  },
  {
   "cell_type": "code",
   "execution_count": 20,
   "id": "c295f029",
   "metadata": {},
   "outputs": [
    {
     "data": {
      "image/png": "[encoded data removed]",
      "text/plain": [
       "<Figure size 640x480 with 1 Axes>"
      ]
     },
     "metadata": {},
     "output_type": "display_data"
    }
   ],
   "source": [
    "# Plot training & validation accuracy values\n",
    "plt.plot(history.history['accuracy'])\n",
    "plt.plot(history.history['val_accuracy'])\n",
    "plt.title('BRNN Model Accuracy')\n",
    "plt.ylabel('Accuracy')\n",
    "plt.xlabel('Epoch')\n",
    "plt.legend(['Train', 'Test'], loc='lower right')\n",
    "plt.savefig('BRNN 500 Model Accuracy.png')\n",
    "plt.show()"
   ]
  },
  {
   "cell_type": "code",
   "execution_count": 21,
   "id": "efdefc2c",
   "metadata": {},
   "outputs": [
    {
     "data": {
      "image/png": "[encoded data removed]",
      "text/plain": [
       "<Figure size 640x480 with 1 Axes>"
      ]
     },
     "metadata": {},
     "output_type": "display_data"
    }
   ],
   "source": [
    "# Plot training & validation loss values\n",
    "plt.plot(history.history['loss'])\n",
    "plt.plot(history.history['val_loss'])\n",
    "plt.title('BRNN Model  Loss')\n",
    "plt.ylabel('Loss')\n",
    "plt.xlabel('Epoch')\n",
    "plt.legend(['Train', 'Test'], loc='upper left')\n",
    "plt.savefig('BRNN 50 Model Loss.png')\n",
    "plt.show()"
   ]
  },
  {
   "cell_type": "code",
   "execution_count": 22,
   "id": "a36fcb82",
   "metadata": {},
   "outputs": [
    {
     "name": "stdout",
     "output_type": "stream",
     "text": [
      "1420/1420 [==============================] - 6s 4ms/step\n"
     ]
    }
   ],
   "source": [
    "predict = model.predict(X_test, verbose=1)"
   ]
  },
  {
   "cell_type": "code",
   "execution_count": 23,
   "id": "51cbd9f6",
   "metadata": {},
   "outputs": [
    {
     "data": {
      "image/png": "[encoded data removed]",
      "text/plain": [
       "<Figure size 640x480 with 2 Axes>"
      ]
     },
     "metadata": {},
     "output_type": "display_data"
    }
   ],
   "source": [
    "tp = 0\n",
    "tn = 0\n",
    "fp = 0\n",
    "fn = 0\n",
    "predictn = predict.flatten().round()\n",
    "predictn = predictn.tolist()\n",
    "Y_testn = Y_test.tolist()\n",
    "for i in range(len(Y_testn)):\n",
    "  if predictn[i]==1 and Y_testn[i]==1:\n",
    "    tp+=1\n",
    "  elif predictn[i]==0 and Y_testn[i]==0:\n",
    "    tn+=1\n",
    "  elif predictn[i]==0 and Y_testn[i]==1:\n",
    "    fp+=1\n",
    "  elif predictn[i]==1 and Y_testn[i]==0:\n",
    "    fn+=1\n",
    "to_heat_map =[[tn,fp],[fn,tp]]\n",
    "to_heat_map = pd.DataFrame(to_heat_map, index = [\"Attack\",\"Normal\"],columns = [\"Attack\",\"Normal\"])\n",
    "ax = sns.heatmap(to_heat_map,annot=True, fmt=\"d\")"
   ]
  },
  {
   "cell_type": "code",
   "execution_count": 24,
   "id": "5477b51f",
   "metadata": {},
   "outputs": [],
   "source": [
    "figure = ax.get_figure()\n",
    "figure.savefig('confusion_matrix_BRNN_50.png', dpi=400)"
   ]
  },
  {
   "cell_type": "code",
   "execution_count": 25,
   "id": "42ecc926",
   "metadata": {},
   "outputs": [
    {
     "data": {
      "text/plain": [
       "['scaler_50.save']"
      ]
     },
     "execution_count": 25,
     "metadata": {},
     "output_type": "execute_result"
    }
   ],
   "source": [
    "model.save('brnn_model_50_step.h5')\n",
    "joblib.dump(scalar, 'scaler_50.save')"
   ]
  },
  {
   "cell_type": "code",
   "execution_count": 26,
   "id": "2a938888",
   "metadata": {},
   "outputs": [
    {
     "name": "stdout",
     "output_type": "stream",
     "text": [
      "accuracy: 99.82%\n"
     ]
    }
   ],
   "source": [
    "scores = model.evaluate(X_test, Y_test, verbose=0)\n",
    "print(\"%s: %.2f%%\" % (model.metrics_names[1], scores[1]*100))"
   ]
  },
  {
   "cell_type": "code",
   "execution_count": 27,
   "id": "c172e338",
   "metadata": {},
   "outputs": [
    {
     "name": "stdout",
     "output_type": "stream",
     "text": [
      "              precision    recall  f1-score   support\n",
      "\n",
      "           0       1.00      1.00      1.00     22714\n",
      "           1       1.00      1.00      1.00     22724\n",
      "\n",
      "    accuracy                           1.00     45438\n",
      "   macro avg       1.00      1.00      1.00     45438\n",
      "weighted avg       1.00      1.00      1.00     45438\n",
      "\n"
     ]
    }
   ],
   "source": [
    "print(classification_report(Y_testn,predictn))"
   ]
  },
  {
   "cell_type": "code",
   "execution_count": 28,
   "id": "d9db1966",
   "metadata": {},
   "outputs": [
    {
     "name": "stdout",
     "output_type": "stream",
     "text": [
      "SVM: ROC AUC=0.998\n"
     ]
    }
   ],
   "source": [
    "lr_auc = roc_auc_score(Y_testn, predictn)\n",
    "print('SVM: ROC AUC=%.3f' % (lr_auc))"
   ]
  },
  {
   "cell_type": "code",
   "execution_count": 29,
   "id": "9b4c4183",
   "metadata": {},
   "outputs": [
    {
     "name": "stdout",
     "output_type": "stream",
     "text": [
      "2/2 [==============================] - 0s 6ms/step\n",
      "Time elapse for prediction : 0.044568599999990965\n",
      "[[0.01272713]\n",
      " [0.01272713]\n",
      " [0.01272713]\n",
      " [0.01272713]\n",
      " [0.01274971]\n",
      " [0.01278098]\n",
      " [0.01278687]\n",
      " [0.0127899 ]\n",
      " [0.0128189 ]\n",
      " [0.01282242]\n",
      " [0.01282687]\n",
      " [0.01285952]\n",
      " [0.01289625]\n",
      " [0.01293953]\n",
      " [0.01294915]\n",
      " [0.0129911 ]\n",
      " [0.01300034]\n",
      " [0.01304451]\n",
      " [0.01304972]\n",
      " [0.01305283]\n",
      " [0.01305494]\n",
      " [0.01309565]\n",
      " [0.01309734]\n",
      " [0.01313769]\n",
      " [0.013186  ]\n",
      " [0.01318549]\n",
      " [0.01322949]\n",
      " [0.0132281 ]\n",
      " [0.01327098]\n",
      " [0.01325706]\n",
      " [0.01330051]\n",
      " [0.01329277]\n",
      " [0.01333069]\n",
      " [0.01331409]\n",
      " [0.013291  ]\n",
      " [0.01326415]\n",
      " [0.0132352 ]\n",
      " [0.01325789]\n",
      " [0.01328892]\n",
      " [0.01326649]\n",
      " [0.01323862]\n",
      " [0.01326234]\n",
      " [0.01323719]\n",
      " [0.01326263]\n",
      " [0.01329486]\n",
      " [0.01327214]\n",
      " [0.0132445 ]\n",
      " [0.01326963]\n",
      " [0.01324622]\n",
      " [0.01321988]]\n"
     ]
    }
   ],
   "source": [
    "time_start = time.perf_counter()\n",
    "predict = model.predict(I[:50], verbose=1)\n",
    "print(f\"Time elapse for prediction : {time.perf_counter() - time_start}\")\n",
    "print(predict)"
   ]
  },
  {
   "cell_type": "code",
   "execution_count": 30,
   "id": "8a3995ec",
   "metadata": {},
   "outputs": [
    {
     "name": "stdout",
     "output_type": "stream",
     "text": [
      "Model: \"sequential\"\n",
      "_________________________________________________________________\n",
      " Layer (type)                Output Shape              Param #   \n",
      "=================================================================\n",
      " bidirectional (Bidirectiona  (None, 128)              35328     \n",
      " l)                                                              \n",
      "                                                                 \n",
      " dense (Dense)               (None, 128)               16512     \n",
      "                                                                 \n",
      " dense_1 (Dense)             (None, 1)                 129       \n",
      "                                                                 \n",
      "=================================================================\n",
      "Total params: 51,969\n",
      "Trainable params: 51,969\n",
      "Non-trainable params: 0\n",
      "_________________________________________________________________\n"
     ]
    }
   ],
   "source": [
    "model.summary()"
   ]
  }
 ],
 "metadata": {
  "kernelspec": {
   "display_name": "Python 3 (ipykernel)",
   "language": "python",
   "name": "python3"
  },
  "language_info": {
   "codemirror_mode": {
    "name": "ipython",
    "version": 3
   },
   "file_extension": ".py",
   "mimetype": "text/x-python",
   "name": "python",
   "nbconvert_exporter": "python",
   "pygments_lexer": "ipython3",
   "version": "3.9.13"
  }
 },
 "nbformat": 4,
 "nbformat_minor": 5
}
