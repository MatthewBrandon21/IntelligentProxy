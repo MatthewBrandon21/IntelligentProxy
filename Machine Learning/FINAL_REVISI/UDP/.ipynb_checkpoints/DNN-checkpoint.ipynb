{
 "cells": [
  {
   "cell_type": "code",
   "execution_count": 1,
   "id": "9f780517",
   "metadata": {},
   "outputs": [],
   "source": [
    "import numpy as np\n",
    "import pandas as pd\n",
    "from matplotlib import pyplot as plt\n",
    "import seaborn as sns; sns.set()\n",
    "from keras.layers import Dense, Dropout\n",
    "from keras.models import Sequential\n",
    "from keras.models import load_model\n",
    "from keras.callbacks import ModelCheckpoint, EarlyStopping\n",
    "from tensorflow.keras.utils import to_categorical\n",
    "from sklearn.model_selection import train_test_split\n",
    "from sklearn.preprocessing import LabelEncoder, StandardScaler\n",
    "from sklearn.metrics import classification_report, confusion_matrix\n",
    "from sklearn.metrics import roc_auc_score\n",
    "import joblib\n",
    "import time\n",
    "from collections import Counter\n",
    "from imblearn.over_sampling import SMOTE\n",
    "from imblearn.under_sampling import RandomUnderSampler\n",
    "from imblearn.pipeline import Pipeline"
   ]
  },
  {
   "cell_type": "code",
   "execution_count": 2,
   "id": "5c265d83",
   "metadata": {},
   "outputs": [],
   "source": [
    "features, labels = [], []\n",
    "training_files = [\"dataset/individual/udp_dataset_individual_attack_1.csv\",\n",
    "                  \"dataset/individual/udp_dataset_individual_attack_2.csv\",\n",
    "                  \"dataset/individual/udp_dataset_individual_normal_1.csv\",\n",
    "                  \"dataset/individual/udp_dataset_individual_normal_2.csv\"]\n",
    "training_files_old = [\"dataset/individual/old/dataset_udp_attack_1.csv\",\n",
    "                  \"dataset/individual/old/dataset_udp_attack_2.csv\",\n",
    "                  \"dataset/individual/old/dataset_udp_normal_1.csv\",\n",
    "                  \"dataset/individual/old/dataset_udp_normal_2.csv\"]"
   ]
  },
  {
   "cell_type": "code",
   "execution_count": 3,
   "id": "33a79058",
   "metadata": {},
   "outputs": [],
   "source": [
    "def scrape_data():\n",
    "    global training_files\n",
    "    global features\n",
    "    global labels\n",
    "    \n",
    "    for fname in training_files:\n",
    "        meal = open(fname, \"rt\")\n",
    "        for line in meal:\n",
    "            data_list = line.rsplit(\",\")\n",
    "            if(len(data_list) != 8):\n",
    "                print(\"error data\")\n",
    "            else:\n",
    "                data_list[(len(data_list)-1)]=int(data_list[(len(data_list)-1)].replace('\\n', ''))\n",
    "                features.append(data_list[:(len(data_list)-1)])\n",
    "                labels.append(data_list[(len(data_list)-1)])\n",
    "        meal.close()\n",
    "    \n",
    "    for fname in training_files_old:\n",
    "        meal = open(fname, \"rt\")\n",
    "        for line in meal:\n",
    "            data_list = line.rsplit(\",\")\n",
    "            if(len(data_list) != 9):\n",
    "                print(\"error data\")\n",
    "            else:\n",
    "                data_list.pop(3)\n",
    "                data_list[(len(data_list)-1)]=int(data_list[(len(data_list)-1)].replace('\\n', ''))\n",
    "                features.append(data_list[:(len(data_list)-1)])\n",
    "                labels.append(data_list[(len(data_list)-1)])\n",
    "        meal.close()\n",
    "    \n",
    "    data_counter = Counter(labels)\n",
    "    print(data_counter)\n",
    "    \n",
    "    over = SMOTE()\n",
    "    under = RandomUnderSampler()\n",
    "    steps = [('o', over), ('u', under)]\n",
    "    pipeline = Pipeline(steps=steps)\n",
    "    features, labels = pipeline.fit_resample(features, labels)\n",
    "    \n",
    "    data_counter = Counter(labels)\n",
    "    print(data_counter)\n",
    "    \n",
    "    scalar = StandardScaler(copy=True, with_mean=True, with_std=True)\n",
    "    scalar.fit(features)\n",
    "    features = scalar.transform(features)\n",
    "    \n",
    "    features = np.array(features).astype(np.float64)\n",
    "    features = features.tolist()\n",
    "    \n",
    "    print(f\"Size of feature dataset : {len(features)}\")\n",
    "    print(f\"Size of feature dataset : {len(labels)}\")\n",
    "    print(\"Features first and last entries:\\n\\t\", end = \"\")\n",
    "    print(features[:1] + features[(len(features)-1):])\n",
    "    print(\"Labels first and last entries:\\n\\t\", end = \"\")\n",
    "    print(labels[:1] + labels[(len(features)-1):])\n",
    "    \n",
    "    features_train, features_test, labels_train, labels_test = train_test_split(features, labels, test_size = 0.20, stratify=labels, random_state = 0)\n",
    "    \n",
    "    return np.asarray(features_train), np.asarray(labels_train), np.asarray(features_test), np.asarray(labels_test)"
   ]
  },
  {
   "cell_type": "code",
   "execution_count": 4,
   "id": "9b84bae1",
   "metadata": {},
   "outputs": [],
   "source": [
    "def generate_model(shape):\n",
    "    model = Sequential()\n",
    "\n",
    "    model.add(Dense(256, input_dim=shape, kernel_initializer='uniform', activation='relu'))\n",
    "    model.add(Dropout(0.4))\n",
    "    model.add(Dense(128, activation='relu'))\n",
    "    model.add(Dropout(0.4))\n",
    "    model.add(Dense(64, activation='relu'))\n",
    "    model.add(Dropout(0.4))\n",
    "    model.add(Dense(32, activation='relu'))\n",
    "    model.add(Dropout(0.4))\n",
    "    model.add(Dense(1, activation='sigmoid'))\n",
    "    print(model.summary())\n",
    "\n",
    "    return model"
   ]
  },
  {
   "cell_type": "code",
   "execution_count": 5,
   "id": "d6ef0b01",
   "metadata": {},
   "outputs": [
    {
     "name": "stdout",
     "output_type": "stream",
     "text": [
      "Counter({0: 490, 1: 307})\n",
      "Counter({0: 490, 1: 490})\n",
      "Size of feature dataset : 980\n",
      "Size of feature dataset : 980\n",
      "Features first and last entries:\n",
      "\t[[-2.026968923594375, -0.4895954303224489, -0.7526198517251519, -0.3054047419741424, -0.8794274674165196, -0.3054047419741424, -0.8715672878992695], [0.6838232385073846, -0.4895954303224489, -0.7461943063574906, -0.3054047419741424, -0.8734375080059141, -0.3054047419741424, 0.01530713793494306]]\n",
      "Labels first and last entries:\n",
      "\t[0, 1]\n"
     ]
    },
    {
     "name": "stderr",
     "output_type": "stream",
     "text": [
      "C:\\Users\\H P VICTUS\\anaconda3\\lib\\site-packages\\sklearn\\utils\\validation.py:964: FutureWarning: Arrays of bytes/strings is being converted to decimal numbers if dtype='numeric'. This behavior is deprecated in 0.24 and will be removed in 1.1 (renaming of 0.26). Please convert your data to numeric values explicitly instead.\n",
      "  X = check_array(\n"
     ]
    }
   ],
   "source": [
    "data_train, label_train, data_eval, label_eval = scrape_data()"
   ]
  },
  {
   "cell_type": "code",
   "execution_count": 6,
   "id": "89771801",
   "metadata": {},
   "outputs": [
    {
     "name": "stdout",
     "output_type": "stream",
     "text": [
      "Model: \"sequential\"\n",
      "_________________________________________________________________\n",
      " Layer (type)                Output Shape              Param #   \n",
      "=================================================================\n",
      " dense (Dense)               (None, 256)               2048      \n",
      "                                                                 \n",
      " dropout (Dropout)           (None, 256)               0         \n",
      "                                                                 \n",
      " dense_1 (Dense)             (None, 128)               32896     \n",
      "                                                                 \n",
      " dropout_1 (Dropout)         (None, 128)               0         \n",
      "                                                                 \n",
      " dense_2 (Dense)             (None, 64)                8256      \n",
      "                                                                 \n",
      " dropout_2 (Dropout)         (None, 64)                0         \n",
      "                                                                 \n",
      " dense_3 (Dense)             (None, 32)                2080      \n",
      "                                                                 \n",
      " dropout_3 (Dropout)         (None, 32)                0         \n",
      "                                                                 \n",
      " dense_4 (Dense)             (None, 1)                 33        \n",
      "                                                                 \n",
      "=================================================================\n",
      "Total params: 45,313\n",
      "Trainable params: 45,313\n",
      "Non-trainable params: 0\n",
      "_________________________________________________________________\n",
      "None\n"
     ]
    }
   ],
   "source": [
    "model = generate_model(len(data_train[0]))"
   ]
  },
  {
   "cell_type": "code",
   "execution_count": 7,
   "id": "071ae79f",
   "metadata": {},
   "outputs": [
    {
     "name": "stdout",
     "output_type": "stream",
     "text": [
      "Model: \"sequential\"\n",
      "_________________________________________________________________\n",
      " Layer (type)                Output Shape              Param #   \n",
      "=================================================================\n",
      " dense (Dense)               (None, 256)               2048      \n",
      "                                                                 \n",
      " dropout (Dropout)           (None, 256)               0         \n",
      "                                                                 \n",
      " dense_1 (Dense)             (None, 128)               32896     \n",
      "                                                                 \n",
      " dropout_1 (Dropout)         (None, 128)               0         \n",
      "                                                                 \n",
      " dense_2 (Dense)             (None, 64)                8256      \n",
      "                                                                 \n",
      " dropout_2 (Dropout)         (None, 64)                0         \n",
      "                                                                 \n",
      " dense_3 (Dense)             (None, 32)                2080      \n",
      "                                                                 \n",
      " dropout_3 (Dropout)         (None, 32)                0         \n",
      "                                                                 \n",
      " dense_4 (Dense)             (None, 1)                 33        \n",
      "                                                                 \n",
      "=================================================================\n",
      "Total params: 45,313\n",
      "Trainable params: 45,313\n",
      "Non-trainable params: 0\n",
      "_________________________________________________________________\n"
     ]
    }
   ],
   "source": [
    "model.summary()"
   ]
  },
  {
   "cell_type": "code",
   "execution_count": 8,
   "id": "5e5b8b02",
   "metadata": {},
   "outputs": [],
   "source": [
    "model.compile(loss='binary_crossentropy', optimizer='adam', metrics=['accuracy'])"
   ]
  },
  {
   "cell_type": "code",
   "execution_count": 9,
   "id": "6c798507",
   "metadata": {},
   "outputs": [
    {
     "name": "stdout",
     "output_type": "stream",
     "text": [
      "WARNING:tensorflow:`period` argument is deprecated. Please use `save_freq` to specify the frequency in number of batches seen.\n"
     ]
    }
   ],
   "source": [
    "checkpoint = ModelCheckpoint(\"dnnModel.h5\", monitor='val_loss', verbose=1, save_best_only=True, save_weights_only=False, mode='auto', period=1)\n",
    "early = EarlyStopping(monitor='val_loss', min_delta=0, patience=30, verbose=1, mode='auto')"
   ]
  },
  {
   "cell_type": "code",
   "execution_count": 10,
   "id": "a7def03b",
   "metadata": {},
   "outputs": [
    {
     "name": "stdout",
     "output_type": "stream",
     "text": [
      "Epoch 1/100\n",
      "17/20 [========================>.....] - ETA: 0s - loss: 0.6198 - accuracy: 0.6195 \n",
      "Epoch 00001: val_loss improved from inf to 0.45720, saving model to dnnModel.h5\n",
      "20/20 [==============================] - 2s 10ms/step - loss: 0.6036 - accuracy: 0.6396 - val_loss: 0.4572 - val_accuracy: 0.8726\n",
      "Epoch 2/100\n",
      "18/20 [==========================>...] - ETA: 0s - loss: 0.4053 - accuracy: 0.8663\n",
      "Epoch 00002: val_loss improved from 0.45720 to 0.32146, saving model to dnnModel.h5\n",
      "20/20 [==============================] - 0s 5ms/step - loss: 0.3983 - accuracy: 0.8708 - val_loss: 0.3215 - val_accuracy: 0.8662\n",
      "Epoch 3/100\n",
      "19/20 [===========================>..] - ETA: 0s - loss: 0.2807 - accuracy: 0.8914\n",
      "Epoch 00003: val_loss improved from 0.32146 to 0.23851, saving model to dnnModel.h5\n",
      "20/20 [==============================] - 0s 5ms/step - loss: 0.2835 - accuracy: 0.8915 - val_loss: 0.2385 - val_accuracy: 0.8981\n",
      "Epoch 4/100\n",
      "19/20 [===========================>..] - ETA: 0s - loss: 0.2181 - accuracy: 0.9062\n",
      "Epoch 00004: val_loss did not improve from 0.23851\n",
      "20/20 [==============================] - 0s 4ms/step - loss: 0.2176 - accuracy: 0.9059 - val_loss: 0.2394 - val_accuracy: 0.8917\n",
      "Epoch 5/100\n",
      "20/20 [==============================] - ETA: 0s - loss: 0.1912 - accuracy: 0.9187\n",
      "Epoch 00005: val_loss did not improve from 0.23851\n",
      "20/20 [==============================] - 0s 4ms/step - loss: 0.1912 - accuracy: 0.9187 - val_loss: 0.2558 - val_accuracy: 0.8726\n",
      "Epoch 6/100\n",
      "20/20 [==============================] - ETA: 0s - loss: 0.1891 - accuracy: 0.9219\n",
      "Epoch 00006: val_loss improved from 0.23851 to 0.22795, saving model to dnnModel.h5\n",
      "20/20 [==============================] - 0s 6ms/step - loss: 0.1891 - accuracy: 0.9219 - val_loss: 0.2280 - val_accuracy: 0.9045\n",
      "Epoch 7/100\n",
      "19/20 [===========================>..] - ETA: 0s - loss: 0.1718 - accuracy: 0.9375\n",
      "Epoch 00007: val_loss did not improve from 0.22795\n",
      "20/20 [==============================] - 0s 4ms/step - loss: 0.1747 - accuracy: 0.9378 - val_loss: 0.2324 - val_accuracy: 0.9045\n",
      "Epoch 8/100\n",
      "18/20 [==========================>...] - ETA: 0s - loss: 0.1721 - accuracy: 0.9444\n",
      "Epoch 00008: val_loss did not improve from 0.22795\n",
      "20/20 [==============================] - 0s 4ms/step - loss: 0.1694 - accuracy: 0.9442 - val_loss: 0.2344 - val_accuracy: 0.8981\n",
      "Epoch 9/100\n",
      "16/20 [=======================>......] - ETA: 0s - loss: 0.1683 - accuracy: 0.9355\n",
      "Epoch 00009: val_loss improved from 0.22795 to 0.22621, saving model to dnnModel.h5\n",
      "20/20 [==============================] - 0s 6ms/step - loss: 0.1545 - accuracy: 0.9442 - val_loss: 0.2262 - val_accuracy: 0.9236\n",
      "Epoch 10/100\n",
      "18/20 [==========================>...] - ETA: 0s - loss: 0.1603 - accuracy: 0.9410\n",
      "Epoch 00010: val_loss improved from 0.22621 to 0.22195, saving model to dnnModel.h5\n",
      "20/20 [==============================] - 0s 5ms/step - loss: 0.1598 - accuracy: 0.9442 - val_loss: 0.2220 - val_accuracy: 0.9236\n",
      "Epoch 11/100\n",
      "18/20 [==========================>...] - ETA: 0s - loss: 0.1496 - accuracy: 0.9410\n",
      "Epoch 00011: val_loss did not improve from 0.22195\n",
      "20/20 [==============================] - 0s 4ms/step - loss: 0.1505 - accuracy: 0.9442 - val_loss: 0.2236 - val_accuracy: 0.9108\n",
      "Epoch 12/100\n",
      " 1/20 [>.............................] - ETA: 0s - loss: 0.1211 - accuracy: 0.9688\n",
      "Epoch 00012: val_loss improved from 0.22195 to 0.22080, saving model to dnnModel.h5\n",
      "20/20 [==============================] - 0s 6ms/step - loss: 0.1563 - accuracy: 0.9490 - val_loss: 0.2208 - val_accuracy: 0.9172\n",
      "Epoch 13/100\n",
      "18/20 [==========================>...] - ETA: 0s - loss: 0.1473 - accuracy: 0.9427\n",
      "Epoch 00013: val_loss improved from 0.22080 to 0.21167, saving model to dnnModel.h5\n",
      "20/20 [==============================] - 0s 9ms/step - loss: 0.1424 - accuracy: 0.9474 - val_loss: 0.2117 - val_accuracy: 0.9108\n",
      "Epoch 14/100\n",
      "16/20 [=======================>......] - ETA: 0s - loss: 0.1208 - accuracy: 0.9492\n",
      "Epoch 00014: val_loss did not improve from 0.21167\n",
      "20/20 [==============================] - 0s 5ms/step - loss: 0.1419 - accuracy: 0.9426 - val_loss: 0.2206 - val_accuracy: 0.9172\n",
      "Epoch 15/100\n",
      "16/20 [=======================>......] - ETA: 0s - loss: 0.1461 - accuracy: 0.9512\n",
      "Epoch 00015: val_loss did not improve from 0.21167\n",
      "20/20 [==============================] - 0s 5ms/step - loss: 0.1361 - accuracy: 0.9553 - val_loss: 0.2246 - val_accuracy: 0.9108\n",
      "Epoch 16/100\n",
      "16/20 [=======================>......] - ETA: 0s - loss: 0.1334 - accuracy: 0.9473\n",
      "Epoch 00016: val_loss did not improve from 0.21167\n",
      "20/20 [==============================] - 0s 5ms/step - loss: 0.1288 - accuracy: 0.9474 - val_loss: 0.2210 - val_accuracy: 0.9172\n",
      "Epoch 17/100\n",
      "16/20 [=======================>......] - ETA: 0s - loss: 0.1358 - accuracy: 0.9434\n",
      "Epoch 00017: val_loss did not improve from 0.21167\n",
      "20/20 [==============================] - 0s 5ms/step - loss: 0.1256 - accuracy: 0.9490 - val_loss: 0.2144 - val_accuracy: 0.9172\n",
      "Epoch 18/100\n",
      "15/20 [=====================>........] - ETA: 0s - loss: 0.1320 - accuracy: 0.9500\n",
      "Epoch 00018: val_loss improved from 0.21167 to 0.20908, saving model to dnnModel.h5\n",
      "20/20 [==============================] - 0s 6ms/step - loss: 0.1276 - accuracy: 0.9537 - val_loss: 0.2091 - val_accuracy: 0.9172\n",
      "Epoch 19/100\n",
      "18/20 [==========================>...] - ETA: 0s - loss: 0.1205 - accuracy: 0.9566\n",
      "Epoch 00019: val_loss improved from 0.20908 to 0.20601, saving model to dnnModel.h5\n",
      "20/20 [==============================] - 0s 6ms/step - loss: 0.1162 - accuracy: 0.9569 - val_loss: 0.2060 - val_accuracy: 0.9172\n",
      "Epoch 20/100\n",
      "16/20 [=======================>......] - ETA: 0s - loss: 0.0947 - accuracy: 0.9688\n",
      "Epoch 00020: val_loss did not improve from 0.20601\n",
      "20/20 [==============================] - 0s 5ms/step - loss: 0.1098 - accuracy: 0.9633 - val_loss: 0.2132 - val_accuracy: 0.9172\n",
      "Epoch 21/100\n",
      "15/20 [=====================>........] - ETA: 0s - loss: 0.1034 - accuracy: 0.9563\n",
      "Epoch 00021: val_loss improved from 0.20601 to 0.20129, saving model to dnnModel.h5\n",
      "20/20 [==============================] - 0s 8ms/step - loss: 0.1008 - accuracy: 0.9601 - val_loss: 0.2013 - val_accuracy: 0.9490\n",
      "Epoch 22/100\n",
      "16/20 [=======================>......] - ETA: 0s - loss: 0.1083 - accuracy: 0.9668\n",
      "Epoch 00022: val_loss did not improve from 0.20129\n",
      "20/20 [==============================] - 0s 5ms/step - loss: 0.1042 - accuracy: 0.9665 - val_loss: 0.2139 - val_accuracy: 0.9172\n",
      "Epoch 23/100\n",
      "16/20 [=======================>......] - ETA: 0s - loss: 0.1196 - accuracy: 0.9590\n",
      "Epoch 00023: val_loss improved from 0.20129 to 0.18727, saving model to dnnModel.h5\n",
      "20/20 [==============================] - 0s 7ms/step - loss: 0.1116 - accuracy: 0.9585 - val_loss: 0.1873 - val_accuracy: 0.9490\n",
      "Epoch 24/100\n",
      "14/20 [====================>.........] - ETA: 0s - loss: 0.0884 - accuracy: 0.9732\n",
      "Epoch 00024: val_loss did not improve from 0.18727\n",
      "20/20 [==============================] - 0s 6ms/step - loss: 0.0976 - accuracy: 0.9745 - val_loss: 0.2025 - val_accuracy: 0.9299\n",
      "Epoch 25/100\n",
      "15/20 [=====================>........] - ETA: 0s - loss: 0.0916 - accuracy: 0.9708\n",
      "Epoch 00025: val_loss did not improve from 0.18727\n",
      "20/20 [==============================] - 0s 5ms/step - loss: 0.1004 - accuracy: 0.9713 - val_loss: 0.1895 - val_accuracy: 0.9490\n",
      "Epoch 26/100\n",
      "16/20 [=======================>......] - ETA: 0s - loss: 0.1092 - accuracy: 0.9707\n",
      "Epoch 00026: val_loss improved from 0.18727 to 0.18159, saving model to dnnModel.h5\n",
      "20/20 [==============================] - 0s 6ms/step - loss: 0.0967 - accuracy: 0.9745 - val_loss: 0.1816 - val_accuracy: 0.9490\n",
      "Epoch 27/100\n",
      "15/20 [=====================>........] - ETA: 0s - loss: 0.0761 - accuracy: 0.9771\n",
      "Epoch 00027: val_loss did not improve from 0.18159\n",
      "20/20 [==============================] - 0s 6ms/step - loss: 0.0818 - accuracy: 0.9777 - val_loss: 0.2330 - val_accuracy: 0.9427\n",
      "Epoch 28/100\n",
      "16/20 [=======================>......] - ETA: 0s - loss: 0.1024 - accuracy: 0.9648\n",
      "Epoch 00028: val_loss did not improve from 0.18159\n",
      "20/20 [==============================] - 0s 5ms/step - loss: 0.0963 - accuracy: 0.9665 - val_loss: 0.1878 - val_accuracy: 0.9236\n",
      "Epoch 29/100\n"
     ]
    },
    {
     "name": "stdout",
     "output_type": "stream",
     "text": [
      "16/20 [=======================>......] - ETA: 0s - loss: 0.0897 - accuracy: 0.9746\n",
      "Epoch 00029: val_loss improved from 0.18159 to 0.17149, saving model to dnnModel.h5\n",
      "20/20 [==============================] - 0s 7ms/step - loss: 0.1053 - accuracy: 0.9729 - val_loss: 0.1715 - val_accuracy: 0.9490\n",
      "Epoch 30/100\n",
      "18/20 [==========================>...] - ETA: 0s - loss: 0.1069 - accuracy: 0.9774\n",
      "Epoch 00030: val_loss improved from 0.17149 to 0.16221, saving model to dnnModel.h5\n",
      "20/20 [==============================] - 0s 6ms/step - loss: 0.1025 - accuracy: 0.9793 - val_loss: 0.1622 - val_accuracy: 0.9490\n",
      "Epoch 31/100\n",
      "20/20 [==============================] - ETA: 0s - loss: 0.0927 - accuracy: 0.9665\n",
      "Epoch 00031: val_loss did not improve from 0.16221\n",
      "20/20 [==============================] - 0s 4ms/step - loss: 0.0927 - accuracy: 0.9665 - val_loss: 0.1633 - val_accuracy: 0.9490\n",
      "Epoch 32/100\n",
      "19/20 [===========================>..] - ETA: 0s - loss: 0.0880 - accuracy: 0.9753\n",
      "Epoch 00032: val_loss did not improve from 0.16221\n",
      "20/20 [==============================] - 0s 5ms/step - loss: 0.0866 - accuracy: 0.9761 - val_loss: 0.1741 - val_accuracy: 0.9490\n",
      "Epoch 33/100\n",
      "16/20 [=======================>......] - ETA: 0s - loss: 0.0908 - accuracy: 0.9707\n",
      "Epoch 00033: val_loss improved from 0.16221 to 0.16105, saving model to dnnModel.h5\n",
      "20/20 [==============================] - 0s 6ms/step - loss: 0.0821 - accuracy: 0.9713 - val_loss: 0.1611 - val_accuracy: 0.9490\n",
      "Epoch 34/100\n",
      "17/20 [========================>.....] - ETA: 0s - loss: 0.0987 - accuracy: 0.9706\n",
      "Epoch 00034: val_loss did not improve from 0.16105\n",
      "20/20 [==============================] - 0s 5ms/step - loss: 0.0889 - accuracy: 0.9745 - val_loss: 0.1632 - val_accuracy: 0.9490\n",
      "Epoch 35/100\n",
      "17/20 [========================>.....] - ETA: 0s - loss: 0.0698 - accuracy: 0.9779\n",
      "Epoch 00035: val_loss did not improve from 0.16105\n",
      "20/20 [==============================] - 0s 5ms/step - loss: 0.0867 - accuracy: 0.9729 - val_loss: 0.1833 - val_accuracy: 0.9490\n",
      "Epoch 36/100\n",
      "18/20 [==========================>...] - ETA: 0s - loss: 0.0877 - accuracy: 0.9774\n",
      "Epoch 00036: val_loss improved from 0.16105 to 0.16063, saving model to dnnModel.h5\n",
      "20/20 [==============================] - 0s 6ms/step - loss: 0.0837 - accuracy: 0.9793 - val_loss: 0.1606 - val_accuracy: 0.9490\n",
      "Epoch 37/100\n",
      "19/20 [===========================>..] - ETA: 0s - loss: 0.0720 - accuracy: 0.9704\n",
      "Epoch 00037: val_loss did not improve from 0.16063\n",
      "20/20 [==============================] - 0s 4ms/step - loss: 0.0766 - accuracy: 0.9697 - val_loss: 0.1782 - val_accuracy: 0.9490\n",
      "Epoch 38/100\n",
      "17/20 [========================>.....] - ETA: 0s - loss: 0.0692 - accuracy: 0.9871\n",
      "Epoch 00038: val_loss did not improve from 0.16063\n",
      "20/20 [==============================] - 0s 4ms/step - loss: 0.0728 - accuracy: 0.9856 - val_loss: 0.1859 - val_accuracy: 0.9490\n",
      "Epoch 39/100\n",
      "16/20 [=======================>......] - ETA: 0s - loss: 0.0738 - accuracy: 0.9707\n",
      "Epoch 00039: val_loss did not improve from 0.16063\n",
      "20/20 [==============================] - 0s 5ms/step - loss: 0.0732 - accuracy: 0.9729 - val_loss: 0.1779 - val_accuracy: 0.9490\n",
      "Epoch 40/100\n",
      "18/20 [==========================>...] - ETA: 0s - loss: 0.0653 - accuracy: 0.9774\n",
      "Epoch 00040: val_loss did not improve from 0.16063\n",
      "20/20 [==============================] - 0s 5ms/step - loss: 0.0725 - accuracy: 0.9745 - val_loss: 0.1764 - val_accuracy: 0.9490\n",
      "Epoch 41/100\n",
      "18/20 [==========================>...] - ETA: 0s - loss: 0.0871 - accuracy: 0.9705\n",
      "Epoch 00041: val_loss did not improve from 0.16063\n",
      "20/20 [==============================] - 0s 4ms/step - loss: 0.0817 - accuracy: 0.9729 - val_loss: 0.1729 - val_accuracy: 0.9490\n",
      "Epoch 42/100\n",
      "18/20 [==========================>...] - ETA: 0s - loss: 0.0772 - accuracy: 0.9722\n",
      "Epoch 00042: val_loss did not improve from 0.16063\n",
      "20/20 [==============================] - 0s 4ms/step - loss: 0.0739 - accuracy: 0.9745 - val_loss: 0.1665 - val_accuracy: 0.9490\n",
      "Epoch 43/100\n",
      "16/20 [=======================>......] - ETA: 0s - loss: 0.0673 - accuracy: 0.9805\n",
      "Epoch 00043: val_loss did not improve from 0.16063\n",
      "20/20 [==============================] - 0s 5ms/step - loss: 0.0706 - accuracy: 0.9761 - val_loss: 0.1731 - val_accuracy: 0.9490\n",
      "Epoch 44/100\n",
      "17/20 [========================>.....] - ETA: 0s - loss: 0.0729 - accuracy: 0.9835\n",
      "Epoch 00044: val_loss did not improve from 0.16063\n",
      "20/20 [==============================] - 0s 5ms/step - loss: 0.0684 - accuracy: 0.9841 - val_loss: 0.1728 - val_accuracy: 0.9490\n",
      "Epoch 45/100\n",
      "16/20 [=======================>......] - ETA: 0s - loss: 0.0801 - accuracy: 0.9766\n",
      "Epoch 00045: val_loss did not improve from 0.16063\n",
      "20/20 [==============================] - 0s 6ms/step - loss: 0.0773 - accuracy: 0.9777 - val_loss: 0.1841 - val_accuracy: 0.9490\n",
      "Epoch 46/100\n",
      "14/20 [====================>.........] - ETA: 0s - loss: 0.0815 - accuracy: 0.9732\n",
      "Epoch 00046: val_loss did not improve from 0.16063\n",
      "20/20 [==============================] - 0s 6ms/step - loss: 0.0676 - accuracy: 0.9777 - val_loss: 0.1696 - val_accuracy: 0.9490\n",
      "Epoch 47/100\n",
      "16/20 [=======================>......] - ETA: 0s - loss: 0.0564 - accuracy: 0.9805\n",
      "Epoch 00047: val_loss did not improve from 0.16063\n",
      "20/20 [==============================] - 0s 5ms/step - loss: 0.0662 - accuracy: 0.9745 - val_loss: 0.2457 - val_accuracy: 0.9427\n",
      "Epoch 48/100\n",
      "17/20 [========================>.....] - ETA: 0s - loss: 0.1050 - accuracy: 0.9651\n",
      "Epoch 00048: val_loss did not improve from 0.16063\n",
      "20/20 [==============================] - 0s 5ms/step - loss: 0.0998 - accuracy: 0.9665 - val_loss: 0.2344 - val_accuracy: 0.9427\n",
      "Epoch 49/100\n",
      "18/20 [==========================>...] - ETA: 0s - loss: 0.0727 - accuracy: 0.9705\n",
      "Epoch 00049: val_loss did not improve from 0.16063\n",
      "20/20 [==============================] - 0s 4ms/step - loss: 0.0692 - accuracy: 0.9729 - val_loss: 0.1667 - val_accuracy: 0.9490\n",
      "Epoch 50/100\n",
      "16/20 [=======================>......] - ETA: 0s - loss: 0.0730 - accuracy: 0.9707\n",
      "Epoch 00050: val_loss improved from 0.16063 to 0.15455, saving model to dnnModel.h5\n",
      "20/20 [==============================] - 0s 7ms/step - loss: 0.0809 - accuracy: 0.9713 - val_loss: 0.1545 - val_accuracy: 0.9490\n",
      "Epoch 51/100\n",
      "19/20 [===========================>..] - ETA: 0s - loss: 0.0751 - accuracy: 0.9786\n",
      "Epoch 00051: val_loss did not improve from 0.15455\n",
      "20/20 [==============================] - 0s 5ms/step - loss: 0.0731 - accuracy: 0.9793 - val_loss: 0.1566 - val_accuracy: 0.9490\n",
      "Epoch 52/100\n",
      "17/20 [========================>.....] - ETA: 0s - loss: 0.0675 - accuracy: 0.9743\n",
      "Epoch 00052: val_loss did not improve from 0.15455\n",
      "20/20 [==============================] - 0s 5ms/step - loss: 0.0631 - accuracy: 0.9777 - val_loss: 0.1595 - val_accuracy: 0.9490\n",
      "Epoch 53/100\n",
      "19/20 [===========================>..] - ETA: 0s - loss: 0.0695 - accuracy: 0.9803\n",
      "Epoch 00053: val_loss did not improve from 0.15455\n",
      "20/20 [==============================] - 0s 4ms/step - loss: 0.0679 - accuracy: 0.9809 - val_loss: 0.1609 - val_accuracy: 0.9490\n",
      "Epoch 54/100\n",
      "17/20 [========================>.....] - ETA: 0s - loss: 0.0852 - accuracy: 0.9761\n",
      "Epoch 00054: val_loss improved from 0.15455 to 0.15355, saving model to dnnModel.h5\n",
      "20/20 [==============================] - 0s 6ms/step - loss: 0.0806 - accuracy: 0.9777 - val_loss: 0.1536 - val_accuracy: 0.9490\n",
      "Epoch 55/100\n",
      "18/20 [==========================>...] - ETA: 0s - loss: 0.0664 - accuracy: 0.9809\n",
      "Epoch 00055: val_loss did not improve from 0.15355\n",
      "20/20 [==============================] - 0s 5ms/step - loss: 0.0642 - accuracy: 0.9809 - val_loss: 0.1632 - val_accuracy: 0.9490\n",
      "Epoch 56/100\n",
      "19/20 [===========================>..] - ETA: 0s - loss: 0.0708 - accuracy: 0.9770\n",
      "Epoch 00056: val_loss did not improve from 0.15355\n",
      "20/20 [==============================] - 0s 5ms/step - loss: 0.0731 - accuracy: 0.9761 - val_loss: 0.1771 - val_accuracy: 0.9490\n",
      "Epoch 57/100\n",
      "18/20 [==========================>...] - ETA: 0s - loss: 0.0775 - accuracy: 0.9722\n",
      "Epoch 00057: val_loss did not improve from 0.15355\n",
      "20/20 [==============================] - 0s 5ms/step - loss: 0.0759 - accuracy: 0.9729 - val_loss: 0.1540 - val_accuracy: 0.9427\n",
      "Epoch 58/100\n"
     ]
    },
    {
     "name": "stdout",
     "output_type": "stream",
     "text": [
      "16/20 [=======================>......] - ETA: 0s - loss: 0.0755 - accuracy: 0.9727\n",
      "Epoch 00058: val_loss did not improve from 0.15355\n",
      "20/20 [==============================] - 0s 5ms/step - loss: 0.0705 - accuracy: 0.9745 - val_loss: 0.1629 - val_accuracy: 0.9490\n",
      "Epoch 59/100\n",
      "17/20 [========================>.....] - ETA: 0s - loss: 0.0690 - accuracy: 0.9779\n",
      "Epoch 00059: val_loss did not improve from 0.15355\n",
      "20/20 [==============================] - 0s 5ms/step - loss: 0.0724 - accuracy: 0.9777 - val_loss: 0.1605 - val_accuracy: 0.9490\n",
      "Epoch 60/100\n",
      "15/20 [=====================>........] - ETA: 0s - loss: 0.0866 - accuracy: 0.9750\n",
      "Epoch 00060: val_loss did not improve from 0.15355\n",
      "20/20 [==============================] - 0s 5ms/step - loss: 0.0784 - accuracy: 0.9761 - val_loss: 0.1628 - val_accuracy: 0.9490\n",
      "Epoch 61/100\n",
      "16/20 [=======================>......] - ETA: 0s - loss: 0.0647 - accuracy: 0.9688\n",
      "Epoch 00061: val_loss did not improve from 0.15355\n",
      "20/20 [==============================] - 0s 5ms/step - loss: 0.0867 - accuracy: 0.9649 - val_loss: 0.1650 - val_accuracy: 0.9490\n",
      "Epoch 62/100\n",
      "17/20 [========================>.....] - ETA: 0s - loss: 0.0609 - accuracy: 0.9835\n",
      "Epoch 00062: val_loss did not improve from 0.15355\n",
      "20/20 [==============================] - 0s 5ms/step - loss: 0.0690 - accuracy: 0.9793 - val_loss: 0.1744 - val_accuracy: 0.9490\n",
      "Epoch 63/100\n",
      "18/20 [==========================>...] - ETA: 0s - loss: 0.0633 - accuracy: 0.9757\n",
      "Epoch 00063: val_loss did not improve from 0.15355\n",
      "20/20 [==============================] - 0s 5ms/step - loss: 0.0702 - accuracy: 0.9745 - val_loss: 0.1822 - val_accuracy: 0.9490\n",
      "Epoch 64/100\n",
      "14/20 [====================>.........] - ETA: 0s - loss: 0.0847 - accuracy: 0.9732\n",
      "Epoch 00064: val_loss improved from 0.15355 to 0.13928, saving model to dnnModel.h5\n",
      "20/20 [==============================] - 0s 7ms/step - loss: 0.0835 - accuracy: 0.9729 - val_loss: 0.1393 - val_accuracy: 0.9554\n",
      "Epoch 65/100\n",
      "17/20 [========================>.....] - ETA: 0s - loss: 0.0819 - accuracy: 0.9798\n",
      "Epoch 00065: val_loss did not improve from 0.13928\n",
      "20/20 [==============================] - 0s 5ms/step - loss: 0.0823 - accuracy: 0.9777 - val_loss: 0.1422 - val_accuracy: 0.9554\n",
      "Epoch 66/100\n",
      "18/20 [==========================>...] - ETA: 0s - loss: 0.0710 - accuracy: 0.9757\n",
      "Epoch 00066: val_loss did not improve from 0.13928\n",
      "20/20 [==============================] - 0s 4ms/step - loss: 0.0677 - accuracy: 0.9777 - val_loss: 0.1580 - val_accuracy: 0.9490\n",
      "Epoch 67/100\n",
      "17/20 [========================>.....] - ETA: 0s - loss: 0.0683 - accuracy: 0.9761\n",
      "Epoch 00067: val_loss did not improve from 0.13928\n",
      "20/20 [==============================] - 0s 5ms/step - loss: 0.0712 - accuracy: 0.9761 - val_loss: 0.1541 - val_accuracy: 0.9554\n",
      "Epoch 68/100\n",
      "16/20 [=======================>......] - ETA: 0s - loss: 0.0738 - accuracy: 0.9727\n",
      "Epoch 00068: val_loss did not improve from 0.13928\n",
      "20/20 [==============================] - 0s 5ms/step - loss: 0.0672 - accuracy: 0.9761 - val_loss: 0.1630 - val_accuracy: 0.9490\n",
      "Epoch 69/100\n",
      "16/20 [=======================>......] - ETA: 0s - loss: 0.0617 - accuracy: 0.9805\n",
      "Epoch 00069: val_loss did not improve from 0.13928\n",
      "20/20 [==============================] - 0s 5ms/step - loss: 0.0661 - accuracy: 0.9777 - val_loss: 0.1583 - val_accuracy: 0.9490\n",
      "Epoch 70/100\n",
      "17/20 [========================>.....] - ETA: 0s - loss: 0.0682 - accuracy: 0.9779\n",
      "Epoch 00070: val_loss did not improve from 0.13928\n",
      "20/20 [==============================] - 0s 5ms/step - loss: 0.0653 - accuracy: 0.9793 - val_loss: 0.1632 - val_accuracy: 0.9490\n",
      "Epoch 71/100\n",
      "16/20 [=======================>......] - ETA: 0s - loss: 0.0872 - accuracy: 0.9785\n",
      "Epoch 00071: val_loss did not improve from 0.13928\n",
      "20/20 [==============================] - 0s 5ms/step - loss: 0.0837 - accuracy: 0.9777 - val_loss: 0.4336 - val_accuracy: 0.9427\n",
      "Epoch 72/100\n",
      "16/20 [=======================>......] - ETA: 0s - loss: 0.0914 - accuracy: 0.9805\n",
      "Epoch 00072: val_loss did not improve from 0.13928\n",
      "20/20 [==============================] - 0s 5ms/step - loss: 0.0981 - accuracy: 0.9761 - val_loss: 0.1732 - val_accuracy: 0.9490\n",
      "Epoch 73/100\n",
      "17/20 [========================>.....] - ETA: 0s - loss: 0.0700 - accuracy: 0.9743\n",
      "Epoch 00073: val_loss did not improve from 0.13928\n",
      "20/20 [==============================] - 0s 5ms/step - loss: 0.0742 - accuracy: 0.9745 - val_loss: 0.1647 - val_accuracy: 0.9427\n",
      "Epoch 74/100\n",
      "17/20 [========================>.....] - ETA: 0s - loss: 0.0728 - accuracy: 0.9761\n",
      "Epoch 00074: val_loss did not improve from 0.13928\n",
      "20/20 [==============================] - 0s 5ms/step - loss: 0.0699 - accuracy: 0.9777 - val_loss: 0.1574 - val_accuracy: 0.9554\n",
      "Epoch 75/100\n",
      "17/20 [========================>.....] - ETA: 0s - loss: 0.0607 - accuracy: 0.9835\n",
      "Epoch 00075: val_loss did not improve from 0.13928\n",
      "20/20 [==============================] - 0s 5ms/step - loss: 0.0581 - accuracy: 0.9841 - val_loss: 0.1557 - val_accuracy: 0.9554\n",
      "Epoch 76/100\n",
      "16/20 [=======================>......] - ETA: 0s - loss: 0.0809 - accuracy: 0.9688\n",
      "Epoch 00076: val_loss did not improve from 0.13928\n",
      "20/20 [==============================] - 0s 5ms/step - loss: 0.0762 - accuracy: 0.9713 - val_loss: 0.1579 - val_accuracy: 0.9490\n",
      "Epoch 77/100\n",
      "16/20 [=======================>......] - ETA: 0s - loss: 0.0685 - accuracy: 0.9805\n",
      "Epoch 00077: val_loss did not improve from 0.13928\n",
      "20/20 [==============================] - 0s 5ms/step - loss: 0.0726 - accuracy: 0.9777 - val_loss: 0.1848 - val_accuracy: 0.9490\n",
      "Epoch 78/100\n",
      "13/20 [==================>...........] - ETA: 0s - loss: 0.0689 - accuracy: 0.9760\n",
      "Epoch 00078: val_loss did not improve from 0.13928\n",
      "20/20 [==============================] - 0s 7ms/step - loss: 0.0812 - accuracy: 0.9761 - val_loss: 0.1474 - val_accuracy: 0.9490\n",
      "Epoch 79/100\n",
      "16/20 [=======================>......] - ETA: 0s - loss: 0.0579 - accuracy: 0.9766\n",
      "Epoch 00079: val_loss did not improve from 0.13928\n",
      "20/20 [==============================] - 0s 5ms/step - loss: 0.0642 - accuracy: 0.9777 - val_loss: 0.1566 - val_accuracy: 0.9490\n",
      "Epoch 80/100\n",
      "17/20 [========================>.....] - ETA: 0s - loss: 0.0638 - accuracy: 0.9779\n",
      "Epoch 00080: val_loss did not improve from 0.13928\n",
      "20/20 [==============================] - 0s 5ms/step - loss: 0.0632 - accuracy: 0.9777 - val_loss: 0.1540 - val_accuracy: 0.9554\n",
      "Epoch 81/100\n",
      "16/20 [=======================>......] - ETA: 0s - loss: 0.0519 - accuracy: 0.9844\n",
      "Epoch 00081: val_loss did not improve from 0.13928\n",
      "20/20 [==============================] - 0s 5ms/step - loss: 0.0612 - accuracy: 0.9825 - val_loss: 0.1552 - val_accuracy: 0.9554\n",
      "Epoch 82/100\n",
      "17/20 [========================>.....] - ETA: 0s - loss: 0.0615 - accuracy: 0.9798\n",
      "Epoch 00082: val_loss did not improve from 0.13928\n",
      "20/20 [==============================] - 0s 5ms/step - loss: 0.0590 - accuracy: 0.9809 - val_loss: 0.1606 - val_accuracy: 0.9490\n",
      "Epoch 83/100\n",
      "17/20 [========================>.....] - ETA: 0s - loss: 0.0551 - accuracy: 0.9835\n",
      "Epoch 00083: val_loss did not improve from 0.13928\n",
      "20/20 [==============================] - 0s 5ms/step - loss: 0.0595 - accuracy: 0.9809 - val_loss: 0.1617 - val_accuracy: 0.9554\n",
      "Epoch 84/100\n",
      "18/20 [==========================>...] - ETA: 0s - loss: 0.0564 - accuracy: 0.9792\n",
      "Epoch 00084: val_loss did not improve from 0.13928\n",
      "20/20 [==============================] - 0s 5ms/step - loss: 0.0565 - accuracy: 0.9793 - val_loss: 0.1675 - val_accuracy: 0.9554\n",
      "Epoch 85/100\n",
      "17/20 [========================>.....] - ETA: 0s - loss: 0.0652 - accuracy: 0.9779\n",
      "Epoch 00085: val_loss did not improve from 0.13928\n",
      "20/20 [==============================] - 0s 5ms/step - loss: 0.0597 - accuracy: 0.9793 - val_loss: 0.1569 - val_accuracy: 0.9554\n",
      "Epoch 86/100\n",
      "19/20 [===========================>..] - ETA: 0s - loss: 0.0572 - accuracy: 0.9852\n",
      "Epoch 00086: val_loss did not improve from 0.13928\n",
      "20/20 [==============================] - 0s 4ms/step - loss: 0.0628 - accuracy: 0.9825 - val_loss: 0.1520 - val_accuracy: 0.9554\n",
      "Epoch 87/100\n",
      "17/20 [========================>.....] - ETA: 0s - loss: 0.0441 - accuracy: 0.9853\n",
      "Epoch 00087: val_loss did not improve from 0.13928\n",
      "20/20 [==============================] - 0s 5ms/step - loss: 0.0524 - accuracy: 0.9825 - val_loss: 0.1873 - val_accuracy: 0.9490\n"
     ]
    },
    {
     "name": "stdout",
     "output_type": "stream",
     "text": [
      "Epoch 88/100\n",
      "17/20 [========================>.....] - ETA: 0s - loss: 0.0581 - accuracy: 0.9853\n",
      "Epoch 00088: val_loss did not improve from 0.13928\n",
      "20/20 [==============================] - 0s 5ms/step - loss: 0.0644 - accuracy: 0.9841 - val_loss: 0.1754 - val_accuracy: 0.9554\n",
      "Epoch 89/100\n",
      "17/20 [========================>.....] - ETA: 0s - loss: 0.0707 - accuracy: 0.9761\n",
      "Epoch 00089: val_loss did not improve from 0.13928\n",
      "20/20 [==============================] - 0s 5ms/step - loss: 0.0660 - accuracy: 0.9777 - val_loss: 0.1657 - val_accuracy: 0.9490\n",
      "Epoch 90/100\n",
      "17/20 [========================>.....] - ETA: 0s - loss: 0.0671 - accuracy: 0.9798\n",
      "Epoch 00090: val_loss did not improve from 0.13928\n",
      "20/20 [==============================] - 0s 5ms/step - loss: 0.0649 - accuracy: 0.9809 - val_loss: 0.1671 - val_accuracy: 0.9554\n",
      "Epoch 91/100\n",
      "16/20 [=======================>......] - ETA: 0s - loss: 0.0740 - accuracy: 0.9785\n",
      "Epoch 00091: val_loss did not improve from 0.13928\n",
      "20/20 [==============================] - 0s 5ms/step - loss: 0.0649 - accuracy: 0.9825 - val_loss: 0.1667 - val_accuracy: 0.9490\n",
      "Epoch 92/100\n",
      "17/20 [========================>.....] - ETA: 0s - loss: 0.0655 - accuracy: 0.9816\n",
      "Epoch 00092: val_loss did not improve from 0.13928\n",
      "20/20 [==============================] - 0s 5ms/step - loss: 0.0700 - accuracy: 0.9777 - val_loss: 0.1639 - val_accuracy: 0.9490\n",
      "Epoch 93/100\n",
      "17/20 [========================>.....] - ETA: 0s - loss: 0.0596 - accuracy: 0.9816\n",
      "Epoch 00093: val_loss did not improve from 0.13928\n",
      "20/20 [==============================] - 0s 5ms/step - loss: 0.0556 - accuracy: 0.9841 - val_loss: 0.1782 - val_accuracy: 0.9490\n",
      "Epoch 94/100\n",
      "17/20 [========================>.....] - ETA: 0s - loss: 0.0556 - accuracy: 0.9835\n",
      "Epoch 00094: val_loss did not improve from 0.13928\n",
      "20/20 [==============================] - 0s 5ms/step - loss: 0.0524 - accuracy: 0.9856 - val_loss: 0.1781 - val_accuracy: 0.9490\n",
      "Epoch 00094: early stopping\n"
     ]
    }
   ],
   "source": [
    "history = model.fit(data_train, label_train, validation_split=0.2, epochs=100, verbose = 1, callbacks=[checkpoint,early])"
   ]
  },
  {
   "cell_type": "code",
   "execution_count": 11,
   "id": "ab63c0a3",
   "metadata": {},
   "outputs": [
    {
     "data": {
      "image/png": "[encoded data removed]",
      "text/plain": [
       "<Figure size 640x480 with 1 Axes>"
      ]
     },
     "metadata": {},
     "output_type": "display_data"
    }
   ],
   "source": [
    "# Plot training & validation accuracy values\n",
    "plt.plot(history.history['accuracy'])\n",
    "plt.plot(history.history['val_accuracy'])\n",
    "plt.title('BRNN Model Accuracy')\n",
    "plt.ylabel('Accuracy')\n",
    "plt.xlabel('Epoch')\n",
    "plt.legend(['Train', 'Test'], loc='lower right')\n",
    "# plt.savefig('BRNN 200 Model Accuracy.png')\n",
    "plt.show()"
   ]
  },
  {
   "cell_type": "code",
   "execution_count": 12,
   "id": "04277965",
   "metadata": {},
   "outputs": [
    {
     "data": {
      "image/png": "[encoded data removed]",
      "text/plain": [
       "<Figure size 640x480 with 1 Axes>"
      ]
     },
     "metadata": {},
     "output_type": "display_data"
    }
   ],
   "source": [
    "# Plot training & validation loss values\n",
    "plt.plot(history.history['loss'])\n",
    "plt.plot(history.history['val_loss'])\n",
    "plt.title('BRNN Model  Loss')\n",
    "plt.ylabel('Loss')\n",
    "plt.xlabel('Epoch')\n",
    "plt.legend(['Train', 'Test'], loc='upper left')\n",
    "# plt.savefig('BRNN 200 Model Loss.png')\n",
    "plt.show()"
   ]
  },
  {
   "cell_type": "code",
   "execution_count": 13,
   "id": "cfcc8675",
   "metadata": {},
   "outputs": [
    {
     "name": "stdout",
     "output_type": "stream",
     "text": [
      "7/7 [==============================] - 0s 3ms/step\n"
     ]
    }
   ],
   "source": [
    "predict = model.predict(data_eval, verbose=1)"
   ]
  },
  {
   "cell_type": "code",
   "execution_count": 14,
   "id": "3b485068",
   "metadata": {},
   "outputs": [
    {
     "data": {
      "image/png": "[encoded data removed]",
      "text/plain": [
       "<Figure size 640x480 with 2 Axes>"
      ]
     },
     "metadata": {},
     "output_type": "display_data"
    }
   ],
   "source": [
    "tp = 0\n",
    "tn = 0\n",
    "fp = 0\n",
    "fn = 0\n",
    "predictn = predict.flatten().round()\n",
    "predictn = predictn.tolist()\n",
    "Y_testn = label_eval.tolist()\n",
    "for i in range(len(Y_testn)):\n",
    "  if predictn[i]==1 and Y_testn[i]==1:\n",
    "    tp+=1\n",
    "  elif predictn[i]==0 and Y_testn[i]==0:\n",
    "    tn+=1\n",
    "  elif predictn[i]==0 and Y_testn[i]==1:\n",
    "    fp+=1\n",
    "  elif predictn[i]==1 and Y_testn[i]==0:\n",
    "    fn+=1\n",
    "to_heat_map =[[tn,fp],[fn,tp]]\n",
    "to_heat_map = pd.DataFrame(to_heat_map, index = [\"Attack\",\"Normal\"],columns = [\"Attack\",\"Normal\"])\n",
    "ax = sns.heatmap(to_heat_map,annot=True, fmt=\"d\")"
   ]
  },
  {
   "cell_type": "code",
   "execution_count": 15,
   "id": "0f64d323",
   "metadata": {},
   "outputs": [
    {
     "name": "stdout",
     "output_type": "stream",
     "text": [
      "7/7 [==============================] - 0s 2ms/step - loss: 0.0397 - accuracy: 0.9898\n",
      "accuracy: 98.98%\n"
     ]
    }
   ],
   "source": [
    "scores = model.evaluate(data_eval, label_eval)\n",
    "print(\"%s: %.2f%%\" % (model.metrics_names[1], scores[1]*100))"
   ]
  },
  {
   "cell_type": "code",
   "execution_count": 16,
   "id": "8355540c",
   "metadata": {},
   "outputs": [
    {
     "name": "stdout",
     "output_type": "stream",
     "text": [
      "              precision    recall  f1-score   support\n",
      "\n",
      "           0       0.98      1.00      0.99        98\n",
      "           1       1.00      0.98      0.99        98\n",
      "\n",
      "    accuracy                           0.99       196\n",
      "   macro avg       0.99      0.99      0.99       196\n",
      "weighted avg       0.99      0.99      0.99       196\n",
      "\n"
     ]
    }
   ],
   "source": [
    "print(classification_report(Y_testn,predictn))"
   ]
  },
  {
   "cell_type": "code",
   "execution_count": 17,
   "id": "6b1e5995",
   "metadata": {},
   "outputs": [
    {
     "name": "stdout",
     "output_type": "stream",
     "text": [
      "SVM: ROC AUC=0.990\n"
     ]
    }
   ],
   "source": [
    "lr_auc = roc_auc_score(Y_testn, predictn)\n",
    "print('SVM: ROC AUC=%.3f' % (lr_auc))"
   ]
  },
  {
   "cell_type": "code",
   "execution_count": 18,
   "id": "9e9ffd90",
   "metadata": {},
   "outputs": [
    {
     "name": "stdout",
     "output_type": "stream",
     "text": [
      "1/1 [==============================] - 0s 20ms/step\n",
      "Time elapse for prediction : 0.048193699999998785\n",
      "[[1.]]\n"
     ]
    }
   ],
   "source": [
    "time_start = time.perf_counter()\n",
    "predict = model.predict(data_eval[:1], verbose=1)\n",
    "print(f\"Time elapse for prediction : {time.perf_counter() - time_start}\")\n",
    "print(predict)"
   ]
  },
  {
   "cell_type": "code",
   "execution_count": null,
   "id": "fe718f7a",
   "metadata": {},
   "outputs": [],
   "source": []
  }
 ],
 "metadata": {
  "kernelspec": {
   "display_name": "Python 3 (ipykernel)",
   "language": "python",
   "name": "python3"
  },
  "language_info": {
   "codemirror_mode": {
    "name": "ipython",
    "version": 3
   },
   "file_extension": ".py",
   "mimetype": "text/x-python",
   "name": "python",
   "nbconvert_exporter": "python",
   "pygments_lexer": "ipython3",
   "version": "3.9.13"
  }
 },
 "nbformat": 4,
 "nbformat_minor": 5
}
