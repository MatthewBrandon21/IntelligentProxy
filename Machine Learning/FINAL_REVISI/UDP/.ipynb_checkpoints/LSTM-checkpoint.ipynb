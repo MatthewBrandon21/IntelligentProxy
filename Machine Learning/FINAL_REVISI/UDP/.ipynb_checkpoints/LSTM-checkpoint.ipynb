{
 "cells": [
  {
   "cell_type": "code",
   "execution_count": 1,
   "id": "76fa329c",
   "metadata": {},
   "outputs": [],
   "source": [
    "import numpy as np\n",
    "import pandas as pd\n",
    "import matplotlib.pyplot as plt\n",
    "import seaborn as sns; sns.set()\n",
    "from keras.models import Sequential, load_model\n",
    "from keras.layers import Dense, LSTM, Bidirectional\n",
    "from keras.utils.np_utils import to_categorical\n",
    "from keras.utils import np_utils\n",
    "from keras.callbacks import ModelCheckpoint, EarlyStopping\n",
    "from sklearn.model_selection import train_test_split\n",
    "from sklearn.preprocessing import LabelEncoder, StandardScaler\n",
    "from sklearn.metrics import classification_report, confusion_matrix\n",
    "from sklearn.metrics import roc_auc_score\n",
    "import joblib\n",
    "\n",
    "import time\n",
    "from collections import Counter\n",
    "from imblearn.over_sampling import SMOTE\n",
    "from imblearn.under_sampling import RandomUnderSampler\n",
    "from imblearn.pipeline import Pipeline"
   ]
  },
  {
   "cell_type": "code",
   "execution_count": 2,
   "id": "4cbbc4f7",
   "metadata": {},
   "outputs": [],
   "source": [
    "def StringToBytes(data):\n",
    "    sum = 0\n",
    "    arrbytes = bytes(data, 'utf-8')\n",
    "    for i in arrbytes:\n",
    "        sum = sum + i\n",
    "    return(sum)"
   ]
  },
  {
   "cell_type": "code",
   "execution_count": 3,
   "id": "d041644e",
   "metadata": {},
   "outputs": [],
   "source": [
    "data_normal_1 = pd.read_csv('dataset/timeseries/udp_dataset_timeseries_normal_1.csv')\n",
    "data_normal_2 = pd.read_csv('dataset/timeseries/udp_dataset_timeseries_normal_2.csv')\n",
    "data_normal_3 = pd.read_csv('dataset/timeseries/udp_dataset_timeseries_normal_3.csv')\n",
    "data_normal_4 = pd.read_csv('dataset/timeseries/udp_dataset_timeseries_normal_4.csv')\n",
    "\n",
    "data_normal_5 = pd.read_csv('dataset/timeseries/old/dataset_udp_timeseries_normal_1.csv')\n",
    "data_normal_6 = pd.read_csv('dataset/timeseries/old/dataset_udp_timeseries_normal_2.csv')\n",
    "data_normal_7 = pd.read_csv('dataset/timeseries/old/dataset_udp_timeseries_normal_3.csv')\n",
    "\n",
    "data_attack_1 = pd.read_csv('dataset/timeseries/udp_dataset_timeseries_attack_1.csv')\n",
    "data_attack_2 = pd.read_csv('dataset/timeseries/udp_dataset_timeseries_attack_2.csv')\n",
    "data_attack_3 = pd.read_csv('dataset/timeseries/udp_dataset_timeseries_attack_3.csv')\n",
    "\n",
    "data_attack_4 = pd.read_csv('dataset/timeseries/old/dataset_udp_timeseries_attack_1.csv')\n",
    "data_attack_5 = pd.read_csv('dataset/timeseries/old/dataset_udp_timeseries_attack_2.csv')"
   ]
  },
  {
   "cell_type": "code",
   "execution_count": 4,
   "id": "b0e9c85b",
   "metadata": {},
   "outputs": [],
   "source": [
    "data_normal_1.columns = ['port_src', 'len', 'chksum', 'payload_len', 'label']\n",
    "data_normal_2.columns = ['port_src', 'len', 'chksum', 'payload_len', 'label']\n",
    "data_normal_3.columns = ['port_src', 'len', 'chksum', 'payload_len', 'label']\n",
    "data_normal_4.columns = ['port_src', 'len', 'chksum', 'payload_len', 'label']\n",
    "\n",
    "data_normal_5.columns = ['timestamp', 'port_src', 'port_dest',\n",
    "       'len', 'chksum', 'payload_len', 'label']\n",
    "data_normal_6.columns = ['timestamp', 'port_src', 'port_dest',\n",
    "       'len', 'chksum', 'payload_len', 'label']\n",
    "data_normal_7.columns = ['timestamp', 'port_src', 'port_dest',\n",
    "       'len', 'chksum', 'payload_len', 'label']\n",
    "\n",
    "data_attack_1.columns = ['port_src', 'len', 'chksum', 'payload_len', 'label']\n",
    "data_attack_2.columns = ['port_src', 'len', 'chksum', 'payload_len', 'label']\n",
    "data_attack_3.columns = ['port_src', 'len', 'chksum', 'payload_len', 'label']\n",
    "\n",
    "data_attack_4.columns = ['timestamp', 'port_src', 'port_dest',\n",
    "       'len', 'chksum', 'payload_len', 'label']\n",
    "data_attack_5.columns = ['timestamp', 'port_src', 'port_dest',\n",
    "       'len', 'chksum', 'payload_len', 'label']"
   ]
  },
  {
   "cell_type": "code",
   "execution_count": 5,
   "id": "b3292744",
   "metadata": {},
   "outputs": [],
   "source": [
    "data_normal_5 = data_normal_5.drop(['timestamp', 'port_dest'],axis=1)\n",
    "data_normal_6 = data_normal_6.drop(['timestamp', 'port_dest'],axis=1)\n",
    "data_normal_7 = data_normal_7.drop(['timestamp', 'port_dest'],axis=1)\n",
    "\n",
    "data_attack_4 = data_attack_4.drop(['timestamp', 'port_dest'],axis=1)\n",
    "data_attack_5 = data_attack_5.drop(['timestamp', 'port_dest'],axis=1)"
   ]
  },
  {
   "cell_type": "code",
   "execution_count": 6,
   "id": "12aa93dc",
   "metadata": {},
   "outputs": [],
   "source": [
    "features = ['port_src', 'len', 'chksum', 'payload_len']"
   ]
  },
  {
   "cell_type": "code",
   "execution_count": 7,
   "id": "c3caaf52",
   "metadata": {},
   "outputs": [],
   "source": [
    "X_normal_1 = data_normal_1[features].values\n",
    "X_normal_2 = data_normal_2[features].values\n",
    "X_normal_3 = data_normal_3[features].values\n",
    "X_normal_4 = data_normal_4[features].values\n",
    "X_normal_5 = data_normal_5[features].values\n",
    "X_normal_6 = data_normal_6[features].values\n",
    "X_normal_7 = data_normal_7[features].values\n",
    "\n",
    "X_attack_1 = data_attack_1[features].values\n",
    "X_attack_2 = data_attack_2[features].values\n",
    "X_attack_3 = data_attack_3[features].values\n",
    "X_attack_4 = data_attack_4[features].values\n",
    "X_attack_5 = data_attack_5[features].values\n",
    "\n",
    "Y_normal_1 = data_normal_1['label']\n",
    "Y_normal_2 = data_normal_2['label']\n",
    "Y_normal_3 = data_normal_3['label']\n",
    "Y_normal_4 = data_normal_4['label']\n",
    "Y_normal_5 = data_normal_5['label']\n",
    "Y_normal_6 = data_normal_6['label']\n",
    "Y_normal_7 = data_normal_7['label']\n",
    "\n",
    "Y_attack_1 = data_attack_1['label']\n",
    "Y_attack_2 = data_attack_2['label']\n",
    "Y_attack_3 = data_attack_3['label']\n",
    "Y_attack_4 = data_attack_4['label']\n",
    "Y_attack_5 = data_attack_5['label']\n",
    "\n",
    "X=np.concatenate((X_normal_1,X_normal_2,X_normal_3,X_normal_4,X_normal_5,X_normal_6,X_normal_7,X_attack_1,X_attack_2,X_attack_3,X_attack_4,X_attack_5))\n",
    "Y=np.concatenate((Y_normal_1,Y_normal_2,Y_normal_3,Y_normal_4,Y_normal_5,Y_normal_6,Y_normal_7,Y_attack_1,Y_attack_2,Y_attack_3,Y_attack_4,Y_attack_5))"
   ]
  },
  {
   "cell_type": "code",
   "execution_count": 8,
   "id": "a21297c9",
   "metadata": {},
   "outputs": [
    {
     "name": "stdout",
     "output_type": "stream",
     "text": [
      "Counter({1: 113620, 0: 31688})\n"
     ]
    }
   ],
   "source": [
    "data_counter = Counter(Y)\n",
    "print(data_counter)"
   ]
  },
  {
   "cell_type": "code",
   "execution_count": 9,
   "id": "741cc249",
   "metadata": {},
   "outputs": [],
   "source": [
    "over = SMOTE()\n",
    "under = RandomUnderSampler()\n",
    "steps = [('o', over), ('u', under)]\n",
    "pipeline = Pipeline(steps=steps)\n",
    "X, Y = pipeline.fit_resample(X, Y)"
   ]
  },
  {
   "cell_type": "code",
   "execution_count": 10,
   "id": "409135a7",
   "metadata": {},
   "outputs": [
    {
     "name": "stdout",
     "output_type": "stream",
     "text": [
      "Counter({0: 113620, 1: 113620})\n"
     ]
    }
   ],
   "source": [
    "data_counter = Counter(Y)\n",
    "print(data_counter)"
   ]
  },
  {
   "cell_type": "code",
   "execution_count": 11,
   "id": "08f5daf5",
   "metadata": {},
   "outputs": [],
   "source": [
    "scalar = StandardScaler(copy=True, with_mean=True, with_std=True)\n",
    "scalar.fit(X)\n",
    "X = scalar.transform(X)"
   ]
  },
  {
   "cell_type": "code",
   "execution_count": 12,
   "id": "03fb017a",
   "metadata": {},
   "outputs": [
    {
     "name": "stdout",
     "output_type": "stream",
     "text": [
      "(227240, 4)\n",
      "(227240,)\n"
     ]
    }
   ],
   "source": [
    "print(np.shape(X))\n",
    "print(np.shape(Y))"
   ]
  },
  {
   "cell_type": "code",
   "execution_count": 13,
   "id": "9b543209",
   "metadata": {},
   "outputs": [],
   "source": [
    "features = len(X[0])\n",
    "samples = X.shape[0]\n",
    "train_len = 200\n",
    "input_len = samples - train_len\n",
    "I = np.zeros((samples - train_len, train_len, features))"
   ]
  },
  {
   "cell_type": "code",
   "execution_count": 14,
   "id": "4a802d89",
   "metadata": {},
   "outputs": [],
   "source": [
    "for i in range(input_len):\n",
    "    temp = np.zeros((train_len, features))\n",
    "    for j in range(i, i + train_len - 1):\n",
    "        temp[j-i] = X[j]\n",
    "    I[i] = temp"
   ]
  },
  {
   "cell_type": "code",
   "execution_count": 15,
   "id": "7668c3b1",
   "metadata": {},
   "outputs": [
    {
     "name": "stdout",
     "output_type": "stream",
     "text": [
      "(227040, 200, 4)\n"
     ]
    }
   ],
   "source": [
    "print(I.shape)"
   ]
  },
  {
   "cell_type": "code",
   "execution_count": 16,
   "id": "fde8f9e5",
   "metadata": {},
   "outputs": [],
   "source": [
    "X_train, X_test, Y_train, Y_test = train_test_split(I, Y[200:], test_size = 0.2, stratify=Y[200:], random_state = 0)"
   ]
  },
  {
   "cell_type": "code",
   "execution_count": 17,
   "id": "a5c0d100",
   "metadata": {},
   "outputs": [],
   "source": [
    "def create_baseline():\n",
    "    model = Sequential()\n",
    "    model.add(Bidirectional(LSTM(64, activation='tanh', kernel_regularizer='l2')))\n",
    "    model.add(Dense(128, activation = 'relu', kernel_regularizer='l2'))\n",
    "    model.add(Dense(1, activation = 'sigmoid', kernel_regularizer='l2'))\n",
    "    model.compile(loss = 'binary_crossentropy', optimizer = 'adam', metrics = ['accuracy'])\n",
    "    return model"
   ]
  },
  {
   "cell_type": "code",
   "execution_count": 18,
   "id": "6c6a82e8",
   "metadata": {},
   "outputs": [],
   "source": [
    "model = create_baseline()"
   ]
  },
  {
   "cell_type": "code",
   "execution_count": 19,
   "id": "6e010d07",
   "metadata": {},
   "outputs": [
    {
     "name": "stdout",
     "output_type": "stream",
     "text": [
      "WARNING:tensorflow:`period` argument is deprecated. Please use `save_freq` to specify the frequency in number of batches seen.\n"
     ]
    }
   ],
   "source": [
    "checkpoint = ModelCheckpoint(\"LSTMmodel.h5\", monitor='val_loss', verbose=1, save_best_only=True, save_weights_only=False, mode='auto', period=1)\n",
    "early = EarlyStopping(monitor='val_loss', min_delta=0, patience=5, verbose=1, mode='auto')"
   ]
  },
  {
   "cell_type": "code",
   "execution_count": 20,
   "id": "6397598b",
   "metadata": {},
   "outputs": [
    {
     "name": "stdout",
     "output_type": "stream",
     "text": [
      "Epoch 1/30\n",
      "4540/4541 [============================>.] - ETA: 0s - loss: 0.1444 - accuracy: 0.9735\n",
      "Epoch 00001: val_loss improved from inf to 0.04091, saving model to LSTMmodel.h5\n",
      "4541/4541 [==============================] - 128s 27ms/step - loss: 0.1444 - accuracy: 0.9735 - val_loss: 0.0409 - val_accuracy: 0.9998\n",
      "Epoch 2/30\n",
      "4541/4541 [==============================] - ETA: 0s - loss: 0.0439 - accuracy: 0.9979\n",
      "Epoch 00002: val_loss improved from 0.04091 to 0.02941, saving model to LSTMmodel.h5\n",
      "4541/4541 [==============================] - 114s 25ms/step - loss: 0.0439 - accuracy: 0.9979 - val_loss: 0.0294 - val_accuracy: 0.9997\n",
      "Epoch 3/30\n",
      "4541/4541 [==============================] - ETA: 0s - loss: 0.0361 - accuracy: 0.9978\n",
      "Epoch 00003: val_loss did not improve from 0.02941\n",
      "4541/4541 [==============================] - 111s 25ms/step - loss: 0.0361 - accuracy: 0.9978 - val_loss: 0.0305 - val_accuracy: 0.9998\n",
      "Epoch 4/30\n",
      "4541/4541 [==============================] - ETA: 0s - loss: 0.0554 - accuracy: 0.9907\n",
      "Epoch 00004: val_loss did not improve from 0.02941\n",
      "4541/4541 [==============================] - 111s 25ms/step - loss: 0.0554 - accuracy: 0.9907 - val_loss: 0.0359 - val_accuracy: 0.9998\n",
      "Epoch 5/30\n",
      "4539/4541 [============================>.] - ETA: 0s - loss: 0.0718 - accuracy: 0.9918\n",
      "Epoch 00005: val_loss did not improve from 0.02941\n",
      "4541/4541 [==============================] - 112s 25ms/step - loss: 0.0718 - accuracy: 0.9918 - val_loss: 0.0473 - val_accuracy: 0.9993\n",
      "Epoch 6/30\n",
      "4540/4541 [============================>.] - ETA: 0s - loss: 0.0474 - accuracy: 0.9968\n",
      "Epoch 00006: val_loss did not improve from 0.02941\n",
      "4541/4541 [==============================] - 112s 25ms/step - loss: 0.0476 - accuracy: 0.9967 - val_loss: 0.1649 - val_accuracy: 0.9881\n",
      "Epoch 7/30\n",
      "4539/4541 [============================>.] - ETA: 0s - loss: 0.0399 - accuracy: 0.9979\n",
      "Epoch 00007: val_loss did not improve from 0.02941\n",
      "4541/4541 [==============================] - 111s 24ms/step - loss: 0.0399 - accuracy: 0.9979 - val_loss: 0.0306 - val_accuracy: 0.9995\n",
      "Epoch 00007: early stopping\n"
     ]
    }
   ],
   "source": [
    "history = model.fit(X_train, Y_train, epochs = 30,validation_split=0.2, verbose = 1, callbacks=[checkpoint,early])"
   ]
  },
  {
   "cell_type": "code",
   "execution_count": 21,
   "id": "c295f029",
   "metadata": {},
   "outputs": [
    {
     "data": {
      "image/png": "[encoded data removed]",
      "text/plain": [
       "<Figure size 640x480 with 1 Axes>"
      ]
     },
     "metadata": {},
     "output_type": "display_data"
    }
   ],
   "source": [
    "# Plot training & validation accuracy values\n",
    "plt.plot(history.history['accuracy'])\n",
    "plt.plot(history.history['val_accuracy'])\n",
    "plt.title('BRNN Model Accuracy')\n",
    "plt.ylabel('Accuracy')\n",
    "plt.xlabel('Epoch')\n",
    "plt.legend(['Train', 'Test'], loc='lower right')\n",
    "plt.savefig('BRNN 200 Model Accuracy.png')\n",
    "plt.show()"
   ]
  },
  {
   "cell_type": "code",
   "execution_count": 22,
   "id": "efdefc2c",
   "metadata": {},
   "outputs": [
    {
     "data": {
      "image/png": "[encoded data removed]",
      "text/plain": [
       "<Figure size 640x480 with 1 Axes>"
      ]
     },
     "metadata": {},
     "output_type": "display_data"
    }
   ],
   "source": [
    "# Plot training & validation loss values\n",
    "plt.plot(history.history['loss'])\n",
    "plt.plot(history.history['val_loss'])\n",
    "plt.title('BRNN Model  Loss')\n",
    "plt.ylabel('Loss')\n",
    "plt.xlabel('Epoch')\n",
    "plt.legend(['Train', 'Test'], loc='upper left')\n",
    "plt.savefig('BRNN 200 Model Loss.png')\n",
    "plt.show()"
   ]
  },
  {
   "cell_type": "code",
   "execution_count": 23,
   "id": "a36fcb82",
   "metadata": {},
   "outputs": [
    {
     "name": "stdout",
     "output_type": "stream",
     "text": [
      "1419/1419 [==============================] - 15s 10ms/step\n"
     ]
    }
   ],
   "source": [
    "predict = model.predict(X_test, verbose=1)"
   ]
  },
  {
   "cell_type": "code",
   "execution_count": 24,
   "id": "51cbd9f6",
   "metadata": {},
   "outputs": [
    {
     "data": {
      "image/png": "[encoded data removed]",
      "text/plain": [
       "<Figure size 640x480 with 2 Axes>"
      ]
     },
     "metadata": {},
     "output_type": "display_data"
    }
   ],
   "source": [
    "tp = 0\n",
    "tn = 0\n",
    "fp = 0\n",
    "fn = 0\n",
    "predictn = predict.flatten().round()\n",
    "predictn = predictn.tolist()\n",
    "Y_testn = Y_test.tolist()\n",
    "for i in range(len(Y_testn)):\n",
    "  if predictn[i]==1 and Y_testn[i]==1:\n",
    "    tp+=1\n",
    "  elif predictn[i]==0 and Y_testn[i]==0:\n",
    "    tn+=1\n",
    "  elif predictn[i]==0 and Y_testn[i]==1:\n",
    "    fp+=1\n",
    "  elif predictn[i]==1 and Y_testn[i]==0:\n",
    "    fn+=1\n",
    "to_heat_map =[[tn,fp],[fn,tp]]\n",
    "to_heat_map = pd.DataFrame(to_heat_map, index = [\"Attack\",\"Normal\"],columns = [\"Attack\",\"Normal\"])\n",
    "ax = sns.heatmap(to_heat_map,annot=True, fmt=\"d\")"
   ]
  },
  {
   "cell_type": "code",
   "execution_count": 25,
   "id": "5477b51f",
   "metadata": {},
   "outputs": [],
   "source": [
    "figure = ax.get_figure()\n",
    "figure.savefig('confusion_matrix_BRNN_200.png', dpi=400)"
   ]
  },
  {
   "cell_type": "code",
   "execution_count": 26,
   "id": "42ecc926",
   "metadata": {},
   "outputs": [
    {
     "data": {
      "text/plain": [
       "['scaler_200.save']"
      ]
     },
     "execution_count": 26,
     "metadata": {},
     "output_type": "execute_result"
    }
   ],
   "source": [
    "# model.save('brnn_model_200_step.h5')\n",
    "joblib.dump(scalar, 'scaler_200.save')"
   ]
  },
  {
   "cell_type": "code",
   "execution_count": 27,
   "id": "2a938888",
   "metadata": {},
   "outputs": [
    {
     "name": "stdout",
     "output_type": "stream",
     "text": [
      "accuracy: 99.93%\n"
     ]
    }
   ],
   "source": [
    "scores = model.evaluate(X_test, Y_test, verbose=0)\n",
    "print(\"%s: %.2f%%\" % (model.metrics_names[1], scores[1]*100))"
   ]
  },
  {
   "cell_type": "code",
   "execution_count": 28,
   "id": "c172e338",
   "metadata": {},
   "outputs": [
    {
     "name": "stdout",
     "output_type": "stream",
     "text": [
      "              precision    recall  f1-score   support\n",
      "\n",
      "           0       1.00      1.00      1.00     22684\n",
      "           1       1.00      1.00      1.00     22724\n",
      "\n",
      "    accuracy                           1.00     45408\n",
      "   macro avg       1.00      1.00      1.00     45408\n",
      "weighted avg       1.00      1.00      1.00     45408\n",
      "\n"
     ]
    }
   ],
   "source": [
    "print(classification_report(Y_testn,predictn))"
   ]
  },
  {
   "cell_type": "code",
   "execution_count": 29,
   "id": "d9db1966",
   "metadata": {},
   "outputs": [
    {
     "name": "stdout",
     "output_type": "stream",
     "text": [
      "SVM: ROC AUC=0.999\n"
     ]
    }
   ],
   "source": [
    "lr_auc = roc_auc_score(Y_testn, predictn)\n",
    "print('SVM: ROC AUC=%.3f' % (lr_auc))"
   ]
  },
  {
   "cell_type": "code",
   "execution_count": 30,
   "id": "9b4c4183",
   "metadata": {},
   "outputs": [
    {
     "name": "stdout",
     "output_type": "stream",
     "text": [
      "7/7 [==============================] - 0s 11ms/step\n",
      "Time elapse for prediction : 0.3944510999999693\n",
      "[[0.00157382]\n",
      " [0.00157511]\n",
      " [0.00157636]\n",
      " [0.00157667]\n",
      " [0.00157518]\n",
      " [0.00157524]\n",
      " [0.00157493]\n",
      " [0.0015768 ]\n",
      " [0.00157935]\n",
      " [0.00158048]\n",
      " [0.00158026]\n",
      " [0.00158181]\n",
      " [0.00158437]\n",
      " [0.00158577]\n",
      " [0.00158733]\n",
      " [0.00158939]\n",
      " [0.00159074]\n",
      " [0.00159389]\n",
      " [0.00159592]\n",
      " [0.00159948]\n",
      " [0.00160318]\n",
      " [0.00160809]\n",
      " [0.00161164]\n",
      " [0.00161647]\n",
      " [0.00162162]\n",
      " [0.0016266 ]\n",
      " [0.00163111]\n",
      " [0.00163619]\n",
      " [0.00164568]\n",
      " [0.00165206]\n",
      " [0.00165487]\n",
      " [0.00165609]\n",
      " [0.00165972]\n",
      " [0.00166462]\n",
      " [0.00167559]\n",
      " [0.0016836 ]\n",
      " [0.00168595]\n",
      " [0.00168522]\n",
      " [0.00168894]\n",
      " [0.00169875]\n",
      " [0.00170281]\n",
      " [0.00169842]\n",
      " [0.00169708]\n",
      " [0.00169812]\n",
      " [0.00170403]\n",
      " [0.00170676]\n",
      " [0.00170118]\n",
      " [0.00169913]\n",
      " [0.00170272]\n",
      " [0.00170776]\n",
      " [0.00170754]\n",
      " [0.00170272]\n",
      " [0.00169524]\n",
      " [0.001692  ]\n",
      " [0.00168813]\n",
      " [0.00169342]\n",
      " [0.00170009]\n",
      " [0.00169763]\n",
      " [0.00169784]\n",
      " [0.00170514]\n",
      " [0.0017053 ]\n",
      " [0.00170343]\n",
      " [0.00170489]\n",
      " [0.00170604]\n",
      " [0.00170713]\n",
      " [0.00171611]\n",
      " [0.0017215 ]\n",
      " [0.00173215]\n",
      " [0.00174404]\n",
      " [0.00175166]\n",
      " [0.0017581 ]\n",
      " [0.00177339]\n",
      " [0.00177515]\n",
      " [0.00178259]\n",
      " [0.00179616]\n",
      " [0.00181326]\n",
      " [0.00184124]\n",
      " [0.00184677]\n",
      " [0.00184567]\n",
      " [0.001846  ]\n",
      " [0.0018542 ]\n",
      " [0.00185465]\n",
      " [0.00187799]\n",
      " [0.00189545]\n",
      " [0.00190414]\n",
      " [0.0019104 ]\n",
      " [0.00191289]\n",
      " [0.00192863]\n",
      " [0.00193742]\n",
      " [0.00193142]\n",
      " [0.00192359]\n",
      " [0.00193471]\n",
      " [0.00194556]\n",
      " [0.00194252]\n",
      " [0.00194004]\n",
      " [0.00194573]\n",
      " [0.00195115]\n",
      " [0.00196735]\n",
      " [0.00196735]\n",
      " [0.00195283]\n",
      " [0.00193615]\n",
      " [0.00192567]\n",
      " [0.00192507]\n",
      " [0.0019474 ]\n",
      " [0.00195444]\n",
      " [0.00195645]\n",
      " [0.00196948]\n",
      " [0.00197714]\n",
      " [0.00196632]\n",
      " [0.00197063]\n",
      " [0.00198501]\n",
      " [0.00197928]\n",
      " [0.00200105]\n",
      " [0.00201176]\n",
      " [0.00202012]\n",
      " [0.00204301]\n",
      " [0.00206731]\n",
      " [0.00209047]\n",
      " [0.00210952]\n",
      " [0.00213252]\n",
      " [0.00212529]\n",
      " [0.0021614 ]\n",
      " [0.00223014]\n",
      " [0.00229062]\n",
      " [0.00235164]\n",
      " [0.0023921 ]\n",
      " [0.00239545]\n",
      " [0.00244672]\n",
      " [0.00244041]\n",
      " [0.00245576]\n",
      " [0.00254681]\n",
      " [0.00255656]\n",
      " [0.00254915]\n",
      " [0.00254432]\n",
      " [0.00258771]\n",
      " [0.00262894]\n",
      " [0.00261994]\n",
      " [0.00264029]\n",
      " [0.00266703]\n",
      " [0.00275444]\n",
      " [0.00279396]\n",
      " [0.00275846]\n",
      " [0.00276571]\n",
      " [0.00275924]\n",
      " [0.0028399 ]\n",
      " [0.00292861]\n",
      " [0.00296649]\n",
      " [0.00299288]\n",
      " [0.0028021 ]\n",
      " [0.00275314]\n",
      " [0.00263147]\n",
      " [0.00277119]\n",
      " [0.00292688]\n",
      " [0.00300248]\n",
      " [0.00291341]\n",
      " [0.00279241]\n",
      " [0.00277125]\n",
      " [0.00286698]\n",
      " [0.00281862]\n",
      " [0.00285729]\n",
      " [0.00278411]\n",
      " [0.00283445]\n",
      " [0.00286309]\n",
      " [0.00270146]\n",
      " [0.00265902]\n",
      " [0.0026534 ]\n",
      " [0.00273108]\n",
      " [0.00287624]\n",
      " [0.00291101]\n",
      " [0.0028333 ]\n",
      " [0.00290082]\n",
      " [0.00284329]\n",
      " [0.00297282]\n",
      " [0.00307703]\n",
      " [0.00315303]\n",
      " [0.00309638]\n",
      " [0.0031885 ]\n",
      " [0.00325617]\n",
      " [0.00317448]\n",
      " [0.00307354]\n",
      " [0.00317938]\n",
      " [0.00310438]\n",
      " [0.00313487]\n",
      " [0.00297728]\n",
      " [0.00301398]\n",
      " [0.00313174]\n",
      " [0.00326359]\n",
      " [0.00320073]\n",
      " [0.00327508]\n",
      " [0.00328958]\n",
      " [0.00324857]\n",
      " [0.00328223]\n",
      " [0.00318944]\n",
      " [0.00328031]\n",
      " [0.00331539]\n",
      " [0.00310832]\n",
      " [0.00302393]\n",
      " [0.00291931]\n",
      " [0.00298358]\n",
      " [0.00322566]]\n"
     ]
    }
   ],
   "source": [
    "time_start = time.perf_counter()\n",
    "predict = model.predict(I[:200], verbose=1)\n",
    "print(f\"Time elapse for prediction : {time.perf_counter() - time_start}\")\n",
    "print(predict)"
   ]
  }
 ],
 "metadata": {
  "kernelspec": {
   "display_name": "Python 3 (ipykernel)",
   "language": "python",
   "name": "python3"
  },
  "language_info": {
   "codemirror_mode": {
    "name": "ipython",
    "version": 3
   },
   "file_extension": ".py",
   "mimetype": "text/x-python",
   "name": "python",
   "nbconvert_exporter": "python",
   "pygments_lexer": "ipython3",
   "version": "3.9.13"
  }
 },
 "nbformat": 4,
 "nbformat_minor": 5
}
