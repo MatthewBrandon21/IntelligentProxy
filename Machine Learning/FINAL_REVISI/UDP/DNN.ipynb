{
 "cells": [
  {
   "cell_type": "code",
   "execution_count": 1,
   "id": "9f780517",
   "metadata": {},
   "outputs": [],
   "source": [
    "import numpy as np\n",
    "import pandas as pd\n",
    "from matplotlib import pyplot as plt\n",
    "import seaborn as sns; sns.set()\n",
    "from keras.layers import Dense, Dropout\n",
    "from keras.models import Sequential\n",
    "from keras.models import load_model\n",
    "from keras.callbacks import ModelCheckpoint, EarlyStopping\n",
    "from tensorflow.keras.utils import to_categorical\n",
    "from sklearn.model_selection import train_test_split\n",
    "from sklearn.preprocessing import LabelEncoder, StandardScaler\n",
    "from sklearn.metrics import classification_report, confusion_matrix\n",
    "from sklearn.metrics import roc_auc_score\n",
    "import joblib\n",
    "import time\n",
    "from collections import Counter\n",
    "from imblearn.over_sampling import SMOTE\n",
    "from imblearn.under_sampling import RandomUnderSampler\n",
    "from imblearn.pipeline import Pipeline"
   ]
  },
  {
   "cell_type": "code",
   "execution_count": 2,
   "id": "5c265d83",
   "metadata": {},
   "outputs": [],
   "source": [
    "features, labels = [], []\n",
    "training_files = [\"dataset/individual/udp_dataset_individual_attack_1.csv\",\n",
    "                  \"dataset/individual/udp_dataset_individual_attack_2.csv\",\n",
    "                  \"dataset/individual/udp_dataset_individual_normal_1.csv\",\n",
    "                  \"dataset/individual/udp_dataset_individual_normal_2.csv\"]\n",
    "training_files_old = [\"dataset/individual/old/dataset_udp_attack_1.csv\",\n",
    "                  \"dataset/individual/old/dataset_udp_attack_2.csv\",\n",
    "                  \"dataset/individual/old/dataset_udp_normal_1.csv\",\n",
    "                  \"dataset/individual/old/dataset_udp_normal_2.csv\"]"
   ]
  },
  {
   "cell_type": "code",
   "execution_count": 3,
   "id": "33a79058",
   "metadata": {},
   "outputs": [],
   "source": [
    "def scrape_data():\n",
    "    global training_files\n",
    "    global features\n",
    "    global labels\n",
    "    \n",
    "    for fname in training_files:\n",
    "        meal = open(fname, \"rt\")\n",
    "        for line in meal:\n",
    "            data_list = line.rsplit(\",\")\n",
    "            if(len(data_list) != 8):\n",
    "                print(\"error data\")\n",
    "            else:\n",
    "                data_list[(len(data_list)-1)]=int(data_list[(len(data_list)-1)].replace('\\n', ''))\n",
    "                features.append(data_list[:(len(data_list)-1)])\n",
    "                labels.append(data_list[(len(data_list)-1)])\n",
    "        meal.close()\n",
    "    \n",
    "    for fname in training_files_old:\n",
    "        meal = open(fname, \"rt\")\n",
    "        for line in meal:\n",
    "            data_list = line.rsplit(\",\")\n",
    "            if(len(data_list) != 9):\n",
    "                print(\"error data\")\n",
    "            else:\n",
    "                data_list.pop(3)\n",
    "                data_list[(len(data_list)-1)]=int(data_list[(len(data_list)-1)].replace('\\n', ''))\n",
    "                features.append(data_list[:(len(data_list)-1)])\n",
    "                labels.append(data_list[(len(data_list)-1)])\n",
    "        meal.close()\n",
    "    \n",
    "    data_counter = Counter(labels)\n",
    "    print(data_counter)\n",
    "    \n",
    "    scalar = StandardScaler(copy=True, with_mean=True, with_std=True)\n",
    "    scalar.fit(features)\n",
    "    features = scalar.transform(features)\n",
    "    \n",
    "    features = np.array(features).astype(np.float64)\n",
    "    features = features.tolist()\n",
    "    \n",
    "    print(f\"Size of feature dataset : {len(features)}\")\n",
    "    print(f\"Size of feature dataset : {len(labels)}\")\n",
    "    print(\"Features first and last entries:\\n\\t\", end = \"\")\n",
    "    print(features[:1] + features[(len(features)-1):])\n",
    "    print(\"Labels first and last entries:\\n\\t\", end = \"\")\n",
    "    print(labels[:1] + labels[(len(features)-1):])\n",
    "    \n",
    "    features_train, features_test, labels_train, labels_test = train_test_split(features, labels, test_size = 0.20, stratify=labels, random_state = 0)\n",
    "    \n",
    "    data_counter = Counter(labels_train)\n",
    "    print(f'Features train data : {data_counter}')\n",
    "    over = SMOTE()\n",
    "    under = RandomUnderSampler()\n",
    "    steps = [('o', over), ('u', under)]\n",
    "    pipeline = Pipeline(steps=steps)\n",
    "    features, labels = pipeline.fit_resample(features_train, labels_train)\n",
    "    data_counter = Counter(labels_train)\n",
    "    print(f'Features train data after balancing: {data_counter}')\n",
    "    \n",
    "    return np.asarray(features_train), np.asarray(labels_train), np.asarray(features_test), np.asarray(labels_test)"
   ]
  },
  {
   "cell_type": "code",
   "execution_count": 4,
   "id": "9b84bae1",
   "metadata": {},
   "outputs": [],
   "source": [
    "def generate_model(shape):\n",
    "    model = Sequential()\n",
    "\n",
    "    model.add(Dense(256, input_dim=shape, kernel_initializer='uniform', activation='relu'))\n",
    "    model.add(Dropout(0.4))\n",
    "    model.add(Dense(128, activation='relu'))\n",
    "    model.add(Dropout(0.4))\n",
    "    model.add(Dense(64, activation='relu'))\n",
    "    model.add(Dropout(0.4))\n",
    "    model.add(Dense(32, activation='relu'))\n",
    "    model.add(Dropout(0.4))\n",
    "    model.add(Dense(1, activation='sigmoid'))\n",
    "    print(model.summary())\n",
    "\n",
    "    return model"
   ]
  },
  {
   "cell_type": "code",
   "execution_count": 5,
   "id": "d6ef0b01",
   "metadata": {},
   "outputs": [
    {
     "name": "stdout",
     "output_type": "stream",
     "text": [
      "Counter({0: 490, 1: 307})\n",
      "Size of feature dataset : 797\n",
      "Size of feature dataset : 797\n",
      "Features first and last entries:\n",
      "\t[[-0.3701394640303207, -0.4097493374046926, -0.6741160621331735, -0.3423423779779553, -0.7716978360410255, -0.3423423779779553, -0.1581461428587164], [-0.2853456070385484, -0.4097493374046926, -0.6784921018564757, -0.3423423779779553, -0.7756719957755881, -0.3423423779779553, 0.10177812476975219]]\n",
      "Labels first and last entries:\n",
      "\t[1, 0]\n",
      "Features train data : Counter({0: 392, 1: 245})\n",
      "Features train data after balancing: Counter({0: 392, 1: 245})\n"
     ]
    }
   ],
   "source": [
    "data_train, label_train, data_eval, label_eval = scrape_data()"
   ]
  },
  {
   "cell_type": "code",
   "execution_count": 6,
   "id": "89771801",
   "metadata": {},
   "outputs": [
    {
     "name": "stdout",
     "output_type": "stream",
     "text": [
      "Model: \"sequential\"\n",
      "_________________________________________________________________\n",
      " Layer (type)                Output Shape              Param #   \n",
      "=================================================================\n",
      " dense (Dense)               (None, 256)               2048      \n",
      "                                                                 \n",
      " dropout (Dropout)           (None, 256)               0         \n",
      "                                                                 \n",
      " dense_1 (Dense)             (None, 128)               32896     \n",
      "                                                                 \n",
      " dropout_1 (Dropout)         (None, 128)               0         \n",
      "                                                                 \n",
      " dense_2 (Dense)             (None, 64)                8256      \n",
      "                                                                 \n",
      " dropout_2 (Dropout)         (None, 64)                0         \n",
      "                                                                 \n",
      " dense_3 (Dense)             (None, 32)                2080      \n",
      "                                                                 \n",
      " dropout_3 (Dropout)         (None, 32)                0         \n",
      "                                                                 \n",
      " dense_4 (Dense)             (None, 1)                 33        \n",
      "                                                                 \n",
      "=================================================================\n",
      "Total params: 45,313\n",
      "Trainable params: 45,313\n",
      "Non-trainable params: 0\n",
      "_________________________________________________________________\n",
      "None\n"
     ]
    }
   ],
   "source": [
    "model = generate_model(len(data_train[0]))"
   ]
  },
  {
   "cell_type": "code",
   "execution_count": 7,
   "id": "071ae79f",
   "metadata": {},
   "outputs": [
    {
     "name": "stdout",
     "output_type": "stream",
     "text": [
      "Model: \"sequential\"\n",
      "_________________________________________________________________\n",
      " Layer (type)                Output Shape              Param #   \n",
      "=================================================================\n",
      " dense (Dense)               (None, 256)               2048      \n",
      "                                                                 \n",
      " dropout (Dropout)           (None, 256)               0         \n",
      "                                                                 \n",
      " dense_1 (Dense)             (None, 128)               32896     \n",
      "                                                                 \n",
      " dropout_1 (Dropout)         (None, 128)               0         \n",
      "                                                                 \n",
      " dense_2 (Dense)             (None, 64)                8256      \n",
      "                                                                 \n",
      " dropout_2 (Dropout)         (None, 64)                0         \n",
      "                                                                 \n",
      " dense_3 (Dense)             (None, 32)                2080      \n",
      "                                                                 \n",
      " dropout_3 (Dropout)         (None, 32)                0         \n",
      "                                                                 \n",
      " dense_4 (Dense)             (None, 1)                 33        \n",
      "                                                                 \n",
      "=================================================================\n",
      "Total params: 45,313\n",
      "Trainable params: 45,313\n",
      "Non-trainable params: 0\n",
      "_________________________________________________________________\n"
     ]
    }
   ],
   "source": [
    "model.summary()"
   ]
  },
  {
   "cell_type": "code",
   "execution_count": 8,
   "id": "5e5b8b02",
   "metadata": {},
   "outputs": [],
   "source": [
    "model.compile(loss='binary_crossentropy', optimizer='adam', metrics=['accuracy'])"
   ]
  },
  {
   "cell_type": "code",
   "execution_count": 9,
   "id": "6c798507",
   "metadata": {},
   "outputs": [
    {
     "name": "stdout",
     "output_type": "stream",
     "text": [
      "WARNING:tensorflow:`period` argument is deprecated. Please use `save_freq` to specify the frequency in number of batches seen.\n"
     ]
    }
   ],
   "source": [
    "checkpoint = ModelCheckpoint(\"dnnModel.h5\", monitor='val_loss', verbose=1, save_best_only=True, save_weights_only=False, mode='auto', period=1)\n",
    "early = EarlyStopping(monitor='val_loss', min_delta=0, patience=30, verbose=1, mode='auto')"
   ]
  },
  {
   "cell_type": "code",
   "execution_count": 10,
   "id": "a7def03b",
   "metadata": {},
   "outputs": [
    {
     "name": "stdout",
     "output_type": "stream",
     "text": [
      "Epoch 1/100\n",
      " 1/16 [>.............................] - ETA: 13s - loss: 0.6978 - accuracy: 0.5000\n",
      "Epoch 00001: val_loss improved from inf to 0.55275, saving model to dnnModel.h5\n",
      "16/16 [==============================] - 1s 10ms/step - loss: 0.6502 - accuracy: 0.6994 - val_loss: 0.5528 - val_accuracy: 0.8438\n",
      "Epoch 2/100\n",
      " 1/16 [>.............................] - ETA: 0s - loss: 0.5808 - accuracy: 0.7812\n",
      "Epoch 00002: val_loss improved from 0.55275 to 0.31290, saving model to dnnModel.h5\n",
      "16/16 [==============================] - 0s 6ms/step - loss: 0.4813 - accuracy: 0.8389 - val_loss: 0.3129 - val_accuracy: 0.9141\n",
      "Epoch 3/100\n",
      " 1/16 [>.............................] - ETA: 0s - loss: 0.4548 - accuracy: 0.8125\n",
      "Epoch 00003: val_loss improved from 0.31290 to 0.21642, saving model to dnnModel.h5\n",
      "16/16 [==============================] - 0s 5ms/step - loss: 0.3165 - accuracy: 0.8880 - val_loss: 0.2164 - val_accuracy: 0.9141\n",
      "Epoch 4/100\n",
      " 1/16 [>.............................] - ETA: 0s - loss: 0.3920 - accuracy: 0.9062\n",
      "Epoch 00004: val_loss improved from 0.21642 to 0.18416, saving model to dnnModel.h5\n",
      "16/16 [==============================] - 0s 6ms/step - loss: 0.2400 - accuracy: 0.9018 - val_loss: 0.1842 - val_accuracy: 0.9219\n",
      "Epoch 5/100\n",
      " 1/16 [>.............................] - ETA: 0s - loss: 0.2068 - accuracy: 0.9375\n",
      "Epoch 00005: val_loss improved from 0.18416 to 0.17960, saving model to dnnModel.h5\n",
      "16/16 [==============================] - 0s 6ms/step - loss: 0.2164 - accuracy: 0.9155 - val_loss: 0.1796 - val_accuracy: 0.9297\n",
      "Epoch 6/100\n",
      " 1/16 [>.............................] - ETA: 0s - loss: 0.1238 - accuracy: 0.9688\n",
      "Epoch 00006: val_loss did not improve from 0.17960\n",
      "16/16 [==============================] - 0s 4ms/step - loss: 0.2087 - accuracy: 0.9037 - val_loss: 0.1816 - val_accuracy: 0.9219\n",
      "Epoch 7/100\n",
      " 1/16 [>.............................] - ETA: 0s - loss: 0.1810 - accuracy: 0.9375\n",
      "Epoch 00007: val_loss improved from 0.17960 to 0.17281, saving model to dnnModel.h5\n",
      "16/16 [==============================] - 0s 5ms/step - loss: 0.2016 - accuracy: 0.9175 - val_loss: 0.1728 - val_accuracy: 0.9453\n",
      "Epoch 8/100\n",
      " 1/16 [>.............................] - ETA: 0s - loss: 0.2078 - accuracy: 0.8750\n",
      "Epoch 00008: val_loss improved from 0.17281 to 0.17161, saving model to dnnModel.h5\n",
      "16/16 [==============================] - 0s 6ms/step - loss: 0.1873 - accuracy: 0.9155 - val_loss: 0.1716 - val_accuracy: 0.9375\n",
      "Epoch 9/100\n",
      " 1/16 [>.............................] - ETA: 0s - loss: 0.2321 - accuracy: 0.9688\n",
      "Epoch 00009: val_loss improved from 0.17161 to 0.16967, saving model to dnnModel.h5\n",
      "16/16 [==============================] - 0s 6ms/step - loss: 0.1944 - accuracy: 0.9096 - val_loss: 0.1697 - val_accuracy: 0.9375\n",
      "Epoch 10/100\n",
      " 1/16 [>.............................] - ETA: 0s - loss: 0.1367 - accuracy: 0.9375\n",
      "Epoch 00010: val_loss improved from 0.16967 to 0.16949, saving model to dnnModel.h5\n",
      "16/16 [==============================] - 0s 6ms/step - loss: 0.1666 - accuracy: 0.9175 - val_loss: 0.1695 - val_accuracy: 0.9453\n",
      "Epoch 11/100\n",
      " 1/16 [>.............................] - ETA: 0s - loss: 0.0644 - accuracy: 0.9688\n",
      "Epoch 00011: val_loss did not improve from 0.16949\n",
      "16/16 [==============================] - 0s 4ms/step - loss: 0.1676 - accuracy: 0.9293 - val_loss: 0.1705 - val_accuracy: 0.9453\n",
      "Epoch 12/100\n",
      " 1/16 [>.............................] - ETA: 0s - loss: 0.0735 - accuracy: 1.0000\n",
      "Epoch 00012: val_loss did not improve from 0.16949\n",
      "16/16 [==============================] - 0s 4ms/step - loss: 0.1591 - accuracy: 0.9253 - val_loss: 0.1696 - val_accuracy: 0.9453\n",
      "Epoch 13/100\n",
      " 1/16 [>.............................] - ETA: 0s - loss: 0.1446 - accuracy: 0.9062\n",
      "Epoch 00013: val_loss improved from 0.16949 to 0.16484, saving model to dnnModel.h5\n",
      "16/16 [==============================] - 0s 6ms/step - loss: 0.1715 - accuracy: 0.9253 - val_loss: 0.1648 - val_accuracy: 0.9453\n",
      "Epoch 14/100\n",
      " 1/16 [>.............................] - ETA: 0s - loss: 0.1036 - accuracy: 0.9375\n",
      "Epoch 00014: val_loss improved from 0.16484 to 0.16202, saving model to dnnModel.h5\n",
      "16/16 [==============================] - 0s 6ms/step - loss: 0.1728 - accuracy: 0.9253 - val_loss: 0.1620 - val_accuracy: 0.9453\n",
      "Epoch 15/100\n",
      " 1/16 [>.............................] - ETA: 0s - loss: 0.1588 - accuracy: 0.9688\n",
      "Epoch 00015: val_loss did not improve from 0.16202\n",
      "16/16 [==============================] - 0s 4ms/step - loss: 0.1619 - accuracy: 0.9253 - val_loss: 0.1661 - val_accuracy: 0.9453\n",
      "Epoch 16/100\n",
      " 1/16 [>.............................] - ETA: 0s - loss: 0.1818 - accuracy: 0.9062\n",
      "Epoch 00016: val_loss improved from 0.16202 to 0.15834, saving model to dnnModel.h5\n",
      "16/16 [==============================] - 0s 5ms/step - loss: 0.1529 - accuracy: 0.9391 - val_loss: 0.1583 - val_accuracy: 0.9531\n",
      "Epoch 17/100\n",
      " 1/16 [>.............................] - ETA: 0s - loss: 0.0974 - accuracy: 0.9375\n",
      "Epoch 00017: val_loss improved from 0.15834 to 0.15738, saving model to dnnModel.h5\n",
      "16/16 [==============================] - 0s 6ms/step - loss: 0.1522 - accuracy: 0.9332 - val_loss: 0.1574 - val_accuracy: 0.9531\n",
      "Epoch 18/100\n",
      " 1/16 [>.............................] - ETA: 0s - loss: 0.0582 - accuracy: 0.9688\n",
      "Epoch 00018: val_loss improved from 0.15738 to 0.15315, saving model to dnnModel.h5\n",
      "16/16 [==============================] - 0s 6ms/step - loss: 0.1495 - accuracy: 0.9273 - val_loss: 0.1531 - val_accuracy: 0.9531\n",
      "Epoch 19/100\n",
      " 1/16 [>.............................] - ETA: 0s - loss: 0.2382 - accuracy: 0.9375\n",
      "Epoch 00019: val_loss improved from 0.15315 to 0.15243, saving model to dnnModel.h5\n",
      "16/16 [==============================] - 0s 6ms/step - loss: 0.1523 - accuracy: 0.9411 - val_loss: 0.1524 - val_accuracy: 0.9531\n",
      "Epoch 20/100\n",
      " 1/16 [>.............................] - ETA: 0s - loss: 0.1054 - accuracy: 0.9688\n",
      "Epoch 00020: val_loss did not improve from 0.15243\n",
      "16/16 [==============================] - 0s 4ms/step - loss: 0.1574 - accuracy: 0.9332 - val_loss: 0.1553 - val_accuracy: 0.9688\n",
      "Epoch 21/100\n",
      " 1/16 [>.............................] - ETA: 0s - loss: 0.0997 - accuracy: 0.9375\n",
      "Epoch 00021: val_loss did not improve from 0.15243\n",
      "16/16 [==============================] - 0s 4ms/step - loss: 0.1390 - accuracy: 0.9489 - val_loss: 0.1524 - val_accuracy: 0.9766\n",
      "Epoch 22/100\n",
      " 1/16 [>.............................] - ETA: 0s - loss: 0.0518 - accuracy: 1.0000\n",
      "Epoch 00022: val_loss improved from 0.15243 to 0.14664, saving model to dnnModel.h5\n",
      "16/16 [==============================] - 0s 5ms/step - loss: 0.1376 - accuracy: 0.9528 - val_loss: 0.1466 - val_accuracy: 0.9688\n",
      "Epoch 23/100\n",
      " 1/16 [>.............................] - ETA: 0s - loss: 0.1679 - accuracy: 0.9375\n",
      "Epoch 00023: val_loss improved from 0.14664 to 0.14146, saving model to dnnModel.h5\n",
      "16/16 [==============================] - 0s 5ms/step - loss: 0.1384 - accuracy: 0.9568 - val_loss: 0.1415 - val_accuracy: 0.9766\n",
      "Epoch 24/100\n",
      " 1/16 [>.............................] - ETA: 0s - loss: 0.1134 - accuracy: 0.9375\n",
      "Epoch 00024: val_loss improved from 0.14146 to 0.13772, saving model to dnnModel.h5\n",
      "16/16 [==============================] - 0s 5ms/step - loss: 0.1151 - accuracy: 0.9587 - val_loss: 0.1377 - val_accuracy: 0.9766\n",
      "Epoch 25/100\n",
      " 1/16 [>.............................] - ETA: 0s - loss: 0.0530 - accuracy: 1.0000\n",
      "Epoch 00025: val_loss did not improve from 0.13772\n",
      "16/16 [==============================] - 0s 4ms/step - loss: 0.1302 - accuracy: 0.9646 - val_loss: 0.1398 - val_accuracy: 0.9688\n",
      "Epoch 26/100\n",
      " 1/16 [>.............................] - ETA: 0s - loss: 0.0762 - accuracy: 1.0000\n",
      "Epoch 00026: val_loss improved from 0.13772 to 0.12977, saving model to dnnModel.h5\n",
      "16/16 [==============================] - 0s 6ms/step - loss: 0.1136 - accuracy: 0.9666 - val_loss: 0.1298 - val_accuracy: 0.9766\n",
      "Epoch 27/100\n",
      " 1/16 [>.............................] - ETA: 0s - loss: 0.0990 - accuracy: 0.9375\n",
      "Epoch 00027: val_loss improved from 0.12977 to 0.12635, saving model to dnnModel.h5\n",
      "16/16 [==============================] - 0s 5ms/step - loss: 0.1093 - accuracy: 0.9607 - val_loss: 0.1264 - val_accuracy: 0.9766\n",
      "Epoch 28/100\n"
     ]
    },
    {
     "name": "stdout",
     "output_type": "stream",
     "text": [
      " 1/16 [>.............................] - ETA: 0s - loss: 0.1317 - accuracy: 0.9688\n",
      "Epoch 00028: val_loss did not improve from 0.12635\n",
      "16/16 [==============================] - 0s 4ms/step - loss: 0.1054 - accuracy: 0.9587 - val_loss: 0.1272 - val_accuracy: 0.9766\n",
      "Epoch 29/100\n",
      " 1/16 [>.............................] - ETA: 0s - loss: 0.0610 - accuracy: 1.0000\n",
      "Epoch 00029: val_loss improved from 0.12635 to 0.12563, saving model to dnnModel.h5\n",
      "16/16 [==============================] - 0s 5ms/step - loss: 0.1100 - accuracy: 0.9627 - val_loss: 0.1256 - val_accuracy: 0.9766\n",
      "Epoch 30/100\n",
      " 1/16 [>.............................] - ETA: 0s - loss: 0.0597 - accuracy: 1.0000\n",
      "Epoch 00030: val_loss improved from 0.12563 to 0.12495, saving model to dnnModel.h5\n",
      "16/16 [==============================] - 0s 6ms/step - loss: 0.0913 - accuracy: 0.9725 - val_loss: 0.1250 - val_accuracy: 0.9766\n",
      "Epoch 31/100\n",
      " 1/16 [>.............................] - ETA: 0s - loss: 0.0754 - accuracy: 0.9688\n",
      "Epoch 00031: val_loss improved from 0.12495 to 0.11886, saving model to dnnModel.h5\n",
      "16/16 [==============================] - 0s 6ms/step - loss: 0.1031 - accuracy: 0.9666 - val_loss: 0.1189 - val_accuracy: 0.9766\n",
      "Epoch 32/100\n",
      " 1/16 [>.............................] - ETA: 0s - loss: 0.1860 - accuracy: 0.9375\n",
      "Epoch 00032: val_loss did not improve from 0.11886\n",
      "16/16 [==============================] - 0s 4ms/step - loss: 0.0935 - accuracy: 0.9686 - val_loss: 0.1229 - val_accuracy: 0.9766\n",
      "Epoch 33/100\n",
      " 1/16 [>.............................] - ETA: 0s - loss: 0.1617 - accuracy: 0.9375\n",
      "Epoch 00033: val_loss did not improve from 0.11886\n",
      "16/16 [==============================] - 0s 4ms/step - loss: 0.0933 - accuracy: 0.9627 - val_loss: 0.1272 - val_accuracy: 0.9766\n",
      "Epoch 34/100\n",
      " 1/16 [>.............................] - ETA: 0s - loss: 0.0395 - accuracy: 1.0000\n",
      "Epoch 00034: val_loss did not improve from 0.11886\n",
      "16/16 [==============================] - 0s 4ms/step - loss: 0.0830 - accuracy: 0.9745 - val_loss: 0.1278 - val_accuracy: 0.9766\n",
      "Epoch 35/100\n",
      " 1/16 [>.............................] - ETA: 0s - loss: 0.0354 - accuracy: 0.9688\n",
      "Epoch 00035: val_loss did not improve from 0.11886\n",
      "16/16 [==============================] - 0s 4ms/step - loss: 0.0832 - accuracy: 0.9686 - val_loss: 0.1202 - val_accuracy: 0.9766\n",
      "Epoch 36/100\n",
      " 1/16 [>.............................] - ETA: 0s - loss: 0.1670 - accuracy: 0.9062\n",
      "Epoch 00036: val_loss did not improve from 0.11886\n",
      "16/16 [==============================] - 0s 4ms/step - loss: 0.1093 - accuracy: 0.9666 - val_loss: 0.1223 - val_accuracy: 0.9766\n",
      "Epoch 37/100\n",
      " 1/16 [>.............................] - ETA: 0s - loss: 0.0293 - accuracy: 1.0000\n",
      "Epoch 00037: val_loss did not improve from 0.11886\n",
      "16/16 [==============================] - 0s 4ms/step - loss: 0.0873 - accuracy: 0.9745 - val_loss: 0.1318 - val_accuracy: 0.9688\n",
      "Epoch 38/100\n",
      " 1/16 [>.............................] - ETA: 0s - loss: 0.0900 - accuracy: 0.9375\n",
      "Epoch 00038: val_loss did not improve from 0.11886\n",
      "16/16 [==============================] - 0s 4ms/step - loss: 0.0925 - accuracy: 0.9646 - val_loss: 0.1285 - val_accuracy: 0.9766\n",
      "Epoch 39/100\n",
      " 1/16 [>.............................] - ETA: 0s - loss: 0.1102 - accuracy: 0.9375\n",
      "Epoch 00039: val_loss did not improve from 0.11886\n",
      "16/16 [==============================] - 0s 4ms/step - loss: 0.0918 - accuracy: 0.9705 - val_loss: 0.1255 - val_accuracy: 0.9766\n",
      "Epoch 40/100\n",
      " 1/16 [>.............................] - ETA: 0s - loss: 0.0333 - accuracy: 1.0000\n",
      "Epoch 00040: val_loss improved from 0.11886 to 0.11706, saving model to dnnModel.h5\n",
      "16/16 [==============================] - 0s 5ms/step - loss: 0.0907 - accuracy: 0.9725 - val_loss: 0.1171 - val_accuracy: 0.9766\n",
      "Epoch 41/100\n",
      " 1/16 [>.............................] - ETA: 0s - loss: 0.0685 - accuracy: 0.9688\n",
      "Epoch 00041: val_loss improved from 0.11706 to 0.11470, saving model to dnnModel.h5\n",
      "16/16 [==============================] - 0s 5ms/step - loss: 0.0853 - accuracy: 0.9705 - val_loss: 0.1147 - val_accuracy: 0.9766\n",
      "Epoch 42/100\n",
      " 1/16 [>.............................] - ETA: 0s - loss: 0.0695 - accuracy: 0.9688\n",
      "Epoch 00042: val_loss did not improve from 0.11470\n",
      "16/16 [==============================] - 0s 4ms/step - loss: 0.0715 - accuracy: 0.9745 - val_loss: 0.1188 - val_accuracy: 0.9766\n",
      "Epoch 43/100\n",
      " 1/16 [>.............................] - ETA: 0s - loss: 0.1636 - accuracy: 0.9375\n",
      "Epoch 00043: val_loss did not improve from 0.11470\n",
      "16/16 [==============================] - 0s 4ms/step - loss: 0.0732 - accuracy: 0.9725 - val_loss: 0.1193 - val_accuracy: 0.9688\n",
      "Epoch 44/100\n",
      " 1/16 [>.............................] - ETA: 0s - loss: 0.1713 - accuracy: 0.9688\n",
      "Epoch 00044: val_loss did not improve from 0.11470\n",
      "16/16 [==============================] - 0s 4ms/step - loss: 0.0925 - accuracy: 0.9705 - val_loss: 0.1176 - val_accuracy: 0.9766\n",
      "Epoch 45/100\n",
      " 1/16 [>.............................] - ETA: 0s - loss: 0.1109 - accuracy: 0.9688\n",
      "Epoch 00045: val_loss did not improve from 0.11470\n",
      "16/16 [==============================] - 0s 4ms/step - loss: 0.1066 - accuracy: 0.9607 - val_loss: 0.1164 - val_accuracy: 0.9766\n",
      "Epoch 46/100\n",
      " 1/16 [>.............................] - ETA: 0s - loss: 0.0635 - accuracy: 0.9688\n",
      "Epoch 00046: val_loss did not improve from 0.11470\n",
      "16/16 [==============================] - 0s 4ms/step - loss: 0.0746 - accuracy: 0.9705 - val_loss: 0.1202 - val_accuracy: 0.9766\n",
      "Epoch 47/100\n",
      " 1/16 [>.............................] - ETA: 0s - loss: 0.0169 - accuracy: 1.0000\n",
      "Epoch 00047: val_loss did not improve from 0.11470\n",
      "16/16 [==============================] - 0s 4ms/step - loss: 0.0769 - accuracy: 0.9745 - val_loss: 0.1177 - val_accuracy: 0.9766\n",
      "Epoch 48/100\n",
      " 1/16 [>.............................] - ETA: 0s - loss: 0.0508 - accuracy: 0.9688\n",
      "Epoch 00048: val_loss improved from 0.11470 to 0.11339, saving model to dnnModel.h5\n",
      "16/16 [==============================] - 0s 6ms/step - loss: 0.0782 - accuracy: 0.9745 - val_loss: 0.1134 - val_accuracy: 0.9766\n",
      "Epoch 49/100\n",
      " 1/16 [>.............................] - ETA: 0s - loss: 0.0912 - accuracy: 0.9688\n",
      "Epoch 00049: val_loss did not improve from 0.11339\n",
      "16/16 [==============================] - 0s 4ms/step - loss: 0.0785 - accuracy: 0.9725 - val_loss: 0.1153 - val_accuracy: 0.9766\n",
      "Epoch 50/100\n",
      " 1/16 [>.............................] - ETA: 0s - loss: 0.0747 - accuracy: 0.9688\n",
      "Epoch 00050: val_loss did not improve from 0.11339\n",
      "16/16 [==============================] - 0s 4ms/step - loss: 0.0716 - accuracy: 0.9745 - val_loss: 0.1201 - val_accuracy: 0.9766\n",
      "Epoch 51/100\n",
      " 1/16 [>.............................] - ETA: 0s - loss: 0.0572 - accuracy: 0.9688\n",
      "Epoch 00051: val_loss did not improve from 0.11339\n",
      "16/16 [==============================] - 0s 4ms/step - loss: 0.1233 - accuracy: 0.9607 - val_loss: 0.1207 - val_accuracy: 0.9688\n",
      "Epoch 52/100\n",
      " 1/16 [>.............................] - ETA: 0s - loss: 0.0834 - accuracy: 0.9688\n",
      "Epoch 00052: val_loss did not improve from 0.11339\n",
      "16/16 [==============================] - 0s 4ms/step - loss: 0.1055 - accuracy: 0.9587 - val_loss: 0.1162 - val_accuracy: 0.9766\n",
      "Epoch 53/100\n",
      " 1/16 [>.............................] - ETA: 0s - loss: 0.0765 - accuracy: 0.9375\n",
      "Epoch 00053: val_loss did not improve from 0.11339\n",
      "16/16 [==============================] - 0s 4ms/step - loss: 0.0820 - accuracy: 0.9686 - val_loss: 0.1251 - val_accuracy: 0.9688\n",
      "Epoch 54/100\n",
      " 1/16 [>.............................] - ETA: 0s - loss: 0.0938 - accuracy: 0.9688\n",
      "Epoch 00054: val_loss did not improve from 0.11339\n",
      "16/16 [==============================] - 0s 4ms/step - loss: 0.0785 - accuracy: 0.9725 - val_loss: 0.1252 - val_accuracy: 0.9766\n",
      "Epoch 55/100\n",
      " 1/16 [>.............................] - ETA: 0s - loss: 0.0228 - accuracy: 1.0000\n",
      "Epoch 00055: val_loss did not improve from 0.11339\n",
      "16/16 [==============================] - 0s 4ms/step - loss: 0.0706 - accuracy: 0.9745 - val_loss: 0.1250 - val_accuracy: 0.9688\n",
      "Epoch 56/100\n",
      " 1/16 [>.............................] - ETA: 0s - loss: 0.1112 - accuracy: 0.9375\n",
      "Epoch 00056: val_loss did not improve from 0.11339\n",
      "16/16 [==============================] - 0s 4ms/step - loss: 0.0741 - accuracy: 0.9666 - val_loss: 0.1273 - val_accuracy: 0.9766\n",
      "Epoch 57/100\n"
     ]
    },
    {
     "name": "stdout",
     "output_type": "stream",
     "text": [
      " 1/16 [>.............................] - ETA: 0s - loss: 0.0606 - accuracy: 0.9688\n",
      "Epoch 00057: val_loss did not improve from 0.11339\n",
      "16/16 [==============================] - 0s 4ms/step - loss: 0.0648 - accuracy: 0.9764 - val_loss: 0.1247 - val_accuracy: 0.9766\n",
      "Epoch 58/100\n",
      " 1/16 [>.............................] - ETA: 0s - loss: 0.0694 - accuracy: 0.9688\n",
      "Epoch 00058: val_loss did not improve from 0.11339\n",
      "16/16 [==============================] - 0s 4ms/step - loss: 0.0830 - accuracy: 0.9666 - val_loss: 0.1153 - val_accuracy: 0.9766\n",
      "Epoch 59/100\n",
      " 1/16 [>.............................] - ETA: 0s - loss: 0.0259 - accuracy: 1.0000\n",
      "Epoch 00059: val_loss did not improve from 0.11339\n",
      "16/16 [==============================] - 0s 4ms/step - loss: 0.0739 - accuracy: 0.9725 - val_loss: 0.1167 - val_accuracy: 0.9766\n",
      "Epoch 60/100\n",
      " 1/16 [>.............................] - ETA: 0s - loss: 0.0794 - accuracy: 0.9688\n",
      "Epoch 00060: val_loss did not improve from 0.11339\n",
      "16/16 [==============================] - 0s 4ms/step - loss: 0.0687 - accuracy: 0.9784 - val_loss: 0.1207 - val_accuracy: 0.9766\n",
      "Epoch 61/100\n",
      " 1/16 [>.............................] - ETA: 0s - loss: 0.0098 - accuracy: 1.0000\n",
      "Epoch 00061: val_loss did not improve from 0.11339\n",
      "16/16 [==============================] - 0s 4ms/step - loss: 0.0733 - accuracy: 0.9764 - val_loss: 0.1215 - val_accuracy: 0.9688\n",
      "Epoch 62/100\n",
      " 1/16 [>.............................] - ETA: 0s - loss: 0.0593 - accuracy: 0.9688\n",
      "Epoch 00062: val_loss did not improve from 0.11339\n",
      "16/16 [==============================] - 0s 4ms/step - loss: 0.0821 - accuracy: 0.9686 - val_loss: 0.1216 - val_accuracy: 0.9766\n",
      "Epoch 63/100\n",
      " 1/16 [>.............................] - ETA: 0s - loss: 0.0916 - accuracy: 0.9375\n",
      "Epoch 00063: val_loss did not improve from 0.11339\n",
      "16/16 [==============================] - 0s 4ms/step - loss: 0.0810 - accuracy: 0.9725 - val_loss: 0.1218 - val_accuracy: 0.9766\n",
      "Epoch 64/100\n",
      " 1/16 [>.............................] - ETA: 0s - loss: 0.0087 - accuracy: 1.0000\n",
      "Epoch 00064: val_loss did not improve from 0.11339\n",
      "16/16 [==============================] - 0s 4ms/step - loss: 0.0809 - accuracy: 0.9705 - val_loss: 0.1192 - val_accuracy: 0.9766\n",
      "Epoch 65/100\n",
      " 1/16 [>.............................] - ETA: 0s - loss: 0.2558 - accuracy: 0.8750\n",
      "Epoch 00065: val_loss did not improve from 0.11339\n",
      "16/16 [==============================] - 0s 4ms/step - loss: 0.0790 - accuracy: 0.9686 - val_loss: 0.1184 - val_accuracy: 0.9766\n",
      "Epoch 66/100\n",
      " 1/16 [>.............................] - ETA: 0s - loss: 0.0316 - accuracy: 1.0000\n",
      "Epoch 00066: val_loss did not improve from 0.11339\n",
      "16/16 [==============================] - 0s 4ms/step - loss: 0.0788 - accuracy: 0.9745 - val_loss: 0.1183 - val_accuracy: 0.9766\n",
      "Epoch 67/100\n",
      " 1/16 [>.............................] - ETA: 0s - loss: 0.1381 - accuracy: 0.9688\n",
      "Epoch 00067: val_loss did not improve from 0.11339\n",
      "16/16 [==============================] - 0s 4ms/step - loss: 0.0578 - accuracy: 0.9804 - val_loss: 0.1236 - val_accuracy: 0.9766\n",
      "Epoch 68/100\n",
      " 1/16 [>.............................] - ETA: 0s - loss: 0.0214 - accuracy: 1.0000\n",
      "Epoch 00068: val_loss did not improve from 0.11339\n",
      "16/16 [==============================] - 0s 4ms/step - loss: 0.0647 - accuracy: 0.9784 - val_loss: 0.1192 - val_accuracy: 0.9766\n",
      "Epoch 69/100\n",
      " 1/16 [>.............................] - ETA: 0s - loss: 0.0353 - accuracy: 1.0000\n",
      "Epoch 00069: val_loss did not improve from 0.11339\n",
      "16/16 [==============================] - 0s 4ms/step - loss: 0.0606 - accuracy: 0.9804 - val_loss: 0.1256 - val_accuracy: 0.9766\n",
      "Epoch 70/100\n",
      " 1/16 [>.............................] - ETA: 0s - loss: 0.0322 - accuracy: 1.0000\n",
      "Epoch 00070: val_loss did not improve from 0.11339\n",
      "16/16 [==============================] - 0s 4ms/step - loss: 0.0690 - accuracy: 0.9823 - val_loss: 0.1253 - val_accuracy: 0.9766\n",
      "Epoch 71/100\n",
      " 1/16 [>.............................] - ETA: 0s - loss: 0.0125 - accuracy: 1.0000\n",
      "Epoch 00071: val_loss did not improve from 0.11339\n",
      "16/16 [==============================] - 0s 4ms/step - loss: 0.0594 - accuracy: 0.9804 - val_loss: 0.1296 - val_accuracy: 0.9766\n",
      "Epoch 72/100\n",
      " 1/16 [>.............................] - ETA: 0s - loss: 0.0188 - accuracy: 1.0000\n",
      "Epoch 00072: val_loss did not improve from 0.11339\n",
      "16/16 [==============================] - 0s 4ms/step - loss: 0.0756 - accuracy: 0.9725 - val_loss: 0.1202 - val_accuracy: 0.9766\n",
      "Epoch 73/100\n",
      " 1/16 [>.............................] - ETA: 0s - loss: 0.0091 - accuracy: 1.0000\n",
      "Epoch 00073: val_loss did not improve from 0.11339\n",
      "16/16 [==============================] - 0s 4ms/step - loss: 0.0719 - accuracy: 0.9745 - val_loss: 0.1150 - val_accuracy: 0.9766\n",
      "Epoch 74/100\n",
      " 1/16 [>.............................] - ETA: 0s - loss: 0.0280 - accuracy: 1.0000\n",
      "Epoch 00074: val_loss did not improve from 0.11339\n",
      "16/16 [==============================] - 0s 4ms/step - loss: 0.0684 - accuracy: 0.9784 - val_loss: 0.1228 - val_accuracy: 0.9766\n",
      "Epoch 75/100\n",
      " 1/16 [>.............................] - ETA: 0s - loss: 0.0401 - accuracy: 1.0000\n",
      "Epoch 00075: val_loss did not improve from 0.11339\n",
      "16/16 [==============================] - 0s 4ms/step - loss: 0.0718 - accuracy: 0.9784 - val_loss: 0.1199 - val_accuracy: 0.9766\n",
      "Epoch 76/100\n",
      " 1/16 [>.............................] - ETA: 0s - loss: 0.0859 - accuracy: 0.9688\n",
      "Epoch 00076: val_loss did not improve from 0.11339\n",
      "16/16 [==============================] - 0s 4ms/step - loss: 0.0590 - accuracy: 0.9784 - val_loss: 0.1271 - val_accuracy: 0.9688\n",
      "Epoch 77/100\n",
      " 1/16 [>.............................] - ETA: 0s - loss: 0.0254 - accuracy: 1.0000\n",
      "Epoch 00077: val_loss did not improve from 0.11339\n",
      "16/16 [==============================] - 0s 4ms/step - loss: 0.0775 - accuracy: 0.9745 - val_loss: 0.1253 - val_accuracy: 0.9766\n",
      "Epoch 78/100\n",
      " 1/16 [>.............................] - ETA: 0s - loss: 0.0101 - accuracy: 1.0000\n",
      "Epoch 00078: val_loss did not improve from 0.11339\n",
      "16/16 [==============================] - 0s 4ms/step - loss: 0.0575 - accuracy: 0.9843 - val_loss: 0.1266 - val_accuracy: 0.9766\n",
      "Epoch 00078: early stopping\n"
     ]
    }
   ],
   "source": [
    "history = model.fit(data_train, label_train, validation_split=0.2, epochs=100, verbose = 1, callbacks=[checkpoint,early])"
   ]
  },
  {
   "cell_type": "code",
   "execution_count": 11,
   "id": "ab63c0a3",
   "metadata": {},
   "outputs": [
    {
     "data": {
      "image/png": "[encoded data removed]",
      "text/plain": [
       "<Figure size 640x480 with 1 Axes>"
      ]
     },
     "metadata": {},
     "output_type": "display_data"
    }
   ],
   "source": [
    "# Plot training & validation accuracy values\n",
    "plt.plot(history.history['accuracy'])\n",
    "plt.plot(history.history['val_accuracy'])\n",
    "plt.title('BRNN Model Accuracy')\n",
    "plt.ylabel('Accuracy')\n",
    "plt.xlabel('Epoch')\n",
    "plt.legend(['Train', 'Test'], loc='lower right')\n",
    "# plt.savefig('BRNN 200 Model Accuracy.png')\n",
    "plt.show()"
   ]
  },
  {
   "cell_type": "code",
   "execution_count": 12,
   "id": "04277965",
   "metadata": {},
   "outputs": [
    {
     "data": {
      "image/png": "[encoded data removed]",
      "text/plain": [
       "<Figure size 640x480 with 1 Axes>"
      ]
     },
     "metadata": {},
     "output_type": "display_data"
    }
   ],
   "source": [
    "# Plot training & validation loss values\n",
    "plt.plot(history.history['loss'])\n",
    "plt.plot(history.history['val_loss'])\n",
    "plt.title('BRNN Model  Loss')\n",
    "plt.ylabel('Loss')\n",
    "plt.xlabel('Epoch')\n",
    "plt.legend(['Train', 'Test'], loc='upper left')\n",
    "# plt.savefig('BRNN 200 Model Loss.png')\n",
    "plt.show()"
   ]
  },
  {
   "cell_type": "code",
   "execution_count": 13,
   "id": "cfcc8675",
   "metadata": {},
   "outputs": [
    {
     "name": "stdout",
     "output_type": "stream",
     "text": [
      "5/5 [==============================] - 0s 2ms/step\n"
     ]
    }
   ],
   "source": [
    "predict = model.predict(data_eval, verbose=1)"
   ]
  },
  {
   "cell_type": "code",
   "execution_count": 14,
   "id": "3b485068",
   "metadata": {},
   "outputs": [
    {
     "data": {
      "image/png": "[encoded data removed]",
      "text/plain": [
       "<Figure size 640x480 with 2 Axes>"
      ]
     },
     "metadata": {},
     "output_type": "display_data"
    }
   ],
   "source": [
    "tp = 0\n",
    "tn = 0\n",
    "fp = 0\n",
    "fn = 0\n",
    "predictn = predict.flatten().round()\n",
    "predictn = predictn.tolist()\n",
    "Y_testn = label_eval.tolist()\n",
    "for i in range(len(Y_testn)):\n",
    "  if predictn[i]==1 and Y_testn[i]==1:\n",
    "    tp+=1\n",
    "  elif predictn[i]==0 and Y_testn[i]==0:\n",
    "    tn+=1\n",
    "  elif predictn[i]==0 and Y_testn[i]==1:\n",
    "    fp+=1\n",
    "  elif predictn[i]==1 and Y_testn[i]==0:\n",
    "    fn+=1\n",
    "to_heat_map =[[tn,fp],[fn,tp]]\n",
    "to_heat_map = pd.DataFrame(to_heat_map, index = [\"Attack\",\"Normal\"],columns = [\"Attack\",\"Normal\"])\n",
    "ax = sns.heatmap(to_heat_map,annot=True, fmt=\"d\")"
   ]
  },
  {
   "cell_type": "code",
   "execution_count": 15,
   "id": "0f64d323",
   "metadata": {},
   "outputs": [
    {
     "name": "stdout",
     "output_type": "stream",
     "text": [
      "5/5 [==============================] - 0s 1ms/step - loss: 0.0315 - accuracy: 0.9812\n",
      "accuracy: 98.12%\n"
     ]
    }
   ],
   "source": [
    "scores = model.evaluate(data_eval, label_eval)\n",
    "print(\"%s: %.2f%%\" % (model.metrics_names[1], scores[1]*100))"
   ]
  },
  {
   "cell_type": "code",
   "execution_count": 16,
   "id": "8355540c",
   "metadata": {},
   "outputs": [
    {
     "name": "stdout",
     "output_type": "stream",
     "text": [
      "              precision    recall  f1-score   support\n",
      "\n",
      "           0       0.97      1.00      0.98        98\n",
      "           1       1.00      0.95      0.98        62\n",
      "\n",
      "    accuracy                           0.98       160\n",
      "   macro avg       0.99      0.98      0.98       160\n",
      "weighted avg       0.98      0.98      0.98       160\n",
      "\n"
     ]
    }
   ],
   "source": [
    "print(classification_report(Y_testn,predictn))"
   ]
  },
  {
   "cell_type": "code",
   "execution_count": 17,
   "id": "6b1e5995",
   "metadata": {},
   "outputs": [
    {
     "name": "stdout",
     "output_type": "stream",
     "text": [
      "SVM: ROC AUC=0.976\n"
     ]
    }
   ],
   "source": [
    "lr_auc = roc_auc_score(Y_testn, predictn)\n",
    "print('SVM: ROC AUC=%.3f' % (lr_auc))"
   ]
  },
  {
   "cell_type": "code",
   "execution_count": 18,
   "id": "9e9ffd90",
   "metadata": {},
   "outputs": [
    {
     "name": "stdout",
     "output_type": "stream",
     "text": [
      "1/1 [==============================] - 0s 38ms/step\n",
      "Time elapse for prediction : 0.05886260000000121\n",
      "[[1.]]\n"
     ]
    }
   ],
   "source": [
    "time_start = time.perf_counter()\n",
    "predict = model.predict(data_eval[:1], verbose=1)\n",
    "print(f\"Time elapse for prediction : {time.perf_counter() - time_start}\")\n",
    "print(predict)"
   ]
  },
  {
   "cell_type": "code",
   "execution_count": null,
   "id": "fe718f7a",
   "metadata": {},
   "outputs": [],
   "source": []
  }
 ],
 "metadata": {
  "kernelspec": {
   "display_name": "Python 3 (ipykernel)",
   "language": "python",
   "name": "python3"
  },
  "language_info": {
   "codemirror_mode": {
    "name": "ipython",
    "version": 3
   },
   "file_extension": ".py",
   "mimetype": "text/x-python",
   "name": "python",
   "nbconvert_exporter": "python",
   "pygments_lexer": "ipython3",
   "version": "3.9.13"
  }
 },
 "nbformat": 4,
 "nbformat_minor": 5
}
