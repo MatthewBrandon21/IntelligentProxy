{
 "cells": [
  {
   "cell_type": "code",
   "execution_count": 1,
   "id": "9f780517",
   "metadata": {},
   "outputs": [],
   "source": [
    "import numpy as np\n",
    "import pandas as pd\n",
    "from matplotlib import pyplot as plt\n",
    "import seaborn as sns; sns.set()\n",
    "from keras.layers import Dense, Dropout\n",
    "from keras.models import Sequential\n",
    "from keras.models import load_model\n",
    "from keras.callbacks import ModelCheckpoint, EarlyStopping\n",
    "from tensorflow.keras.utils import to_categorical\n",
    "from sklearn.model_selection import train_test_split\n",
    "from sklearn.preprocessing import LabelEncoder, StandardScaler\n",
    "from sklearn.metrics import classification_report, confusion_matrix\n",
    "from sklearn.metrics import roc_auc_score\n",
    "import joblib\n",
    "import time\n",
    "from collections import Counter\n",
    "from imblearn.over_sampling import SMOTE\n",
    "from imblearn.under_sampling import RandomUnderSampler\n",
    "from imblearn.pipeline import Pipeline"
   ]
  },
  {
   "cell_type": "code",
   "execution_count": 2,
   "id": "5c265d83",
   "metadata": {},
   "outputs": [],
   "source": [
    "features, labels = [], []\n",
    "training_files = [\"../dataset/individual/udp_dataset_individual_attack_3detik_1.csv\",\n",
    "                  \"../dataset/individual/udp_dataset_individual_normal_3detik_1.csv\",\n",
    "                  \"../dataset/individual/udp_dataset_individual_normal_3detik_2.csv\"]"
   ]
  },
  {
   "cell_type": "code",
   "execution_count": 3,
   "id": "33a79058",
   "metadata": {},
   "outputs": [],
   "source": [
    "def scrape_data():\n",
    "    global training_files\n",
    "    global features\n",
    "    global labels\n",
    "    \n",
    "    for fname in training_files:\n",
    "        meal = open(fname, \"rt\")\n",
    "        for line in meal:\n",
    "            data_list = line.rsplit(\",\")\n",
    "            if(len(data_list) != 8):\n",
    "                print(\"error data\")\n",
    "            else:\n",
    "                data_list[(len(data_list)-1)]=int(data_list[(len(data_list)-1)].replace('\\n', ''))\n",
    "                features.append(data_list[:(len(data_list)-1)])\n",
    "                labels.append(data_list[(len(data_list)-1)])\n",
    "        meal.close()\n",
    "    \n",
    "    data_counter = Counter(labels)\n",
    "    print(data_counter)\n",
    "    \n",
    "    over = SMOTE()\n",
    "    under = RandomUnderSampler()\n",
    "    steps = [('o', over), ('u', under)]\n",
    "    pipeline = Pipeline(steps=steps)\n",
    "    features, labels = pipeline.fit_resample(features, labels)\n",
    "    \n",
    "    data_counter = Counter(labels)\n",
    "    print(data_counter)\n",
    "    \n",
    "    scalar = StandardScaler(copy=True, with_mean=True, with_std=True)\n",
    "    scalar.fit(features)\n",
    "    features = scalar.transform(features)\n",
    "    \n",
    "    features = np.array(features).astype(np.float64)\n",
    "    features = features.tolist()\n",
    "    \n",
    "    print(f\"Size of feature dataset : {len(features)}\")\n",
    "    print(f\"Size of feature dataset : {len(labels)}\")\n",
    "    print(\"Features first and last entries:\\n\\t\", end = \"\")\n",
    "    print(features[:1] + features[(len(features)-1):])\n",
    "    print(\"Labels first and last entries:\\n\\t\", end = \"\")\n",
    "    print(labels[:1] + labels[(len(features)-1):])\n",
    "    \n",
    "    features_train, features_test, labels_train, labels_test = train_test_split(features, labels, test_size = 0.20, stratify=labels, random_state = 0)\n",
    "    \n",
    "    return np.asarray(features_train), np.asarray(labels_train), np.asarray(features_test), np.asarray(labels_test)"
   ]
  },
  {
   "cell_type": "code",
   "execution_count": 4,
   "id": "9b84bae1",
   "metadata": {},
   "outputs": [],
   "source": [
    "def generate_model(shape):\n",
    "    model = Sequential()\n",
    "\n",
    "    model.add(Dense(256, input_dim=shape, kernel_initializer='uniform', activation='relu'))\n",
    "    model.add(Dropout(0.4))\n",
    "    model.add(Dense(128, activation='relu'))\n",
    "    model.add(Dropout(0.4))\n",
    "    model.add(Dense(64, activation='relu'))\n",
    "    model.add(Dropout(0.4))\n",
    "    model.add(Dense(32, activation='relu'))\n",
    "    model.add(Dropout(0.4))\n",
    "    model.add(Dense(1, activation='sigmoid'))\n",
    "    print(model.summary())\n",
    "\n",
    "    return model"
   ]
  },
  {
   "cell_type": "code",
   "execution_count": 5,
   "id": "d6ef0b01",
   "metadata": {},
   "outputs": [
    {
     "name": "stdout",
     "output_type": "stream",
     "text": [
      "Counter({0: 183, 1: 139})\n",
      "Counter({0: 183, 1: 183})\n",
      "Size of feature dataset : 366\n",
      "Size of feature dataset : 366\n",
      "Features first and last entries:\n",
      "\t[[-2.062642706731283, -0.48766948746939165, -0.6543788729413251, 0.0, -0.7798567619157751, 0.0, -1.2819901952841306], [0.3953151314635222, -0.48766948746939165, 1.180600373415814, 0.0, 1.7421378296229522, 0.0, 0.6900009351428431]]\n",
      "Labels first and last entries:\n",
      "\t[0, 1]\n"
     ]
    },
    {
     "name": "stderr",
     "output_type": "stream",
     "text": [
      "C:\\Users\\H P VICTUS\\anaconda3\\lib\\site-packages\\sklearn\\utils\\validation.py:964: FutureWarning: Arrays of bytes/strings is being converted to decimal numbers if dtype='numeric'. This behavior is deprecated in 0.24 and will be removed in 1.1 (renaming of 0.26). Please convert your data to numeric values explicitly instead.\n",
      "  X = check_array(\n"
     ]
    }
   ],
   "source": [
    "data_train, label_train, data_eval, label_eval = scrape_data()"
   ]
  },
  {
   "cell_type": "code",
   "execution_count": 6,
   "id": "89771801",
   "metadata": {},
   "outputs": [
    {
     "name": "stdout",
     "output_type": "stream",
     "text": [
      "Model: \"sequential\"\n",
      "_________________________________________________________________\n",
      " Layer (type)                Output Shape              Param #   \n",
      "=================================================================\n",
      " dense (Dense)               (None, 256)               2048      \n",
      "                                                                 \n",
      " dropout (Dropout)           (None, 256)               0         \n",
      "                                                                 \n",
      " dense_1 (Dense)             (None, 128)               32896     \n",
      "                                                                 \n",
      " dropout_1 (Dropout)         (None, 128)               0         \n",
      "                                                                 \n",
      " dense_2 (Dense)             (None, 64)                8256      \n",
      "                                                                 \n",
      " dropout_2 (Dropout)         (None, 64)                0         \n",
      "                                                                 \n",
      " dense_3 (Dense)             (None, 32)                2080      \n",
      "                                                                 \n",
      " dropout_3 (Dropout)         (None, 32)                0         \n",
      "                                                                 \n",
      " dense_4 (Dense)             (None, 1)                 33        \n",
      "                                                                 \n",
      "=================================================================\n",
      "Total params: 45,313\n",
      "Trainable params: 45,313\n",
      "Non-trainable params: 0\n",
      "_________________________________________________________________\n",
      "None\n"
     ]
    }
   ],
   "source": [
    "model = generate_model(len(data_train[0]))"
   ]
  },
  {
   "cell_type": "code",
   "execution_count": 7,
   "id": "071ae79f",
   "metadata": {},
   "outputs": [
    {
     "name": "stdout",
     "output_type": "stream",
     "text": [
      "Model: \"sequential\"\n",
      "_________________________________________________________________\n",
      " Layer (type)                Output Shape              Param #   \n",
      "=================================================================\n",
      " dense (Dense)               (None, 256)               2048      \n",
      "                                                                 \n",
      " dropout (Dropout)           (None, 256)               0         \n",
      "                                                                 \n",
      " dense_1 (Dense)             (None, 128)               32896     \n",
      "                                                                 \n",
      " dropout_1 (Dropout)         (None, 128)               0         \n",
      "                                                                 \n",
      " dense_2 (Dense)             (None, 64)                8256      \n",
      "                                                                 \n",
      " dropout_2 (Dropout)         (None, 64)                0         \n",
      "                                                                 \n",
      " dense_3 (Dense)             (None, 32)                2080      \n",
      "                                                                 \n",
      " dropout_3 (Dropout)         (None, 32)                0         \n",
      "                                                                 \n",
      " dense_4 (Dense)             (None, 1)                 33        \n",
      "                                                                 \n",
      "=================================================================\n",
      "Total params: 45,313\n",
      "Trainable params: 45,313\n",
      "Non-trainable params: 0\n",
      "_________________________________________________________________\n"
     ]
    }
   ],
   "source": [
    "model.summary()"
   ]
  },
  {
   "cell_type": "code",
   "execution_count": 8,
   "id": "5e5b8b02",
   "metadata": {},
   "outputs": [],
   "source": [
    "model.compile(loss='binary_crossentropy', optimizer='adam', metrics=['accuracy'])"
   ]
  },
  {
   "cell_type": "code",
   "execution_count": 9,
   "id": "6c798507",
   "metadata": {},
   "outputs": [
    {
     "name": "stdout",
     "output_type": "stream",
     "text": [
      "WARNING:tensorflow:`period` argument is deprecated. Please use `save_freq` to specify the frequency in number of batches seen.\n"
     ]
    }
   ],
   "source": [
    "checkpoint = ModelCheckpoint(\"dnnModel.h5\", monitor='val_loss', verbose=1, save_best_only=True, save_weights_only=False, mode='auto', period=1)\n",
    "early = EarlyStopping(monitor='val_loss', min_delta=0, patience=30, verbose=1, mode='auto')"
   ]
  },
  {
   "cell_type": "code",
   "execution_count": 10,
   "id": "a7def03b",
   "metadata": {},
   "outputs": [
    {
     "name": "stdout",
     "output_type": "stream",
     "text": [
      "Epoch 1/100\n",
      "1/8 [==>...........................] - ETA: 6s - loss: 0.7018 - accuracy: 0.3438\n",
      "Epoch 00001: val_loss improved from inf to 0.63951, saving model to dnnModel.h5\n",
      "8/8 [==============================] - 1s 22ms/step - loss: 0.6777 - accuracy: 0.5966 - val_loss: 0.6395 - val_accuracy: 0.9831\n",
      "Epoch 2/100\n",
      "1/8 [==>...........................] - ETA: 0s - loss: 0.6548 - accuracy: 0.7188\n",
      "Epoch 00002: val_loss improved from 0.63951 to 0.55236, saving model to dnnModel.h5\n",
      "8/8 [==============================] - 0s 9ms/step - loss: 0.6163 - accuracy: 0.7597 - val_loss: 0.5524 - val_accuracy: 0.9831\n",
      "Epoch 3/100\n",
      "1/8 [==>...........................] - ETA: 0s - loss: 0.5502 - accuracy: 0.9375\n",
      "Epoch 00003: val_loss improved from 0.55236 to 0.39920, saving model to dnnModel.h5\n",
      "8/8 [==============================] - 0s 8ms/step - loss: 0.5055 - accuracy: 0.9142 - val_loss: 0.3992 - val_accuracy: 1.0000\n",
      "Epoch 4/100\n",
      "1/8 [==>...........................] - ETA: 0s - loss: 0.4012 - accuracy: 0.9375\n",
      "Epoch 00004: val_loss improved from 0.39920 to 0.24637, saving model to dnnModel.h5\n",
      "8/8 [==============================] - 0s 8ms/step - loss: 0.3786 - accuracy: 0.9485 - val_loss: 0.2464 - val_accuracy: 1.0000\n",
      "Epoch 5/100\n",
      "1/8 [==>...........................] - ETA: 0s - loss: 0.2791 - accuracy: 0.9688\n",
      "Epoch 00005: val_loss improved from 0.24637 to 0.12827, saving model to dnnModel.h5\n",
      "8/8 [==============================] - 0s 8ms/step - loss: 0.2274 - accuracy: 0.9700 - val_loss: 0.1283 - val_accuracy: 1.0000\n",
      "Epoch 6/100\n",
      "1/8 [==>...........................] - ETA: 0s - loss: 0.1408 - accuracy: 1.0000\n",
      "Epoch 00006: val_loss improved from 0.12827 to 0.06340, saving model to dnnModel.h5\n",
      "8/8 [==============================] - 0s 8ms/step - loss: 0.1320 - accuracy: 0.9828 - val_loss: 0.0634 - val_accuracy: 0.9831\n",
      "Epoch 7/100\n",
      "1/8 [==>...........................] - ETA: 0s - loss: 0.0801 - accuracy: 0.9688\n",
      "Epoch 00007: val_loss improved from 0.06340 to 0.05330, saving model to dnnModel.h5\n",
      "8/8 [==============================] - 0s 9ms/step - loss: 0.0801 - accuracy: 0.9828 - val_loss: 0.0533 - val_accuracy: 0.9831\n",
      "Epoch 8/100\n",
      "1/8 [==>...........................] - ETA: 0s - loss: 0.0593 - accuracy: 1.0000\n",
      "Epoch 00008: val_loss did not improve from 0.05330\n",
      "8/8 [==============================] - 0s 5ms/step - loss: 0.0638 - accuracy: 0.9871 - val_loss: 0.0577 - val_accuracy: 0.9831\n",
      "Epoch 9/100\n",
      "1/8 [==>...........................] - ETA: 0s - loss: 0.0314 - accuracy: 1.0000\n",
      "Epoch 00009: val_loss did not improve from 0.05330\n",
      "8/8 [==============================] - 0s 5ms/step - loss: 0.0705 - accuracy: 0.9957 - val_loss: 0.0623 - val_accuracy: 0.9831\n",
      "Epoch 10/100\n",
      "1/8 [==>...........................] - ETA: 0s - loss: 0.0146 - accuracy: 1.0000\n",
      "Epoch 00010: val_loss did not improve from 0.05330\n",
      "8/8 [==============================] - 0s 5ms/step - loss: 0.0649 - accuracy: 0.9871 - val_loss: 0.0691 - val_accuracy: 0.9831\n",
      "Epoch 11/100\n",
      "1/8 [==>...........................] - ETA: 0s - loss: 0.0157 - accuracy: 1.0000\n",
      "Epoch 00011: val_loss did not improve from 0.05330\n",
      "8/8 [==============================] - 0s 5ms/step - loss: 0.0439 - accuracy: 0.9871 - val_loss: 0.0792 - val_accuracy: 0.9831\n",
      "Epoch 12/100\n",
      "1/8 [==>...........................] - ETA: 0s - loss: 0.0112 - accuracy: 1.0000\n",
      "Epoch 00012: val_loss did not improve from 0.05330\n",
      "8/8 [==============================] - 0s 5ms/step - loss: 0.0361 - accuracy: 0.9957 - val_loss: 0.0817 - val_accuracy: 0.9831\n",
      "Epoch 13/100\n",
      "1/8 [==>...........................] - ETA: 0s - loss: 0.0991 - accuracy: 0.9688\n",
      "Epoch 00013: val_loss did not improve from 0.05330\n",
      "8/8 [==============================] - 0s 6ms/step - loss: 0.0341 - accuracy: 0.9914 - val_loss: 0.0805 - val_accuracy: 0.9831\n",
      "Epoch 14/100\n",
      "1/8 [==>...........................] - ETA: 0s - loss: 0.0393 - accuracy: 0.9688\n",
      "Epoch 00014: val_loss did not improve from 0.05330\n",
      "8/8 [==============================] - 0s 6ms/step - loss: 0.0418 - accuracy: 0.9914 - val_loss: 0.0807 - val_accuracy: 0.9831\n",
      "Epoch 15/100\n",
      "1/8 [==>...........................] - ETA: 0s - loss: 0.0077 - accuracy: 1.0000\n",
      "Epoch 00015: val_loss did not improve from 0.05330\n",
      "8/8 [==============================] - 0s 5ms/step - loss: 0.0299 - accuracy: 0.9914 - val_loss: 0.0812 - val_accuracy: 0.9831\n",
      "Epoch 16/100\n",
      "1/8 [==>...........................] - ETA: 0s - loss: 0.0018 - accuracy: 1.0000\n",
      "Epoch 00016: val_loss did not improve from 0.05330\n",
      "8/8 [==============================] - 0s 5ms/step - loss: 0.0374 - accuracy: 0.9914 - val_loss: 0.0805 - val_accuracy: 0.9831\n",
      "Epoch 17/100\n",
      "1/8 [==>...........................] - ETA: 0s - loss: 0.0114 - accuracy: 1.0000\n",
      "Epoch 00017: val_loss did not improve from 0.05330\n",
      "8/8 [==============================] - 0s 5ms/step - loss: 0.0452 - accuracy: 0.9914 - val_loss: 0.0779 - val_accuracy: 0.9831\n",
      "Epoch 18/100\n",
      "1/8 [==>...........................] - ETA: 0s - loss: 0.0060 - accuracy: 1.0000\n",
      "Epoch 00018: val_loss did not improve from 0.05330\n",
      "8/8 [==============================] - 0s 5ms/step - loss: 0.0415 - accuracy: 0.9914 - val_loss: 0.0729 - val_accuracy: 0.9831\n",
      "Epoch 19/100\n",
      "1/8 [==>...........................] - ETA: 0s - loss: 0.0124 - accuracy: 1.0000\n",
      "Epoch 00019: val_loss did not improve from 0.05330\n",
      "8/8 [==============================] - 0s 5ms/step - loss: 0.0383 - accuracy: 0.9914 - val_loss: 0.0697 - val_accuracy: 0.9831\n",
      "Epoch 20/100\n",
      "1/8 [==>...........................] - ETA: 0s - loss: 0.2013 - accuracy: 0.9688\n",
      "Epoch 00020: val_loss did not improve from 0.05330\n",
      "8/8 [==============================] - 0s 5ms/step - loss: 0.0343 - accuracy: 0.9957 - val_loss: 0.0625 - val_accuracy: 0.9831\n",
      "Epoch 21/100\n",
      "1/8 [==>...........................] - ETA: 0s - loss: 0.0159 - accuracy: 1.0000\n",
      "Epoch 00021: val_loss did not improve from 0.05330\n",
      "8/8 [==============================] - 0s 5ms/step - loss: 0.0326 - accuracy: 0.9914 - val_loss: 0.0587 - val_accuracy: 0.9831\n",
      "Epoch 22/100\n",
      "1/8 [==>...........................] - ETA: 0s - loss: 0.0014 - accuracy: 1.0000\n",
      "Epoch 00022: val_loss did not improve from 0.05330\n",
      "8/8 [==============================] - 0s 5ms/step - loss: 0.0267 - accuracy: 0.9957 - val_loss: 0.0572 - val_accuracy: 0.9831\n",
      "Epoch 23/100\n",
      "1/8 [==>...........................] - ETA: 0s - loss: 0.0166 - accuracy: 1.0000\n",
      "Epoch 00023: val_loss did not improve from 0.05330\n",
      "8/8 [==============================] - 0s 5ms/step - loss: 0.0241 - accuracy: 0.9957 - val_loss: 0.0570 - val_accuracy: 0.9831\n",
      "Epoch 24/100\n",
      "1/8 [==>...........................] - ETA: 0s - loss: 0.0017 - accuracy: 1.0000\n",
      "Epoch 00024: val_loss improved from 0.05330 to 0.04791, saving model to dnnModel.h5\n",
      "8/8 [==============================] - 0s 8ms/step - loss: 0.0345 - accuracy: 0.9957 - val_loss: 0.0479 - val_accuracy: 0.9831\n",
      "Epoch 25/100\n",
      "1/8 [==>...........................] - ETA: 0s - loss: 0.1257 - accuracy: 0.9688\n",
      "Epoch 00025: val_loss improved from 0.04791 to 0.03583, saving model to dnnModel.h5\n",
      "8/8 [==============================] - 0s 8ms/step - loss: 0.0254 - accuracy: 0.9914 - val_loss: 0.0358 - val_accuracy: 0.9831\n",
      "Epoch 26/100\n",
      "1/8 [==>...........................] - ETA: 0s - loss: 0.0022 - accuracy: 1.0000\n",
      "Epoch 00026: val_loss improved from 0.03583 to 0.02823, saving model to dnnModel.h5\n",
      "8/8 [==============================] - 0s 9ms/step - loss: 0.0148 - accuracy: 0.9957 - val_loss: 0.0282 - val_accuracy: 0.9831\n",
      "Epoch 27/100\n",
      "1/8 [==>...........................] - ETA: 0s - loss: 0.0036 - accuracy: 1.0000\n",
      "Epoch 00027: val_loss improved from 0.02823 to 0.02536, saving model to dnnModel.h5\n",
      "8/8 [==============================] - 0s 8ms/step - loss: 0.0203 - accuracy: 0.9914 - val_loss: 0.0254 - val_accuracy: 0.9831\n",
      "Epoch 28/100\n",
      "1/8 [==>...........................] - ETA: 0s - loss: 0.0107 - accuracy: 1.0000\n",
      "Epoch 00028: val_loss improved from 0.02536 to 0.02519, saving model to dnnModel.h5\n",
      "8/8 [==============================] - 0s 8ms/step - loss: 0.0130 - accuracy: 1.0000 - val_loss: 0.0252 - val_accuracy: 0.9831\n",
      "Epoch 29/100\n",
      "1/8 [==>...........................] - ETA: 0s - loss: 0.0025 - accuracy: 1.0000\n",
      "Epoch 00029: val_loss improved from 0.02519 to 0.02299, saving model to dnnModel.h5\n",
      "8/8 [==============================] - 0s 8ms/step - loss: 0.0115 - accuracy: 0.9957 - val_loss: 0.0230 - val_accuracy: 0.9831\n"
     ]
    },
    {
     "name": "stdout",
     "output_type": "stream",
     "text": [
      "Epoch 30/100\n",
      "1/8 [==>...........................] - ETA: 0s - loss: 0.0123 - accuracy: 1.0000\n",
      "Epoch 00030: val_loss improved from 0.02299 to 0.01417, saving model to dnnModel.h5\n",
      "8/8 [==============================] - 0s 7ms/step - loss: 0.0057 - accuracy: 1.0000 - val_loss: 0.0142 - val_accuracy: 0.9831\n",
      "Epoch 31/100\n",
      "1/8 [==>...........................] - ETA: 0s - loss: 0.0102 - accuracy: 1.0000\n",
      "Epoch 00031: val_loss did not improve from 0.01417\n",
      "8/8 [==============================] - 0s 5ms/step - loss: 0.0042 - accuracy: 1.0000 - val_loss: 0.0168 - val_accuracy: 0.9831\n",
      "Epoch 32/100\n",
      "1/8 [==>...........................] - ETA: 0s - loss: 0.0022 - accuracy: 1.0000\n",
      "Epoch 00032: val_loss did not improve from 0.01417\n",
      "8/8 [==============================] - 0s 5ms/step - loss: 0.0128 - accuracy: 0.9914 - val_loss: 0.0177 - val_accuracy: 0.9831\n",
      "Epoch 33/100\n",
      "1/8 [==>...........................] - ETA: 0s - loss: 0.0012 - accuracy: 1.0000\n",
      "Epoch 00033: val_loss did not improve from 0.01417\n",
      "8/8 [==============================] - 0s 5ms/step - loss: 0.0079 - accuracy: 0.9957 - val_loss: 0.0147 - val_accuracy: 0.9831\n",
      "Epoch 34/100\n",
      "1/8 [==>...........................] - ETA: 0s - loss: 0.0061 - accuracy: 1.0000\n",
      "Epoch 00034: val_loss improved from 0.01417 to 0.01112, saving model to dnnModel.h5\n",
      "8/8 [==============================] - 0s 8ms/step - loss: 0.0052 - accuracy: 1.0000 - val_loss: 0.0111 - val_accuracy: 1.0000\n",
      "Epoch 35/100\n",
      "1/8 [==>...........................] - ETA: 0s - loss: 0.0029 - accuracy: 1.0000\n",
      "Epoch 00035: val_loss improved from 0.01112 to 0.00927, saving model to dnnModel.h5\n",
      "8/8 [==============================] - 0s 9ms/step - loss: 0.0136 - accuracy: 0.9914 - val_loss: 0.0093 - val_accuracy: 1.0000\n",
      "Epoch 36/100\n",
      "1/8 [==>...........................] - ETA: 0s - loss: 0.0111 - accuracy: 1.0000\n",
      "Epoch 00036: val_loss improved from 0.00927 to 0.00753, saving model to dnnModel.h5\n",
      "8/8 [==============================] - 0s 9ms/step - loss: 0.0051 - accuracy: 1.0000 - val_loss: 0.0075 - val_accuracy: 1.0000\n",
      "Epoch 37/100\n",
      "1/8 [==>...........................] - ETA: 0s - loss: 0.0015 - accuracy: 1.0000\n",
      "Epoch 00037: val_loss did not improve from 0.00753\n",
      "8/8 [==============================] - 0s 5ms/step - loss: 0.0060 - accuracy: 0.9957 - val_loss: 0.0080 - val_accuracy: 1.0000\n",
      "Epoch 38/100\n",
      "1/8 [==>...........................] - ETA: 0s - loss: 6.6715e-04 - accuracy: 1.0000\n",
      "Epoch 00038: val_loss did not improve from 0.00753\n",
      "8/8 [==============================] - 0s 5ms/step - loss: 0.0074 - accuracy: 1.0000 - val_loss: 0.0104 - val_accuracy: 1.0000\n",
      "Epoch 39/100\n",
      "1/8 [==>...........................] - ETA: 0s - loss: 2.0589e-04 - accuracy: 1.0000\n",
      "Epoch 00039: val_loss did not improve from 0.00753\n",
      "8/8 [==============================] - 0s 5ms/step - loss: 0.0024 - accuracy: 1.0000 - val_loss: 0.0156 - val_accuracy: 0.9831\n",
      "Epoch 40/100\n",
      "1/8 [==>...........................] - ETA: 0s - loss: 0.0053 - accuracy: 1.0000\n",
      "Epoch 00040: val_loss did not improve from 0.00753\n",
      "8/8 [==============================] - 0s 5ms/step - loss: 0.0151 - accuracy: 0.9957 - val_loss: 0.0091 - val_accuracy: 1.0000\n",
      "Epoch 41/100\n",
      "1/8 [==>...........................] - ETA: 0s - loss: 2.9510e-04 - accuracy: 1.0000\n",
      "Epoch 00041: val_loss improved from 0.00753 to 0.00481, saving model to dnnModel.h5\n",
      "8/8 [==============================] - 0s 8ms/step - loss: 0.0051 - accuracy: 1.0000 - val_loss: 0.0048 - val_accuracy: 1.0000\n",
      "Epoch 42/100\n",
      "1/8 [==>...........................] - ETA: 0s - loss: 1.5049e-04 - accuracy: 1.0000\n",
      "Epoch 00042: val_loss did not improve from 0.00481\n",
      "8/8 [==============================] - 0s 5ms/step - loss: 0.0113 - accuracy: 0.9957 - val_loss: 0.0060 - val_accuracy: 1.0000\n",
      "Epoch 43/100\n",
      "1/8 [==>...........................] - ETA: 0s - loss: 2.7834e-04 - accuracy: 1.0000\n",
      "Epoch 00043: val_loss did not improve from 0.00481\n",
      "8/8 [==============================] - 0s 5ms/step - loss: 0.0032 - accuracy: 1.0000 - val_loss: 0.0067 - val_accuracy: 1.0000\n",
      "Epoch 44/100\n",
      "1/8 [==>...........................] - ETA: 0s - loss: 0.0021 - accuracy: 1.0000\n",
      "Epoch 00044: val_loss did not improve from 0.00481\n",
      "8/8 [==============================] - 0s 5ms/step - loss: 0.0232 - accuracy: 0.9957 - val_loss: 0.0087 - val_accuracy: 1.0000\n",
      "Epoch 45/100\n",
      "1/8 [==>...........................] - ETA: 0s - loss: 0.0044 - accuracy: 1.0000\n",
      "Epoch 00045: val_loss did not improve from 0.00481\n",
      "8/8 [==============================] - 0s 5ms/step - loss: 0.0152 - accuracy: 0.9957 - val_loss: 0.0148 - val_accuracy: 0.9831\n",
      "Epoch 46/100\n",
      "1/8 [==>...........................] - ETA: 0s - loss: 0.0097 - accuracy: 1.0000\n",
      "Epoch 00046: val_loss did not improve from 0.00481\n",
      "8/8 [==============================] - 0s 5ms/step - loss: 0.0050 - accuracy: 1.0000 - val_loss: 0.0167 - val_accuracy: 0.9831\n",
      "Epoch 47/100\n",
      "1/8 [==>...........................] - ETA: 0s - loss: 1.9945e-04 - accuracy: 1.0000\n",
      "Epoch 00047: val_loss did not improve from 0.00481\n",
      "8/8 [==============================] - 0s 6ms/step - loss: 0.0028 - accuracy: 1.0000 - val_loss: 0.0169 - val_accuracy: 0.9831\n",
      "Epoch 48/100\n",
      "1/8 [==>...........................] - ETA: 0s - loss: 7.1969e-04 - accuracy: 1.0000\n",
      "Epoch 00048: val_loss did not improve from 0.00481\n",
      "8/8 [==============================] - 0s 6ms/step - loss: 0.0088 - accuracy: 0.9957 - val_loss: 0.0223 - val_accuracy: 0.9831\n",
      "Epoch 49/100\n",
      "1/8 [==>...........................] - ETA: 0s - loss: 4.6109e-04 - accuracy: 1.0000\n",
      "Epoch 00049: val_loss did not improve from 0.00481\n",
      "8/8 [==============================] - 0s 7ms/step - loss: 0.0046 - accuracy: 0.9957 - val_loss: 0.0068 - val_accuracy: 1.0000\n",
      "Epoch 50/100\n",
      "1/8 [==>...........................] - ETA: 0s - loss: 9.2921e-04 - accuracy: 1.0000\n",
      "Epoch 00050: val_loss improved from 0.00481 to 0.00308, saving model to dnnModel.h5\n",
      "8/8 [==============================] - 0s 12ms/step - loss: 0.0017 - accuracy: 1.0000 - val_loss: 0.0031 - val_accuracy: 1.0000\n",
      "Epoch 51/100\n",
      "1/8 [==>...........................] - ETA: 0s - loss: 0.0093 - accuracy: 1.0000\n",
      "Epoch 00051: val_loss improved from 0.00308 to 0.00234, saving model to dnnModel.h5\n",
      "8/8 [==============================] - 0s 12ms/step - loss: 0.0184 - accuracy: 0.9957 - val_loss: 0.0023 - val_accuracy: 1.0000\n",
      "Epoch 52/100\n",
      "1/8 [==>...........................] - ETA: 0s - loss: 6.7661e-05 - accuracy: 1.0000\n",
      "Epoch 00052: val_loss improved from 0.00234 to 0.00185, saving model to dnnModel.h5\n",
      "8/8 [==============================] - 0s 11ms/step - loss: 0.0046 - accuracy: 1.0000 - val_loss: 0.0019 - val_accuracy: 1.0000\n",
      "Epoch 53/100\n",
      "1/8 [==>...........................] - ETA: 0s - loss: 4.9717e-04 - accuracy: 1.0000\n",
      "Epoch 00053: val_loss improved from 0.00185 to 0.00171, saving model to dnnModel.h5\n",
      "8/8 [==============================] - 0s 11ms/step - loss: 0.0020 - accuracy: 1.0000 - val_loss: 0.0017 - val_accuracy: 1.0000\n",
      "Epoch 54/100\n",
      "1/8 [==>...........................] - ETA: 0s - loss: 0.0043 - accuracy: 1.0000\n",
      "Epoch 00054: val_loss did not improve from 0.00171\n",
      "8/8 [==============================] - 0s 6ms/step - loss: 0.0020 - accuracy: 1.0000 - val_loss: 0.0019 - val_accuracy: 1.0000\n",
      "Epoch 55/100\n",
      "1/8 [==>...........................] - ETA: 0s - loss: 8.9175e-04 - accuracy: 1.0000\n",
      "Epoch 00055: val_loss did not improve from 0.00171\n",
      "8/8 [==============================] - 0s 6ms/step - loss: 0.0079 - accuracy: 0.9957 - val_loss: 0.0021 - val_accuracy: 1.0000\n",
      "Epoch 56/100\n",
      "1/8 [==>...........................] - ETA: 0s - loss: 8.3701e-04 - accuracy: 1.0000\n",
      "Epoch 00056: val_loss did not improve from 0.00171\n",
      "8/8 [==============================] - 0s 8ms/step - loss: 0.0151 - accuracy: 0.9957 - val_loss: 0.0032 - val_accuracy: 1.0000\n",
      "Epoch 57/100\n",
      "1/8 [==>...........................] - ETA: 0s - loss: 0.0073 - accuracy: 1.0000\n",
      "Epoch 00057: val_loss did not improve from 0.00171\n",
      "8/8 [==============================] - 0s 5ms/step - loss: 0.0029 - accuracy: 1.0000 - val_loss: 0.0031 - val_accuracy: 1.0000\n",
      "Epoch 58/100\n",
      "1/8 [==>...........................] - ETA: 0s - loss: 1.4818e-04 - accuracy: 1.0000\n",
      "Epoch 00058: val_loss did not improve from 0.00171\n",
      "8/8 [==============================] - 0s 7ms/step - loss: 0.0191 - accuracy: 0.9957 - val_loss: 0.0038 - val_accuracy: 1.0000\n"
     ]
    },
    {
     "name": "stdout",
     "output_type": "stream",
     "text": [
      "Epoch 59/100\n",
      "1/8 [==>...........................] - ETA: 0s - loss: 7.6878e-04 - accuracy: 1.0000\n",
      "Epoch 00059: val_loss did not improve from 0.00171\n",
      "8/8 [==============================] - 0s 6ms/step - loss: 0.0029 - accuracy: 1.0000 - val_loss: 0.0054 - val_accuracy: 1.0000\n",
      "Epoch 60/100\n",
      "1/8 [==>...........................] - ETA: 0s - loss: 0.0416 - accuracy: 0.9688\n",
      "Epoch 00060: val_loss did not improve from 0.00171\n",
      "8/8 [==============================] - 0s 6ms/step - loss: 0.0079 - accuracy: 0.9957 - val_loss: 0.0054 - val_accuracy: 1.0000\n",
      "Epoch 61/100\n",
      "1/8 [==>...........................] - ETA: 0s - loss: 1.0521e-04 - accuracy: 1.0000\n",
      "Epoch 00061: val_loss did not improve from 0.00171\n",
      "8/8 [==============================] - 0s 7ms/step - loss: 0.0031 - accuracy: 1.0000 - val_loss: 0.0043 - val_accuracy: 1.0000\n",
      "Epoch 62/100\n",
      "1/8 [==>...........................] - ETA: 0s - loss: 1.3551e-04 - accuracy: 1.0000\n",
      "Epoch 00062: val_loss did not improve from 0.00171\n",
      "8/8 [==============================] - 0s 7ms/step - loss: 0.0011 - accuracy: 1.0000 - val_loss: 0.0032 - val_accuracy: 1.0000\n",
      "Epoch 63/100\n",
      "1/8 [==>...........................] - ETA: 0s - loss: 9.9018e-04 - accuracy: 1.0000\n",
      "Epoch 00063: val_loss did not improve from 0.00171\n",
      "8/8 [==============================] - 0s 5ms/step - loss: 0.0014 - accuracy: 1.0000 - val_loss: 0.0029 - val_accuracy: 1.0000\n",
      "Epoch 64/100\n",
      "1/8 [==>...........................] - ETA: 0s - loss: 6.5827e-04 - accuracy: 1.0000\n",
      "Epoch 00064: val_loss did not improve from 0.00171\n",
      "8/8 [==============================] - 0s 6ms/step - loss: 0.0022 - accuracy: 1.0000 - val_loss: 0.0027 - val_accuracy: 1.0000\n",
      "Epoch 65/100\n",
      "1/8 [==>...........................] - ETA: 0s - loss: 3.6493e-04 - accuracy: 1.0000\n",
      "Epoch 00065: val_loss did not improve from 0.00171\n",
      "8/8 [==============================] - 0s 7ms/step - loss: 8.8080e-04 - accuracy: 1.0000 - val_loss: 0.0025 - val_accuracy: 1.0000\n",
      "Epoch 66/100\n",
      "1/8 [==>...........................] - ETA: 0s - loss: 0.0322 - accuracy: 0.9688\n",
      "Epoch 00066: val_loss did not improve from 0.00171\n",
      "8/8 [==============================] - 0s 6ms/step - loss: 0.0049 - accuracy: 0.9957 - val_loss: 0.0068 - val_accuracy: 1.0000\n",
      "Epoch 67/100\n",
      "1/8 [==>...........................] - ETA: 0s - loss: 0.0327 - accuracy: 0.9688\n",
      "Epoch 00067: val_loss did not improve from 0.00171\n",
      "8/8 [==============================] - 0s 6ms/step - loss: 0.0050 - accuracy: 0.9957 - val_loss: 0.0084 - val_accuracy: 1.0000\n",
      "Epoch 68/100\n",
      "1/8 [==>...........................] - ETA: 0s - loss: 0.0013 - accuracy: 1.0000\n",
      "Epoch 00068: val_loss did not improve from 0.00171\n",
      "8/8 [==============================] - 0s 7ms/step - loss: 0.0076 - accuracy: 0.9957 - val_loss: 0.0108 - val_accuracy: 1.0000\n",
      "Epoch 69/100\n",
      "1/8 [==>...........................] - ETA: 0s - loss: 2.3377e-04 - accuracy: 1.0000\n",
      "Epoch 00069: val_loss did not improve from 0.00171\n",
      "8/8 [==============================] - 0s 8ms/step - loss: 0.0012 - accuracy: 1.0000 - val_loss: 0.0230 - val_accuracy: 0.9831\n",
      "Epoch 70/100\n",
      "1/8 [==>...........................] - ETA: 0s - loss: 4.0585e-04 - accuracy: 1.0000\n",
      "Epoch 00070: val_loss did not improve from 0.00171\n",
      "8/8 [==============================] - 0s 6ms/step - loss: 0.0017 - accuracy: 1.0000 - val_loss: 0.0297 - val_accuracy: 0.9831\n",
      "Epoch 71/100\n",
      "1/8 [==>...........................] - ETA: 0s - loss: 0.0384 - accuracy: 0.9688\n",
      "Epoch 00071: val_loss did not improve from 0.00171\n",
      "8/8 [==============================] - 0s 6ms/step - loss: 0.0062 - accuracy: 0.9957 - val_loss: 0.0375 - val_accuracy: 0.9831\n",
      "Epoch 72/100\n",
      "1/8 [==>...........................] - ETA: 0s - loss: 9.2439e-05 - accuracy: 1.0000\n",
      "Epoch 00072: val_loss did not improve from 0.00171\n",
      "8/8 [==============================] - 0s 6ms/step - loss: 0.0043 - accuracy: 0.9957 - val_loss: 0.0510 - val_accuracy: 0.9831\n",
      "Epoch 73/100\n",
      "1/8 [==>...........................] - ETA: 0s - loss: 5.7213e-04 - accuracy: 1.0000\n",
      "Epoch 00073: val_loss did not improve from 0.00171\n",
      "8/8 [==============================] - 0s 8ms/step - loss: 0.0017 - accuracy: 1.0000 - val_loss: 0.0605 - val_accuracy: 0.9831\n",
      "Epoch 74/100\n",
      "1/8 [==>...........................] - ETA: 0s - loss: 3.7431e-04 - accuracy: 1.0000\n",
      "Epoch 00074: val_loss did not improve from 0.00171\n",
      "8/8 [==============================] - 0s 7ms/step - loss: 7.4771e-04 - accuracy: 1.0000 - val_loss: 0.0644 - val_accuracy: 0.9831\n",
      "Epoch 75/100\n",
      "1/8 [==>...........................] - ETA: 0s - loss: 0.0016 - accuracy: 1.0000\n",
      "Epoch 00075: val_loss did not improve from 0.00171\n",
      "8/8 [==============================] - 0s 7ms/step - loss: 5.4191e-04 - accuracy: 1.0000 - val_loss: 0.0659 - val_accuracy: 0.9831\n",
      "Epoch 76/100\n",
      "1/8 [==>...........................] - ETA: 0s - loss: 2.1487e-05 - accuracy: 1.0000\n",
      "Epoch 00076: val_loss did not improve from 0.00171\n",
      "8/8 [==============================] - 0s 6ms/step - loss: 4.0471e-04 - accuracy: 1.0000 - val_loss: 0.0663 - val_accuracy: 0.9831\n",
      "Epoch 77/100\n",
      "1/8 [==>...........................] - ETA: 0s - loss: 5.1581e-04 - accuracy: 1.0000\n",
      "Epoch 00077: val_loss did not improve from 0.00171\n",
      "8/8 [==============================] - 0s 7ms/step - loss: 6.9410e-04 - accuracy: 1.0000 - val_loss: 0.0665 - val_accuracy: 0.9831\n",
      "Epoch 78/100\n",
      "1/8 [==>...........................] - ETA: 0s - loss: 0.0017 - accuracy: 1.0000\n",
      "Epoch 00078: val_loss did not improve from 0.00171\n",
      "8/8 [==============================] - 0s 6ms/step - loss: 0.0025 - accuracy: 1.0000 - val_loss: 0.0677 - val_accuracy: 0.9831\n",
      "Epoch 79/100\n",
      "1/8 [==>...........................] - ETA: 0s - loss: 0.0052 - accuracy: 1.0000\n",
      "Epoch 00079: val_loss did not improve from 0.00171\n",
      "8/8 [==============================] - 0s 7ms/step - loss: 0.0024 - accuracy: 1.0000 - val_loss: 0.0692 - val_accuracy: 0.9831\n",
      "Epoch 80/100\n",
      "1/8 [==>...........................] - ETA: 0s - loss: 0.0033 - accuracy: 1.0000\n",
      "Epoch 00080: val_loss did not improve from 0.00171\n",
      "8/8 [==============================] - 0s 7ms/step - loss: 6.0009e-04 - accuracy: 1.0000 - val_loss: 0.0686 - val_accuracy: 0.9831\n",
      "Epoch 81/100\n",
      "1/8 [==>...........................] - ETA: 0s - loss: 1.5830e-04 - accuracy: 1.0000\n",
      "Epoch 00081: val_loss did not improve from 0.00171\n",
      "8/8 [==============================] - 0s 7ms/step - loss: 7.5699e-04 - accuracy: 1.0000 - val_loss: 0.0709 - val_accuracy: 0.9831\n",
      "Epoch 82/100\n",
      "1/8 [==>...........................] - ETA: 0s - loss: 0.0018 - accuracy: 1.0000\n",
      "Epoch 00082: val_loss did not improve from 0.00171\n",
      "8/8 [==============================] - 0s 6ms/step - loss: 7.9257e-04 - accuracy: 1.0000 - val_loss: 0.0726 - val_accuracy: 0.9831\n",
      "Epoch 83/100\n",
      "1/8 [==>...........................] - ETA: 0s - loss: 7.3400e-05 - accuracy: 1.0000\n",
      "Epoch 00083: val_loss did not improve from 0.00171\n",
      "8/8 [==============================] - 0s 6ms/step - loss: 0.0073 - accuracy: 0.9957 - val_loss: 0.0689 - val_accuracy: 0.9831\n",
      "Epoch 00083: early stopping\n"
     ]
    }
   ],
   "source": [
    "history = model.fit(data_train, label_train, validation_split=0.2, epochs=100, verbose = 1, callbacks=[checkpoint,early])"
   ]
  },
  {
   "cell_type": "code",
   "execution_count": 11,
   "id": "ab63c0a3",
   "metadata": {},
   "outputs": [
    {
     "data": {
      "image/png": "[encoded data removed]",
      "text/plain": [
       "<Figure size 640x480 with 1 Axes>"
      ]
     },
     "metadata": {},
     "output_type": "display_data"
    }
   ],
   "source": [
    "# Plot training & validation accuracy values\n",
    "plt.plot(history.history['accuracy'])\n",
    "plt.plot(history.history['val_accuracy'])\n",
    "plt.title('BRNN Model Accuracy')\n",
    "plt.ylabel('Accuracy')\n",
    "plt.xlabel('Epoch')\n",
    "plt.legend(['Train', 'Test'], loc='lower right')\n",
    "# plt.savefig('BRNN 200 Model Accuracy.png')\n",
    "plt.show()"
   ]
  },
  {
   "cell_type": "code",
   "execution_count": 12,
   "id": "04277965",
   "metadata": {},
   "outputs": [
    {
     "data": {
      "image/png": "[encoded data removed]",
      "text/plain": [
       "<Figure size 640x480 with 1 Axes>"
      ]
     },
     "metadata": {},
     "output_type": "display_data"
    }
   ],
   "source": [
    "# Plot training & validation loss values\n",
    "plt.plot(history.history['loss'])\n",
    "plt.plot(history.history['val_loss'])\n",
    "plt.title('BRNN Model  Loss')\n",
    "plt.ylabel('Loss')\n",
    "plt.xlabel('Epoch')\n",
    "plt.legend(['Train', 'Test'], loc='upper left')\n",
    "# plt.savefig('BRNN 200 Model Loss.png')\n",
    "plt.show()"
   ]
  },
  {
   "cell_type": "code",
   "execution_count": 13,
   "id": "cfcc8675",
   "metadata": {},
   "outputs": [
    {
     "name": "stdout",
     "output_type": "stream",
     "text": [
      "3/3 [==============================] - 0s 2ms/step\n"
     ]
    }
   ],
   "source": [
    "predict = model.predict(data_eval, verbose=1)"
   ]
  },
  {
   "cell_type": "code",
   "execution_count": 14,
   "id": "3b485068",
   "metadata": {},
   "outputs": [
    {
     "data": {
      "image/png": "[encoded data removed]",
      "text/plain": [
       "<Figure size 640x480 with 2 Axes>"
      ]
     },
     "metadata": {},
     "output_type": "display_data"
    }
   ],
   "source": [
    "tp = 0\n",
    "tn = 0\n",
    "fp = 0\n",
    "fn = 0\n",
    "predictn = predict.flatten().round()\n",
    "predictn = predictn.tolist()\n",
    "Y_testn = label_eval.tolist()\n",
    "for i in range(len(Y_testn)):\n",
    "  if predictn[i]==1 and Y_testn[i]==1:\n",
    "    tp+=1\n",
    "  elif predictn[i]==0 and Y_testn[i]==0:\n",
    "    tn+=1\n",
    "  elif predictn[i]==0 and Y_testn[i]==1:\n",
    "    fp+=1\n",
    "  elif predictn[i]==1 and Y_testn[i]==0:\n",
    "    fn+=1\n",
    "to_heat_map =[[tn,fp],[fn,tp]]\n",
    "to_heat_map = pd.DataFrame(to_heat_map, index = [\"Attack\",\"Normal\"],columns = [\"Attack\",\"Normal\"])\n",
    "ax = sns.heatmap(to_heat_map,annot=True, fmt=\"d\")"
   ]
  },
  {
   "cell_type": "code",
   "execution_count": 15,
   "id": "0f64d323",
   "metadata": {},
   "outputs": [
    {
     "name": "stdout",
     "output_type": "stream",
     "text": [
      "3/3 [==============================] - 0s 2ms/step - loss: 0.0438 - accuracy: 0.9865\n",
      "accuracy: 98.65%\n"
     ]
    }
   ],
   "source": [
    "scores = model.evaluate(data_eval, label_eval)\n",
    "print(\"%s: %.2f%%\" % (model.metrics_names[1], scores[1]*100))"
   ]
  },
  {
   "cell_type": "code",
   "execution_count": 16,
   "id": "8355540c",
   "metadata": {},
   "outputs": [
    {
     "name": "stdout",
     "output_type": "stream",
     "text": [
      "              precision    recall  f1-score   support\n",
      "\n",
      "           0       0.97      1.00      0.99        37\n",
      "           1       1.00      0.97      0.99        37\n",
      "\n",
      "    accuracy                           0.99        74\n",
      "   macro avg       0.99      0.99      0.99        74\n",
      "weighted avg       0.99      0.99      0.99        74\n",
      "\n"
     ]
    }
   ],
   "source": [
    "print(classification_report(Y_testn,predictn))"
   ]
  },
  {
   "cell_type": "code",
   "execution_count": 17,
   "id": "6b1e5995",
   "metadata": {},
   "outputs": [
    {
     "name": "stdout",
     "output_type": "stream",
     "text": [
      "SVM: ROC AUC=0.986\n"
     ]
    }
   ],
   "source": [
    "lr_auc = roc_auc_score(Y_testn, predictn)\n",
    "print('SVM: ROC AUC=%.3f' % (lr_auc))"
   ]
  },
  {
   "cell_type": "code",
   "execution_count": 18,
   "id": "9e9ffd90",
   "metadata": {},
   "outputs": [
    {
     "name": "stdout",
     "output_type": "stream",
     "text": [
      "1/1 [==============================] - 0s 11ms/step\n",
      "Time elapse for prediction : 0.03330069999999985\n",
      "[[2.3673108e-09]]\n"
     ]
    }
   ],
   "source": [
    "time_start = time.perf_counter()\n",
    "predict = model.predict(data_eval[:1], verbose=1)\n",
    "print(f\"Time elapse for prediction : {time.perf_counter() - time_start}\")\n",
    "print(predict)"
   ]
  },
  {
   "cell_type": "code",
   "execution_count": null,
   "id": "fe718f7a",
   "metadata": {},
   "outputs": [],
   "source": []
  }
 ],
 "metadata": {
  "kernelspec": {
   "display_name": "Python 3 (ipykernel)",
   "language": "python",
   "name": "python3"
  },
  "language_info": {
   "codemirror_mode": {
    "name": "ipython",
    "version": 3
   },
   "file_extension": ".py",
   "mimetype": "text/x-python",
   "name": "python",
   "nbconvert_exporter": "python",
   "pygments_lexer": "ipython3",
   "version": "3.9.13"
  }
 },
 "nbformat": 4,
 "nbformat_minor": 5
}
