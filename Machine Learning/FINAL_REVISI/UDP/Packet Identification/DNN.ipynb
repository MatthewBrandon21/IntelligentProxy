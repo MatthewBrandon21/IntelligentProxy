{
 "cells": [
  {
   "cell_type": "code",
   "execution_count": 1,
   "id": "9f780517",
   "metadata": {},
   "outputs": [],
   "source": [
    "import numpy as np\n",
    "import pandas as pd\n",
    "from matplotlib import pyplot as plt\n",
    "import seaborn as sns; sns.set()\n",
    "from keras.layers import Dense, Dropout\n",
    "from keras.models import Sequential\n",
    "from keras.models import load_model\n",
    "from keras.callbacks import ModelCheckpoint, EarlyStopping\n",
    "from tensorflow.keras.utils import to_categorical\n",
    "from sklearn.model_selection import train_test_split\n",
    "from sklearn.preprocessing import LabelEncoder, StandardScaler\n",
    "from sklearn.metrics import classification_report, confusion_matrix\n",
    "from sklearn.metrics import roc_auc_score\n",
    "import joblib\n",
    "import time\n",
    "from collections import Counter\n",
    "from imblearn.over_sampling import SMOTE\n",
    "from imblearn.under_sampling import RandomUnderSampler\n",
    "from imblearn.pipeline import Pipeline"
   ]
  },
  {
   "cell_type": "code",
   "execution_count": 2,
   "id": "5c265d83",
   "metadata": {},
   "outputs": [],
   "source": [
    "features, labels = [], []\n",
    "training_files = [\"dataset.csv\"]"
   ]
  },
  {
   "cell_type": "code",
   "execution_count": 3,
   "id": "33a79058",
   "metadata": {},
   "outputs": [],
   "source": [
    "def scrape_data():\n",
    "    global training_files\n",
    "    global features\n",
    "    global labels\n",
    "    \n",
    "    for fname in training_files:\n",
    "        meal = open(fname, \"rt\")\n",
    "        for line in meal:\n",
    "            data_list = line.rsplit(\",\")\n",
    "            if(len(data_list) != 5):\n",
    "                print(\"error data\")\n",
    "            else:\n",
    "                data_list[(len(data_list)-1)]=int(data_list[(len(data_list)-1)].replace('\\n', ''))\n",
    "                features.append(data_list[:(len(data_list)-1)])\n",
    "                labels.append(data_list[(len(data_list)-1)])\n",
    "        meal.close()\n",
    "    \n",
    "    data_counter = Counter(labels)\n",
    "    print(data_counter)\n",
    "    \n",
    "    over = SMOTE()\n",
    "    under = RandomUnderSampler()\n",
    "    steps = [('o', over), ('u', under)]\n",
    "    pipeline = Pipeline(steps=steps)\n",
    "    features, labels = pipeline.fit_resample(features, labels)\n",
    "    \n",
    "    data_counter = Counter(labels)\n",
    "    print(data_counter)\n",
    "    \n",
    "    scalar = StandardScaler(copy=True, with_mean=True, with_std=True)\n",
    "    scalar.fit(features)\n",
    "    features = scalar.transform(features)\n",
    "    \n",
    "    features = np.array(features).astype(np.float64)\n",
    "    features = features.tolist()\n",
    "    \n",
    "    print(f\"Size of feature dataset : {len(features)}\")\n",
    "    print(f\"Size of feature dataset : {len(labels)}\")\n",
    "    print(\"Features first and last entries:\\n\\t\", end = \"\")\n",
    "    print(features[:1] + features[(len(features)-1):])\n",
    "    print(\"Labels first and last entries:\\n\\t\", end = \"\")\n",
    "    print(labels[:1] + labels[(len(features)-1):])\n",
    "    \n",
    "    features_train, features_test, labels_train, labels_test = train_test_split(features, labels, test_size = 0.20, stratify=labels, random_state = 0)\n",
    "    \n",
    "    return np.asarray(features_train), np.asarray(labels_train), np.asarray(features_test), np.asarray(labels_test)"
   ]
  },
  {
   "cell_type": "code",
   "execution_count": 4,
   "id": "9b84bae1",
   "metadata": {},
   "outputs": [],
   "source": [
    "def generate_model(shape):\n",
    "    model = Sequential()\n",
    "\n",
    "    model.add(Dense(256, input_dim=shape, kernel_initializer='uniform', activation='relu'))\n",
    "    model.add(Dropout(0.4))\n",
    "    model.add(Dense(128, activation='relu'))\n",
    "    model.add(Dropout(0.4))\n",
    "    model.add(Dense(64, activation='relu'))\n",
    "    model.add(Dropout(0.4))\n",
    "    model.add(Dense(32, activation='relu'))\n",
    "    model.add(Dropout(0.4))\n",
    "    model.add(Dense(1, activation='sigmoid'))\n",
    "    print(model.summary())\n",
    "\n",
    "    return model"
   ]
  },
  {
   "cell_type": "code",
   "execution_count": 5,
   "id": "d6ef0b01",
   "metadata": {},
   "outputs": [
    {
     "name": "stdout",
     "output_type": "stream",
     "text": [
      "Counter({1: 200, 0: 200})\n",
      "Counter({0: 200, 1: 200})\n",
      "Size of feature dataset : 400\n",
      "Size of feature dataset : 400\n",
      "Features first and last entries:\n",
      "\t[[1.04833909786176, 1.0, 0.9374279220256051, 1.0], [-0.9986148945987233, -1.0, -0.9939832103297715, -1.0]]\n",
      "Labels first and last entries:\n",
      "\t[0, 1]\n"
     ]
    },
    {
     "name": "stderr",
     "output_type": "stream",
     "text": [
      "C:\\Users\\H P VICTUS\\anaconda3\\lib\\site-packages\\sklearn\\utils\\validation.py:964: FutureWarning: Arrays of bytes/strings is being converted to decimal numbers if dtype='numeric'. This behavior is deprecated in 0.24 and will be removed in 1.1 (renaming of 0.26). Please convert your data to numeric values explicitly instead.\n",
      "  X = check_array(\n"
     ]
    }
   ],
   "source": [
    "data_train, label_train, data_eval, label_eval = scrape_data()"
   ]
  },
  {
   "cell_type": "code",
   "execution_count": 6,
   "id": "89771801",
   "metadata": {},
   "outputs": [
    {
     "name": "stdout",
     "output_type": "stream",
     "text": [
      "Model: \"sequential\"\n",
      "_________________________________________________________________\n",
      " Layer (type)                Output Shape              Param #   \n",
      "=================================================================\n",
      " dense (Dense)               (None, 256)               1280      \n",
      "                                                                 \n",
      " dropout (Dropout)           (None, 256)               0         \n",
      "                                                                 \n",
      " dense_1 (Dense)             (None, 128)               32896     \n",
      "                                                                 \n",
      " dropout_1 (Dropout)         (None, 128)               0         \n",
      "                                                                 \n",
      " dense_2 (Dense)             (None, 64)                8256      \n",
      "                                                                 \n",
      " dropout_2 (Dropout)         (None, 64)                0         \n",
      "                                                                 \n",
      " dense_3 (Dense)             (None, 32)                2080      \n",
      "                                                                 \n",
      " dropout_3 (Dropout)         (None, 32)                0         \n",
      "                                                                 \n",
      " dense_4 (Dense)             (None, 1)                 33        \n",
      "                                                                 \n",
      "=================================================================\n",
      "Total params: 44,545\n",
      "Trainable params: 44,545\n",
      "Non-trainable params: 0\n",
      "_________________________________________________________________\n",
      "None\n"
     ]
    }
   ],
   "source": [
    "model = generate_model(len(data_train[0]))"
   ]
  },
  {
   "cell_type": "code",
   "execution_count": 7,
   "id": "071ae79f",
   "metadata": {},
   "outputs": [
    {
     "name": "stdout",
     "output_type": "stream",
     "text": [
      "Model: \"sequential\"\n",
      "_________________________________________________________________\n",
      " Layer (type)                Output Shape              Param #   \n",
      "=================================================================\n",
      " dense (Dense)               (None, 256)               1280      \n",
      "                                                                 \n",
      " dropout (Dropout)           (None, 256)               0         \n",
      "                                                                 \n",
      " dense_1 (Dense)             (None, 128)               32896     \n",
      "                                                                 \n",
      " dropout_1 (Dropout)         (None, 128)               0         \n",
      "                                                                 \n",
      " dense_2 (Dense)             (None, 64)                8256      \n",
      "                                                                 \n",
      " dropout_2 (Dropout)         (None, 64)                0         \n",
      "                                                                 \n",
      " dense_3 (Dense)             (None, 32)                2080      \n",
      "                                                                 \n",
      " dropout_3 (Dropout)         (None, 32)                0         \n",
      "                                                                 \n",
      " dense_4 (Dense)             (None, 1)                 33        \n",
      "                                                                 \n",
      "=================================================================\n",
      "Total params: 44,545\n",
      "Trainable params: 44,545\n",
      "Non-trainable params: 0\n",
      "_________________________________________________________________\n"
     ]
    }
   ],
   "source": [
    "model.summary()"
   ]
  },
  {
   "cell_type": "code",
   "execution_count": 8,
   "id": "5e5b8b02",
   "metadata": {},
   "outputs": [],
   "source": [
    "model.compile(loss='binary_crossentropy', optimizer='adam', metrics=['accuracy'])"
   ]
  },
  {
   "cell_type": "code",
   "execution_count": 9,
   "id": "6c798507",
   "metadata": {},
   "outputs": [
    {
     "name": "stdout",
     "output_type": "stream",
     "text": [
      "WARNING:tensorflow:`period` argument is deprecated. Please use `save_freq` to specify the frequency in number of batches seen.\n"
     ]
    }
   ],
   "source": [
    "checkpoint = ModelCheckpoint(\"dnnModel.h5\", monitor='val_loss', verbose=1, save_best_only=True, save_weights_only=False, mode='auto', period=1)\n",
    "early = EarlyStopping(monitor='val_loss', min_delta=0, patience=30, verbose=1, mode='auto')"
   ]
  },
  {
   "cell_type": "code",
   "execution_count": 10,
   "id": "a7def03b",
   "metadata": {},
   "outputs": [
    {
     "name": "stdout",
     "output_type": "stream",
     "text": [
      "Epoch 1/100\n",
      "1/8 [==>...........................] - ETA: 5s - loss: 0.6891 - accuracy: 0.5000\n",
      "Epoch 00001: val_loss improved from inf to 0.58662, saving model to dnnModel.h5\n",
      "8/8 [==============================] - 1s 20ms/step - loss: 0.6617 - accuracy: 0.7305 - val_loss: 0.5866 - val_accuracy: 1.0000\n",
      "Epoch 2/100\n",
      "1/8 [==>...........................] - ETA: 0s - loss: 0.6366 - accuracy: 0.9062\n",
      "Epoch 00002: val_loss improved from 0.58662 to 0.39283, saving model to dnnModel.h5\n",
      "8/8 [==============================] - 0s 8ms/step - loss: 0.5481 - accuracy: 0.8984 - val_loss: 0.3928 - val_accuracy: 1.0000\n",
      "Epoch 3/100\n",
      "1/8 [==>...........................] - ETA: 0s - loss: 0.4477 - accuracy: 1.0000\n",
      "Epoch 00003: val_loss improved from 0.39283 to 0.17333, saving model to dnnModel.h5\n",
      "8/8 [==============================] - 0s 8ms/step - loss: 0.3413 - accuracy: 0.9883 - val_loss: 0.1733 - val_accuracy: 1.0000\n",
      "Epoch 4/100\n",
      "1/8 [==>...........................] - ETA: 0s - loss: 0.2438 - accuracy: 0.9688\n",
      "Epoch 00004: val_loss improved from 0.17333 to 0.04500, saving model to dnnModel.h5\n",
      "8/8 [==============================] - 0s 10ms/step - loss: 0.1843 - accuracy: 0.9844 - val_loss: 0.0450 - val_accuracy: 1.0000\n",
      "Epoch 5/100\n",
      "1/8 [==>...........................] - ETA: 0s - loss: 0.0908 - accuracy: 1.0000\n",
      "Epoch 00005: val_loss improved from 0.04500 to 0.00415, saving model to dnnModel.h5\n",
      "8/8 [==============================] - 0s 9ms/step - loss: 0.0598 - accuracy: 1.0000 - val_loss: 0.0041 - val_accuracy: 1.0000\n",
      "Epoch 6/100\n",
      "1/8 [==>...........................] - ETA: 0s - loss: 0.0275 - accuracy: 1.0000\n",
      "Epoch 00006: val_loss improved from 0.00415 to 0.00030, saving model to dnnModel.h5\n",
      "8/8 [==============================] - 0s 7ms/step - loss: 0.0176 - accuracy: 1.0000 - val_loss: 3.0116e-04 - val_accuracy: 1.0000\n",
      "Epoch 7/100\n",
      "1/8 [==>...........................] - ETA: 0s - loss: 0.0010 - accuracy: 1.0000\n",
      "Epoch 00007: val_loss improved from 0.00030 to 0.00004, saving model to dnnModel.h5\n",
      "8/8 [==============================] - 0s 9ms/step - loss: 0.0048 - accuracy: 1.0000 - val_loss: 4.0082e-05 - val_accuracy: 1.0000\n",
      "Epoch 8/100\n",
      "1/8 [==>...........................] - ETA: 0s - loss: 0.0042 - accuracy: 1.0000\n",
      "Epoch 00008: val_loss improved from 0.00004 to 0.00001, saving model to dnnModel.h5\n",
      "8/8 [==============================] - 0s 8ms/step - loss: 0.0045 - accuracy: 1.0000 - val_loss: 1.0676e-05 - val_accuracy: 1.0000\n",
      "Epoch 9/100\n",
      "1/8 [==>...........................] - ETA: 0s - loss: 4.2769e-04 - accuracy: 1.0000\n",
      "Epoch 00009: val_loss improved from 0.00001 to 0.00000, saving model to dnnModel.h5\n",
      "8/8 [==============================] - 0s 8ms/step - loss: 0.0016 - accuracy: 1.0000 - val_loss: 4.6024e-06 - val_accuracy: 1.0000\n",
      "Epoch 10/100\n",
      "1/8 [==>...........................] - ETA: 0s - loss: 0.0029 - accuracy: 1.0000\n",
      "Epoch 00010: val_loss improved from 0.00000 to 0.00000, saving model to dnnModel.h5\n",
      "8/8 [==============================] - 0s 8ms/step - loss: 0.0017 - accuracy: 1.0000 - val_loss: 2.6856e-06 - val_accuracy: 1.0000\n",
      "Epoch 11/100\n",
      "1/8 [==>...........................] - ETA: 0s - loss: 0.0101 - accuracy: 1.0000\n",
      "Epoch 00011: val_loss improved from 0.00000 to 0.00000, saving model to dnnModel.h5\n",
      "8/8 [==============================] - 0s 8ms/step - loss: 0.0033 - accuracy: 1.0000 - val_loss: 1.8121e-06 - val_accuracy: 1.0000\n",
      "Epoch 12/100\n",
      "1/8 [==>...........................] - ETA: 0s - loss: 7.9016e-04 - accuracy: 1.0000\n",
      "Epoch 00012: val_loss improved from 0.00000 to 0.00000, saving model to dnnModel.h5\n",
      "8/8 [==============================] - 0s 8ms/step - loss: 0.0017 - accuracy: 1.0000 - val_loss: 1.2794e-06 - val_accuracy: 1.0000\n",
      "Epoch 13/100\n",
      "1/8 [==>...........................] - ETA: 0s - loss: 0.0014 - accuracy: 1.0000\n",
      "Epoch 00013: val_loss improved from 0.00000 to 0.00000, saving model to dnnModel.h5\n",
      "8/8 [==============================] - 0s 9ms/step - loss: 8.1687e-04 - accuracy: 1.0000 - val_loss: 9.4778e-07 - val_accuracy: 1.0000\n",
      "Epoch 14/100\n",
      "1/8 [==>...........................] - ETA: 0s - loss: 2.2297e-04 - accuracy: 1.0000\n",
      "Epoch 00014: val_loss improved from 0.00000 to 0.00000, saving model to dnnModel.h5\n",
      "8/8 [==============================] - 0s 8ms/step - loss: 0.0018 - accuracy: 1.0000 - val_loss: 7.2480e-07 - val_accuracy: 1.0000\n",
      "Epoch 15/100\n",
      "1/8 [==>...........................] - ETA: 0s - loss: 1.0906e-04 - accuracy: 1.0000\n",
      "Epoch 00015: val_loss improved from 0.00000 to 0.00000, saving model to dnnModel.h5\n",
      "8/8 [==============================] - 0s 8ms/step - loss: 4.5905e-04 - accuracy: 1.0000 - val_loss: 5.5412e-07 - val_accuracy: 1.0000\n",
      "Epoch 16/100\n",
      "1/8 [==>...........................] - ETA: 0s - loss: 3.4027e-04 - accuracy: 1.0000\n",
      "Epoch 00016: val_loss improved from 0.00000 to 0.00000, saving model to dnnModel.h5\n",
      "8/8 [==============================] - 0s 7ms/step - loss: 0.0017 - accuracy: 1.0000 - val_loss: 4.4001e-07 - val_accuracy: 1.0000\n",
      "Epoch 17/100\n",
      "1/8 [==>...........................] - ETA: 0s - loss: 1.2065e-04 - accuracy: 1.0000\n",
      "Epoch 00017: val_loss improved from 0.00000 to 0.00000, saving model to dnnModel.h5\n",
      "8/8 [==============================] - 0s 8ms/step - loss: 3.2688e-04 - accuracy: 1.0000 - val_loss: 3.7005e-07 - val_accuracy: 1.0000\n",
      "Epoch 18/100\n",
      "1/8 [==>...........................] - ETA: 0s - loss: 3.7685e-04 - accuracy: 1.0000\n",
      "Epoch 00018: val_loss improved from 0.00000 to 0.00000, saving model to dnnModel.h5\n",
      "8/8 [==============================] - 0s 8ms/step - loss: 0.0010 - accuracy: 1.0000 - val_loss: 3.0242e-07 - val_accuracy: 1.0000\n",
      "Epoch 19/100\n",
      "1/8 [==>...........................] - ETA: 0s - loss: 1.4815e-04 - accuracy: 1.0000\n",
      "Epoch 00019: val_loss improved from 0.00000 to 0.00000, saving model to dnnModel.h5\n",
      "8/8 [==============================] - 0s 7ms/step - loss: 4.5416e-04 - accuracy: 1.0000 - val_loss: 2.4252e-07 - val_accuracy: 1.0000\n",
      "Epoch 20/100\n",
      "1/8 [==>...........................] - ETA: 0s - loss: 7.8867e-04 - accuracy: 1.0000\n",
      "Epoch 00020: val_loss improved from 0.00000 to 0.00000, saving model to dnnModel.h5\n",
      "8/8 [==============================] - 0s 7ms/step - loss: 5.0712e-04 - accuracy: 1.0000 - val_loss: 1.9493e-07 - val_accuracy: 1.0000\n",
      "Epoch 21/100\n",
      "1/8 [==>...........................] - ETA: 0s - loss: 1.3653e-04 - accuracy: 1.0000\n",
      "Epoch 00021: val_loss improved from 0.00000 to 0.00000, saving model to dnnModel.h5\n",
      "8/8 [==============================] - 0s 8ms/step - loss: 0.0017 - accuracy: 1.0000 - val_loss: 1.4409e-07 - val_accuracy: 1.0000\n",
      "Epoch 22/100\n",
      "1/8 [==>...........................] - ETA: 0s - loss: 4.0357e-04 - accuracy: 1.0000\n",
      "Epoch 00022: val_loss improved from 0.00000 to 0.00000, saving model to dnnModel.h5\n",
      "8/8 [==============================] - 0s 7ms/step - loss: 2.8698e-04 - accuracy: 1.0000 - val_loss: 1.1334e-07 - val_accuracy: 1.0000\n",
      "Epoch 23/100\n",
      "1/8 [==>...........................] - ETA: 0s - loss: 6.0231e-05 - accuracy: 1.0000\n",
      "Epoch 00023: val_loss improved from 0.00000 to 0.00000, saving model to dnnModel.h5\n",
      "8/8 [==============================] - 0s 8ms/step - loss: 2.2070e-04 - accuracy: 1.0000 - val_loss: 9.6661e-08 - val_accuracy: 1.0000\n",
      "Epoch 24/100\n",
      "1/8 [==>...........................] - ETA: 0s - loss: 1.0082e-04 - accuracy: 1.0000\n",
      "Epoch 00024: val_loss improved from 0.00000 to 0.00000, saving model to dnnModel.h5\n",
      "8/8 [==============================] - 0s 7ms/step - loss: 0.0014 - accuracy: 1.0000 - val_loss: 7.9335e-08 - val_accuracy: 1.0000\n",
      "Epoch 25/100\n",
      "1/8 [==>...........................] - ETA: 0s - loss: 1.7040e-04 - accuracy: 1.0000\n",
      "Epoch 00025: val_loss improved from 0.00000 to 0.00000, saving model to dnnModel.h5\n",
      "8/8 [==============================] - 0s 8ms/step - loss: 3.0361e-04 - accuracy: 1.0000 - val_loss: 6.1209e-08 - val_accuracy: 1.0000\n",
      "Epoch 26/100\n",
      "1/8 [==>...........................] - ETA: 0s - loss: 4.2549e-04 - accuracy: 1.0000\n",
      "Epoch 00026: val_loss improved from 0.00000 to 0.00000, saving model to dnnModel.h5\n",
      "8/8 [==============================] - 0s 7ms/step - loss: 2.9089e-04 - accuracy: 1.0000 - val_loss: 4.9267e-08 - val_accuracy: 1.0000\n",
      "Epoch 27/100\n"
     ]
    },
    {
     "name": "stdout",
     "output_type": "stream",
     "text": [
      "1/8 [==>...........................] - ETA: 0s - loss: 2.2745e-04 - accuracy: 1.0000\n",
      "Epoch 00027: val_loss improved from 0.00000 to 0.00000, saving model to dnnModel.h5\n",
      "8/8 [==============================] - 0s 8ms/step - loss: 4.0888e-04 - accuracy: 1.0000 - val_loss: 4.0843e-08 - val_accuracy: 1.0000\n",
      "Epoch 28/100\n",
      "1/8 [==>...........................] - ETA: 0s - loss: 3.1747e-06 - accuracy: 1.0000\n",
      "Epoch 00028: val_loss improved from 0.00000 to 0.00000, saving model to dnnModel.h5\n",
      "8/8 [==============================] - 0s 7ms/step - loss: 8.7862e-04 - accuracy: 1.0000 - val_loss: 3.2362e-08 - val_accuracy: 1.0000\n",
      "Epoch 29/100\n",
      "1/8 [==>...........................] - ETA: 0s - loss: 0.0012 - accuracy: 1.0000\n",
      "Epoch 00029: val_loss improved from 0.00000 to 0.00000, saving model to dnnModel.h5\n",
      "8/8 [==============================] - 0s 7ms/step - loss: 8.4420e-04 - accuracy: 1.0000 - val_loss: 2.5934e-08 - val_accuracy: 1.0000\n",
      "Epoch 30/100\n",
      "1/8 [==>...........................] - ETA: 0s - loss: 1.6575e-04 - accuracy: 1.0000\n",
      "Epoch 00030: val_loss improved from 0.00000 to 0.00000, saving model to dnnModel.h5\n",
      "8/8 [==============================] - 0s 8ms/step - loss: 0.0052 - accuracy: 0.9961 - val_loss: 2.1514e-08 - val_accuracy: 1.0000\n",
      "Epoch 31/100\n",
      "1/8 [==>...........................] - ETA: 0s - loss: 9.1205e-04 - accuracy: 1.0000\n",
      "Epoch 00031: val_loss improved from 0.00000 to 0.00000, saving model to dnnModel.h5\n",
      "8/8 [==============================] - 0s 8ms/step - loss: 2.0326e-04 - accuracy: 1.0000 - val_loss: 1.7337e-08 - val_accuracy: 1.0000\n",
      "Epoch 32/100\n",
      "1/8 [==>...........................] - ETA: 0s - loss: 6.1231e-05 - accuracy: 1.0000\n",
      "Epoch 00032: val_loss improved from 0.00000 to 0.00000, saving model to dnnModel.h5\n",
      "8/8 [==============================] - 0s 7ms/step - loss: 3.4992e-04 - accuracy: 1.0000 - val_loss: 1.4747e-08 - val_accuracy: 1.0000\n",
      "Epoch 33/100\n",
      "1/8 [==>...........................] - ETA: 0s - loss: 4.4554e-05 - accuracy: 1.0000\n",
      "Epoch 00033: val_loss improved from 0.00000 to 0.00000, saving model to dnnModel.h5\n",
      "8/8 [==============================] - 0s 8ms/step - loss: 1.5624e-04 - accuracy: 1.0000 - val_loss: 1.3015e-08 - val_accuracy: 1.0000\n",
      "Epoch 34/100\n",
      "1/8 [==>...........................] - ETA: 0s - loss: 1.8239e-05 - accuracy: 1.0000\n",
      "Epoch 00034: val_loss improved from 0.00000 to 0.00000, saving model to dnnModel.h5\n",
      "8/8 [==============================] - 0s 7ms/step - loss: 2.6605e-04 - accuracy: 1.0000 - val_loss: 1.1458e-08 - val_accuracy: 1.0000\n",
      "Epoch 35/100\n",
      "1/8 [==>...........................] - ETA: 0s - loss: 0.0092 - accuracy: 1.0000\n",
      "Epoch 00035: val_loss improved from 0.00000 to 0.00000, saving model to dnnModel.h5\n",
      "8/8 [==============================] - 0s 8ms/step - loss: 0.0015 - accuracy: 1.0000 - val_loss: 8.7888e-09 - val_accuracy: 1.0000\n",
      "Epoch 36/100\n",
      "1/8 [==>...........................] - ETA: 0s - loss: 2.5089e-05 - accuracy: 1.0000\n",
      "Epoch 00036: val_loss improved from 0.00000 to 0.00000, saving model to dnnModel.h5\n",
      "8/8 [==============================] - 0s 7ms/step - loss: 1.3621e-04 - accuracy: 1.0000 - val_loss: 7.3255e-09 - val_accuracy: 1.0000\n",
      "Epoch 37/100\n",
      "1/8 [==>...........................] - ETA: 0s - loss: 2.7755e-04 - accuracy: 1.0000\n",
      "Epoch 00037: val_loss improved from 0.00000 to 0.00000, saving model to dnnModel.h5\n",
      "8/8 [==============================] - 0s 7ms/step - loss: 1.1124e-04 - accuracy: 1.0000 - val_loss: 6.3837e-09 - val_accuracy: 1.0000\n",
      "Epoch 38/100\n",
      "1/8 [==>...........................] - ETA: 0s - loss: 3.7912e-06 - accuracy: 1.0000\n",
      "Epoch 00038: val_loss improved from 0.00000 to 0.00000, saving model to dnnModel.h5\n",
      "8/8 [==============================] - 0s 8ms/step - loss: 3.7020e-04 - accuracy: 1.0000 - val_loss: 5.6671e-09 - val_accuracy: 1.0000\n",
      "Epoch 39/100\n",
      "1/8 [==>...........................] - ETA: 0s - loss: 1.8580e-04 - accuracy: 1.0000\n",
      "Epoch 00039: val_loss improved from 0.00000 to 0.00000, saving model to dnnModel.h5\n",
      "8/8 [==============================] - 0s 7ms/step - loss: 1.2546e-04 - accuracy: 1.0000 - val_loss: 4.9205e-09 - val_accuracy: 1.0000\n",
      "Epoch 40/100\n",
      "1/8 [==>...........................] - ETA: 0s - loss: 1.4375e-04 - accuracy: 1.0000\n",
      "Epoch 00040: val_loss improved from 0.00000 to 0.00000, saving model to dnnModel.h5\n",
      "8/8 [==============================] - 0s 8ms/step - loss: 3.4312e-04 - accuracy: 1.0000 - val_loss: 4.1317e-09 - val_accuracy: 1.0000\n",
      "Epoch 41/100\n",
      "1/8 [==>...........................] - ETA: 0s - loss: 1.2962e-04 - accuracy: 1.0000\n",
      "Epoch 00041: val_loss improved from 0.00000 to 0.00000, saving model to dnnModel.h5\n",
      "8/8 [==============================] - 0s 9ms/step - loss: 4.0895e-04 - accuracy: 1.0000 - val_loss: 3.4289e-09 - val_accuracy: 1.0000\n",
      "Epoch 42/100\n",
      "1/8 [==>...........................] - ETA: 0s - loss: 9.2389e-06 - accuracy: 1.0000\n",
      "Epoch 00042: val_loss improved from 0.00000 to 0.00000, saving model to dnnModel.h5\n",
      "8/8 [==============================] - 0s 11ms/step - loss: 4.1090e-04 - accuracy: 1.0000 - val_loss: 2.7309e-09 - val_accuracy: 1.0000\n",
      "Epoch 43/100\n",
      "1/8 [==>...........................] - ETA: 0s - loss: 5.4039e-05 - accuracy: 1.0000\n",
      "Epoch 00043: val_loss improved from 0.00000 to 0.00000, saving model to dnnModel.h5\n",
      "8/8 [==============================] - 0s 8ms/step - loss: 6.3243e-05 - accuracy: 1.0000 - val_loss: 2.3557e-09 - val_accuracy: 1.0000\n",
      "Epoch 44/100\n",
      "1/8 [==>...........................] - ETA: 0s - loss: 1.3755e-05 - accuracy: 1.0000\n",
      "Epoch 00044: val_loss improved from 0.00000 to 0.00000, saving model to dnnModel.h5\n",
      "8/8 [==============================] - 0s 9ms/step - loss: 9.0770e-05 - accuracy: 1.0000 - val_loss: 2.1469e-09 - val_accuracy: 1.0000\n",
      "Epoch 45/100\n",
      "1/8 [==>...........................] - ETA: 0s - loss: 2.4421e-04 - accuracy: 1.0000\n",
      "Epoch 00045: val_loss improved from 0.00000 to 0.00000, saving model to dnnModel.h5\n",
      "8/8 [==============================] - 0s 9ms/step - loss: 1.3082e-04 - accuracy: 1.0000 - val_loss: 1.8962e-09 - val_accuracy: 1.0000\n",
      "Epoch 46/100\n",
      "1/8 [==>...........................] - ETA: 0s - loss: 1.0961e-05 - accuracy: 1.0000\n",
      "Epoch 00046: val_loss improved from 0.00000 to 0.00000, saving model to dnnModel.h5\n",
      "8/8 [==============================] - 0s 9ms/step - loss: 7.8775e-05 - accuracy: 1.0000 - val_loss: 1.7456e-09 - val_accuracy: 1.0000\n",
      "Epoch 47/100\n",
      "1/8 [==>...........................] - ETA: 0s - loss: 8.2632e-06 - accuracy: 1.0000\n",
      "Epoch 00047: val_loss improved from 0.00000 to 0.00000, saving model to dnnModel.h5\n",
      "8/8 [==============================] - 0s 8ms/step - loss: 4.6838e-04 - accuracy: 1.0000 - val_loss: 1.5949e-09 - val_accuracy: 1.0000\n",
      "Epoch 48/100\n",
      "1/8 [==>...........................] - ETA: 0s - loss: 2.2237e-05 - accuracy: 1.0000\n",
      "Epoch 00048: val_loss improved from 0.00000 to 0.00000, saving model to dnnModel.h5\n",
      "8/8 [==============================] - 0s 8ms/step - loss: 2.8966e-04 - accuracy: 1.0000 - val_loss: 1.3953e-09 - val_accuracy: 1.0000\n",
      "Epoch 49/100\n",
      "1/8 [==>...........................] - ETA: 0s - loss: 1.8918e-05 - accuracy: 1.0000\n",
      "Epoch 00049: val_loss improved from 0.00000 to 0.00000, saving model to dnnModel.h5\n",
      "8/8 [==============================] - 0s 7ms/step - loss: 1.1176e-05 - accuracy: 1.0000 - val_loss: 1.3050e-09 - val_accuracy: 1.0000\n",
      "Epoch 50/100\n",
      "1/8 [==>...........................] - ETA: 0s - loss: 2.8538e-06 - accuracy: 1.0000\n",
      "Epoch 00050: val_loss improved from 0.00000 to 0.00000, saving model to dnnModel.h5\n",
      "8/8 [==============================] - 0s 7ms/step - loss: 3.8465e-05 - accuracy: 1.0000 - val_loss: 1.2432e-09 - val_accuracy: 1.0000\n",
      "Epoch 51/100\n",
      "1/8 [==>...........................] - ETA: 0s - loss: 3.0887e-05 - accuracy: 1.0000\n",
      "Epoch 00051: val_loss improved from 0.00000 to 0.00000, saving model to dnnModel.h5\n",
      "8/8 [==============================] - 0s 10ms/step - loss: 1.4900e-04 - accuracy: 1.0000 - val_loss: 1.1634e-09 - val_accuracy: 1.0000\n",
      "Epoch 52/100\n",
      "1/8 [==>...........................] - ETA: 0s - loss: 9.8182e-07 - accuracy: 1.0000\n",
      "Epoch 00052: val_loss improved from 0.00000 to 0.00000, saving model to dnnModel.h5\n",
      "8/8 [==============================] - 0s 9ms/step - loss: 6.8469e-04 - accuracy: 1.0000 - val_loss: 1.0140e-09 - val_accuracy: 1.0000\n"
     ]
    },
    {
     "name": "stdout",
     "output_type": "stream",
     "text": [
      "Epoch 53/100\n",
      "1/8 [==>...........................] - ETA: 0s - loss: 4.1587e-06 - accuracy: 1.0000\n",
      "Epoch 00053: val_loss improved from 0.00000 to 0.00000, saving model to dnnModel.h5\n",
      "8/8 [==============================] - 0s 8ms/step - loss: 1.7666e-04 - accuracy: 1.0000 - val_loss: 9.0087e-10 - val_accuracy: 1.0000\n",
      "Epoch 54/100\n",
      "1/8 [==>...........................] - ETA: 0s - loss: 3.4309e-05 - accuracy: 1.0000\n",
      "Epoch 00054: val_loss improved from 0.00000 to 0.00000, saving model to dnnModel.h5\n",
      "8/8 [==============================] - 0s 9ms/step - loss: 2.8238e-04 - accuracy: 1.0000 - val_loss: 8.0718e-10 - val_accuracy: 1.0000\n",
      "Epoch 55/100\n",
      "1/8 [==>...........................] - ETA: 0s - loss: 8.1912e-06 - accuracy: 1.0000\n",
      "Epoch 00055: val_loss improved from 0.00000 to 0.00000, saving model to dnnModel.h5\n",
      "8/8 [==============================] - 0s 8ms/step - loss: 5.0219e-05 - accuracy: 1.0000 - val_loss: 7.4798e-10 - val_accuracy: 1.0000\n",
      "Epoch 56/100\n",
      "1/8 [==>...........................] - ETA: 0s - loss: 1.7044e-05 - accuracy: 1.0000\n",
      "Epoch 00056: val_loss improved from 0.00000 to 0.00000, saving model to dnnModel.h5\n",
      "8/8 [==============================] - 0s 8ms/step - loss: 1.3097e-04 - accuracy: 1.0000 - val_loss: 6.7386e-10 - val_accuracy: 1.0000\n",
      "Epoch 57/100\n",
      "1/8 [==>...........................] - ETA: 0s - loss: 4.5097e-05 - accuracy: 1.0000\n",
      "Epoch 00057: val_loss improved from 0.00000 to 0.00000, saving model to dnnModel.h5\n",
      "8/8 [==============================] - 0s 8ms/step - loss: 2.2733e-05 - accuracy: 1.0000 - val_loss: 6.1708e-10 - val_accuracy: 1.0000\n",
      "Epoch 58/100\n",
      "1/8 [==>...........................] - ETA: 0s - loss: 1.2274e-06 - accuracy: 1.0000\n",
      "Epoch 00058: val_loss improved from 0.00000 to 0.00000, saving model to dnnModel.h5\n",
      "8/8 [==============================] - 0s 8ms/step - loss: 1.1665e-05 - accuracy: 1.0000 - val_loss: 5.9003e-10 - val_accuracy: 1.0000\n",
      "Epoch 59/100\n",
      "1/8 [==>...........................] - ETA: 0s - loss: 2.7755e-05 - accuracy: 1.0000\n",
      "Epoch 00059: val_loss improved from 0.00000 to 0.00000, saving model to dnnModel.h5\n",
      "8/8 [==============================] - 0s 9ms/step - loss: 1.0323e-04 - accuracy: 1.0000 - val_loss: 5.5968e-10 - val_accuracy: 1.0000\n",
      "Epoch 60/100\n",
      "1/8 [==>...........................] - ETA: 0s - loss: 0.0051 - accuracy: 1.0000\n",
      "Epoch 00060: val_loss improved from 0.00000 to 0.00000, saving model to dnnModel.h5\n",
      "8/8 [==============================] - 0s 8ms/step - loss: 7.6189e-04 - accuracy: 1.0000 - val_loss: 4.3866e-10 - val_accuracy: 1.0000\n",
      "Epoch 61/100\n",
      "1/8 [==>...........................] - ETA: 0s - loss: 6.9470e-06 - accuracy: 1.0000\n",
      "Epoch 00061: val_loss improved from 0.00000 to 0.00000, saving model to dnnModel.h5\n",
      "8/8 [==============================] - 0s 7ms/step - loss: 2.8078e-05 - accuracy: 1.0000 - val_loss: 3.8345e-10 - val_accuracy: 1.0000\n",
      "Epoch 62/100\n",
      "1/8 [==>...........................] - ETA: 0s - loss: 3.4190e-05 - accuracy: 1.0000\n",
      "Epoch 00062: val_loss improved from 0.00000 to 0.00000, saving model to dnnModel.h5\n",
      "8/8 [==============================] - 0s 8ms/step - loss: 1.3415e-04 - accuracy: 1.0000 - val_loss: 3.3793e-10 - val_accuracy: 1.0000\n",
      "Epoch 63/100\n",
      "1/8 [==>...........................] - ETA: 0s - loss: 3.0920e-05 - accuracy: 1.0000\n",
      "Epoch 00063: val_loss improved from 0.00000 to 0.00000, saving model to dnnModel.h5\n",
      "8/8 [==============================] - 0s 9ms/step - loss: 3.5705e-05 - accuracy: 1.0000 - val_loss: 3.0819e-10 - val_accuracy: 1.0000\n",
      "Epoch 64/100\n",
      "1/8 [==>...........................] - ETA: 0s - loss: 6.4736e-06 - accuracy: 1.0000\n",
      "Epoch 00064: val_loss improved from 0.00000 to 0.00000, saving model to dnnModel.h5\n",
      "8/8 [==============================] - 0s 9ms/step - loss: 1.1264e-04 - accuracy: 1.0000 - val_loss: 2.8819e-10 - val_accuracy: 1.0000\n",
      "Epoch 65/100\n",
      "1/8 [==>...........................] - ETA: 0s - loss: 1.1109e-04 - accuracy: 1.0000\n",
      "Epoch 00065: val_loss improved from 0.00000 to 0.00000, saving model to dnnModel.h5\n",
      "8/8 [==============================] - 0s 8ms/step - loss: 2.7040e-05 - accuracy: 1.0000 - val_loss: 2.6822e-10 - val_accuracy: 1.0000\n",
      "Epoch 66/100\n",
      "1/8 [==>...........................] - ETA: 0s - loss: 0.0013 - accuracy: 1.0000\n",
      "Epoch 00066: val_loss improved from 0.00000 to 0.00000, saving model to dnnModel.h5\n",
      "8/8 [==============================] - 0s 8ms/step - loss: 1.9316e-04 - accuracy: 1.0000 - val_loss: 2.3088e-10 - val_accuracy: 1.0000\n",
      "Epoch 67/100\n",
      "1/8 [==>...........................] - ETA: 0s - loss: 1.2146e-05 - accuracy: 1.0000\n",
      "Epoch 00067: val_loss improved from 0.00000 to 0.00000, saving model to dnnModel.h5\n",
      "8/8 [==============================] - 0s 12ms/step - loss: 1.8836e-05 - accuracy: 1.0000 - val_loss: 2.1166e-10 - val_accuracy: 1.0000\n",
      "Epoch 68/100\n",
      "1/8 [==>...........................] - ETA: 0s - loss: 1.7117e-06 - accuracy: 1.0000\n",
      "Epoch 00068: val_loss improved from 0.00000 to 0.00000, saving model to dnnModel.h5\n",
      "8/8 [==============================] - 0s 11ms/step - loss: 1.3198e-04 - accuracy: 1.0000 - val_loss: 1.9571e-10 - val_accuracy: 1.0000\n",
      "Epoch 69/100\n",
      "1/8 [==>...........................] - ETA: 0s - loss: 4.7303e-05 - accuracy: 1.0000\n",
      "Epoch 00069: val_loss improved from 0.00000 to 0.00000, saving model to dnnModel.h5\n",
      "8/8 [==============================] - 0s 10ms/step - loss: 2.4557e-04 - accuracy: 1.0000 - val_loss: 1.5706e-10 - val_accuracy: 1.0000\n",
      "Epoch 70/100\n",
      "1/8 [==>...........................] - ETA: 0s - loss: 1.0866e-05 - accuracy: 1.0000\n",
      "Epoch 00070: val_loss improved from 0.00000 to 0.00000, saving model to dnnModel.h5\n",
      "8/8 [==============================] - 0s 9ms/step - loss: 2.3033e-04 - accuracy: 1.0000 - val_loss: 1.3411e-10 - val_accuracy: 1.0000\n",
      "Epoch 71/100\n",
      "1/8 [==>...........................] - ETA: 0s - loss: 2.3020e-05 - accuracy: 1.0000\n",
      "Epoch 00071: val_loss improved from 0.00000 to 0.00000, saving model to dnnModel.h5\n",
      "8/8 [==============================] - 0s 9ms/step - loss: 2.6480e-04 - accuracy: 1.0000 - val_loss: 1.0622e-10 - val_accuracy: 1.0000\n",
      "Epoch 72/100\n",
      "1/8 [==>...........................] - ETA: 0s - loss: 1.5076e-05 - accuracy: 1.0000\n",
      "Epoch 00072: val_loss improved from 0.00000 to 0.00000, saving model to dnnModel.h5\n",
      "8/8 [==============================] - 0s 10ms/step - loss: 1.3941e-04 - accuracy: 1.0000 - val_loss: 8.8578e-11 - val_accuracy: 1.0000\n",
      "Epoch 73/100\n",
      "1/8 [==>...........................] - ETA: 0s - loss: 8.0749e-06 - accuracy: 1.0000\n",
      "Epoch 00073: val_loss improved from 0.00000 to 0.00000, saving model to dnnModel.h5\n",
      "8/8 [==============================] - 0s 9ms/step - loss: 4.3077e-05 - accuracy: 1.0000 - val_loss: 7.7832e-11 - val_accuracy: 1.0000\n",
      "Epoch 74/100\n",
      "1/8 [==>...........................] - ETA: 0s - loss: 5.8104e-04 - accuracy: 1.0000\n",
      "Epoch 00074: val_loss improved from 0.00000 to 0.00000, saving model to dnnModel.h5\n",
      "8/8 [==============================] - 0s 9ms/step - loss: 7.7621e-05 - accuracy: 1.0000 - val_loss: 7.1310e-11 - val_accuracy: 1.0000\n",
      "Epoch 75/100\n",
      "1/8 [==>...........................] - ETA: 0s - loss: 1.1721e-06 - accuracy: 1.0000\n",
      "Epoch 00075: val_loss improved from 0.00000 to 0.00000, saving model to dnnModel.h5\n",
      "8/8 [==============================] - 0s 10ms/step - loss: 4.0124e-05 - accuracy: 1.0000 - val_loss: 6.5867e-11 - val_accuracy: 1.0000\n",
      "Epoch 76/100\n",
      "1/8 [==>...........................] - ETA: 0s - loss: 1.3524e-05 - accuracy: 1.0000\n",
      "Epoch 00076: val_loss improved from 0.00000 to 0.00000, saving model to dnnModel.h5\n",
      "8/8 [==============================] - 0s 9ms/step - loss: 4.8232e-05 - accuracy: 1.0000 - val_loss: 6.2449e-11 - val_accuracy: 1.0000\n",
      "Epoch 77/100\n",
      "1/8 [==>...........................] - ETA: 0s - loss: 4.2085e-08 - accuracy: 1.0000\n",
      "Epoch 00077: val_loss improved from 0.00000 to 0.00000, saving model to dnnModel.h5\n",
      "8/8 [==============================] - 0s 11ms/step - loss: 6.6989e-05 - accuracy: 1.0000 - val_loss: 5.9457e-11 - val_accuracy: 1.0000\n",
      "Epoch 78/100\n",
      "1/8 [==>...........................] - ETA: 0s - loss: 3.8350e-07 - accuracy: 1.0000\n",
      "Epoch 00078: val_loss improved from 0.00000 to 0.00000, saving model to dnnModel.h5\n",
      "8/8 [==============================] - 0s 9ms/step - loss: 1.2724e-04 - accuracy: 1.0000 - val_loss: 5.5100e-11 - val_accuracy: 1.0000\n"
     ]
    },
    {
     "name": "stdout",
     "output_type": "stream",
     "text": [
      "Epoch 79/100\n",
      "1/8 [==>...........................] - ETA: 0s - loss: 1.3525e-04 - accuracy: 1.0000\n",
      "Epoch 00079: val_loss improved from 0.00000 to 0.00000, saving model to dnnModel.h5\n",
      "8/8 [==============================] - 0s 8ms/step - loss: 1.3089e-04 - accuracy: 1.0000 - val_loss: 4.7141e-11 - val_accuracy: 1.0000\n",
      "Epoch 80/100\n",
      "1/8 [==>...........................] - ETA: 0s - loss: 6.0761e-06 - accuracy: 1.0000\n",
      "Epoch 00080: val_loss improved from 0.00000 to 0.00000, saving model to dnnModel.h5\n",
      "8/8 [==============================] - 0s 7ms/step - loss: 3.7486e-05 - accuracy: 1.0000 - val_loss: 3.9487e-11 - val_accuracy: 1.0000\n",
      "Epoch 81/100\n",
      "1/8 [==>...........................] - ETA: 0s - loss: 8.6870e-06 - accuracy: 1.0000\n",
      "Epoch 00081: val_loss improved from 0.00000 to 0.00000, saving model to dnnModel.h5\n",
      "8/8 [==============================] - 0s 8ms/step - loss: 1.7483e-05 - accuracy: 1.0000 - val_loss: 3.5467e-11 - val_accuracy: 1.0000\n",
      "Epoch 82/100\n",
      "1/8 [==>...........................] - ETA: 0s - loss: 1.3004e-05 - accuracy: 1.0000\n",
      "Epoch 00082: val_loss improved from 0.00000 to 0.00000, saving model to dnnModel.h5\n",
      "8/8 [==============================] - 0s 8ms/step - loss: 7.3904e-05 - accuracy: 1.0000 - val_loss: 3.1718e-11 - val_accuracy: 1.0000\n",
      "Epoch 83/100\n",
      "1/8 [==>...........................] - ETA: 0s - loss: 5.3744e-07 - accuracy: 1.0000\n",
      "Epoch 00083: val_loss improved from 0.00000 to 0.00000, saving model to dnnModel.h5\n",
      "8/8 [==============================] - 0s 8ms/step - loss: 2.2192e-05 - accuracy: 1.0000 - val_loss: 2.8889e-11 - val_accuracy: 1.0000\n",
      "Epoch 84/100\n",
      "1/8 [==>...........................] - ETA: 0s - loss: 3.9109e-04 - accuracy: 1.0000\n",
      "Epoch 00084: val_loss improved from 0.00000 to 0.00000, saving model to dnnModel.h5\n",
      "8/8 [==============================] - 0s 7ms/step - loss: 1.1842e-04 - accuracy: 1.0000 - val_loss: 2.5806e-11 - val_accuracy: 1.0000\n",
      "Epoch 85/100\n",
      "1/8 [==>...........................] - ETA: 0s - loss: 1.2070e-05 - accuracy: 1.0000\n",
      "Epoch 00085: val_loss improved from 0.00000 to 0.00000, saving model to dnnModel.h5\n",
      "8/8 [==============================] - 0s 8ms/step - loss: 1.1072e-05 - accuracy: 1.0000 - val_loss: 2.3167e-11 - val_accuracy: 1.0000\n",
      "Epoch 86/100\n",
      "1/8 [==>...........................] - ETA: 0s - loss: 2.0080e-07 - accuracy: 1.0000\n",
      "Epoch 00086: val_loss improved from 0.00000 to 0.00000, saving model to dnnModel.h5\n",
      "8/8 [==============================] - 0s 10ms/step - loss: 1.4936e-04 - accuracy: 1.0000 - val_loss: 2.1159e-11 - val_accuracy: 1.0000\n",
      "Epoch 87/100\n",
      "1/8 [==>...........................] - ETA: 0s - loss: 1.2771e-05 - accuracy: 1.0000\n",
      "Epoch 00087: val_loss improved from 0.00000 to 0.00000, saving model to dnnModel.h5\n",
      "8/8 [==============================] - 0s 8ms/step - loss: 1.0753e-05 - accuracy: 1.0000 - val_loss: 1.8402e-11 - val_accuracy: 1.0000\n",
      "Epoch 88/100\n",
      "1/8 [==>...........................] - ETA: 0s - loss: 4.1645e-05 - accuracy: 1.0000\n",
      "Epoch 00088: val_loss improved from 0.00000 to 0.00000, saving model to dnnModel.h5\n",
      "8/8 [==============================] - 0s 8ms/step - loss: 3.0017e-04 - accuracy: 1.0000 - val_loss: 1.4976e-11 - val_accuracy: 1.0000\n",
      "Epoch 89/100\n",
      "1/8 [==>...........................] - ETA: 0s - loss: 2.2165e-05 - accuracy: 1.0000\n",
      "Epoch 00089: val_loss improved from 0.00000 to 0.00000, saving model to dnnModel.h5\n",
      "8/8 [==============================] - 0s 11ms/step - loss: 5.2463e-06 - accuracy: 1.0000 - val_loss: 1.2992e-11 - val_accuracy: 1.0000\n",
      "Epoch 90/100\n",
      "1/8 [==>...........................] - ETA: 0s - loss: 1.3528e-07 - accuracy: 1.0000\n",
      "Epoch 00090: val_loss improved from 0.00000 to 0.00000, saving model to dnnModel.h5\n",
      "8/8 [==============================] - 0s 9ms/step - loss: 7.8156e-05 - accuracy: 1.0000 - val_loss: 1.1890e-11 - val_accuracy: 1.0000\n",
      "Epoch 91/100\n",
      "1/8 [==>...........................] - ETA: 0s - loss: 1.2053e-06 - accuracy: 1.0000\n",
      "Epoch 00091: val_loss improved from 0.00000 to 0.00000, saving model to dnnModel.h5\n",
      "8/8 [==============================] - 0s 15ms/step - loss: 4.0069e-05 - accuracy: 1.0000 - val_loss: 1.0887e-11 - val_accuracy: 1.0000\n",
      "Epoch 92/100\n",
      "1/8 [==>...........................] - ETA: 0s - loss: 2.3698e-06 - accuracy: 1.0000\n",
      "Epoch 00092: val_loss improved from 0.00000 to 0.00000, saving model to dnnModel.h5\n",
      "8/8 [==============================] - 0s 9ms/step - loss: 7.9661e-06 - accuracy: 1.0000 - val_loss: 1.0181e-11 - val_accuracy: 1.0000\n",
      "Epoch 93/100\n",
      "1/8 [==>...........................] - ETA: 0s - loss: 4.9363e-05 - accuracy: 1.0000\n",
      "Epoch 00093: val_loss improved from 0.00000 to 0.00000, saving model to dnnModel.h5\n",
      "8/8 [==============================] - 0s 9ms/step - loss: 1.1504e-04 - accuracy: 1.0000 - val_loss: 9.1037e-12 - val_accuracy: 1.0000\n",
      "Epoch 94/100\n",
      "1/8 [==>...........................] - ETA: 0s - loss: 2.2963e-07 - accuracy: 1.0000\n",
      "Epoch 00094: val_loss improved from 0.00000 to 0.00000, saving model to dnnModel.h5\n",
      "8/8 [==============================] - 0s 10ms/step - loss: 1.8021e-05 - accuracy: 1.0000 - val_loss: 8.3160e-12 - val_accuracy: 1.0000\n",
      "Epoch 95/100\n",
      "1/8 [==>...........................] - ETA: 0s - loss: 0.0021 - accuracy: 1.0000\n",
      "Epoch 00095: val_loss improved from 0.00000 to 0.00000, saving model to dnnModel.h5\n",
      "8/8 [==============================] - 0s 12ms/step - loss: 2.7232e-04 - accuracy: 1.0000 - val_loss: 7.3695e-12 - val_accuracy: 1.0000\n",
      "Epoch 96/100\n",
      "1/8 [==>...........................] - ETA: 0s - loss: 4.6504e-07 - accuracy: 1.0000\n",
      "Epoch 00096: val_loss improved from 0.00000 to 0.00000, saving model to dnnModel.h5\n",
      "8/8 [==============================] - 0s 9ms/step - loss: 6.6209e-06 - accuracy: 1.0000 - val_loss: 6.9802e-12 - val_accuracy: 1.0000\n",
      "Epoch 97/100\n",
      "1/8 [==>...........................] - ETA: 0s - loss: 5.9842e-06 - accuracy: 1.0000\n",
      "Epoch 00097: val_loss improved from 0.00000 to 0.00000, saving model to dnnModel.h5\n",
      "8/8 [==============================] - 0s 9ms/step - loss: 1.6359e-06 - accuracy: 1.0000 - val_loss: 6.7682e-12 - val_accuracy: 1.0000\n",
      "Epoch 98/100\n",
      "1/8 [==>...........................] - ETA: 0s - loss: 2.1875e-05 - accuracy: 1.0000\n",
      "Epoch 00098: val_loss improved from 0.00000 to 0.00000, saving model to dnnModel.h5\n",
      "8/8 [==============================] - 0s 9ms/step - loss: 8.9065e-05 - accuracy: 1.0000 - val_loss: 6.5210e-12 - val_accuracy: 1.0000\n",
      "Epoch 99/100\n",
      "1/8 [==>...........................] - ETA: 0s - loss: 4.4278e-06 - accuracy: 1.0000\n",
      "Epoch 00099: val_loss improved from 0.00000 to 0.00000, saving model to dnnModel.h5\n",
      "8/8 [==============================] - 0s 9ms/step - loss: 1.6164e-05 - accuracy: 1.0000 - val_loss: 6.2862e-12 - val_accuracy: 1.0000\n",
      "Epoch 100/100\n",
      "1/8 [==>...........................] - ETA: 0s - loss: 4.8495e-07 - accuracy: 1.0000\n",
      "Epoch 00100: val_loss improved from 0.00000 to 0.00000, saving model to dnnModel.h5\n",
      "8/8 [==============================] - 0s 9ms/step - loss: 5.9084e-06 - accuracy: 1.0000 - val_loss: 6.0300e-12 - val_accuracy: 1.0000\n"
     ]
    }
   ],
   "source": [
    "time_training_start = time.perf_counter()\n",
    "history = model.fit(data_train, label_train, validation_split=0.2, epochs=100, verbose = 1, callbacks=[checkpoint,early])"
   ]
  },
  {
   "cell_type": "code",
   "execution_count": 11,
   "id": "04d9fa0a",
   "metadata": {},
   "outputs": [
    {
     "name": "stdout",
     "output_type": "stream",
     "text": [
      "Time to training : 7.5225965\n"
     ]
    }
   ],
   "source": [
    "print(f'Time to training : {time.perf_counter() - time_training_start}')"
   ]
  },
  {
   "cell_type": "code",
   "execution_count": 12,
   "id": "ab63c0a3",
   "metadata": {},
   "outputs": [
    {
     "data": {
      "image/png": "[encoded data removed]",
      "text/plain": [
       "<Figure size 640x480 with 1 Axes>"
      ]
     },
     "metadata": {},
     "output_type": "display_data"
    }
   ],
   "source": [
    "# Plot training & validation accuracy values\n",
    "plt.plot(history.history['accuracy'])\n",
    "plt.plot(history.history['val_accuracy'])\n",
    "plt.title('BRNN Model Accuracy')\n",
    "plt.ylabel('Accuracy')\n",
    "plt.xlabel('Epoch')\n",
    "plt.legend(['Train', 'Test'], loc='lower right')\n",
    "# plt.savefig('BRNN 200 Model Accuracy.png')\n",
    "plt.show()"
   ]
  },
  {
   "cell_type": "code",
   "execution_count": 13,
   "id": "04277965",
   "metadata": {},
   "outputs": [
    {
     "data": {
      "image/png": "[encoded data removed]",
      "text/plain": [
       "<Figure size 640x480 with 1 Axes>"
      ]
     },
     "metadata": {},
     "output_type": "display_data"
    }
   ],
   "source": [
    "# Plot training & validation loss values\n",
    "plt.plot(history.history['loss'])\n",
    "plt.plot(history.history['val_loss'])\n",
    "plt.title('BRNN Model  Loss')\n",
    "plt.ylabel('Loss')\n",
    "plt.xlabel('Epoch')\n",
    "plt.legend(['Train', 'Test'], loc='upper left')\n",
    "# plt.savefig('BRNN 200 Model Loss.png')\n",
    "plt.show()"
   ]
  },
  {
   "cell_type": "code",
   "execution_count": 14,
   "id": "cfcc8675",
   "metadata": {},
   "outputs": [
    {
     "name": "stdout",
     "output_type": "stream",
     "text": [
      "3/3 [==============================] - 0s 2ms/step\n"
     ]
    }
   ],
   "source": [
    "predict = model.predict(data_eval, verbose=1)"
   ]
  },
  {
   "cell_type": "code",
   "execution_count": 15,
   "id": "3b485068",
   "metadata": {},
   "outputs": [
    {
     "data": {
      "image/png": "[encoded data removed]",
      "text/plain": [
       "<Figure size 640x480 with 2 Axes>"
      ]
     },
     "metadata": {},
     "output_type": "display_data"
    }
   ],
   "source": [
    "tp = 0\n",
    "tn = 0\n",
    "fp = 0\n",
    "fn = 0\n",
    "predictn = predict.flatten().round()\n",
    "predictn = predictn.tolist()\n",
    "Y_testn = label_eval.tolist()\n",
    "for i in range(len(Y_testn)):\n",
    "  if predictn[i]==1 and Y_testn[i]==1:\n",
    "    tp+=1\n",
    "  elif predictn[i]==0 and Y_testn[i]==0:\n",
    "    tn+=1\n",
    "  elif predictn[i]==0 and Y_testn[i]==1:\n",
    "    fp+=1\n",
    "  elif predictn[i]==1 and Y_testn[i]==0:\n",
    "    fn+=1\n",
    "to_heat_map =[[tn,fp],[fn,tp]]\n",
    "to_heat_map = pd.DataFrame(to_heat_map, index = [\"Attack\",\"Normal\"],columns = [\"Attack\",\"Normal\"])\n",
    "ax = sns.heatmap(to_heat_map,annot=True, fmt=\"d\")"
   ]
  },
  {
   "cell_type": "code",
   "execution_count": 16,
   "id": "0f64d323",
   "metadata": {},
   "outputs": [
    {
     "name": "stdout",
     "output_type": "stream",
     "text": [
      "3/3 [==============================] - 0s 4ms/step - loss: 6.4860e-12 - accuracy: 1.0000\n",
      "accuracy: 100.00%\n"
     ]
    }
   ],
   "source": [
    "scores = model.evaluate(data_eval, label_eval)\n",
    "print(\"%s: %.2f%%\" % (model.metrics_names[1], scores[1]*100))"
   ]
  },
  {
   "cell_type": "code",
   "execution_count": 17,
   "id": "8355540c",
   "metadata": {},
   "outputs": [
    {
     "name": "stdout",
     "output_type": "stream",
     "text": [
      "              precision    recall  f1-score   support\n",
      "\n",
      "           0       1.00      1.00      1.00        40\n",
      "           1       1.00      1.00      1.00        40\n",
      "\n",
      "    accuracy                           1.00        80\n",
      "   macro avg       1.00      1.00      1.00        80\n",
      "weighted avg       1.00      1.00      1.00        80\n",
      "\n"
     ]
    }
   ],
   "source": [
    "print(classification_report(Y_testn,predictn))"
   ]
  },
  {
   "cell_type": "code",
   "execution_count": 18,
   "id": "6b1e5995",
   "metadata": {},
   "outputs": [
    {
     "name": "stdout",
     "output_type": "stream",
     "text": [
      "SVM: ROC AUC=1.000\n"
     ]
    }
   ],
   "source": [
    "lr_auc = roc_auc_score(Y_testn, predictn)\n",
    "print('SVM: ROC AUC=%.3f' % (lr_auc))"
   ]
  },
  {
   "cell_type": "code",
   "execution_count": 19,
   "id": "9e9ffd90",
   "metadata": {},
   "outputs": [
    {
     "name": "stdout",
     "output_type": "stream",
     "text": [
      "1/1 [==============================] - 0s 23ms/step\n",
      "Time elapse for prediction : 0.045603399999999183\n",
      "[[1.]]\n"
     ]
    }
   ],
   "source": [
    "time_start = time.perf_counter()\n",
    "predict = model.predict(data_eval[:1], verbose=1)\n",
    "print(f\"Time elapse for prediction : {time.perf_counter() - time_start}\")\n",
    "print(predict)"
   ]
  },
  {
   "cell_type": "code",
   "execution_count": null,
   "id": "fe718f7a",
   "metadata": {},
   "outputs": [],
   "source": []
  }
 ],
 "metadata": {
  "kernelspec": {
   "display_name": "Python 3 (ipykernel)",
   "language": "python",
   "name": "python3"
  },
  "language_info": {
   "codemirror_mode": {
    "name": "ipython",
    "version": 3
   },
   "file_extension": ".py",
   "mimetype": "text/x-python",
   "name": "python",
   "nbconvert_exporter": "python",
   "pygments_lexer": "ipython3",
   "version": "3.9.13"
  }
 },
 "nbformat": 4,
 "nbformat_minor": 5
}
